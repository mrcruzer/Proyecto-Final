{
 "cells": [
  {
   "cell_type": "code",
   "execution_count": 1,
   "metadata": {},
   "outputs": [],
   "source": [
    "#Importamos pandas\n",
    "import pandas as pd\n",
    "import glob"
   ]
  },
  {
   "cell_type": "code",
   "execution_count": null,
   "metadata": {},
   "outputs": [],
   "source": [
    "# Concateno todos los csv\n",
    "estados_concatenados = pd.concat(map(pd.read_csv, glob.glob('./../Data/review-estados/*.csv')))"
   ]
  },
  {
   "cell_type": "code",
   "execution_count": 2,
   "metadata": {},
   "outputs": [],
   "source": [
    "google_data = pd.read_pickle(\"./restaurants_google.pkl\")"
   ]
  },
  {
   "cell_type": "code",
   "execution_count": 29,
   "metadata": {},
   "outputs": [],
   "source": [
    "#Cargamos los datasets, Definimos función y la corremos con los otros datasets.\n",
    "def normalizacion (lugar:str):\n",
    "    for i in range(1,50):\n",
    "        try:\n",
    "            lugar_df = pd.read_csv('./../Data/reviews-estados/'+lugar+'.csv',sep=\";\")     #Importamos el csv\n",
    "            lugar_df.shape\n",
    "            #print(\"hola\")\n",
    "            print(str(i))\n",
    "            \n",
    "            \n",
    "            \n",
    "        except:\n",
    "            print(str(i))\n",
    "            break\n",
    "\n",
    "#normalizacion(\"Alabama\")"
   ]
  },
  {
   "cell_type": "code",
   "execution_count": null,
   "metadata": {},
   "outputs": [],
   "source": [
    "lugares = ['Alabama','Alaska','Arizona','Arkansas','California','Colorado','Connecticut','Delaware','Florida','Columbia','Georgia',\n",
    "           'Hawaii','Idaho','Illinois','Indiana','Iowa','Kansas','Kentucky','Louisiana','Maine','Maryland','Massachusetts','Michigan',\n",
    "           'Minnesota','Mississippi','Missouri','Montana','Nebraska','Nevada','New_Hampshire','New_Jersey','New_Mexico', 'New_York',\n",
    "           'North_Carolina','North_Dakota','Ohio','Oklahoma','Oregon','Pennsylvania','Rhode_Island','South_Carolina','South_Dakota',\n",
    "           'Tennessee', 'Texas', 'Utah','Vermont', 'Virginia', 'Washington', 'West_Virginia', 'Wisconsin', 'Wyoming']\n",
    "for l in lugares:\n",
    "    lugar_df = pd.read_csv('./../Data/review-estados/'+l+'.csv',sep=\";\")     #Importamos el csv\n",
    "    organizacion = pd.DataFrame(columns=['user_id','gmap_id','time','rating','text'],data=lugar_df) #Armamos dataframe con estos datos\n",
    "    organizacion.rename(columns={'user_id':'Id_usuario','gmap_id':'Id_Restaurant','time':'Fecha','rating':'Rating','text':'Resena'},inplace=True) #Cambiamos nombre\n",
    "    filtrado_nuevo = organizacion[organizacion['Id_Restaurant'].isin(google_data['Id_Restaurant'])]\n",
    "    filtrado_nuevo.info()\n",
    "    filtrado_nuevo.to_csv('./Data/'+l+'.csv',index=False,escapechar='\\\\',sep=';')     #Exportamos a csv"
   ]
  }
 ],
 "metadata": {
  "kernelspec": {
   "display_name": "Python 3",
   "language": "python",
   "name": "python3"
  },
  "language_info": {
   "codemirror_mode": {
    "name": "ipython",
    "version": 3
   },
   "file_extension": ".py",
   "mimetype": "text/x-python",
   "name": "python",
   "nbconvert_exporter": "python",
   "pygments_lexer": "ipython3",
   "version": "3.9.7"
  },
  "orig_nbformat": 4
 },
 "nbformat": 4,
 "nbformat_minor": 2
}
