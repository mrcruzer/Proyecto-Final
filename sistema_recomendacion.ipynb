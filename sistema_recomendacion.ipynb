{
 "cells": [
  {
   "cell_type": "code",
   "execution_count": 48,
   "metadata": {
    "id": "lTAoTIi4zUt-"
   },
   "outputs": [],
   "source": [
    "#Importamos las librerias necesarias\n",
    "import pandas as pd\n",
    "import numpy as np\n",
    "import matplotlib.pyplot as plt\n",
    "from surprise import Reader,Dataset\n",
    "from surprise.model_selection import train_test_split, KFold, RandomizedSearchCV\n",
    "from surprise.prediction_algorithms.knns import KNNWithMeans\n",
    "from surprise.prediction_algorithms.matrix_factorization import SVD\n",
    "from surprise import accuracy"
   ]
  },
  {
   "cell_type": "code",
   "execution_count": 2,
   "metadata": {
    "id": "cyJouT1V0sEX"
   },
   "outputs": [
    {
     "name": "stderr",
     "output_type": "stream",
     "text": [
      "C:\\Users\\larra\\AppData\\Local\\Temp\\ipykernel_7188\\1376262560.py:6: DtypeWarning: Columns (0) have mixed types. Specify dtype option on import or set low_memory=False.\n",
      "  reviews = pd.concat([reviews,pd.read_csv('D:/Marcos/HENRY/Proyecto-Final/reviews_finales/reviews_'+str(i)+'.csv',\n"
     ]
    },
    {
     "data": {
      "text/html": [
       "<div>\n",
       "<style scoped>\n",
       "    .dataframe tbody tr th:only-of-type {\n",
       "        vertical-align: middle;\n",
       "    }\n",
       "\n",
       "    .dataframe tbody tr th {\n",
       "        vertical-align: top;\n",
       "    }\n",
       "\n",
       "    .dataframe thead th {\n",
       "        text-align: right;\n",
       "    }\n",
       "</style>\n",
       "<table border=\"1\" class=\"dataframe\">\n",
       "  <thead>\n",
       "    <tr style=\"text-align: right;\">\n",
       "      <th></th>\n",
       "      <th>Id_Usuario</th>\n",
       "      <th>Id_Restaurant</th>\n",
       "      <th>Rating</th>\n",
       "      <th>Reseña</th>\n",
       "      <th>Timestamp</th>\n",
       "    </tr>\n",
       "  </thead>\n",
       "  <tbody>\n",
       "    <tr>\n",
       "      <th>0</th>\n",
       "      <td>117975922625527873536.0</td>\n",
       "      <td>0x8889221157fb3455:0x5c125c40c3eccc2a</td>\n",
       "      <td>4</td>\n",
       "      <td>On the higher end of price for pizza, but they...</td>\n",
       "      <td>1463443013514</td>\n",
       "    </tr>\n",
       "    <tr>\n",
       "      <th>1</th>\n",
       "      <td>114316524790614294528.0</td>\n",
       "      <td>0x8889221157fb3455:0x5c125c40c3eccc2a</td>\n",
       "      <td>3</td>\n",
       "      <td>Food was ok, felt like the atmosphere as well ...</td>\n",
       "      <td>1447623939865</td>\n",
       "    </tr>\n",
       "    <tr>\n",
       "      <th>2</th>\n",
       "      <td>113632573920508362752.0</td>\n",
       "      <td>0x8889221157fb3455:0x5c125c40c3eccc2a</td>\n",
       "      <td>4</td>\n",
       "      <td>Good food, service so so</td>\n",
       "      <td>1469293549247</td>\n",
       "    </tr>\n",
       "    <tr>\n",
       "      <th>3</th>\n",
       "      <td>107684037632376815616.0</td>\n",
       "      <td>0x8889221157fb3455:0x5c125c40c3eccc2a</td>\n",
       "      <td>5</td>\n",
       "      <td>Love it</td>\n",
       "      <td>1442279219480</td>\n",
       "    </tr>\n",
       "    <tr>\n",
       "      <th>4</th>\n",
       "      <td>112603593315264724992.0</td>\n",
       "      <td>0x8889221157fb3455:0x5c125c40c3eccc2a</td>\n",
       "      <td>5</td>\n",
       "      <td>Yum</td>\n",
       "      <td>1382634896130</td>\n",
       "    </tr>\n",
       "  </tbody>\n",
       "</table>\n",
       "</div>"
      ],
      "text/plain": [
       "                Id_Usuario                          Id_Restaurant  Rating  \\\n",
       "0  117975922625527873536.0  0x8889221157fb3455:0x5c125c40c3eccc2a       4   \n",
       "1  114316524790614294528.0  0x8889221157fb3455:0x5c125c40c3eccc2a       3   \n",
       "2  113632573920508362752.0  0x8889221157fb3455:0x5c125c40c3eccc2a       4   \n",
       "3  107684037632376815616.0  0x8889221157fb3455:0x5c125c40c3eccc2a       5   \n",
       "4  112603593315264724992.0  0x8889221157fb3455:0x5c125c40c3eccc2a       5   \n",
       "\n",
       "                                              Reseña      Timestamp  \n",
       "0  On the higher end of price for pizza, but they...  1463443013514  \n",
       "1  Food was ok, felt like the atmosphere as well ...  1447623939865  \n",
       "2                           Good food, service so so  1469293549247  \n",
       "3                                            Love it  1442279219480  \n",
       "4                                                Yum  1382634896130  "
      ]
     },
     "execution_count": 2,
     "metadata": {},
     "output_type": "execute_result"
    }
   ],
   "source": [
    "#Importamos todo el dataset de reviews completo\n",
    "for i in range(1,10):\n",
    "    if i == 1:\n",
    "        reviews = pd.read_csv('D:/Marcos/HENRY/Proyecto-Final/reviews_finales/reviews_1.csv',sep=';',escapechar='\\\\')\n",
    "    else:\n",
    "        reviews = pd.concat([reviews,pd.read_csv('D:/Marcos/HENRY/Proyecto-Final/reviews_finales/reviews_'+str(i)+'.csv',\n",
    "                                                 sep=';',escapechar='\\\\')],ignore_index=True)\n",
    "reviews.head()"
   ]
  },
  {
   "cell_type": "code",
   "execution_count": 3,
   "metadata": {},
   "outputs": [
    {
     "name": "stdout",
     "output_type": "stream",
     "text": [
      "<class 'pandas.core.frame.DataFrame'>\n",
      "RangeIndex: 16007867 entries, 0 to 16007866\n",
      "Data columns (total 5 columns):\n",
      " #   Column         Dtype \n",
      "---  ------         ----- \n",
      " 0   Id_Usuario     object\n",
      " 1   Id_Restaurant  object\n",
      " 2   Rating         int64 \n",
      " 3   Reseña         object\n",
      " 4   Timestamp      int64 \n",
      "dtypes: int64(2), object(3)\n",
      "memory usage: 610.7+ MB\n"
     ]
    }
   ],
   "source": [
    "reviews.info()"
   ]
  },
  {
   "cell_type": "code",
   "execution_count": 4,
   "metadata": {
    "id": "1hD8VQMWBgNk"
   },
   "outputs": [
    {
     "name": "stderr",
     "output_type": "stream",
     "text": [
      "C:\\Users\\larra\\AppData\\Local\\Temp\\ipykernel_7188\\3270671378.py:2: DtypeWarning: Columns (5) have mixed types. Specify dtype option on import or set low_memory=False.\n",
      "  restaurants = pd.read_csv('D:/Marcos/HENRY/Proyecto-Final/restaurants_homolog.csv')\n"
     ]
    },
    {
     "data": {
      "text/html": [
       "<div>\n",
       "<style scoped>\n",
       "    .dataframe tbody tr th:only-of-type {\n",
       "        vertical-align: middle;\n",
       "    }\n",
       "\n",
       "    .dataframe tbody tr th {\n",
       "        vertical-align: top;\n",
       "    }\n",
       "\n",
       "    .dataframe thead th {\n",
       "        text-align: right;\n",
       "    }\n",
       "</style>\n",
       "<table border=\"1\" class=\"dataframe\">\n",
       "  <thead>\n",
       "    <tr style=\"text-align: right;\">\n",
       "      <th></th>\n",
       "      <th>Unnamed: 0</th>\n",
       "      <th>Id_Restaurant</th>\n",
       "      <th>Nombre</th>\n",
       "      <th>Ciudad</th>\n",
       "      <th>Estado</th>\n",
       "      <th>Cod_postal</th>\n",
       "      <th>Latitud</th>\n",
       "      <th>Longitud</th>\n",
       "      <th>Tipo</th>\n",
       "      <th>Ambiente</th>\n",
       "      <th>...</th>\n",
       "      <th>Tipos de pago</th>\n",
       "      <th>Opciones (Des,Com,Cena)</th>\n",
       "      <th>Tipo director</th>\n",
       "      <th>Vestimenta</th>\n",
       "      <th>Salud y Seguridad</th>\n",
       "      <th>Rango de precios</th>\n",
       "      <th>Aspectos destacados</th>\n",
       "      <th>Fumar</th>\n",
       "      <th>Rating_promedio</th>\n",
       "      <th>Cant_reviews</th>\n",
       "    </tr>\n",
       "  </thead>\n",
       "  <tbody>\n",
       "    <tr>\n",
       "      <th>0</th>\n",
       "      <td>0</td>\n",
       "      <td>0x80c2c778e3b73d33:0xbdc58662a4a97d49</td>\n",
       "      <td>San Soo Dang</td>\n",
       "      <td>Los Angeles</td>\n",
       "      <td>CA</td>\n",
       "      <td>90005</td>\n",
       "      <td>34.058092</td>\n",
       "      <td>-118.292130</td>\n",
       "      <td>Comida Oriental</td>\n",
       "      <td>1</td>\n",
       "      <td>...</td>\n",
       "      <td>0</td>\n",
       "      <td>0</td>\n",
       "      <td>0</td>\n",
       "      <td>0</td>\n",
       "      <td>0</td>\n",
       "      <td>0</td>\n",
       "      <td>0</td>\n",
       "      <td>0</td>\n",
       "      <td>4.428571</td>\n",
       "      <td>14</td>\n",
       "    </tr>\n",
       "    <tr>\n",
       "      <th>1</th>\n",
       "      <td>1</td>\n",
       "      <td>0x80dd2b4c8555edb7:0xfc33d65c4bdbef42</td>\n",
       "      <td>Vons Chicken</td>\n",
       "      <td>La Mirada</td>\n",
       "      <td>CA</td>\n",
       "      <td>90638</td>\n",
       "      <td>33.916402</td>\n",
       "      <td>-118.010855</td>\n",
       "      <td>Comida Rápida</td>\n",
       "      <td>1</td>\n",
       "      <td>...</td>\n",
       "      <td>0</td>\n",
       "      <td>1</td>\n",
       "      <td>0</td>\n",
       "      <td>0</td>\n",
       "      <td>1</td>\n",
       "      <td>0</td>\n",
       "      <td>0</td>\n",
       "      <td>0</td>\n",
       "      <td>4.833333</td>\n",
       "      <td>6</td>\n",
       "    </tr>\n",
       "    <tr>\n",
       "      <th>2</th>\n",
       "      <td>2</td>\n",
       "      <td>0x87ec235c54d25b31:0x3b75fb5facc602f</td>\n",
       "      <td>Sweet Rewards Gluten Free Bakery, LLC</td>\n",
       "      <td>Waukee</td>\n",
       "      <td>IA</td>\n",
       "      <td>50263</td>\n",
       "      <td>41.616079</td>\n",
       "      <td>-93.865487</td>\n",
       "      <td>Saludable/Vegano</td>\n",
       "      <td>0</td>\n",
       "      <td>...</td>\n",
       "      <td>0</td>\n",
       "      <td>0</td>\n",
       "      <td>0</td>\n",
       "      <td>0</td>\n",
       "      <td>0</td>\n",
       "      <td>0</td>\n",
       "      <td>0</td>\n",
       "      <td>0</td>\n",
       "      <td>5.000000</td>\n",
       "      <td>9</td>\n",
       "    </tr>\n",
       "    <tr>\n",
       "      <th>3</th>\n",
       "      <td>3</td>\n",
       "      <td>0x8644b59b8fe872e5:0x5e638876caa84cc3</td>\n",
       "      <td>Golden Castle</td>\n",
       "      <td>Austin</td>\n",
       "      <td>TX</td>\n",
       "      <td>78702</td>\n",
       "      <td>30.273985</td>\n",
       "      <td>-97.719564</td>\n",
       "      <td>Otros</td>\n",
       "      <td>1</td>\n",
       "      <td>...</td>\n",
       "      <td>0</td>\n",
       "      <td>1</td>\n",
       "      <td>0</td>\n",
       "      <td>0</td>\n",
       "      <td>0</td>\n",
       "      <td>0</td>\n",
       "      <td>0</td>\n",
       "      <td>0</td>\n",
       "      <td>4.125000</td>\n",
       "      <td>8</td>\n",
       "    </tr>\n",
       "    <tr>\n",
       "      <th>4</th>\n",
       "      <td>4</td>\n",
       "      <td>0x4cb29c1dea53f29f:0xc606af14a0995094</td>\n",
       "      <td>Benny's Famous Fried Clams</td>\n",
       "      <td>Portland</td>\n",
       "      <td>ME</td>\n",
       "      <td>4101</td>\n",
       "      <td>43.643366</td>\n",
       "      <td>-70.272457</td>\n",
       "      <td>Mariscos</td>\n",
       "      <td>0</td>\n",
       "      <td>...</td>\n",
       "      <td>0</td>\n",
       "      <td>0</td>\n",
       "      <td>0</td>\n",
       "      <td>0</td>\n",
       "      <td>0</td>\n",
       "      <td>0</td>\n",
       "      <td>0</td>\n",
       "      <td>0</td>\n",
       "      <td>2.833333</td>\n",
       "      <td>6</td>\n",
       "    </tr>\n",
       "  </tbody>\n",
       "</table>\n",
       "<p>5 rows × 32 columns</p>\n",
       "</div>"
      ],
      "text/plain": [
       "   Unnamed: 0                          Id_Restaurant  \\\n",
       "0           0  0x80c2c778e3b73d33:0xbdc58662a4a97d49   \n",
       "1           1  0x80dd2b4c8555edb7:0xfc33d65c4bdbef42   \n",
       "2           2   0x87ec235c54d25b31:0x3b75fb5facc602f   \n",
       "3           3  0x8644b59b8fe872e5:0x5e638876caa84cc3   \n",
       "4           4  0x4cb29c1dea53f29f:0xc606af14a0995094   \n",
       "\n",
       "                                  Nombre       Ciudad Estado Cod_postal  \\\n",
       "0                           San Soo Dang  Los Angeles     CA      90005   \n",
       "1                           Vons Chicken    La Mirada     CA      90638   \n",
       "2  Sweet Rewards Gluten Free Bakery, LLC       Waukee     IA      50263   \n",
       "3                          Golden Castle       Austin     TX      78702   \n",
       "4             Benny's Famous Fried Clams     Portland     ME       4101   \n",
       "\n",
       "     Latitud    Longitud              Tipo  Ambiente  ...  Tipos de pago  \\\n",
       "0  34.058092 -118.292130   Comida Oriental         1  ...              0   \n",
       "1  33.916402 -118.010855     Comida Rápida         1  ...              0   \n",
       "2  41.616079  -93.865487  Saludable/Vegano         0  ...              0   \n",
       "3  30.273985  -97.719564             Otros         1  ...              0   \n",
       "4  43.643366  -70.272457          Mariscos         0  ...              0   \n",
       "\n",
       "   Opciones (Des,Com,Cena)  Tipo director  Vestimenta  Salud y Seguridad  \\\n",
       "0                        0              0           0                  0   \n",
       "1                        1              0           0                  1   \n",
       "2                        0              0           0                  0   \n",
       "3                        1              0           0                  0   \n",
       "4                        0              0           0                  0   \n",
       "\n",
       "   Rango de precios  Aspectos destacados  Fumar  Rating_promedio  Cant_reviews  \n",
       "0                 0                    0      0         4.428571            14  \n",
       "1                 0                    0      0         4.833333             6  \n",
       "2                 0                    0      0         5.000000             9  \n",
       "3                 0                    0      0         4.125000             8  \n",
       "4                 0                    0      0         2.833333             6  \n",
       "\n",
       "[5 rows x 32 columns]"
      ]
     },
     "execution_count": 4,
     "metadata": {},
     "output_type": "execute_result"
    }
   ],
   "source": [
    "#Importamos el dataset de restaurants\n",
    "restaurants = pd.read_csv('D:/Marcos/HENRY/Proyecto-Final/restaurants_homolog.csv')\n",
    "restaurants.head()"
   ]
  },
  {
   "cell_type": "code",
   "execution_count": 5,
   "metadata": {},
   "outputs": [
    {
     "name": "stdout",
     "output_type": "stream",
     "text": [
      "<class 'pandas.core.frame.DataFrame'>\n",
      "RangeIndex: 171419 entries, 0 to 171418\n",
      "Data columns (total 32 columns):\n",
      " #   Column                   Non-Null Count   Dtype  \n",
      "---  ------                   --------------   -----  \n",
      " 0   Unnamed: 0               171419 non-null  int64  \n",
      " 1   Id_Restaurant            171419 non-null  object \n",
      " 2   Nombre                   171419 non-null  object \n",
      " 3   Ciudad                   171419 non-null  object \n",
      " 4   Estado                   171419 non-null  object \n",
      " 5   Cod_postal               171398 non-null  object \n",
      " 6   Latitud                  171419 non-null  float64\n",
      " 7   Longitud                 171419 non-null  float64\n",
      " 8   Tipo                     171419 non-null  object \n",
      " 9   Ambiente                 171419 non-null  int64  \n",
      " 10  Para grupos              171419 non-null  int64  \n",
      " 11  Promociones              171419 non-null  int64  \n",
      " 12  Estacionamiento          171419 non-null  int64  \n",
      " 13  Mejores noches           171419 non-null  int64  \n",
      " 14  Inclusivo                171419 non-null  int64  \n",
      " 15  Amenidades               171419 non-null  int64  \n",
      " 16  Exteriores               171419 non-null  int64  \n",
      " 17  Restricciones en dieta   171419 non-null  int64  \n",
      " 18  Reservaciones            171419 non-null  int64  \n",
      " 19  Tipo de servicio         171419 non-null  int64  \n",
      " 20  Guardaropa               171419 non-null  int64  \n",
      " 21  24 horas                 171419 non-null  int64  \n",
      " 22  Tipos de pago            171419 non-null  int64  \n",
      " 23  Opciones (Des,Com,Cena)  171419 non-null  int64  \n",
      " 24  Tipo director            171419 non-null  int64  \n",
      " 25  Vestimenta               171419 non-null  int64  \n",
      " 26  Salud y Seguridad        171419 non-null  int64  \n",
      " 27  Rango de precios         171419 non-null  int64  \n",
      " 28  Aspectos destacados      171419 non-null  int64  \n",
      " 29  Fumar                    171419 non-null  int64  \n",
      " 30  Rating_promedio          171419 non-null  float64\n",
      " 31  Cant_reviews             171419 non-null  int64  \n",
      "dtypes: float64(3), int64(23), object(6)\n",
      "memory usage: 41.9+ MB\n"
     ]
    }
   ],
   "source": [
    "restaurants.info()"
   ]
  },
  {
   "cell_type": "markdown",
   "metadata": {},
   "source": [
    "Para realizar el modelo, vamos a filtrar por los restaurants que pertenezcan al estado de New York. Esto evitará el alto cosoto computacional de tuning y entrenamiento del modelo. Siempre puede extenderse el mismo proceso a todo EE.UU.\n"
   ]
  },
  {
   "cell_type": "code",
   "execution_count": 6,
   "metadata": {},
   "outputs": [
    {
     "data": {
      "text/html": [
       "<div>\n",
       "<style scoped>\n",
       "    .dataframe tbody tr th:only-of-type {\n",
       "        vertical-align: middle;\n",
       "    }\n",
       "\n",
       "    .dataframe tbody tr th {\n",
       "        vertical-align: top;\n",
       "    }\n",
       "\n",
       "    .dataframe thead th {\n",
       "        text-align: right;\n",
       "    }\n",
       "</style>\n",
       "<table border=\"1\" class=\"dataframe\">\n",
       "  <thead>\n",
       "    <tr style=\"text-align: right;\">\n",
       "      <th></th>\n",
       "      <th>Unnamed: 0</th>\n",
       "      <th>Id_Restaurant</th>\n",
       "      <th>Nombre</th>\n",
       "      <th>Ciudad</th>\n",
       "      <th>Estado</th>\n",
       "      <th>Cod_postal</th>\n",
       "      <th>Latitud</th>\n",
       "      <th>Longitud</th>\n",
       "      <th>Tipo</th>\n",
       "      <th>Ambiente</th>\n",
       "      <th>...</th>\n",
       "      <th>Tipos de pago</th>\n",
       "      <th>Opciones (Des,Com,Cena)</th>\n",
       "      <th>Tipo director</th>\n",
       "      <th>Vestimenta</th>\n",
       "      <th>Salud y Seguridad</th>\n",
       "      <th>Rango de precios</th>\n",
       "      <th>Aspectos destacados</th>\n",
       "      <th>Fumar</th>\n",
       "      <th>Rating_promedio</th>\n",
       "      <th>Cant_reviews</th>\n",
       "    </tr>\n",
       "  </thead>\n",
       "  <tbody>\n",
       "    <tr>\n",
       "      <th>16</th>\n",
       "      <td>16</td>\n",
       "      <td>0x89c261f60bdf13db:0x38da730e4687a97b</td>\n",
       "      <td>Dunkin'</td>\n",
       "      <td>Queens</td>\n",
       "      <td>NY</td>\n",
       "      <td>11361</td>\n",
       "      <td>40.763985</td>\n",
       "      <td>-73.771430</td>\n",
       "      <td>Comida Rápida</td>\n",
       "      <td>1</td>\n",
       "      <td>...</td>\n",
       "      <td>1</td>\n",
       "      <td>1</td>\n",
       "      <td>0</td>\n",
       "      <td>0</td>\n",
       "      <td>0</td>\n",
       "      <td>0</td>\n",
       "      <td>1</td>\n",
       "      <td>0</td>\n",
       "      <td>3.166667</td>\n",
       "      <td>6</td>\n",
       "    </tr>\n",
       "    <tr>\n",
       "      <th>18</th>\n",
       "      <td>18</td>\n",
       "      <td>0x89c258ffaeaba947:0x8355860772a595a9</td>\n",
       "      <td>Raffaello Kosher Pizza</td>\n",
       "      <td>New York</td>\n",
       "      <td>NY</td>\n",
       "      <td>10036</td>\n",
       "      <td>40.756872</td>\n",
       "      <td>-73.980427</td>\n",
       "      <td>Comida Italiana</td>\n",
       "      <td>1</td>\n",
       "      <td>...</td>\n",
       "      <td>0</td>\n",
       "      <td>1</td>\n",
       "      <td>0</td>\n",
       "      <td>0</td>\n",
       "      <td>0</td>\n",
       "      <td>0</td>\n",
       "      <td>0</td>\n",
       "      <td>0</td>\n",
       "      <td>3.400000</td>\n",
       "      <td>5</td>\n",
       "    </tr>\n",
       "    <tr>\n",
       "      <th>22</th>\n",
       "      <td>22</td>\n",
       "      <td>0x89c244427d3e2c19:0xc1dbf7d8e71d7201</td>\n",
       "      <td>Casa Malinche</td>\n",
       "      <td>Brooklyn</td>\n",
       "      <td>NY</td>\n",
       "      <td>11235</td>\n",
       "      <td>40.581086</td>\n",
       "      <td>-73.960139</td>\n",
       "      <td>Comida Latinoamericana</td>\n",
       "      <td>0</td>\n",
       "      <td>...</td>\n",
       "      <td>0</td>\n",
       "      <td>0</td>\n",
       "      <td>0</td>\n",
       "      <td>0</td>\n",
       "      <td>0</td>\n",
       "      <td>0</td>\n",
       "      <td>0</td>\n",
       "      <td>0</td>\n",
       "      <td>4.600000</td>\n",
       "      <td>5</td>\n",
       "    </tr>\n",
       "    <tr>\n",
       "      <th>32</th>\n",
       "      <td>32</td>\n",
       "      <td>0x89c2f5c3caef3fb5:0xb7f855503b4bc974</td>\n",
       "      <td>Kennedy's Chicken &amp; Sandwiches</td>\n",
       "      <td>Bronx</td>\n",
       "      <td>NY</td>\n",
       "      <td>10454</td>\n",
       "      <td>40.808010</td>\n",
       "      <td>-73.919617</td>\n",
       "      <td>Comida Americana</td>\n",
       "      <td>1</td>\n",
       "      <td>...</td>\n",
       "      <td>0</td>\n",
       "      <td>1</td>\n",
       "      <td>0</td>\n",
       "      <td>0</td>\n",
       "      <td>0</td>\n",
       "      <td>0</td>\n",
       "      <td>1</td>\n",
       "      <td>0</td>\n",
       "      <td>4.166667</td>\n",
       "      <td>6</td>\n",
       "    </tr>\n",
       "    <tr>\n",
       "      <th>46</th>\n",
       "      <td>46</td>\n",
       "      <td>0x89c258b8e75311b5:0x745721b4d1be3147</td>\n",
       "      <td>V-Note</td>\n",
       "      <td>New York</td>\n",
       "      <td>NY</td>\n",
       "      <td>10075</td>\n",
       "      <td>40.772618</td>\n",
       "      <td>-73.952116</td>\n",
       "      <td>Comida Italiana</td>\n",
       "      <td>1</td>\n",
       "      <td>...</td>\n",
       "      <td>0</td>\n",
       "      <td>1</td>\n",
       "      <td>0</td>\n",
       "      <td>0</td>\n",
       "      <td>0</td>\n",
       "      <td>0</td>\n",
       "      <td>1</td>\n",
       "      <td>0</td>\n",
       "      <td>4.272727</td>\n",
       "      <td>11</td>\n",
       "    </tr>\n",
       "  </tbody>\n",
       "</table>\n",
       "<p>5 rows × 32 columns</p>\n",
       "</div>"
      ],
      "text/plain": [
       "    Unnamed: 0                          Id_Restaurant  \\\n",
       "16          16  0x89c261f60bdf13db:0x38da730e4687a97b   \n",
       "18          18  0x89c258ffaeaba947:0x8355860772a595a9   \n",
       "22          22  0x89c244427d3e2c19:0xc1dbf7d8e71d7201   \n",
       "32          32  0x89c2f5c3caef3fb5:0xb7f855503b4bc974   \n",
       "46          46  0x89c258b8e75311b5:0x745721b4d1be3147   \n",
       "\n",
       "                            Nombre    Ciudad Estado Cod_postal    Latitud  \\\n",
       "16                         Dunkin'    Queens     NY      11361  40.763985   \n",
       "18          Raffaello Kosher Pizza  New York     NY      10036  40.756872   \n",
       "22                   Casa Malinche  Brooklyn     NY      11235  40.581086   \n",
       "32  Kennedy's Chicken & Sandwiches     Bronx     NY      10454  40.808010   \n",
       "46                          V-Note  New York     NY      10075  40.772618   \n",
       "\n",
       "     Longitud                    Tipo  Ambiente  ...  Tipos de pago  \\\n",
       "16 -73.771430           Comida Rápida         1  ...              1   \n",
       "18 -73.980427         Comida Italiana         1  ...              0   \n",
       "22 -73.960139  Comida Latinoamericana         0  ...              0   \n",
       "32 -73.919617        Comida Americana         1  ...              0   \n",
       "46 -73.952116         Comida Italiana         1  ...              0   \n",
       "\n",
       "    Opciones (Des,Com,Cena)  Tipo director  Vestimenta  Salud y Seguridad  \\\n",
       "16                        1              0           0                  0   \n",
       "18                        1              0           0                  0   \n",
       "22                        0              0           0                  0   \n",
       "32                        1              0           0                  0   \n",
       "46                        1              0           0                  0   \n",
       "\n",
       "    Rango de precios  Aspectos destacados  Fumar  Rating_promedio  \\\n",
       "16                 0                    1      0         3.166667   \n",
       "18                 0                    0      0         3.400000   \n",
       "22                 0                    0      0         4.600000   \n",
       "32                 0                    1      0         4.166667   \n",
       "46                 0                    1      0         4.272727   \n",
       "\n",
       "    Cant_reviews  \n",
       "16             6  \n",
       "18             5  \n",
       "22             5  \n",
       "32             6  \n",
       "46            11  \n",
       "\n",
       "[5 rows x 32 columns]"
      ]
     },
     "execution_count": 6,
     "metadata": {},
     "output_type": "execute_result"
    }
   ],
   "source": [
    "#Filtramos los retaurants que sean de New York\n",
    "restaurants_ny = restaurants[restaurants['Estado']=='NY']\n",
    "restaurants_ny.head()"
   ]
  },
  {
   "cell_type": "code",
   "execution_count": 7,
   "metadata": {},
   "outputs": [
    {
     "name": "stdout",
     "output_type": "stream",
     "text": [
      "<class 'pandas.core.frame.DataFrame'>\n",
      "Int64Index: 12063 entries, 16 to 123556\n",
      "Data columns (total 32 columns):\n",
      " #   Column                   Non-Null Count  Dtype  \n",
      "---  ------                   --------------  -----  \n",
      " 0   Unnamed: 0               12063 non-null  int64  \n",
      " 1   Id_Restaurant            12063 non-null  object \n",
      " 2   Nombre                   12063 non-null  object \n",
      " 3   Ciudad                   12063 non-null  object \n",
      " 4   Estado                   12063 non-null  object \n",
      " 5   Cod_postal               12063 non-null  object \n",
      " 6   Latitud                  12063 non-null  float64\n",
      " 7   Longitud                 12063 non-null  float64\n",
      " 8   Tipo                     12063 non-null  object \n",
      " 9   Ambiente                 12063 non-null  int64  \n",
      " 10  Para grupos              12063 non-null  int64  \n",
      " 11  Promociones              12063 non-null  int64  \n",
      " 12  Estacionamiento          12063 non-null  int64  \n",
      " 13  Mejores noches           12063 non-null  int64  \n",
      " 14  Inclusivo                12063 non-null  int64  \n",
      " 15  Amenidades               12063 non-null  int64  \n",
      " 16  Exteriores               12063 non-null  int64  \n",
      " 17  Restricciones en dieta   12063 non-null  int64  \n",
      " 18  Reservaciones            12063 non-null  int64  \n",
      " 19  Tipo de servicio         12063 non-null  int64  \n",
      " 20  Guardaropa               12063 non-null  int64  \n",
      " 21  24 horas                 12063 non-null  int64  \n",
      " 22  Tipos de pago            12063 non-null  int64  \n",
      " 23  Opciones (Des,Com,Cena)  12063 non-null  int64  \n",
      " 24  Tipo director            12063 non-null  int64  \n",
      " 25  Vestimenta               12063 non-null  int64  \n",
      " 26  Salud y Seguridad        12063 non-null  int64  \n",
      " 27  Rango de precios         12063 non-null  int64  \n",
      " 28  Aspectos destacados      12063 non-null  int64  \n",
      " 29  Fumar                    12063 non-null  int64  \n",
      " 30  Rating_promedio          12063 non-null  float64\n",
      " 31  Cant_reviews             12063 non-null  int64  \n",
      "dtypes: float64(3), int64(23), object(6)\n",
      "memory usage: 3.0+ MB\n"
     ]
    }
   ],
   "source": [
    "restaurants_ny.info()"
   ]
  },
  {
   "cell_type": "code",
   "execution_count": 8,
   "metadata": {},
   "outputs": [
    {
     "name": "stdout",
     "output_type": "stream",
     "text": [
      "<class 'pandas.core.frame.DataFrame'>\n",
      "Int64Index: 743079 entries, 6360731 to 7484519\n",
      "Data columns (total 5 columns):\n",
      " #   Column         Non-Null Count   Dtype \n",
      "---  ------         --------------   ----- \n",
      " 0   Id_Usuario     743079 non-null  object\n",
      " 1   Id_Restaurant  743079 non-null  object\n",
      " 2   Rating         743079 non-null  int64 \n",
      " 3   Reseña         427330 non-null  object\n",
      " 4   Timestamp      743079 non-null  int64 \n",
      "dtypes: int64(2), object(3)\n",
      "memory usage: 34.0+ MB\n"
     ]
    }
   ],
   "source": [
    "#Son 12.063 lugares. Filtraremos estos en el dataset de reviews\n",
    "reviews_ny = reviews[reviews['Id_Restaurant'].isin(restaurants_ny['Id_Restaurant'].values)]\n",
    "reviews_ny.info()"
   ]
  },
  {
   "cell_type": "code",
   "execution_count": 9,
   "metadata": {},
   "outputs": [
    {
     "data": {
      "text/html": [
       "<div>\n",
       "<style scoped>\n",
       "    .dataframe tbody tr th:only-of-type {\n",
       "        vertical-align: middle;\n",
       "    }\n",
       "\n",
       "    .dataframe tbody tr th {\n",
       "        vertical-align: top;\n",
       "    }\n",
       "\n",
       "    .dataframe thead th {\n",
       "        text-align: right;\n",
       "    }\n",
       "</style>\n",
       "<table border=\"1\" class=\"dataframe\">\n",
       "  <thead>\n",
       "    <tr style=\"text-align: right;\">\n",
       "      <th></th>\n",
       "      <th>Id_Restaurant</th>\n",
       "      <th>Rating</th>\n",
       "      <th>Reseña</th>\n",
       "      <th>Timestamp</th>\n",
       "    </tr>\n",
       "    <tr>\n",
       "      <th>Id_Usuario</th>\n",
       "      <th></th>\n",
       "      <th></th>\n",
       "      <th></th>\n",
       "      <th></th>\n",
       "    </tr>\n",
       "  </thead>\n",
       "  <tbody>\n",
       "    <tr>\n",
       "      <th>1.066545e+20</th>\n",
       "      <td>159</td>\n",
       "      <td>159</td>\n",
       "      <td>159</td>\n",
       "      <td>159</td>\n",
       "    </tr>\n",
       "    <tr>\n",
       "      <th>1.048192e+20</th>\n",
       "      <td>147</td>\n",
       "      <td>147</td>\n",
       "      <td>147</td>\n",
       "      <td>147</td>\n",
       "    </tr>\n",
       "    <tr>\n",
       "      <th>1.084387e+20</th>\n",
       "      <td>81</td>\n",
       "      <td>81</td>\n",
       "      <td>68</td>\n",
       "      <td>81</td>\n",
       "    </tr>\n",
       "    <tr>\n",
       "      <th>1.150828e+20</th>\n",
       "      <td>81</td>\n",
       "      <td>81</td>\n",
       "      <td>81</td>\n",
       "      <td>81</td>\n",
       "    </tr>\n",
       "    <tr>\n",
       "      <th>1.116543e+20</th>\n",
       "      <td>80</td>\n",
       "      <td>80</td>\n",
       "      <td>54</td>\n",
       "      <td>80</td>\n",
       "    </tr>\n",
       "    <tr>\n",
       "      <th>...</th>\n",
       "      <td>...</td>\n",
       "      <td>...</td>\n",
       "      <td>...</td>\n",
       "      <td>...</td>\n",
       "    </tr>\n",
       "    <tr>\n",
       "      <th>1.112619e+20</th>\n",
       "      <td>1</td>\n",
       "      <td>1</td>\n",
       "      <td>0</td>\n",
       "      <td>1</td>\n",
       "    </tr>\n",
       "    <tr>\n",
       "      <th>1.046370e+20</th>\n",
       "      <td>1</td>\n",
       "      <td>1</td>\n",
       "      <td>1</td>\n",
       "      <td>1</td>\n",
       "    </tr>\n",
       "    <tr>\n",
       "      <th>1.112619e+20</th>\n",
       "      <td>1</td>\n",
       "      <td>1</td>\n",
       "      <td>0</td>\n",
       "      <td>1</td>\n",
       "    </tr>\n",
       "    <tr>\n",
       "      <th>1.112620e+20</th>\n",
       "      <td>1</td>\n",
       "      <td>1</td>\n",
       "      <td>1</td>\n",
       "      <td>1</td>\n",
       "    </tr>\n",
       "    <tr>\n",
       "      <th>1.092405e+20</th>\n",
       "      <td>1</td>\n",
       "      <td>1</td>\n",
       "      <td>1</td>\n",
       "      <td>1</td>\n",
       "    </tr>\n",
       "  </tbody>\n",
       "</table>\n",
       "<p>351196 rows × 4 columns</p>\n",
       "</div>"
      ],
      "text/plain": [
       "              Id_Restaurant  Rating  Reseña  Timestamp\n",
       "Id_Usuario                                            \n",
       "1.066545e+20            159     159     159        159\n",
       "1.048192e+20            147     147     147        147\n",
       "1.084387e+20             81      81      68         81\n",
       "1.150828e+20             81      81      81         81\n",
       "1.116543e+20             80      80      54         80\n",
       "...                     ...     ...     ...        ...\n",
       "1.112619e+20              1       1       0          1\n",
       "1.046370e+20              1       1       1          1\n",
       "1.112619e+20              1       1       0          1\n",
       "1.112620e+20              1       1       1          1\n",
       "1.092405e+20              1       1       1          1\n",
       "\n",
       "[351196 rows x 4 columns]"
      ]
     },
     "execution_count": 9,
     "metadata": {},
     "output_type": "execute_result"
    }
   ],
   "source": [
    "#Son 743.079 reviews.\n",
    "#Vamos a filtrarlas aun mas puesto que para los usuarios que hicieron una sola reseña no vamos a tener buenas predicciones\n",
    "usuario_agrup = reviews_ny.groupby(by='Id_Usuario').count().sort_values(by='Rating',ascending=False)\n",
    "usuario_agrup"
   ]
  },
  {
   "cell_type": "code",
   "execution_count": 10,
   "metadata": {},
   "outputs": [
    {
     "data": {
      "text/html": [
       "<div>\n",
       "<style scoped>\n",
       "    .dataframe tbody tr th:only-of-type {\n",
       "        vertical-align: middle;\n",
       "    }\n",
       "\n",
       "    .dataframe tbody tr th {\n",
       "        vertical-align: top;\n",
       "    }\n",
       "\n",
       "    .dataframe thead th {\n",
       "        text-align: right;\n",
       "    }\n",
       "</style>\n",
       "<table border=\"1\" class=\"dataframe\">\n",
       "  <thead>\n",
       "    <tr style=\"text-align: right;\">\n",
       "      <th></th>\n",
       "      <th>Id_Restaurant</th>\n",
       "      <th>Rating</th>\n",
       "      <th>Reseña</th>\n",
       "      <th>Timestamp</th>\n",
       "    </tr>\n",
       "    <tr>\n",
       "      <th>Id_Usuario</th>\n",
       "      <th></th>\n",
       "      <th></th>\n",
       "      <th></th>\n",
       "      <th></th>\n",
       "    </tr>\n",
       "  </thead>\n",
       "  <tbody>\n",
       "    <tr>\n",
       "      <th>1.066545e+20</th>\n",
       "      <td>159</td>\n",
       "      <td>159</td>\n",
       "      <td>159</td>\n",
       "      <td>159</td>\n",
       "    </tr>\n",
       "    <tr>\n",
       "      <th>1.048192e+20</th>\n",
       "      <td>147</td>\n",
       "      <td>147</td>\n",
       "      <td>147</td>\n",
       "      <td>147</td>\n",
       "    </tr>\n",
       "    <tr>\n",
       "      <th>1.084387e+20</th>\n",
       "      <td>81</td>\n",
       "      <td>81</td>\n",
       "      <td>68</td>\n",
       "      <td>81</td>\n",
       "    </tr>\n",
       "    <tr>\n",
       "      <th>1.150828e+20</th>\n",
       "      <td>81</td>\n",
       "      <td>81</td>\n",
       "      <td>81</td>\n",
       "      <td>81</td>\n",
       "    </tr>\n",
       "    <tr>\n",
       "      <th>1.116543e+20</th>\n",
       "      <td>80</td>\n",
       "      <td>80</td>\n",
       "      <td>54</td>\n",
       "      <td>80</td>\n",
       "    </tr>\n",
       "    <tr>\n",
       "      <th>...</th>\n",
       "      <td>...</td>\n",
       "      <td>...</td>\n",
       "      <td>...</td>\n",
       "      <td>...</td>\n",
       "    </tr>\n",
       "    <tr>\n",
       "      <th>1.039415e+20</th>\n",
       "      <td>11</td>\n",
       "      <td>11</td>\n",
       "      <td>10</td>\n",
       "      <td>11</td>\n",
       "    </tr>\n",
       "    <tr>\n",
       "      <th>1.085041e+20</th>\n",
       "      <td>11</td>\n",
       "      <td>11</td>\n",
       "      <td>5</td>\n",
       "      <td>11</td>\n",
       "    </tr>\n",
       "    <tr>\n",
       "      <th>1.177329e+20</th>\n",
       "      <td>11</td>\n",
       "      <td>11</td>\n",
       "      <td>1</td>\n",
       "      <td>11</td>\n",
       "    </tr>\n",
       "    <tr>\n",
       "      <th>1.076026e+20</th>\n",
       "      <td>11</td>\n",
       "      <td>11</td>\n",
       "      <td>8</td>\n",
       "      <td>11</td>\n",
       "    </tr>\n",
       "    <tr>\n",
       "      <th>1.041396e+20</th>\n",
       "      <td>11</td>\n",
       "      <td>11</td>\n",
       "      <td>3</td>\n",
       "      <td>11</td>\n",
       "    </tr>\n",
       "  </tbody>\n",
       "</table>\n",
       "<p>2995 rows × 4 columns</p>\n",
       "</div>"
      ],
      "text/plain": [
       "              Id_Restaurant  Rating  Reseña  Timestamp\n",
       "Id_Usuario                                            \n",
       "1.066545e+20            159     159     159        159\n",
       "1.048192e+20            147     147     147        147\n",
       "1.084387e+20             81      81      68         81\n",
       "1.150828e+20             81      81      81         81\n",
       "1.116543e+20             80      80      54         80\n",
       "...                     ...     ...     ...        ...\n",
       "1.039415e+20             11      11      10         11\n",
       "1.085041e+20             11      11       5         11\n",
       "1.177329e+20             11      11       1         11\n",
       "1.076026e+20             11      11       8         11\n",
       "1.041396e+20             11      11       3         11\n",
       "\n",
       "[2995 rows x 4 columns]"
      ]
     },
     "execution_count": 10,
     "metadata": {},
     "output_type": "execute_result"
    }
   ],
   "source": [
    "#Limitamos a los que tienen mas de 10 votos\n",
    "usuario_agrup[usuario_agrup['Rating']>10]"
   ]
  },
  {
   "cell_type": "code",
   "execution_count": 11,
   "metadata": {},
   "outputs": [
    {
     "name": "stdout",
     "output_type": "stream",
     "text": [
      "<class 'pandas.core.frame.DataFrame'>\n",
      "Int64Index: 46298 entries, 6360732 to 7484519\n",
      "Data columns (total 5 columns):\n",
      " #   Column         Non-Null Count  Dtype \n",
      "---  ------         --------------  ----- \n",
      " 0   Id_Usuario     46298 non-null  object\n",
      " 1   Id_Restaurant  46298 non-null  object\n",
      " 2   Rating         46298 non-null  int64 \n",
      " 3   Reseña         29034 non-null  object\n",
      " 4   Timestamp      46298 non-null  int64 \n",
      "dtypes: int64(2), object(3)\n",
      "memory usage: 2.1+ MB\n"
     ]
    }
   ],
   "source": [
    "reviews_ny_filt = reviews_ny[reviews_ny['Id_Usuario'].isin(usuario_agrup[usuario_agrup['Rating']>10].index)]\n",
    "reviews_ny_filt.info()"
   ]
  },
  {
   "cell_type": "code",
   "execution_count": 13,
   "metadata": {
    "id": "gDq1Coih0vMA"
   },
   "outputs": [],
   "source": [
    "#Crea un objeto Reader y Dataset de Surprise\n",
    "reader = Reader(rating_scale=(1, 5))\n",
    "data = Dataset.load_from_df(reviews_ny_filt[[\"Id_Usuario\", \"Id_Restaurant\", \"Rating\"]], reader)"
   ]
  },
  {
   "cell_type": "code",
   "execution_count": 15,
   "metadata": {
    "colab": {
     "base_uri": "https://localhost:8080/"
    },
    "id": "9_2A0VBCB-tf",
    "outputId": "685b555a-acdd-4f0f-d4c2-9236a2ecf239"
   },
   "outputs": [],
   "source": [
    "#Optimizamos hiperparámetros. Primero vamos a hacerlo con el SVD.\n",
    "parametros = {'n_factors':np.arange(10,1000),\n",
    "             'n_epochs':np.arange(5,50),\n",
    "             'lr_all':np.arange(0.001,0.05,0.001),\n",
    "             'reg_all':np.arange(0.005,0.1,0.005)}\n",
    "\n",
    "rs = RandomizedSearchCV(SVD,param_distributions=parametros,cv=3,n_iter=30,random_state =42)\n",
    "rs.fit(data)"
   ]
  },
  {
   "cell_type": "code",
   "execution_count": 16,
   "metadata": {
    "id": "ZK9IGogQCEO3"
   },
   "outputs": [
    {
     "data": {
      "text/html": [
       "<div>\n",
       "<style scoped>\n",
       "    .dataframe tbody tr th:only-of-type {\n",
       "        vertical-align: middle;\n",
       "    }\n",
       "\n",
       "    .dataframe tbody tr th {\n",
       "        vertical-align: top;\n",
       "    }\n",
       "\n",
       "    .dataframe thead th {\n",
       "        text-align: right;\n",
       "    }\n",
       "</style>\n",
       "<table border=\"1\" class=\"dataframe\">\n",
       "  <thead>\n",
       "    <tr style=\"text-align: right;\">\n",
       "      <th></th>\n",
       "      <th>split0_test_rmse</th>\n",
       "      <th>split1_test_rmse</th>\n",
       "      <th>split2_test_rmse</th>\n",
       "      <th>mean_test_rmse</th>\n",
       "      <th>std_test_rmse</th>\n",
       "      <th>rank_test_rmse</th>\n",
       "      <th>split0_test_mae</th>\n",
       "      <th>split1_test_mae</th>\n",
       "      <th>split2_test_mae</th>\n",
       "      <th>mean_test_mae</th>\n",
       "      <th>...</th>\n",
       "      <th>rank_test_mae</th>\n",
       "      <th>mean_fit_time</th>\n",
       "      <th>std_fit_time</th>\n",
       "      <th>mean_test_time</th>\n",
       "      <th>std_test_time</th>\n",
       "      <th>params</th>\n",
       "      <th>param_n_factors</th>\n",
       "      <th>param_n_epochs</th>\n",
       "      <th>param_lr_all</th>\n",
       "      <th>param_reg_all</th>\n",
       "    </tr>\n",
       "  </thead>\n",
       "  <tbody>\n",
       "    <tr>\n",
       "      <th>3</th>\n",
       "      <td>0.929293</td>\n",
       "      <td>0.923372</td>\n",
       "      <td>0.930834</td>\n",
       "      <td>0.927833</td>\n",
       "      <td>0.003217</td>\n",
       "      <td>1</td>\n",
       "      <td>0.693526</td>\n",
       "      <td>0.695500</td>\n",
       "      <td>0.701359</td>\n",
       "      <td>0.696795</td>\n",
       "      <td>...</td>\n",
       "      <td>2</td>\n",
       "      <td>6.588249</td>\n",
       "      <td>0.473332</td>\n",
       "      <td>0.154919</td>\n",
       "      <td>0.061835</td>\n",
       "      <td>{'n_factors': 217, 'n_epochs': 35, 'lr_all': 0...</td>\n",
       "      <td>217</td>\n",
       "      <td>35</td>\n",
       "      <td>0.025</td>\n",
       "      <td>0.07</td>\n",
       "    </tr>\n",
       "    <tr>\n",
       "      <th>9</th>\n",
       "      <td>0.931655</td>\n",
       "      <td>0.924557</td>\n",
       "      <td>0.931663</td>\n",
       "      <td>0.929292</td>\n",
       "      <td>0.003348</td>\n",
       "      <td>2</td>\n",
       "      <td>0.702470</td>\n",
       "      <td>0.700787</td>\n",
       "      <td>0.704968</td>\n",
       "      <td>0.702742</td>\n",
       "      <td>...</td>\n",
       "      <td>4</td>\n",
       "      <td>18.421245</td>\n",
       "      <td>0.236951</td>\n",
       "      <td>0.167182</td>\n",
       "      <td>0.030063</td>\n",
       "      <td>{'n_factors': 430, 'n_epochs': 41, 'lr_all': 0...</td>\n",
       "      <td>430</td>\n",
       "      <td>41</td>\n",
       "      <td>0.031</td>\n",
       "      <td>0.07</td>\n",
       "    </tr>\n",
       "    <tr>\n",
       "      <th>8</th>\n",
       "      <td>0.933032</td>\n",
       "      <td>0.929278</td>\n",
       "      <td>0.931602</td>\n",
       "      <td>0.931304</td>\n",
       "      <td>0.001547</td>\n",
       "      <td>3</td>\n",
       "      <td>0.695521</td>\n",
       "      <td>0.698676</td>\n",
       "      <td>0.698757</td>\n",
       "      <td>0.697651</td>\n",
       "      <td>...</td>\n",
       "      <td>3</td>\n",
       "      <td>4.075852</td>\n",
       "      <td>0.209161</td>\n",
       "      <td>0.133643</td>\n",
       "      <td>0.034558</td>\n",
       "      <td>{'n_factors': 171, 'n_epochs': 27, 'lr_all': 0...</td>\n",
       "      <td>171</td>\n",
       "      <td>27</td>\n",
       "      <td>0.049</td>\n",
       "      <td>0.02</td>\n",
       "    </tr>\n",
       "    <tr>\n",
       "      <th>11</th>\n",
       "      <td>0.934785</td>\n",
       "      <td>0.927888</td>\n",
       "      <td>0.934928</td>\n",
       "      <td>0.932533</td>\n",
       "      <td>0.003286</td>\n",
       "      <td>4</td>\n",
       "      <td>0.709013</td>\n",
       "      <td>0.708857</td>\n",
       "      <td>0.710433</td>\n",
       "      <td>0.709434</td>\n",
       "      <td>...</td>\n",
       "      <td>8</td>\n",
       "      <td>16.899916</td>\n",
       "      <td>0.076365</td>\n",
       "      <td>0.145418</td>\n",
       "      <td>0.029774</td>\n",
       "      <td>{'n_factors': 502, 'n_epochs': 32, 'lr_all': 0...</td>\n",
       "      <td>502</td>\n",
       "      <td>32</td>\n",
       "      <td>0.024</td>\n",
       "      <td>0.07</td>\n",
       "    </tr>\n",
       "    <tr>\n",
       "      <th>12</th>\n",
       "      <td>0.935808</td>\n",
       "      <td>0.928836</td>\n",
       "      <td>0.933166</td>\n",
       "      <td>0.932603</td>\n",
       "      <td>0.002874</td>\n",
       "      <td>5</td>\n",
       "      <td>0.707607</td>\n",
       "      <td>0.707278</td>\n",
       "      <td>0.708324</td>\n",
       "      <td>0.707736</td>\n",
       "      <td>...</td>\n",
       "      <td>7</td>\n",
       "      <td>13.972641</td>\n",
       "      <td>0.126799</td>\n",
       "      <td>0.122118</td>\n",
       "      <td>0.001130</td>\n",
       "      <td>{'n_factors': 404, 'n_epochs': 34, 'lr_all': 0...</td>\n",
       "      <td>404</td>\n",
       "      <td>34</td>\n",
       "      <td>0.025</td>\n",
       "      <td>0.05</td>\n",
       "    </tr>\n",
       "  </tbody>\n",
       "</table>\n",
       "<p>5 rows × 21 columns</p>\n",
       "</div>"
      ],
      "text/plain": [
       "    split0_test_rmse  split1_test_rmse  split2_test_rmse  mean_test_rmse  \\\n",
       "3           0.929293          0.923372          0.930834        0.927833   \n",
       "9           0.931655          0.924557          0.931663        0.929292   \n",
       "8           0.933032          0.929278          0.931602        0.931304   \n",
       "11          0.934785          0.927888          0.934928        0.932533   \n",
       "12          0.935808          0.928836          0.933166        0.932603   \n",
       "\n",
       "    std_test_rmse  rank_test_rmse  split0_test_mae  split1_test_mae  \\\n",
       "3        0.003217               1         0.693526         0.695500   \n",
       "9        0.003348               2         0.702470         0.700787   \n",
       "8        0.001547               3         0.695521         0.698676   \n",
       "11       0.003286               4         0.709013         0.708857   \n",
       "12       0.002874               5         0.707607         0.707278   \n",
       "\n",
       "    split2_test_mae  mean_test_mae  ...  rank_test_mae  mean_fit_time  \\\n",
       "3          0.701359       0.696795  ...              2       6.588249   \n",
       "9          0.704968       0.702742  ...              4      18.421245   \n",
       "8          0.698757       0.697651  ...              3       4.075852   \n",
       "11         0.710433       0.709434  ...              8      16.899916   \n",
       "12         0.708324       0.707736  ...              7      13.972641   \n",
       "\n",
       "    std_fit_time  mean_test_time  std_test_time  \\\n",
       "3       0.473332        0.154919       0.061835   \n",
       "9       0.236951        0.167182       0.030063   \n",
       "8       0.209161        0.133643       0.034558   \n",
       "11      0.076365        0.145418       0.029774   \n",
       "12      0.126799        0.122118       0.001130   \n",
       "\n",
       "                                               params param_n_factors  \\\n",
       "3   {'n_factors': 217, 'n_epochs': 35, 'lr_all': 0...             217   \n",
       "9   {'n_factors': 430, 'n_epochs': 41, 'lr_all': 0...             430   \n",
       "8   {'n_factors': 171, 'n_epochs': 27, 'lr_all': 0...             171   \n",
       "11  {'n_factors': 502, 'n_epochs': 32, 'lr_all': 0...             502   \n",
       "12  {'n_factors': 404, 'n_epochs': 34, 'lr_all': 0...             404   \n",
       "\n",
       "    param_n_epochs  param_lr_all  param_reg_all  \n",
       "3               35         0.025           0.07  \n",
       "9               41         0.031           0.07  \n",
       "8               27         0.049           0.02  \n",
       "11              32         0.024           0.07  \n",
       "12              34         0.025           0.05  \n",
       "\n",
       "[5 rows x 21 columns]"
      ]
     },
     "execution_count": 16,
     "metadata": {},
     "output_type": "execute_result"
    }
   ],
   "source": [
    "results_df = pd.DataFrame(rs.cv_results)\n",
    "results_df.sort_values(by='mean_test_rmse').head()"
   ]
  },
  {
   "cell_type": "code",
   "execution_count": 17,
   "metadata": {},
   "outputs": [
    {
     "data": {
      "text/html": [
       "<div>\n",
       "<style scoped>\n",
       "    .dataframe tbody tr th:only-of-type {\n",
       "        vertical-align: middle;\n",
       "    }\n",
       "\n",
       "    .dataframe tbody tr th {\n",
       "        vertical-align: top;\n",
       "    }\n",
       "\n",
       "    .dataframe thead th {\n",
       "        text-align: right;\n",
       "    }\n",
       "</style>\n",
       "<table border=\"1\" class=\"dataframe\">\n",
       "  <thead>\n",
       "    <tr style=\"text-align: right;\">\n",
       "      <th></th>\n",
       "      <th>param_n_factors</th>\n",
       "      <th>param_n_epochs</th>\n",
       "      <th>param_lr_all</th>\n",
       "      <th>param_reg_all</th>\n",
       "      <th>mean_test_rmse</th>\n",
       "    </tr>\n",
       "  </thead>\n",
       "  <tbody>\n",
       "    <tr>\n",
       "      <th>3</th>\n",
       "      <td>217</td>\n",
       "      <td>35</td>\n",
       "      <td>0.025</td>\n",
       "      <td>0.070</td>\n",
       "      <td>0.927833</td>\n",
       "    </tr>\n",
       "    <tr>\n",
       "      <th>9</th>\n",
       "      <td>430</td>\n",
       "      <td>41</td>\n",
       "      <td>0.031</td>\n",
       "      <td>0.070</td>\n",
       "      <td>0.929292</td>\n",
       "    </tr>\n",
       "    <tr>\n",
       "      <th>8</th>\n",
       "      <td>171</td>\n",
       "      <td>27</td>\n",
       "      <td>0.049</td>\n",
       "      <td>0.020</td>\n",
       "      <td>0.931304</td>\n",
       "    </tr>\n",
       "    <tr>\n",
       "      <th>11</th>\n",
       "      <td>502</td>\n",
       "      <td>32</td>\n",
       "      <td>0.024</td>\n",
       "      <td>0.070</td>\n",
       "      <td>0.932533</td>\n",
       "    </tr>\n",
       "    <tr>\n",
       "      <th>12</th>\n",
       "      <td>404</td>\n",
       "      <td>34</td>\n",
       "      <td>0.025</td>\n",
       "      <td>0.050</td>\n",
       "      <td>0.932603</td>\n",
       "    </tr>\n",
       "    <tr>\n",
       "      <th>17</th>\n",
       "      <td>751</td>\n",
       "      <td>21</td>\n",
       "      <td>0.043</td>\n",
       "      <td>0.095</td>\n",
       "      <td>0.934008</td>\n",
       "    </tr>\n",
       "    <tr>\n",
       "      <th>0</th>\n",
       "      <td>551</td>\n",
       "      <td>48</td>\n",
       "      <td>0.012</td>\n",
       "      <td>0.095</td>\n",
       "      <td>0.934979</td>\n",
       "    </tr>\n",
       "    <tr>\n",
       "      <th>10</th>\n",
       "      <td>203</td>\n",
       "      <td>30</td>\n",
       "      <td>0.014</td>\n",
       "      <td>0.010</td>\n",
       "      <td>0.935073</td>\n",
       "    </tr>\n",
       "    <tr>\n",
       "      <th>6</th>\n",
       "      <td>276</td>\n",
       "      <td>37</td>\n",
       "      <td>0.047</td>\n",
       "      <td>0.010</td>\n",
       "      <td>0.935154</td>\n",
       "    </tr>\n",
       "    <tr>\n",
       "      <th>24</th>\n",
       "      <td>338</td>\n",
       "      <td>8</td>\n",
       "      <td>0.026</td>\n",
       "      <td>0.090</td>\n",
       "      <td>0.935948</td>\n",
       "    </tr>\n",
       "    <tr>\n",
       "      <th>25</th>\n",
       "      <td>307</td>\n",
       "      <td>5</td>\n",
       "      <td>0.023</td>\n",
       "      <td>0.035</td>\n",
       "      <td>0.939945</td>\n",
       "    </tr>\n",
       "    <tr>\n",
       "      <th>19</th>\n",
       "      <td>390</td>\n",
       "      <td>17</td>\n",
       "      <td>0.024</td>\n",
       "      <td>0.025</td>\n",
       "      <td>0.942394</td>\n",
       "    </tr>\n",
       "    <tr>\n",
       "      <th>27</th>\n",
       "      <td>33</td>\n",
       "      <td>25</td>\n",
       "      <td>0.022</td>\n",
       "      <td>0.030</td>\n",
       "      <td>0.943818</td>\n",
       "    </tr>\n",
       "    <tr>\n",
       "      <th>16</th>\n",
       "      <td>926</td>\n",
       "      <td>46</td>\n",
       "      <td>0.015</td>\n",
       "      <td>0.045</td>\n",
       "      <td>0.956176</td>\n",
       "    </tr>\n",
       "    <tr>\n",
       "      <th>1</th>\n",
       "      <td>448</td>\n",
       "      <td>9</td>\n",
       "      <td>0.011</td>\n",
       "      <td>0.010</td>\n",
       "      <td>0.956689</td>\n",
       "    </tr>\n",
       "    <tr>\n",
       "      <th>22</th>\n",
       "      <td>521</td>\n",
       "      <td>8</td>\n",
       "      <td>0.048</td>\n",
       "      <td>0.005</td>\n",
       "      <td>0.957935</td>\n",
       "    </tr>\n",
       "    <tr>\n",
       "      <th>5</th>\n",
       "      <td>607</td>\n",
       "      <td>15</td>\n",
       "      <td>0.041</td>\n",
       "      <td>0.010</td>\n",
       "      <td>0.960942</td>\n",
       "    </tr>\n",
       "    <tr>\n",
       "      <th>13</th>\n",
       "      <td>322</td>\n",
       "      <td>27</td>\n",
       "      <td>0.002</td>\n",
       "      <td>0.065</td>\n",
       "      <td>0.961112</td>\n",
       "    </tr>\n",
       "    <tr>\n",
       "      <th>26</th>\n",
       "      <td>718</td>\n",
       "      <td>29</td>\n",
       "      <td>0.037</td>\n",
       "      <td>0.010</td>\n",
       "      <td>0.963344</td>\n",
       "    </tr>\n",
       "    <tr>\n",
       "      <th>29</th>\n",
       "      <td>623</td>\n",
       "      <td>26</td>\n",
       "      <td>0.028</td>\n",
       "      <td>0.005</td>\n",
       "      <td>0.963385</td>\n",
       "    </tr>\n",
       "    <tr>\n",
       "      <th>7</th>\n",
       "      <td>655</td>\n",
       "      <td>25</td>\n",
       "      <td>0.049</td>\n",
       "      <td>0.005</td>\n",
       "      <td>0.964655</td>\n",
       "    </tr>\n",
       "    <tr>\n",
       "      <th>2</th>\n",
       "      <td>908</td>\n",
       "      <td>37</td>\n",
       "      <td>0.008</td>\n",
       "      <td>0.065</td>\n",
       "      <td>0.966724</td>\n",
       "    </tr>\n",
       "    <tr>\n",
       "      <th>18</th>\n",
       "      <td>761</td>\n",
       "      <td>32</td>\n",
       "      <td>0.008</td>\n",
       "      <td>0.030</td>\n",
       "      <td>0.969154</td>\n",
       "    </tr>\n",
       "    <tr>\n",
       "      <th>21</th>\n",
       "      <td>950</td>\n",
       "      <td>15</td>\n",
       "      <td>0.014</td>\n",
       "      <td>0.085</td>\n",
       "      <td>0.970000</td>\n",
       "    </tr>\n",
       "    <tr>\n",
       "      <th>15</th>\n",
       "      <td>834</td>\n",
       "      <td>37</td>\n",
       "      <td>0.003</td>\n",
       "      <td>0.075</td>\n",
       "      <td>0.979482</td>\n",
       "    </tr>\n",
       "    <tr>\n",
       "      <th>28</th>\n",
       "      <td>976</td>\n",
       "      <td>46</td>\n",
       "      <td>0.040</td>\n",
       "      <td>0.005</td>\n",
       "      <td>0.979787</td>\n",
       "    </tr>\n",
       "    <tr>\n",
       "      <th>20</th>\n",
       "      <td>997</td>\n",
       "      <td>25</td>\n",
       "      <td>0.004</td>\n",
       "      <td>0.085</td>\n",
       "      <td>0.986679</td>\n",
       "    </tr>\n",
       "    <tr>\n",
       "      <th>4</th>\n",
       "      <td>885</td>\n",
       "      <td>18</td>\n",
       "      <td>0.025</td>\n",
       "      <td>0.005</td>\n",
       "      <td>0.986978</td>\n",
       "    </tr>\n",
       "    <tr>\n",
       "      <th>23</th>\n",
       "      <td>575</td>\n",
       "      <td>40</td>\n",
       "      <td>0.001</td>\n",
       "      <td>0.015</td>\n",
       "      <td>0.990591</td>\n",
       "    </tr>\n",
       "    <tr>\n",
       "      <th>14</th>\n",
       "      <td>998</td>\n",
       "      <td>7</td>\n",
       "      <td>0.002</td>\n",
       "      <td>0.060</td>\n",
       "      <td>1.039873</td>\n",
       "    </tr>\n",
       "  </tbody>\n",
       "</table>\n",
       "</div>"
      ],
      "text/plain": [
       "    param_n_factors  param_n_epochs  param_lr_all  param_reg_all  \\\n",
       "3               217              35         0.025          0.070   \n",
       "9               430              41         0.031          0.070   \n",
       "8               171              27         0.049          0.020   \n",
       "11              502              32         0.024          0.070   \n",
       "12              404              34         0.025          0.050   \n",
       "17              751              21         0.043          0.095   \n",
       "0               551              48         0.012          0.095   \n",
       "10              203              30         0.014          0.010   \n",
       "6               276              37         0.047          0.010   \n",
       "24              338               8         0.026          0.090   \n",
       "25              307               5         0.023          0.035   \n",
       "19              390              17         0.024          0.025   \n",
       "27               33              25         0.022          0.030   \n",
       "16              926              46         0.015          0.045   \n",
       "1               448               9         0.011          0.010   \n",
       "22              521               8         0.048          0.005   \n",
       "5               607              15         0.041          0.010   \n",
       "13              322              27         0.002          0.065   \n",
       "26              718              29         0.037          0.010   \n",
       "29              623              26         0.028          0.005   \n",
       "7               655              25         0.049          0.005   \n",
       "2               908              37         0.008          0.065   \n",
       "18              761              32         0.008          0.030   \n",
       "21              950              15         0.014          0.085   \n",
       "15              834              37         0.003          0.075   \n",
       "28              976              46         0.040          0.005   \n",
       "20              997              25         0.004          0.085   \n",
       "4               885              18         0.025          0.005   \n",
       "23              575              40         0.001          0.015   \n",
       "14              998               7         0.002          0.060   \n",
       "\n",
       "    mean_test_rmse  \n",
       "3         0.927833  \n",
       "9         0.929292  \n",
       "8         0.931304  \n",
       "11        0.932533  \n",
       "12        0.932603  \n",
       "17        0.934008  \n",
       "0         0.934979  \n",
       "10        0.935073  \n",
       "6         0.935154  \n",
       "24        0.935948  \n",
       "25        0.939945  \n",
       "19        0.942394  \n",
       "27        0.943818  \n",
       "16        0.956176  \n",
       "1         0.956689  \n",
       "22        0.957935  \n",
       "5         0.960942  \n",
       "13        0.961112  \n",
       "26        0.963344  \n",
       "29        0.963385  \n",
       "7         0.964655  \n",
       "2         0.966724  \n",
       "18        0.969154  \n",
       "21        0.970000  \n",
       "15        0.979482  \n",
       "28        0.979787  \n",
       "20        0.986679  \n",
       "4         0.986978  \n",
       "23        0.990591  \n",
       "14        1.039873  "
      ]
     },
     "execution_count": 17,
     "metadata": {},
     "output_type": "execute_result"
    }
   ],
   "source": [
    "#Tomamos solo las columnas que nos interesan.\n",
    "resultados = results_df[['param_n_factors','param_n_epochs','param_lr_all',\n",
    "                         'param_reg_all','mean_test_rmse']].sort_values(by='mean_test_rmse')\n",
    "resultados"
   ]
  },
  {
   "cell_type": "code",
   "execution_count": 18,
   "metadata": {},
   "outputs": [],
   "source": [
    "#Definimos función para limpiar los nombres de los campos.\n",
    "def shorten_param(param_name):\n",
    "    if \"param_\" in param_name:\n",
    "        return param_name.rsplit(\"param_\", 1)[1]\n",
    "    return param_name"
   ]
  },
  {
   "cell_type": "code",
   "execution_count": 28,
   "metadata": {},
   "outputs": [
    {
     "data": {
      "text/html": [
       "<div>\n",
       "<style scoped>\n",
       "    .dataframe tbody tr th:only-of-type {\n",
       "        vertical-align: middle;\n",
       "    }\n",
       "\n",
       "    .dataframe tbody tr th {\n",
       "        vertical-align: top;\n",
       "    }\n",
       "\n",
       "    .dataframe thead th {\n",
       "        text-align: right;\n",
       "    }\n",
       "</style>\n",
       "<table border=\"1\" class=\"dataframe\">\n",
       "  <thead>\n",
       "    <tr style=\"text-align: right;\">\n",
       "      <th></th>\n",
       "      <th>n_factors</th>\n",
       "      <th>n_epochs</th>\n",
       "      <th>lr_all</th>\n",
       "      <th>reg_all</th>\n",
       "      <th>mean_test_rmse</th>\n",
       "    </tr>\n",
       "  </thead>\n",
       "  <tbody>\n",
       "    <tr>\n",
       "      <th>0</th>\n",
       "      <td>217</td>\n",
       "      <td>35</td>\n",
       "      <td>0.025</td>\n",
       "      <td>0.070</td>\n",
       "      <td>0.927833</td>\n",
       "    </tr>\n",
       "    <tr>\n",
       "      <th>1</th>\n",
       "      <td>430</td>\n",
       "      <td>41</td>\n",
       "      <td>0.031</td>\n",
       "      <td>0.070</td>\n",
       "      <td>0.929292</td>\n",
       "    </tr>\n",
       "    <tr>\n",
       "      <th>2</th>\n",
       "      <td>171</td>\n",
       "      <td>27</td>\n",
       "      <td>0.049</td>\n",
       "      <td>0.020</td>\n",
       "      <td>0.931304</td>\n",
       "    </tr>\n",
       "    <tr>\n",
       "      <th>3</th>\n",
       "      <td>502</td>\n",
       "      <td>32</td>\n",
       "      <td>0.024</td>\n",
       "      <td>0.070</td>\n",
       "      <td>0.932533</td>\n",
       "    </tr>\n",
       "    <tr>\n",
       "      <th>4</th>\n",
       "      <td>404</td>\n",
       "      <td>34</td>\n",
       "      <td>0.025</td>\n",
       "      <td>0.050</td>\n",
       "      <td>0.932603</td>\n",
       "    </tr>\n",
       "    <tr>\n",
       "      <th>5</th>\n",
       "      <td>751</td>\n",
       "      <td>21</td>\n",
       "      <td>0.043</td>\n",
       "      <td>0.095</td>\n",
       "      <td>0.934008</td>\n",
       "    </tr>\n",
       "    <tr>\n",
       "      <th>6</th>\n",
       "      <td>551</td>\n",
       "      <td>48</td>\n",
       "      <td>0.012</td>\n",
       "      <td>0.095</td>\n",
       "      <td>0.934979</td>\n",
       "    </tr>\n",
       "    <tr>\n",
       "      <th>7</th>\n",
       "      <td>203</td>\n",
       "      <td>30</td>\n",
       "      <td>0.014</td>\n",
       "      <td>0.010</td>\n",
       "      <td>0.935073</td>\n",
       "    </tr>\n",
       "    <tr>\n",
       "      <th>8</th>\n",
       "      <td>276</td>\n",
       "      <td>37</td>\n",
       "      <td>0.047</td>\n",
       "      <td>0.010</td>\n",
       "      <td>0.935154</td>\n",
       "    </tr>\n",
       "    <tr>\n",
       "      <th>9</th>\n",
       "      <td>338</td>\n",
       "      <td>8</td>\n",
       "      <td>0.026</td>\n",
       "      <td>0.090</td>\n",
       "      <td>0.935948</td>\n",
       "    </tr>\n",
       "    <tr>\n",
       "      <th>10</th>\n",
       "      <td>307</td>\n",
       "      <td>5</td>\n",
       "      <td>0.023</td>\n",
       "      <td>0.035</td>\n",
       "      <td>0.939945</td>\n",
       "    </tr>\n",
       "    <tr>\n",
       "      <th>11</th>\n",
       "      <td>390</td>\n",
       "      <td>17</td>\n",
       "      <td>0.024</td>\n",
       "      <td>0.025</td>\n",
       "      <td>0.942394</td>\n",
       "    </tr>\n",
       "    <tr>\n",
       "      <th>12</th>\n",
       "      <td>33</td>\n",
       "      <td>25</td>\n",
       "      <td>0.022</td>\n",
       "      <td>0.030</td>\n",
       "      <td>0.943818</td>\n",
       "    </tr>\n",
       "    <tr>\n",
       "      <th>13</th>\n",
       "      <td>926</td>\n",
       "      <td>46</td>\n",
       "      <td>0.015</td>\n",
       "      <td>0.045</td>\n",
       "      <td>0.956176</td>\n",
       "    </tr>\n",
       "    <tr>\n",
       "      <th>14</th>\n",
       "      <td>448</td>\n",
       "      <td>9</td>\n",
       "      <td>0.011</td>\n",
       "      <td>0.010</td>\n",
       "      <td>0.956689</td>\n",
       "    </tr>\n",
       "    <tr>\n",
       "      <th>15</th>\n",
       "      <td>521</td>\n",
       "      <td>8</td>\n",
       "      <td>0.048</td>\n",
       "      <td>0.005</td>\n",
       "      <td>0.957935</td>\n",
       "    </tr>\n",
       "    <tr>\n",
       "      <th>16</th>\n",
       "      <td>607</td>\n",
       "      <td>15</td>\n",
       "      <td>0.041</td>\n",
       "      <td>0.010</td>\n",
       "      <td>0.960942</td>\n",
       "    </tr>\n",
       "    <tr>\n",
       "      <th>17</th>\n",
       "      <td>322</td>\n",
       "      <td>27</td>\n",
       "      <td>0.002</td>\n",
       "      <td>0.065</td>\n",
       "      <td>0.961112</td>\n",
       "    </tr>\n",
       "    <tr>\n",
       "      <th>18</th>\n",
       "      <td>718</td>\n",
       "      <td>29</td>\n",
       "      <td>0.037</td>\n",
       "      <td>0.010</td>\n",
       "      <td>0.963344</td>\n",
       "    </tr>\n",
       "    <tr>\n",
       "      <th>19</th>\n",
       "      <td>623</td>\n",
       "      <td>26</td>\n",
       "      <td>0.028</td>\n",
       "      <td>0.005</td>\n",
       "      <td>0.963385</td>\n",
       "    </tr>\n",
       "    <tr>\n",
       "      <th>20</th>\n",
       "      <td>655</td>\n",
       "      <td>25</td>\n",
       "      <td>0.049</td>\n",
       "      <td>0.005</td>\n",
       "      <td>0.964655</td>\n",
       "    </tr>\n",
       "    <tr>\n",
       "      <th>21</th>\n",
       "      <td>908</td>\n",
       "      <td>37</td>\n",
       "      <td>0.008</td>\n",
       "      <td>0.065</td>\n",
       "      <td>0.966724</td>\n",
       "    </tr>\n",
       "    <tr>\n",
       "      <th>22</th>\n",
       "      <td>761</td>\n",
       "      <td>32</td>\n",
       "      <td>0.008</td>\n",
       "      <td>0.030</td>\n",
       "      <td>0.969154</td>\n",
       "    </tr>\n",
       "    <tr>\n",
       "      <th>23</th>\n",
       "      <td>950</td>\n",
       "      <td>15</td>\n",
       "      <td>0.014</td>\n",
       "      <td>0.085</td>\n",
       "      <td>0.970000</td>\n",
       "    </tr>\n",
       "    <tr>\n",
       "      <th>24</th>\n",
       "      <td>834</td>\n",
       "      <td>37</td>\n",
       "      <td>0.003</td>\n",
       "      <td>0.075</td>\n",
       "      <td>0.979482</td>\n",
       "    </tr>\n",
       "    <tr>\n",
       "      <th>25</th>\n",
       "      <td>976</td>\n",
       "      <td>46</td>\n",
       "      <td>0.040</td>\n",
       "      <td>0.005</td>\n",
       "      <td>0.979787</td>\n",
       "    </tr>\n",
       "    <tr>\n",
       "      <th>26</th>\n",
       "      <td>997</td>\n",
       "      <td>25</td>\n",
       "      <td>0.004</td>\n",
       "      <td>0.085</td>\n",
       "      <td>0.986679</td>\n",
       "    </tr>\n",
       "    <tr>\n",
       "      <th>27</th>\n",
       "      <td>885</td>\n",
       "      <td>18</td>\n",
       "      <td>0.025</td>\n",
       "      <td>0.005</td>\n",
       "      <td>0.986978</td>\n",
       "    </tr>\n",
       "    <tr>\n",
       "      <th>28</th>\n",
       "      <td>575</td>\n",
       "      <td>40</td>\n",
       "      <td>0.001</td>\n",
       "      <td>0.015</td>\n",
       "      <td>0.990591</td>\n",
       "    </tr>\n",
       "    <tr>\n",
       "      <th>29</th>\n",
       "      <td>998</td>\n",
       "      <td>7</td>\n",
       "      <td>0.002</td>\n",
       "      <td>0.060</td>\n",
       "      <td>1.039873</td>\n",
       "    </tr>\n",
       "  </tbody>\n",
       "</table>\n",
       "</div>"
      ],
      "text/plain": [
       "    n_factors  n_epochs  lr_all  reg_all  mean_test_rmse\n",
       "0         217        35   0.025    0.070        0.927833\n",
       "1         430        41   0.031    0.070        0.929292\n",
       "2         171        27   0.049    0.020        0.931304\n",
       "3         502        32   0.024    0.070        0.932533\n",
       "4         404        34   0.025    0.050        0.932603\n",
       "5         751        21   0.043    0.095        0.934008\n",
       "6         551        48   0.012    0.095        0.934979\n",
       "7         203        30   0.014    0.010        0.935073\n",
       "8         276        37   0.047    0.010        0.935154\n",
       "9         338         8   0.026    0.090        0.935948\n",
       "10        307         5   0.023    0.035        0.939945\n",
       "11        390        17   0.024    0.025        0.942394\n",
       "12         33        25   0.022    0.030        0.943818\n",
       "13        926        46   0.015    0.045        0.956176\n",
       "14        448         9   0.011    0.010        0.956689\n",
       "15        521         8   0.048    0.005        0.957935\n",
       "16        607        15   0.041    0.010        0.960942\n",
       "17        322        27   0.002    0.065        0.961112\n",
       "18        718        29   0.037    0.010        0.963344\n",
       "19        623        26   0.028    0.005        0.963385\n",
       "20        655        25   0.049    0.005        0.964655\n",
       "21        908        37   0.008    0.065        0.966724\n",
       "22        761        32   0.008    0.030        0.969154\n",
       "23        950        15   0.014    0.085        0.970000\n",
       "24        834        37   0.003    0.075        0.979482\n",
       "25        976        46   0.040    0.005        0.979787\n",
       "26        997        25   0.004    0.085        0.986679\n",
       "27        885        18   0.025    0.005        0.986978\n",
       "28        575        40   0.001    0.015        0.990591\n",
       "29        998         7   0.002    0.060        1.039873"
      ]
     },
     "execution_count": 28,
     "metadata": {},
     "output_type": "execute_result"
    }
   ],
   "source": [
    "#Limpiamos los nombres de los campos\n",
    "resultados = resultados.rename(shorten_param, axis=1)\n",
    "resultados.reset_index(inplace=True,drop=True)\n",
    "resultados"
   ]
  },
  {
   "cell_type": "code",
   "execution_count": 29,
   "metadata": {},
   "outputs": [
    {
     "data": {
      "application/vnd.plotly.v1+json": {
       "config": {
        "plotlyServerURL": "https://plot.ly"
       },
       "data": [
        {
         "dimensions": [
          {
           "label": "n_factors",
           "values": [
            217,
            430,
            171,
            502,
            404,
            751,
            551,
            203,
            276,
            338,
            307,
            390,
            33,
            926,
            448,
            521,
            607,
            322,
            718,
            623,
            655,
            908,
            761,
            950,
            834,
            976,
            997,
            885,
            575,
            998
           ]
          },
          {
           "label": "n_epochs",
           "values": [
            35,
            41,
            27,
            32,
            34,
            21,
            48,
            30,
            37,
            8,
            5,
            17,
            25,
            46,
            9,
            8,
            15,
            27,
            29,
            26,
            25,
            37,
            32,
            15,
            37,
            46,
            25,
            18,
            40,
            7
           ]
          },
          {
           "label": "lr_all",
           "values": [
            0.025,
            0.031,
            0.049,
            0.024,
            0.025,
            0.043000000000000003,
            0.012,
            0.014000000000000002,
            0.047,
            0.026000000000000002,
            0.023,
            0.024,
            0.022000000000000002,
            0.015,
            0.011,
            0.048,
            0.041,
            0.002,
            0.037000000000000005,
            0.028,
            0.049,
            0.008,
            0.008,
            0.014000000000000002,
            0.003,
            0.04,
            0.004,
            0.025,
            0.001,
            0.002
           ]
          },
          {
           "label": "reg_all",
           "values": [
            0.07,
            0.07,
            0.02,
            0.07,
            0.049999999999999996,
            0.095,
            0.095,
            0.01,
            0.01,
            0.09000000000000001,
            0.034999999999999996,
            0.025,
            0.030000000000000002,
            0.045,
            0.01,
            0.005,
            0.01,
            0.065,
            0.01,
            0.005,
            0.005,
            0.065,
            0.030000000000000002,
            0.085,
            0.07500000000000001,
            0.005,
            0.085,
            0.005,
            0.015,
            0.06
           ]
          },
          {
           "label": "mean_test_rmse",
           "values": [
            0.9278329603191012,
            0.92929155297553,
            0.9313038187877991,
            0.9325334844047214,
            0.932603304709602,
            0.9340080573116915,
            0.9349793235867958,
            0.9350732111489556,
            0.9351538905360316,
            0.9359484578920805,
            0.9399451032629423,
            0.942394000983418,
            0.9438182939562703,
            0.9561761646302286,
            0.9566892806961311,
            0.9579350019525728,
            0.9609423444905261,
            0.961111866059761,
            0.9633435960890876,
            0.9633845606058963,
            0.9646549692129183,
            0.9667240760136507,
            0.9691537973829293,
            0.9700003035165573,
            0.9794815170374175,
            0.9797869147627609,
            0.9866790026499315,
            0.9869777215547416,
            0.9905905846811579,
            1.0398727219081685
           ]
          }
         ],
         "domain": {
          "x": [
           0,
           1
          ],
          "y": [
           0,
           1
          ]
         },
         "line": {
          "color": [
           0.9278329603191012,
           0.92929155297553,
           0.9313038187877991,
           0.9325334844047214,
           0.932603304709602,
           0.9340080573116915,
           0.9349793235867958,
           0.9350732111489556,
           0.9351538905360316,
           0.9359484578920805,
           0.9399451032629423,
           0.942394000983418,
           0.9438182939562703,
           0.9561761646302286,
           0.9566892806961311,
           0.9579350019525728,
           0.9609423444905261,
           0.961111866059761,
           0.9633435960890876,
           0.9633845606058963,
           0.9646549692129183,
           0.9667240760136507,
           0.9691537973829293,
           0.9700003035165573,
           0.9794815170374175,
           0.9797869147627609,
           0.9866790026499315,
           0.9869777215547416,
           0.9905905846811579,
           1.0398727219081685
          ],
          "coloraxis": "coloraxis"
         },
         "name": "",
         "type": "parcoords"
        }
       ],
       "layout": {
        "coloraxis": {
         "colorbar": {
          "title": {
           "text": "mean_test_rmse"
          }
         },
         "colorscale": [
          [
           0,
           "#440154"
          ],
          [
           0.1111111111111111,
           "#482878"
          ],
          [
           0.2222222222222222,
           "#3e4989"
          ],
          [
           0.3333333333333333,
           "#31688e"
          ],
          [
           0.4444444444444444,
           "#26828e"
          ],
          [
           0.5555555555555556,
           "#1f9e89"
          ],
          [
           0.6666666666666666,
           "#35b779"
          ],
          [
           0.7777777777777778,
           "#6ece58"
          ],
          [
           0.8888888888888888,
           "#b5de2b"
          ],
          [
           1,
           "#fde725"
          ]
         ]
        },
        "legend": {
         "tracegroupgap": 0
        },
        "margin": {
         "t": 60
        },
        "template": {
         "data": {
          "bar": [
           {
            "error_x": {
             "color": "#2a3f5f"
            },
            "error_y": {
             "color": "#2a3f5f"
            },
            "marker": {
             "line": {
              "color": "#E5ECF6",
              "width": 0.5
             },
             "pattern": {
              "fillmode": "overlay",
              "size": 10,
              "solidity": 0.2
             }
            },
            "type": "bar"
           }
          ],
          "barpolar": [
           {
            "marker": {
             "line": {
              "color": "#E5ECF6",
              "width": 0.5
             },
             "pattern": {
              "fillmode": "overlay",
              "size": 10,
              "solidity": 0.2
             }
            },
            "type": "barpolar"
           }
          ],
          "carpet": [
           {
            "aaxis": {
             "endlinecolor": "#2a3f5f",
             "gridcolor": "white",
             "linecolor": "white",
             "minorgridcolor": "white",
             "startlinecolor": "#2a3f5f"
            },
            "baxis": {
             "endlinecolor": "#2a3f5f",
             "gridcolor": "white",
             "linecolor": "white",
             "minorgridcolor": "white",
             "startlinecolor": "#2a3f5f"
            },
            "type": "carpet"
           }
          ],
          "choropleth": [
           {
            "colorbar": {
             "outlinewidth": 0,
             "ticks": ""
            },
            "type": "choropleth"
           }
          ],
          "contour": [
           {
            "colorbar": {
             "outlinewidth": 0,
             "ticks": ""
            },
            "colorscale": [
             [
              0,
              "#0d0887"
             ],
             [
              0.1111111111111111,
              "#46039f"
             ],
             [
              0.2222222222222222,
              "#7201a8"
             ],
             [
              0.3333333333333333,
              "#9c179e"
             ],
             [
              0.4444444444444444,
              "#bd3786"
             ],
             [
              0.5555555555555556,
              "#d8576b"
             ],
             [
              0.6666666666666666,
              "#ed7953"
             ],
             [
              0.7777777777777778,
              "#fb9f3a"
             ],
             [
              0.8888888888888888,
              "#fdca26"
             ],
             [
              1,
              "#f0f921"
             ]
            ],
            "type": "contour"
           }
          ],
          "contourcarpet": [
           {
            "colorbar": {
             "outlinewidth": 0,
             "ticks": ""
            },
            "type": "contourcarpet"
           }
          ],
          "heatmap": [
           {
            "colorbar": {
             "outlinewidth": 0,
             "ticks": ""
            },
            "colorscale": [
             [
              0,
              "#0d0887"
             ],
             [
              0.1111111111111111,
              "#46039f"
             ],
             [
              0.2222222222222222,
              "#7201a8"
             ],
             [
              0.3333333333333333,
              "#9c179e"
             ],
             [
              0.4444444444444444,
              "#bd3786"
             ],
             [
              0.5555555555555556,
              "#d8576b"
             ],
             [
              0.6666666666666666,
              "#ed7953"
             ],
             [
              0.7777777777777778,
              "#fb9f3a"
             ],
             [
              0.8888888888888888,
              "#fdca26"
             ],
             [
              1,
              "#f0f921"
             ]
            ],
            "type": "heatmap"
           }
          ],
          "heatmapgl": [
           {
            "colorbar": {
             "outlinewidth": 0,
             "ticks": ""
            },
            "colorscale": [
             [
              0,
              "#0d0887"
             ],
             [
              0.1111111111111111,
              "#46039f"
             ],
             [
              0.2222222222222222,
              "#7201a8"
             ],
             [
              0.3333333333333333,
              "#9c179e"
             ],
             [
              0.4444444444444444,
              "#bd3786"
             ],
             [
              0.5555555555555556,
              "#d8576b"
             ],
             [
              0.6666666666666666,
              "#ed7953"
             ],
             [
              0.7777777777777778,
              "#fb9f3a"
             ],
             [
              0.8888888888888888,
              "#fdca26"
             ],
             [
              1,
              "#f0f921"
             ]
            ],
            "type": "heatmapgl"
           }
          ],
          "histogram": [
           {
            "marker": {
             "pattern": {
              "fillmode": "overlay",
              "size": 10,
              "solidity": 0.2
             }
            },
            "type": "histogram"
           }
          ],
          "histogram2d": [
           {
            "colorbar": {
             "outlinewidth": 0,
             "ticks": ""
            },
            "colorscale": [
             [
              0,
              "#0d0887"
             ],
             [
              0.1111111111111111,
              "#46039f"
             ],
             [
              0.2222222222222222,
              "#7201a8"
             ],
             [
              0.3333333333333333,
              "#9c179e"
             ],
             [
              0.4444444444444444,
              "#bd3786"
             ],
             [
              0.5555555555555556,
              "#d8576b"
             ],
             [
              0.6666666666666666,
              "#ed7953"
             ],
             [
              0.7777777777777778,
              "#fb9f3a"
             ],
             [
              0.8888888888888888,
              "#fdca26"
             ],
             [
              1,
              "#f0f921"
             ]
            ],
            "type": "histogram2d"
           }
          ],
          "histogram2dcontour": [
           {
            "colorbar": {
             "outlinewidth": 0,
             "ticks": ""
            },
            "colorscale": [
             [
              0,
              "#0d0887"
             ],
             [
              0.1111111111111111,
              "#46039f"
             ],
             [
              0.2222222222222222,
              "#7201a8"
             ],
             [
              0.3333333333333333,
              "#9c179e"
             ],
             [
              0.4444444444444444,
              "#bd3786"
             ],
             [
              0.5555555555555556,
              "#d8576b"
             ],
             [
              0.6666666666666666,
              "#ed7953"
             ],
             [
              0.7777777777777778,
              "#fb9f3a"
             ],
             [
              0.8888888888888888,
              "#fdca26"
             ],
             [
              1,
              "#f0f921"
             ]
            ],
            "type": "histogram2dcontour"
           }
          ],
          "mesh3d": [
           {
            "colorbar": {
             "outlinewidth": 0,
             "ticks": ""
            },
            "type": "mesh3d"
           }
          ],
          "parcoords": [
           {
            "line": {
             "colorbar": {
              "outlinewidth": 0,
              "ticks": ""
             }
            },
            "type": "parcoords"
           }
          ],
          "pie": [
           {
            "automargin": true,
            "type": "pie"
           }
          ],
          "scatter": [
           {
            "fillpattern": {
             "fillmode": "overlay",
             "size": 10,
             "solidity": 0.2
            },
            "type": "scatter"
           }
          ],
          "scatter3d": [
           {
            "line": {
             "colorbar": {
              "outlinewidth": 0,
              "ticks": ""
             }
            },
            "marker": {
             "colorbar": {
              "outlinewidth": 0,
              "ticks": ""
             }
            },
            "type": "scatter3d"
           }
          ],
          "scattercarpet": [
           {
            "marker": {
             "colorbar": {
              "outlinewidth": 0,
              "ticks": ""
             }
            },
            "type": "scattercarpet"
           }
          ],
          "scattergeo": [
           {
            "marker": {
             "colorbar": {
              "outlinewidth": 0,
              "ticks": ""
             }
            },
            "type": "scattergeo"
           }
          ],
          "scattergl": [
           {
            "marker": {
             "colorbar": {
              "outlinewidth": 0,
              "ticks": ""
             }
            },
            "type": "scattergl"
           }
          ],
          "scattermapbox": [
           {
            "marker": {
             "colorbar": {
              "outlinewidth": 0,
              "ticks": ""
             }
            },
            "type": "scattermapbox"
           }
          ],
          "scatterpolar": [
           {
            "marker": {
             "colorbar": {
              "outlinewidth": 0,
              "ticks": ""
             }
            },
            "type": "scatterpolar"
           }
          ],
          "scatterpolargl": [
           {
            "marker": {
             "colorbar": {
              "outlinewidth": 0,
              "ticks": ""
             }
            },
            "type": "scatterpolargl"
           }
          ],
          "scatterternary": [
           {
            "marker": {
             "colorbar": {
              "outlinewidth": 0,
              "ticks": ""
             }
            },
            "type": "scatterternary"
           }
          ],
          "surface": [
           {
            "colorbar": {
             "outlinewidth": 0,
             "ticks": ""
            },
            "colorscale": [
             [
              0,
              "#0d0887"
             ],
             [
              0.1111111111111111,
              "#46039f"
             ],
             [
              0.2222222222222222,
              "#7201a8"
             ],
             [
              0.3333333333333333,
              "#9c179e"
             ],
             [
              0.4444444444444444,
              "#bd3786"
             ],
             [
              0.5555555555555556,
              "#d8576b"
             ],
             [
              0.6666666666666666,
              "#ed7953"
             ],
             [
              0.7777777777777778,
              "#fb9f3a"
             ],
             [
              0.8888888888888888,
              "#fdca26"
             ],
             [
              1,
              "#f0f921"
             ]
            ],
            "type": "surface"
           }
          ],
          "table": [
           {
            "cells": {
             "fill": {
              "color": "#EBF0F8"
             },
             "line": {
              "color": "white"
             }
            },
            "header": {
             "fill": {
              "color": "#C8D4E3"
             },
             "line": {
              "color": "white"
             }
            },
            "type": "table"
           }
          ]
         },
         "layout": {
          "annotationdefaults": {
           "arrowcolor": "#2a3f5f",
           "arrowhead": 0,
           "arrowwidth": 1
          },
          "autotypenumbers": "strict",
          "coloraxis": {
           "colorbar": {
            "outlinewidth": 0,
            "ticks": ""
           }
          },
          "colorscale": {
           "diverging": [
            [
             0,
             "#8e0152"
            ],
            [
             0.1,
             "#c51b7d"
            ],
            [
             0.2,
             "#de77ae"
            ],
            [
             0.3,
             "#f1b6da"
            ],
            [
             0.4,
             "#fde0ef"
            ],
            [
             0.5,
             "#f7f7f7"
            ],
            [
             0.6,
             "#e6f5d0"
            ],
            [
             0.7,
             "#b8e186"
            ],
            [
             0.8,
             "#7fbc41"
            ],
            [
             0.9,
             "#4d9221"
            ],
            [
             1,
             "#276419"
            ]
           ],
           "sequential": [
            [
             0,
             "#0d0887"
            ],
            [
             0.1111111111111111,
             "#46039f"
            ],
            [
             0.2222222222222222,
             "#7201a8"
            ],
            [
             0.3333333333333333,
             "#9c179e"
            ],
            [
             0.4444444444444444,
             "#bd3786"
            ],
            [
             0.5555555555555556,
             "#d8576b"
            ],
            [
             0.6666666666666666,
             "#ed7953"
            ],
            [
             0.7777777777777778,
             "#fb9f3a"
            ],
            [
             0.8888888888888888,
             "#fdca26"
            ],
            [
             1,
             "#f0f921"
            ]
           ],
           "sequentialminus": [
            [
             0,
             "#0d0887"
            ],
            [
             0.1111111111111111,
             "#46039f"
            ],
            [
             0.2222222222222222,
             "#7201a8"
            ],
            [
             0.3333333333333333,
             "#9c179e"
            ],
            [
             0.4444444444444444,
             "#bd3786"
            ],
            [
             0.5555555555555556,
             "#d8576b"
            ],
            [
             0.6666666666666666,
             "#ed7953"
            ],
            [
             0.7777777777777778,
             "#fb9f3a"
            ],
            [
             0.8888888888888888,
             "#fdca26"
            ],
            [
             1,
             "#f0f921"
            ]
           ]
          },
          "colorway": [
           "#636efa",
           "#EF553B",
           "#00cc96",
           "#ab63fa",
           "#FFA15A",
           "#19d3f3",
           "#FF6692",
           "#B6E880",
           "#FF97FF",
           "#FECB52"
          ],
          "font": {
           "color": "#2a3f5f"
          },
          "geo": {
           "bgcolor": "white",
           "lakecolor": "white",
           "landcolor": "#E5ECF6",
           "showlakes": true,
           "showland": true,
           "subunitcolor": "white"
          },
          "hoverlabel": {
           "align": "left"
          },
          "hovermode": "closest",
          "mapbox": {
           "style": "light"
          },
          "paper_bgcolor": "white",
          "plot_bgcolor": "#E5ECF6",
          "polar": {
           "angularaxis": {
            "gridcolor": "white",
            "linecolor": "white",
            "ticks": ""
           },
           "bgcolor": "#E5ECF6",
           "radialaxis": {
            "gridcolor": "white",
            "linecolor": "white",
            "ticks": ""
           }
          },
          "scene": {
           "xaxis": {
            "backgroundcolor": "#E5ECF6",
            "gridcolor": "white",
            "gridwidth": 2,
            "linecolor": "white",
            "showbackground": true,
            "ticks": "",
            "zerolinecolor": "white"
           },
           "yaxis": {
            "backgroundcolor": "#E5ECF6",
            "gridcolor": "white",
            "gridwidth": 2,
            "linecolor": "white",
            "showbackground": true,
            "ticks": "",
            "zerolinecolor": "white"
           },
           "zaxis": {
            "backgroundcolor": "#E5ECF6",
            "gridcolor": "white",
            "gridwidth": 2,
            "linecolor": "white",
            "showbackground": true,
            "ticks": "",
            "zerolinecolor": "white"
           }
          },
          "shapedefaults": {
           "line": {
            "color": "#2a3f5f"
           }
          },
          "ternary": {
           "aaxis": {
            "gridcolor": "white",
            "linecolor": "white",
            "ticks": ""
           },
           "baxis": {
            "gridcolor": "white",
            "linecolor": "white",
            "ticks": ""
           },
           "bgcolor": "#E5ECF6",
           "caxis": {
            "gridcolor": "white",
            "linecolor": "white",
            "ticks": ""
           }
          },
          "title": {
           "x": 0.05
          },
          "xaxis": {
           "automargin": true,
           "gridcolor": "white",
           "linecolor": "white",
           "ticks": "",
           "title": {
            "standoff": 15
           },
           "zerolinecolor": "white",
           "zerolinewidth": 2
          },
          "yaxis": {
           "automargin": true,
           "gridcolor": "white",
           "linecolor": "white",
           "ticks": "",
           "title": {
            "standoff": 15
           },
           "zerolinecolor": "white",
           "zerolinewidth": 2
          }
         }
        }
       }
      },
      "text/html": [
       "<div>                            <div id=\"79dcd167-40ac-42df-8f59-5e968f47e806\" class=\"plotly-graph-div\" style=\"height:525px; width:100%;\"></div>            <script type=\"text/javascript\">                require([\"plotly\"], function(Plotly) {                    window.PLOTLYENV=window.PLOTLYENV || {};                                    if (document.getElementById(\"79dcd167-40ac-42df-8f59-5e968f47e806\")) {                    Plotly.newPlot(                        \"79dcd167-40ac-42df-8f59-5e968f47e806\",                        [{\"dimensions\":[{\"label\":\"n_factors\",\"values\":[217,430,171,502,404,751,551,203,276,338,307,390,33,926,448,521,607,322,718,623,655,908,761,950,834,976,997,885,575,998]},{\"label\":\"n_epochs\",\"values\":[35,41,27,32,34,21,48,30,37,8,5,17,25,46,9,8,15,27,29,26,25,37,32,15,37,46,25,18,40,7]},{\"label\":\"lr_all\",\"values\":[0.025,0.031,0.049,0.024,0.025,0.043000000000000003,0.012,0.014000000000000002,0.047,0.026000000000000002,0.023,0.024,0.022000000000000002,0.015,0.011,0.048,0.041,0.002,0.037000000000000005,0.028,0.049,0.008,0.008,0.014000000000000002,0.003,0.04,0.004,0.025,0.001,0.002]},{\"label\":\"reg_all\",\"values\":[0.07,0.07,0.02,0.07,0.049999999999999996,0.095,0.095,0.01,0.01,0.09000000000000001,0.034999999999999996,0.025,0.030000000000000002,0.045,0.01,0.005,0.01,0.065,0.01,0.005,0.005,0.065,0.030000000000000002,0.085,0.07500000000000001,0.005,0.085,0.005,0.015,0.06]},{\"label\":\"mean_test_rmse\",\"values\":[0.9278329603191012,0.92929155297553,0.9313038187877991,0.9325334844047214,0.932603304709602,0.9340080573116915,0.9349793235867958,0.9350732111489556,0.9351538905360316,0.9359484578920805,0.9399451032629423,0.942394000983418,0.9438182939562703,0.9561761646302286,0.9566892806961311,0.9579350019525728,0.9609423444905261,0.961111866059761,0.9633435960890876,0.9633845606058963,0.9646549692129183,0.9667240760136507,0.9691537973829293,0.9700003035165573,0.9794815170374175,0.9797869147627609,0.9866790026499315,0.9869777215547416,0.9905905846811579,1.0398727219081685]}],\"domain\":{\"x\":[0.0,1.0],\"y\":[0.0,1.0]},\"line\":{\"color\":[0.9278329603191012,0.92929155297553,0.9313038187877991,0.9325334844047214,0.932603304709602,0.9340080573116915,0.9349793235867958,0.9350732111489556,0.9351538905360316,0.9359484578920805,0.9399451032629423,0.942394000983418,0.9438182939562703,0.9561761646302286,0.9566892806961311,0.9579350019525728,0.9609423444905261,0.961111866059761,0.9633435960890876,0.9633845606058963,0.9646549692129183,0.9667240760136507,0.9691537973829293,0.9700003035165573,0.9794815170374175,0.9797869147627609,0.9866790026499315,0.9869777215547416,0.9905905846811579,1.0398727219081685],\"coloraxis\":\"coloraxis\"},\"name\":\"\",\"type\":\"parcoords\"}],                        {\"template\":{\"data\":{\"histogram2dcontour\":[{\"type\":\"histogram2dcontour\",\"colorbar\":{\"outlinewidth\":0,\"ticks\":\"\"},\"colorscale\":[[0.0,\"#0d0887\"],[0.1111111111111111,\"#46039f\"],[0.2222222222222222,\"#7201a8\"],[0.3333333333333333,\"#9c179e\"],[0.4444444444444444,\"#bd3786\"],[0.5555555555555556,\"#d8576b\"],[0.6666666666666666,\"#ed7953\"],[0.7777777777777778,\"#fb9f3a\"],[0.8888888888888888,\"#fdca26\"],[1.0,\"#f0f921\"]]}],\"choropleth\":[{\"type\":\"choropleth\",\"colorbar\":{\"outlinewidth\":0,\"ticks\":\"\"}}],\"histogram2d\":[{\"type\":\"histogram2d\",\"colorbar\":{\"outlinewidth\":0,\"ticks\":\"\"},\"colorscale\":[[0.0,\"#0d0887\"],[0.1111111111111111,\"#46039f\"],[0.2222222222222222,\"#7201a8\"],[0.3333333333333333,\"#9c179e\"],[0.4444444444444444,\"#bd3786\"],[0.5555555555555556,\"#d8576b\"],[0.6666666666666666,\"#ed7953\"],[0.7777777777777778,\"#fb9f3a\"],[0.8888888888888888,\"#fdca26\"],[1.0,\"#f0f921\"]]}],\"heatmap\":[{\"type\":\"heatmap\",\"colorbar\":{\"outlinewidth\":0,\"ticks\":\"\"},\"colorscale\":[[0.0,\"#0d0887\"],[0.1111111111111111,\"#46039f\"],[0.2222222222222222,\"#7201a8\"],[0.3333333333333333,\"#9c179e\"],[0.4444444444444444,\"#bd3786\"],[0.5555555555555556,\"#d8576b\"],[0.6666666666666666,\"#ed7953\"],[0.7777777777777778,\"#fb9f3a\"],[0.8888888888888888,\"#fdca26\"],[1.0,\"#f0f921\"]]}],\"heatmapgl\":[{\"type\":\"heatmapgl\",\"colorbar\":{\"outlinewidth\":0,\"ticks\":\"\"},\"colorscale\":[[0.0,\"#0d0887\"],[0.1111111111111111,\"#46039f\"],[0.2222222222222222,\"#7201a8\"],[0.3333333333333333,\"#9c179e\"],[0.4444444444444444,\"#bd3786\"],[0.5555555555555556,\"#d8576b\"],[0.6666666666666666,\"#ed7953\"],[0.7777777777777778,\"#fb9f3a\"],[0.8888888888888888,\"#fdca26\"],[1.0,\"#f0f921\"]]}],\"contourcarpet\":[{\"type\":\"contourcarpet\",\"colorbar\":{\"outlinewidth\":0,\"ticks\":\"\"}}],\"contour\":[{\"type\":\"contour\",\"colorbar\":{\"outlinewidth\":0,\"ticks\":\"\"},\"colorscale\":[[0.0,\"#0d0887\"],[0.1111111111111111,\"#46039f\"],[0.2222222222222222,\"#7201a8\"],[0.3333333333333333,\"#9c179e\"],[0.4444444444444444,\"#bd3786\"],[0.5555555555555556,\"#d8576b\"],[0.6666666666666666,\"#ed7953\"],[0.7777777777777778,\"#fb9f3a\"],[0.8888888888888888,\"#fdca26\"],[1.0,\"#f0f921\"]]}],\"surface\":[{\"type\":\"surface\",\"colorbar\":{\"outlinewidth\":0,\"ticks\":\"\"},\"colorscale\":[[0.0,\"#0d0887\"],[0.1111111111111111,\"#46039f\"],[0.2222222222222222,\"#7201a8\"],[0.3333333333333333,\"#9c179e\"],[0.4444444444444444,\"#bd3786\"],[0.5555555555555556,\"#d8576b\"],[0.6666666666666666,\"#ed7953\"],[0.7777777777777778,\"#fb9f3a\"],[0.8888888888888888,\"#fdca26\"],[1.0,\"#f0f921\"]]}],\"mesh3d\":[{\"type\":\"mesh3d\",\"colorbar\":{\"outlinewidth\":0,\"ticks\":\"\"}}],\"scatter\":[{\"fillpattern\":{\"fillmode\":\"overlay\",\"size\":10,\"solidity\":0.2},\"type\":\"scatter\"}],\"parcoords\":[{\"type\":\"parcoords\",\"line\":{\"colorbar\":{\"outlinewidth\":0,\"ticks\":\"\"}}}],\"scatterpolargl\":[{\"type\":\"scatterpolargl\",\"marker\":{\"colorbar\":{\"outlinewidth\":0,\"ticks\":\"\"}}}],\"bar\":[{\"error_x\":{\"color\":\"#2a3f5f\"},\"error_y\":{\"color\":\"#2a3f5f\"},\"marker\":{\"line\":{\"color\":\"#E5ECF6\",\"width\":0.5},\"pattern\":{\"fillmode\":\"overlay\",\"size\":10,\"solidity\":0.2}},\"type\":\"bar\"}],\"scattergeo\":[{\"type\":\"scattergeo\",\"marker\":{\"colorbar\":{\"outlinewidth\":0,\"ticks\":\"\"}}}],\"scatterpolar\":[{\"type\":\"scatterpolar\",\"marker\":{\"colorbar\":{\"outlinewidth\":0,\"ticks\":\"\"}}}],\"histogram\":[{\"marker\":{\"pattern\":{\"fillmode\":\"overlay\",\"size\":10,\"solidity\":0.2}},\"type\":\"histogram\"}],\"scattergl\":[{\"type\":\"scattergl\",\"marker\":{\"colorbar\":{\"outlinewidth\":0,\"ticks\":\"\"}}}],\"scatter3d\":[{\"type\":\"scatter3d\",\"line\":{\"colorbar\":{\"outlinewidth\":0,\"ticks\":\"\"}},\"marker\":{\"colorbar\":{\"outlinewidth\":0,\"ticks\":\"\"}}}],\"scattermapbox\":[{\"type\":\"scattermapbox\",\"marker\":{\"colorbar\":{\"outlinewidth\":0,\"ticks\":\"\"}}}],\"scatterternary\":[{\"type\":\"scatterternary\",\"marker\":{\"colorbar\":{\"outlinewidth\":0,\"ticks\":\"\"}}}],\"scattercarpet\":[{\"type\":\"scattercarpet\",\"marker\":{\"colorbar\":{\"outlinewidth\":0,\"ticks\":\"\"}}}],\"carpet\":[{\"aaxis\":{\"endlinecolor\":\"#2a3f5f\",\"gridcolor\":\"white\",\"linecolor\":\"white\",\"minorgridcolor\":\"white\",\"startlinecolor\":\"#2a3f5f\"},\"baxis\":{\"endlinecolor\":\"#2a3f5f\",\"gridcolor\":\"white\",\"linecolor\":\"white\",\"minorgridcolor\":\"white\",\"startlinecolor\":\"#2a3f5f\"},\"type\":\"carpet\"}],\"table\":[{\"cells\":{\"fill\":{\"color\":\"#EBF0F8\"},\"line\":{\"color\":\"white\"}},\"header\":{\"fill\":{\"color\":\"#C8D4E3\"},\"line\":{\"color\":\"white\"}},\"type\":\"table\"}],\"barpolar\":[{\"marker\":{\"line\":{\"color\":\"#E5ECF6\",\"width\":0.5},\"pattern\":{\"fillmode\":\"overlay\",\"size\":10,\"solidity\":0.2}},\"type\":\"barpolar\"}],\"pie\":[{\"automargin\":true,\"type\":\"pie\"}]},\"layout\":{\"autotypenumbers\":\"strict\",\"colorway\":[\"#636efa\",\"#EF553B\",\"#00cc96\",\"#ab63fa\",\"#FFA15A\",\"#19d3f3\",\"#FF6692\",\"#B6E880\",\"#FF97FF\",\"#FECB52\"],\"font\":{\"color\":\"#2a3f5f\"},\"hovermode\":\"closest\",\"hoverlabel\":{\"align\":\"left\"},\"paper_bgcolor\":\"white\",\"plot_bgcolor\":\"#E5ECF6\",\"polar\":{\"bgcolor\":\"#E5ECF6\",\"angularaxis\":{\"gridcolor\":\"white\",\"linecolor\":\"white\",\"ticks\":\"\"},\"radialaxis\":{\"gridcolor\":\"white\",\"linecolor\":\"white\",\"ticks\":\"\"}},\"ternary\":{\"bgcolor\":\"#E5ECF6\",\"aaxis\":{\"gridcolor\":\"white\",\"linecolor\":\"white\",\"ticks\":\"\"},\"baxis\":{\"gridcolor\":\"white\",\"linecolor\":\"white\",\"ticks\":\"\"},\"caxis\":{\"gridcolor\":\"white\",\"linecolor\":\"white\",\"ticks\":\"\"}},\"coloraxis\":{\"colorbar\":{\"outlinewidth\":0,\"ticks\":\"\"}},\"colorscale\":{\"sequential\":[[0.0,\"#0d0887\"],[0.1111111111111111,\"#46039f\"],[0.2222222222222222,\"#7201a8\"],[0.3333333333333333,\"#9c179e\"],[0.4444444444444444,\"#bd3786\"],[0.5555555555555556,\"#d8576b\"],[0.6666666666666666,\"#ed7953\"],[0.7777777777777778,\"#fb9f3a\"],[0.8888888888888888,\"#fdca26\"],[1.0,\"#f0f921\"]],\"sequentialminus\":[[0.0,\"#0d0887\"],[0.1111111111111111,\"#46039f\"],[0.2222222222222222,\"#7201a8\"],[0.3333333333333333,\"#9c179e\"],[0.4444444444444444,\"#bd3786\"],[0.5555555555555556,\"#d8576b\"],[0.6666666666666666,\"#ed7953\"],[0.7777777777777778,\"#fb9f3a\"],[0.8888888888888888,\"#fdca26\"],[1.0,\"#f0f921\"]],\"diverging\":[[0,\"#8e0152\"],[0.1,\"#c51b7d\"],[0.2,\"#de77ae\"],[0.3,\"#f1b6da\"],[0.4,\"#fde0ef\"],[0.5,\"#f7f7f7\"],[0.6,\"#e6f5d0\"],[0.7,\"#b8e186\"],[0.8,\"#7fbc41\"],[0.9,\"#4d9221\"],[1,\"#276419\"]]},\"xaxis\":{\"gridcolor\":\"white\",\"linecolor\":\"white\",\"ticks\":\"\",\"title\":{\"standoff\":15},\"zerolinecolor\":\"white\",\"automargin\":true,\"zerolinewidth\":2},\"yaxis\":{\"gridcolor\":\"white\",\"linecolor\":\"white\",\"ticks\":\"\",\"title\":{\"standoff\":15},\"zerolinecolor\":\"white\",\"automargin\":true,\"zerolinewidth\":2},\"scene\":{\"xaxis\":{\"backgroundcolor\":\"#E5ECF6\",\"gridcolor\":\"white\",\"linecolor\":\"white\",\"showbackground\":true,\"ticks\":\"\",\"zerolinecolor\":\"white\",\"gridwidth\":2},\"yaxis\":{\"backgroundcolor\":\"#E5ECF6\",\"gridcolor\":\"white\",\"linecolor\":\"white\",\"showbackground\":true,\"ticks\":\"\",\"zerolinecolor\":\"white\",\"gridwidth\":2},\"zaxis\":{\"backgroundcolor\":\"#E5ECF6\",\"gridcolor\":\"white\",\"linecolor\":\"white\",\"showbackground\":true,\"ticks\":\"\",\"zerolinecolor\":\"white\",\"gridwidth\":2}},\"shapedefaults\":{\"line\":{\"color\":\"#2a3f5f\"}},\"annotationdefaults\":{\"arrowcolor\":\"#2a3f5f\",\"arrowhead\":0,\"arrowwidth\":1},\"geo\":{\"bgcolor\":\"white\",\"landcolor\":\"#E5ECF6\",\"subunitcolor\":\"white\",\"showland\":true,\"showlakes\":true,\"lakecolor\":\"white\"},\"title\":{\"x\":0.05},\"mapbox\":{\"style\":\"light\"}}},\"coloraxis\":{\"colorbar\":{\"title\":{\"text\":\"mean_test_rmse\"}},\"colorscale\":[[0.0,\"#440154\"],[0.1111111111111111,\"#482878\"],[0.2222222222222222,\"#3e4989\"],[0.3333333333333333,\"#31688e\"],[0.4444444444444444,\"#26828e\"],[0.5555555555555556,\"#1f9e89\"],[0.6666666666666666,\"#35b779\"],[0.7777777777777778,\"#6ece58\"],[0.8888888888888888,\"#b5de2b\"],[1.0,\"#fde725\"]]},\"legend\":{\"tracegroupgap\":0},\"margin\":{\"t\":60}},                        {\"responsive\": true}                    ).then(function(){\n",
       "                            \n",
       "var gd = document.getElementById('79dcd167-40ac-42df-8f59-5e968f47e806');\n",
       "var x = new MutationObserver(function (mutations, observer) {{\n",
       "        var display = window.getComputedStyle(gd).display;\n",
       "        if (!display || display === 'none') {{\n",
       "            console.log([gd, 'removed!']);\n",
       "            Plotly.purge(gd);\n",
       "            observer.disconnect();\n",
       "        }}\n",
       "}});\n",
       "\n",
       "// Listen for the removal of the full notebook cells\n",
       "var notebookContainer = gd.closest('#notebook-container');\n",
       "if (notebookContainer) {{\n",
       "    x.observe(notebookContainer, {childList: true});\n",
       "}}\n",
       "\n",
       "// Listen for the clearing of the current output cell\n",
       "var outputEl = gd.closest('.output');\n",
       "if (outputEl) {{\n",
       "    x.observe(outputEl, {childList: true});\n",
       "}}\n",
       "\n",
       "                        })                };                });            </script>        </div>"
      ]
     },
     "metadata": {},
     "output_type": "display_data"
    }
   ],
   "source": [
    "#Ploteamos las dependencias de cada hiperparámetro\n",
    "import plotly.express as px\n",
    "\n",
    "fig = px.parallel_coordinates(\n",
    "    resultados,\n",
    "    color=\"mean_test_rmse\",\n",
    "    color_continuous_scale=px.colors.sequential.Viridis,\n",
    ")\n",
    "fig.show()"
   ]
  },
  {
   "cell_type": "markdown",
   "metadata": {},
   "source": [
    "Vamos a probar ahora realizar el mismo proceso pero con el modelo KNNWithMeans. Luego elegiremos los mejores hiperparametros y compararemos los resultados de ambos."
   ]
  },
  {
   "cell_type": "code",
   "execution_count": 31,
   "metadata": {
    "scrolled": true
   },
   "outputs": [
    {
     "name": "stdout",
     "output_type": "stream",
     "text": [
      "Computing the pearson similarity matrix...\n",
      "Done computing similarity matrix.\n",
      "Computing the pearson similarity matrix...\n",
      "Done computing similarity matrix.\n",
      "Computing the pearson similarity matrix...\n",
      "Done computing similarity matrix.\n",
      "Computing the pearson similarity matrix...\n",
      "Done computing similarity matrix.\n",
      "Computing the pearson similarity matrix...\n",
      "Done computing similarity matrix.\n",
      "Computing the pearson similarity matrix...\n",
      "Done computing similarity matrix.\n",
      "Computing the pearson similarity matrix...\n",
      "Done computing similarity matrix.\n",
      "Computing the pearson similarity matrix...\n",
      "Done computing similarity matrix.\n",
      "Computing the pearson similarity matrix...\n",
      "Done computing similarity matrix.\n",
      "Computing the pearson similarity matrix...\n",
      "Done computing similarity matrix.\n",
      "Computing the cosine similarity matrix...\n",
      "Done computing similarity matrix.\n",
      "Computing the cosine similarity matrix...\n",
      "Done computing similarity matrix.\n",
      "Computing the cosine similarity matrix...\n",
      "Done computing similarity matrix.\n",
      "Computing the cosine similarity matrix...\n",
      "Done computing similarity matrix.\n",
      "Computing the cosine similarity matrix...\n",
      "Done computing similarity matrix.\n",
      "Computing the pearson similarity matrix...\n",
      "Done computing similarity matrix.\n",
      "Computing the pearson similarity matrix...\n",
      "Done computing similarity matrix.\n",
      "Computing the pearson similarity matrix...\n",
      "Done computing similarity matrix.\n",
      "Computing the pearson similarity matrix...\n",
      "Done computing similarity matrix.\n",
      "Computing the pearson similarity matrix...\n",
      "Done computing similarity matrix.\n",
      "Computing the cosine similarity matrix...\n",
      "Done computing similarity matrix.\n",
      "Computing the cosine similarity matrix...\n",
      "Done computing similarity matrix.\n",
      "Computing the cosine similarity matrix...\n",
      "Done computing similarity matrix.\n",
      "Computing the cosine similarity matrix...\n",
      "Done computing similarity matrix.\n",
      "Computing the cosine similarity matrix...\n",
      "Done computing similarity matrix.\n",
      "Computing the pearson similarity matrix...\n",
      "Done computing similarity matrix.\n",
      "Computing the pearson similarity matrix...\n",
      "Done computing similarity matrix.\n",
      "Computing the pearson similarity matrix...\n",
      "Done computing similarity matrix.\n",
      "Computing the pearson similarity matrix...\n",
      "Done computing similarity matrix.\n",
      "Computing the pearson similarity matrix...\n",
      "Done computing similarity matrix.\n",
      "Computing the pearson similarity matrix...\n",
      "Done computing similarity matrix.\n",
      "Computing the pearson similarity matrix...\n",
      "Done computing similarity matrix.\n",
      "Computing the pearson similarity matrix...\n",
      "Done computing similarity matrix.\n",
      "Computing the pearson similarity matrix...\n",
      "Done computing similarity matrix.\n",
      "Computing the pearson similarity matrix...\n",
      "Done computing similarity matrix.\n",
      "Computing the cosine similarity matrix...\n",
      "Done computing similarity matrix.\n",
      "Computing the cosine similarity matrix...\n",
      "Done computing similarity matrix.\n",
      "Computing the cosine similarity matrix...\n",
      "Done computing similarity matrix.\n",
      "Computing the cosine similarity matrix...\n",
      "Done computing similarity matrix.\n",
      "Computing the cosine similarity matrix...\n",
      "Done computing similarity matrix.\n",
      "Computing the cosine similarity matrix...\n",
      "Done computing similarity matrix.\n",
      "Computing the cosine similarity matrix...\n",
      "Done computing similarity matrix.\n",
      "Computing the cosine similarity matrix...\n",
      "Done computing similarity matrix.\n",
      "Computing the cosine similarity matrix...\n",
      "Done computing similarity matrix.\n",
      "Computing the cosine similarity matrix...\n",
      "Done computing similarity matrix.\n",
      "Computing the cosine similarity matrix...\n",
      "Done computing similarity matrix.\n",
      "Computing the cosine similarity matrix...\n",
      "Done computing similarity matrix.\n",
      "Computing the cosine similarity matrix...\n",
      "Done computing similarity matrix.\n",
      "Computing the cosine similarity matrix...\n",
      "Done computing similarity matrix.\n",
      "Computing the cosine similarity matrix...\n",
      "Done computing similarity matrix.\n",
      "Computing the pearson similarity matrix...\n",
      "Done computing similarity matrix.\n",
      "Computing the pearson similarity matrix...\n",
      "Done computing similarity matrix.\n",
      "Computing the pearson similarity matrix...\n",
      "Done computing similarity matrix.\n",
      "Computing the pearson similarity matrix...\n",
      "Done computing similarity matrix.\n",
      "Computing the pearson similarity matrix...\n",
      "Done computing similarity matrix.\n",
      "Computing the cosine similarity matrix...\n",
      "Done computing similarity matrix.\n",
      "Computing the cosine similarity matrix...\n",
      "Done computing similarity matrix.\n",
      "Computing the cosine similarity matrix...\n",
      "Done computing similarity matrix.\n",
      "Computing the cosine similarity matrix...\n",
      "Done computing similarity matrix.\n",
      "Computing the cosine similarity matrix...\n",
      "Done computing similarity matrix.\n",
      "Computing the pearson similarity matrix...\n",
      "Done computing similarity matrix.\n",
      "Computing the pearson similarity matrix...\n",
      "Done computing similarity matrix.\n",
      "Computing the pearson similarity matrix...\n",
      "Done computing similarity matrix.\n",
      "Computing the pearson similarity matrix...\n",
      "Done computing similarity matrix.\n",
      "Computing the pearson similarity matrix...\n",
      "Done computing similarity matrix.\n",
      "Computing the cosine similarity matrix...\n",
      "Done computing similarity matrix.\n",
      "Computing the cosine similarity matrix...\n",
      "Done computing similarity matrix.\n",
      "Computing the cosine similarity matrix...\n",
      "Done computing similarity matrix.\n",
      "Computing the cosine similarity matrix...\n",
      "Done computing similarity matrix.\n",
      "Computing the cosine similarity matrix...\n",
      "Done computing similarity matrix.\n",
      "Computing the cosine similarity matrix...\n",
      "Done computing similarity matrix.\n",
      "Computing the cosine similarity matrix...\n",
      "Done computing similarity matrix.\n",
      "Computing the cosine similarity matrix...\n",
      "Done computing similarity matrix.\n",
      "Computing the cosine similarity matrix...\n",
      "Done computing similarity matrix.\n",
      "Computing the cosine similarity matrix...\n",
      "Done computing similarity matrix.\n",
      "Computing the pearson similarity matrix...\n",
      "Done computing similarity matrix.\n",
      "Computing the pearson similarity matrix...\n",
      "Done computing similarity matrix.\n",
      "Computing the pearson similarity matrix...\n",
      "Done computing similarity matrix.\n",
      "Computing the pearson similarity matrix...\n",
      "Done computing similarity matrix.\n",
      "Computing the pearson similarity matrix...\n",
      "Done computing similarity matrix.\n",
      "Computing the pearson similarity matrix...\n",
      "Done computing similarity matrix.\n",
      "Computing the pearson similarity matrix...\n",
      "Done computing similarity matrix.\n",
      "Computing the pearson similarity matrix...\n",
      "Done computing similarity matrix.\n",
      "Computing the pearson similarity matrix...\n",
      "Done computing similarity matrix.\n",
      "Computing the pearson similarity matrix...\n",
      "Done computing similarity matrix.\n",
      "Computing the msd similarity matrix...\n",
      "Done computing similarity matrix.\n",
      "Computing the msd similarity matrix...\n",
      "Done computing similarity matrix.\n",
      "Computing the msd similarity matrix...\n",
      "Done computing similarity matrix.\n",
      "Computing the msd similarity matrix...\n",
      "Done computing similarity matrix.\n",
      "Computing the msd similarity matrix...\n",
      "Done computing similarity matrix.\n",
      "Computing the cosine similarity matrix...\n",
      "Done computing similarity matrix.\n",
      "Computing the cosine similarity matrix...\n",
      "Done computing similarity matrix.\n",
      "Computing the cosine similarity matrix...\n",
      "Done computing similarity matrix.\n",
      "Computing the cosine similarity matrix...\n",
      "Done computing similarity matrix.\n",
      "Computing the cosine similarity matrix...\n",
      "Done computing similarity matrix.\n",
      "Computing the pearson similarity matrix...\n",
      "Done computing similarity matrix.\n",
      "Computing the pearson similarity matrix...\n",
      "Done computing similarity matrix.\n",
      "Computing the pearson similarity matrix...\n",
      "Done computing similarity matrix.\n",
      "Computing the pearson similarity matrix...\n",
      "Done computing similarity matrix.\n",
      "Computing the pearson similarity matrix...\n",
      "Done computing similarity matrix.\n",
      "Computing the pearson similarity matrix...\n",
      "Done computing similarity matrix.\n",
      "Computing the pearson similarity matrix...\n",
      "Done computing similarity matrix.\n",
      "Computing the pearson similarity matrix...\n",
      "Done computing similarity matrix.\n",
      "Computing the pearson similarity matrix...\n",
      "Done computing similarity matrix.\n",
      "Computing the pearson similarity matrix...\n",
      "Done computing similarity matrix.\n",
      "Computing the msd similarity matrix...\n",
      "Done computing similarity matrix.\n",
      "Computing the msd similarity matrix...\n",
      "Done computing similarity matrix.\n",
      "Computing the msd similarity matrix...\n"
     ]
    },
    {
     "name": "stdout",
     "output_type": "stream",
     "text": [
      "Done computing similarity matrix.\n",
      "Computing the msd similarity matrix...\n",
      "Done computing similarity matrix.\n",
      "Computing the msd similarity matrix...\n",
      "Done computing similarity matrix.\n",
      "Computing the msd similarity matrix...\n",
      "Done computing similarity matrix.\n",
      "Computing the msd similarity matrix...\n",
      "Done computing similarity matrix.\n",
      "Computing the msd similarity matrix...\n",
      "Done computing similarity matrix.\n",
      "Computing the msd similarity matrix...\n",
      "Done computing similarity matrix.\n",
      "Computing the msd similarity matrix...\n",
      "Done computing similarity matrix.\n",
      "Computing the cosine similarity matrix...\n",
      "Done computing similarity matrix.\n",
      "Computing the cosine similarity matrix...\n",
      "Done computing similarity matrix.\n",
      "Computing the cosine similarity matrix...\n",
      "Done computing similarity matrix.\n",
      "Computing the cosine similarity matrix...\n",
      "Done computing similarity matrix.\n",
      "Computing the cosine similarity matrix...\n",
      "Done computing similarity matrix.\n",
      "Computing the cosine similarity matrix...\n",
      "Done computing similarity matrix.\n",
      "Computing the cosine similarity matrix...\n",
      "Done computing similarity matrix.\n",
      "Computing the cosine similarity matrix...\n",
      "Done computing similarity matrix.\n",
      "Computing the cosine similarity matrix...\n",
      "Done computing similarity matrix.\n",
      "Computing the cosine similarity matrix...\n",
      "Done computing similarity matrix.\n",
      "Computing the msd similarity matrix...\n",
      "Done computing similarity matrix.\n",
      "Computing the msd similarity matrix...\n",
      "Done computing similarity matrix.\n",
      "Computing the msd similarity matrix...\n",
      "Done computing similarity matrix.\n",
      "Computing the msd similarity matrix...\n",
      "Done computing similarity matrix.\n",
      "Computing the msd similarity matrix...\n",
      "Done computing similarity matrix.\n",
      "Computing the cosine similarity matrix...\n",
      "Done computing similarity matrix.\n",
      "Computing the cosine similarity matrix...\n",
      "Done computing similarity matrix.\n",
      "Computing the cosine similarity matrix...\n",
      "Done computing similarity matrix.\n",
      "Computing the cosine similarity matrix...\n",
      "Done computing similarity matrix.\n",
      "Computing the cosine similarity matrix...\n",
      "Done computing similarity matrix.\n",
      "Computing the pearson similarity matrix...\n",
      "Done computing similarity matrix.\n",
      "Computing the pearson similarity matrix...\n",
      "Done computing similarity matrix.\n",
      "Computing the pearson similarity matrix...\n",
      "Done computing similarity matrix.\n",
      "Computing the pearson similarity matrix...\n",
      "Done computing similarity matrix.\n",
      "Computing the pearson similarity matrix...\n",
      "Done computing similarity matrix.\n",
      "Computing the pearson similarity matrix...\n",
      "Done computing similarity matrix.\n",
      "Computing the pearson similarity matrix...\n",
      "Done computing similarity matrix.\n",
      "Computing the pearson similarity matrix...\n",
      "Done computing similarity matrix.\n",
      "Computing the pearson similarity matrix...\n",
      "Done computing similarity matrix.\n",
      "Computing the pearson similarity matrix...\n",
      "Done computing similarity matrix.\n",
      "Computing the cosine similarity matrix...\n",
      "Done computing similarity matrix.\n",
      "Computing the cosine similarity matrix...\n",
      "Done computing similarity matrix.\n",
      "Computing the cosine similarity matrix...\n",
      "Done computing similarity matrix.\n",
      "Computing the cosine similarity matrix...\n",
      "Done computing similarity matrix.\n",
      "Computing the cosine similarity matrix...\n",
      "Done computing similarity matrix.\n",
      "Computing the cosine similarity matrix...\n",
      "Done computing similarity matrix.\n",
      "Computing the cosine similarity matrix...\n",
      "Done computing similarity matrix.\n",
      "Computing the cosine similarity matrix...\n",
      "Done computing similarity matrix.\n",
      "Computing the cosine similarity matrix...\n",
      "Done computing similarity matrix.\n",
      "Computing the cosine similarity matrix...\n",
      "Done computing similarity matrix.\n",
      "Computing the pearson similarity matrix...\n",
      "Done computing similarity matrix.\n",
      "Computing the pearson similarity matrix...\n",
      "Done computing similarity matrix.\n",
      "Computing the pearson similarity matrix...\n",
      "Done computing similarity matrix.\n",
      "Computing the pearson similarity matrix...\n",
      "Done computing similarity matrix.\n",
      "Computing the pearson similarity matrix...\n",
      "Done computing similarity matrix.\n",
      "Computing the msd similarity matrix...\n",
      "Done computing similarity matrix.\n",
      "Computing the msd similarity matrix...\n",
      "Done computing similarity matrix.\n",
      "Computing the msd similarity matrix...\n",
      "Done computing similarity matrix.\n",
      "Computing the msd similarity matrix...\n",
      "Done computing similarity matrix.\n",
      "Computing the msd similarity matrix...\n",
      "Done computing similarity matrix.\n",
      "Computing the cosine similarity matrix...\n",
      "Done computing similarity matrix.\n",
      "Computing the cosine similarity matrix...\n",
      "Done computing similarity matrix.\n",
      "Computing the cosine similarity matrix...\n",
      "Done computing similarity matrix.\n",
      "Computing the cosine similarity matrix...\n",
      "Done computing similarity matrix.\n",
      "Computing the cosine similarity matrix...\n",
      "Done computing similarity matrix.\n",
      "Computing the msd similarity matrix...\n",
      "Done computing similarity matrix.\n",
      "Computing the msd similarity matrix...\n",
      "Done computing similarity matrix.\n",
      "Computing the msd similarity matrix...\n",
      "Done computing similarity matrix.\n",
      "Computing the msd similarity matrix...\n",
      "Done computing similarity matrix.\n",
      "Computing the msd similarity matrix...\n",
      "Done computing similarity matrix.\n",
      "Computing the cosine similarity matrix...\n",
      "Done computing similarity matrix.\n",
      "Computing the cosine similarity matrix...\n",
      "Done computing similarity matrix.\n",
      "Computing the cosine similarity matrix...\n",
      "Done computing similarity matrix.\n",
      "Computing the cosine similarity matrix...\n",
      "Done computing similarity matrix.\n",
      "Computing the cosine similarity matrix...\n",
      "Done computing similarity matrix.\n",
      "Computing the pearson similarity matrix...\n",
      "Done computing similarity matrix.\n",
      "Computing the pearson similarity matrix...\n",
      "Done computing similarity matrix.\n",
      "Computing the pearson similarity matrix...\n",
      "Done computing similarity matrix.\n",
      "Computing the pearson similarity matrix...\n",
      "Done computing similarity matrix.\n",
      "Computing the pearson similarity matrix...\n",
      "Done computing similarity matrix.\n",
      "Computing the pearson similarity matrix...\n",
      "Done computing similarity matrix.\n",
      "Computing the pearson similarity matrix...\n",
      "Done computing similarity matrix.\n",
      "Computing the pearson similarity matrix...\n",
      "Done computing similarity matrix.\n",
      "Computing the pearson similarity matrix...\n",
      "Done computing similarity matrix.\n",
      "Computing the pearson similarity matrix...\n",
      "Done computing similarity matrix.\n",
      "Computing the cosine similarity matrix...\n",
      "Done computing similarity matrix.\n",
      "Computing the cosine similarity matrix...\n",
      "Done computing similarity matrix.\n",
      "Computing the cosine similarity matrix...\n",
      "Done computing similarity matrix.\n",
      "Computing the cosine similarity matrix...\n",
      "Done computing similarity matrix.\n",
      "Computing the cosine similarity matrix...\n",
      "Done computing similarity matrix.\n",
      "Computing the msd similarity matrix...\n",
      "Done computing similarity matrix.\n",
      "Computing the msd similarity matrix...\n",
      "Done computing similarity matrix.\n",
      "Computing the msd similarity matrix...\n",
      "Done computing similarity matrix.\n",
      "Computing the msd similarity matrix...\n",
      "Done computing similarity matrix.\n",
      "Computing the msd similarity matrix...\n",
      "Done computing similarity matrix.\n",
      "Computing the pearson similarity matrix...\n",
      "Done computing similarity matrix.\n",
      "Computing the pearson similarity matrix...\n",
      "Done computing similarity matrix.\n",
      "Computing the pearson similarity matrix...\n",
      "Done computing similarity matrix.\n",
      "Computing the pearson similarity matrix...\n",
      "Done computing similarity matrix.\n",
      "Computing the pearson similarity matrix...\n",
      "Done computing similarity matrix.\n",
      "Computing the msd similarity matrix...\n",
      "Done computing similarity matrix.\n",
      "Computing the msd similarity matrix...\n",
      "Done computing similarity matrix.\n",
      "Computing the msd similarity matrix...\n",
      "Done computing similarity matrix.\n",
      "Computing the msd similarity matrix...\n",
      "Done computing similarity matrix.\n",
      "Computing the msd similarity matrix...\n",
      "Done computing similarity matrix.\n",
      "Computing the cosine similarity matrix...\n",
      "Done computing similarity matrix.\n",
      "Computing the cosine similarity matrix...\n",
      "Done computing similarity matrix.\n",
      "Computing the cosine similarity matrix...\n",
      "Done computing similarity matrix.\n",
      "Computing the cosine similarity matrix...\n",
      "Done computing similarity matrix.\n",
      "Computing the cosine similarity matrix...\n",
      "Done computing similarity matrix.\n",
      "Computing the cosine similarity matrix...\n",
      "Done computing similarity matrix.\n",
      "Computing the cosine similarity matrix...\n"
     ]
    },
    {
     "name": "stdout",
     "output_type": "stream",
     "text": [
      "Done computing similarity matrix.\n",
      "Computing the cosine similarity matrix...\n",
      "Done computing similarity matrix.\n",
      "Computing the cosine similarity matrix...\n",
      "Done computing similarity matrix.\n",
      "Computing the cosine similarity matrix...\n",
      "Done computing similarity matrix.\n",
      "Computing the cosine similarity matrix...\n",
      "Done computing similarity matrix.\n",
      "Computing the cosine similarity matrix...\n",
      "Done computing similarity matrix.\n",
      "Computing the cosine similarity matrix...\n",
      "Done computing similarity matrix.\n",
      "Computing the cosine similarity matrix...\n",
      "Done computing similarity matrix.\n",
      "Computing the cosine similarity matrix...\n",
      "Done computing similarity matrix.\n",
      "Computing the pearson similarity matrix...\n",
      "Done computing similarity matrix.\n",
      "Computing the pearson similarity matrix...\n",
      "Done computing similarity matrix.\n",
      "Computing the pearson similarity matrix...\n",
      "Done computing similarity matrix.\n",
      "Computing the pearson similarity matrix...\n",
      "Done computing similarity matrix.\n",
      "Computing the pearson similarity matrix...\n",
      "Done computing similarity matrix.\n",
      "Computing the msd similarity matrix...\n",
      "Done computing similarity matrix.\n",
      "Computing the msd similarity matrix...\n",
      "Done computing similarity matrix.\n",
      "Computing the msd similarity matrix...\n",
      "Done computing similarity matrix.\n",
      "Computing the msd similarity matrix...\n",
      "Done computing similarity matrix.\n",
      "Computing the msd similarity matrix...\n",
      "Done computing similarity matrix.\n",
      "Computing the msd similarity matrix...\n",
      "Done computing similarity matrix.\n",
      "Computing the msd similarity matrix...\n",
      "Done computing similarity matrix.\n",
      "Computing the msd similarity matrix...\n",
      "Done computing similarity matrix.\n",
      "Computing the msd similarity matrix...\n",
      "Done computing similarity matrix.\n",
      "Computing the msd similarity matrix...\n",
      "Done computing similarity matrix.\n",
      "Computing the cosine similarity matrix...\n",
      "Done computing similarity matrix.\n",
      "Computing the cosine similarity matrix...\n",
      "Done computing similarity matrix.\n",
      "Computing the cosine similarity matrix...\n",
      "Done computing similarity matrix.\n",
      "Computing the cosine similarity matrix...\n",
      "Done computing similarity matrix.\n",
      "Computing the cosine similarity matrix...\n",
      "Done computing similarity matrix.\n",
      "Computing the msd similarity matrix...\n",
      "Done computing similarity matrix.\n",
      "Computing the msd similarity matrix...\n",
      "Done computing similarity matrix.\n",
      "Computing the msd similarity matrix...\n",
      "Done computing similarity matrix.\n",
      "Computing the msd similarity matrix...\n",
      "Done computing similarity matrix.\n",
      "Computing the msd similarity matrix...\n",
      "Done computing similarity matrix.\n",
      "Computing the msd similarity matrix...\n",
      "Done computing similarity matrix.\n",
      "Computing the msd similarity matrix...\n",
      "Done computing similarity matrix.\n",
      "Computing the msd similarity matrix...\n",
      "Done computing similarity matrix.\n",
      "Computing the msd similarity matrix...\n",
      "Done computing similarity matrix.\n",
      "Computing the msd similarity matrix...\n",
      "Done computing similarity matrix.\n",
      "Computing the cosine similarity matrix...\n",
      "Done computing similarity matrix.\n",
      "Computing the cosine similarity matrix...\n",
      "Done computing similarity matrix.\n",
      "Computing the cosine similarity matrix...\n",
      "Done computing similarity matrix.\n",
      "Computing the cosine similarity matrix...\n",
      "Done computing similarity matrix.\n",
      "Computing the cosine similarity matrix...\n",
      "Done computing similarity matrix.\n",
      "Computing the msd similarity matrix...\n",
      "Done computing similarity matrix.\n",
      "Computing the msd similarity matrix...\n",
      "Done computing similarity matrix.\n",
      "Computing the msd similarity matrix...\n",
      "Done computing similarity matrix.\n",
      "Computing the msd similarity matrix...\n",
      "Done computing similarity matrix.\n",
      "Computing the msd similarity matrix...\n",
      "Done computing similarity matrix.\n",
      "Computing the pearson similarity matrix...\n",
      "Done computing similarity matrix.\n",
      "Computing the pearson similarity matrix...\n",
      "Done computing similarity matrix.\n",
      "Computing the pearson similarity matrix...\n",
      "Done computing similarity matrix.\n",
      "Computing the pearson similarity matrix...\n",
      "Done computing similarity matrix.\n",
      "Computing the pearson similarity matrix...\n",
      "Done computing similarity matrix.\n",
      "Computing the cosine similarity matrix...\n",
      "Done computing similarity matrix.\n",
      "Computing the cosine similarity matrix...\n",
      "Done computing similarity matrix.\n",
      "Computing the cosine similarity matrix...\n",
      "Done computing similarity matrix.\n",
      "Computing the cosine similarity matrix...\n",
      "Done computing similarity matrix.\n",
      "Computing the cosine similarity matrix...\n",
      "Done computing similarity matrix.\n",
      "Computing the pearson similarity matrix...\n",
      "Done computing similarity matrix.\n",
      "Computing the pearson similarity matrix...\n",
      "Done computing similarity matrix.\n",
      "Computing the pearson similarity matrix...\n",
      "Done computing similarity matrix.\n",
      "Computing the pearson similarity matrix...\n",
      "Done computing similarity matrix.\n",
      "Computing the pearson similarity matrix...\n",
      "Done computing similarity matrix.\n",
      "Computing the msd similarity matrix...\n",
      "Done computing similarity matrix.\n",
      "Computing the msd similarity matrix...\n",
      "Done computing similarity matrix.\n",
      "Computing the msd similarity matrix...\n",
      "Done computing similarity matrix.\n",
      "Computing the msd similarity matrix...\n",
      "Done computing similarity matrix.\n",
      "Computing the msd similarity matrix...\n",
      "Done computing similarity matrix.\n",
      "Computing the pearson similarity matrix...\n",
      "Done computing similarity matrix.\n",
      "Computing the pearson similarity matrix...\n",
      "Done computing similarity matrix.\n",
      "Computing the pearson similarity matrix...\n",
      "Done computing similarity matrix.\n",
      "Computing the pearson similarity matrix...\n",
      "Done computing similarity matrix.\n",
      "Computing the pearson similarity matrix...\n",
      "Done computing similarity matrix.\n",
      "Computing the pearson similarity matrix...\n",
      "Done computing similarity matrix.\n",
      "Computing the pearson similarity matrix...\n",
      "Done computing similarity matrix.\n",
      "Computing the pearson similarity matrix...\n",
      "Done computing similarity matrix.\n",
      "Computing the pearson similarity matrix...\n",
      "Done computing similarity matrix.\n",
      "Computing the pearson similarity matrix...\n",
      "Done computing similarity matrix.\n",
      "Computing the pearson similarity matrix...\n",
      "Done computing similarity matrix.\n",
      "Computing the pearson similarity matrix...\n",
      "Done computing similarity matrix.\n",
      "Computing the pearson similarity matrix...\n",
      "Done computing similarity matrix.\n",
      "Computing the pearson similarity matrix...\n",
      "Done computing similarity matrix.\n",
      "Computing the pearson similarity matrix...\n",
      "Done computing similarity matrix.\n",
      "Computing the cosine similarity matrix...\n",
      "Done computing similarity matrix.\n",
      "Computing the cosine similarity matrix...\n",
      "Done computing similarity matrix.\n",
      "Computing the cosine similarity matrix...\n",
      "Done computing similarity matrix.\n",
      "Computing the cosine similarity matrix...\n",
      "Done computing similarity matrix.\n",
      "Computing the cosine similarity matrix...\n",
      "Done computing similarity matrix.\n",
      "Computing the pearson similarity matrix...\n",
      "Done computing similarity matrix.\n",
      "Computing the pearson similarity matrix...\n",
      "Done computing similarity matrix.\n",
      "Computing the pearson similarity matrix...\n",
      "Done computing similarity matrix.\n",
      "Computing the pearson similarity matrix...\n",
      "Done computing similarity matrix.\n",
      "Computing the pearson similarity matrix...\n",
      "Done computing similarity matrix.\n",
      "Computing the pearson similarity matrix...\n",
      "Done computing similarity matrix.\n",
      "Computing the pearson similarity matrix...\n",
      "Done computing similarity matrix.\n",
      "Computing the pearson similarity matrix...\n",
      "Done computing similarity matrix.\n",
      "Computing the pearson similarity matrix...\n",
      "Done computing similarity matrix.\n",
      "Computing the pearson similarity matrix...\n",
      "Done computing similarity matrix.\n",
      "Computing the pearson similarity matrix...\n",
      "Done computing similarity matrix.\n",
      "Computing the pearson similarity matrix...\n",
      "Done computing similarity matrix.\n",
      "Computing the pearson similarity matrix...\n",
      "Done computing similarity matrix.\n",
      "Computing the pearson similarity matrix...\n",
      "Done computing similarity matrix.\n",
      "Computing the pearson similarity matrix...\n",
      "Done computing similarity matrix.\n",
      "Computing the cosine similarity matrix...\n",
      "Done computing similarity matrix.\n",
      "Computing the cosine similarity matrix...\n",
      "Done computing similarity matrix.\n",
      "Computing the cosine similarity matrix...\n",
      "Done computing similarity matrix.\n",
      "Computing the cosine similarity matrix...\n",
      "Done computing similarity matrix.\n",
      "Computing the cosine similarity matrix...\n",
      "Done computing similarity matrix.\n"
     ]
    },
    {
     "name": "stdout",
     "output_type": "stream",
     "text": [
      "Computing the pearson similarity matrix...\n",
      "Done computing similarity matrix.\n",
      "Computing the pearson similarity matrix...\n",
      "Done computing similarity matrix.\n",
      "Computing the pearson similarity matrix...\n",
      "Done computing similarity matrix.\n",
      "Computing the pearson similarity matrix...\n",
      "Done computing similarity matrix.\n",
      "Computing the pearson similarity matrix...\n",
      "Done computing similarity matrix.\n",
      "Computing the msd similarity matrix...\n",
      "Done computing similarity matrix.\n",
      "Computing the msd similarity matrix...\n",
      "Done computing similarity matrix.\n",
      "Computing the msd similarity matrix...\n",
      "Done computing similarity matrix.\n",
      "Computing the msd similarity matrix...\n",
      "Done computing similarity matrix.\n",
      "Computing the msd similarity matrix...\n",
      "Done computing similarity matrix.\n",
      "Computing the pearson similarity matrix...\n",
      "Done computing similarity matrix.\n",
      "Computing the pearson similarity matrix...\n",
      "Done computing similarity matrix.\n",
      "Computing the pearson similarity matrix...\n",
      "Done computing similarity matrix.\n",
      "Computing the pearson similarity matrix...\n",
      "Done computing similarity matrix.\n",
      "Computing the pearson similarity matrix...\n",
      "Done computing similarity matrix.\n",
      "Computing the pearson similarity matrix...\n",
      "Done computing similarity matrix.\n",
      "Computing the pearson similarity matrix...\n",
      "Done computing similarity matrix.\n",
      "Computing the pearson similarity matrix...\n",
      "Done computing similarity matrix.\n",
      "Computing the pearson similarity matrix...\n",
      "Done computing similarity matrix.\n",
      "Computing the pearson similarity matrix...\n",
      "Done computing similarity matrix.\n",
      "Computing the pearson similarity matrix...\n",
      "Done computing similarity matrix.\n",
      "Computing the pearson similarity matrix...\n",
      "Done computing similarity matrix.\n",
      "Computing the pearson similarity matrix...\n",
      "Done computing similarity matrix.\n",
      "Computing the pearson similarity matrix...\n",
      "Done computing similarity matrix.\n",
      "Computing the pearson similarity matrix...\n",
      "Done computing similarity matrix.\n",
      "Computing the msd similarity matrix...\n",
      "Done computing similarity matrix.\n",
      "Computing the msd similarity matrix...\n",
      "Done computing similarity matrix.\n",
      "Computing the msd similarity matrix...\n",
      "Done computing similarity matrix.\n",
      "Computing the msd similarity matrix...\n",
      "Done computing similarity matrix.\n",
      "Computing the msd similarity matrix...\n",
      "Done computing similarity matrix.\n",
      "Computing the msd similarity matrix...\n",
      "Done computing similarity matrix.\n",
      "Computing the msd similarity matrix...\n",
      "Done computing similarity matrix.\n",
      "Computing the msd similarity matrix...\n",
      "Done computing similarity matrix.\n",
      "Computing the msd similarity matrix...\n",
      "Done computing similarity matrix.\n",
      "Computing the msd similarity matrix...\n",
      "Done computing similarity matrix.\n",
      "Computing the cosine similarity matrix...\n",
      "Done computing similarity matrix.\n",
      "Computing the cosine similarity matrix...\n",
      "Done computing similarity matrix.\n",
      "Computing the cosine similarity matrix...\n",
      "Done computing similarity matrix.\n",
      "Computing the cosine similarity matrix...\n",
      "Done computing similarity matrix.\n",
      "Computing the cosine similarity matrix...\n",
      "Done computing similarity matrix.\n",
      "Computing the cosine similarity matrix...\n",
      "Done computing similarity matrix.\n",
      "Computing the cosine similarity matrix...\n",
      "Done computing similarity matrix.\n",
      "Computing the cosine similarity matrix...\n",
      "Done computing similarity matrix.\n",
      "Computing the cosine similarity matrix...\n",
      "Done computing similarity matrix.\n",
      "Computing the cosine similarity matrix...\n",
      "Done computing similarity matrix.\n",
      "Computing the cosine similarity matrix...\n",
      "Done computing similarity matrix.\n",
      "Computing the cosine similarity matrix...\n",
      "Done computing similarity matrix.\n",
      "Computing the cosine similarity matrix...\n",
      "Done computing similarity matrix.\n",
      "Computing the cosine similarity matrix...\n",
      "Done computing similarity matrix.\n",
      "Computing the cosine similarity matrix...\n",
      "Done computing similarity matrix.\n",
      "Computing the cosine similarity matrix...\n",
      "Done computing similarity matrix.\n",
      "Computing the cosine similarity matrix...\n",
      "Done computing similarity matrix.\n",
      "Computing the cosine similarity matrix...\n",
      "Done computing similarity matrix.\n",
      "Computing the cosine similarity matrix...\n",
      "Done computing similarity matrix.\n",
      "Computing the cosine similarity matrix...\n",
      "Done computing similarity matrix.\n",
      "Computing the cosine similarity matrix...\n",
      "Done computing similarity matrix.\n",
      "Computing the cosine similarity matrix...\n",
      "Done computing similarity matrix.\n",
      "Computing the cosine similarity matrix...\n",
      "Done computing similarity matrix.\n",
      "Computing the cosine similarity matrix...\n",
      "Done computing similarity matrix.\n",
      "Computing the cosine similarity matrix...\n",
      "Done computing similarity matrix.\n",
      "Computing the pearson similarity matrix...\n",
      "Done computing similarity matrix.\n",
      "Computing the pearson similarity matrix...\n",
      "Done computing similarity matrix.\n",
      "Computing the pearson similarity matrix...\n",
      "Done computing similarity matrix.\n",
      "Computing the pearson similarity matrix...\n",
      "Done computing similarity matrix.\n",
      "Computing the pearson similarity matrix...\n",
      "Done computing similarity matrix.\n",
      "Computing the cosine similarity matrix...\n",
      "Done computing similarity matrix.\n",
      "Computing the cosine similarity matrix...\n",
      "Done computing similarity matrix.\n",
      "Computing the cosine similarity matrix...\n",
      "Done computing similarity matrix.\n",
      "Computing the cosine similarity matrix...\n",
      "Done computing similarity matrix.\n",
      "Computing the cosine similarity matrix...\n",
      "Done computing similarity matrix.\n",
      "Computing the pearson similarity matrix...\n",
      "Done computing similarity matrix.\n",
      "Computing the pearson similarity matrix...\n",
      "Done computing similarity matrix.\n",
      "Computing the pearson similarity matrix...\n",
      "Done computing similarity matrix.\n",
      "Computing the pearson similarity matrix...\n",
      "Done computing similarity matrix.\n",
      "Computing the pearson similarity matrix...\n",
      "Done computing similarity matrix.\n",
      "Computing the cosine similarity matrix...\n",
      "Done computing similarity matrix.\n",
      "Computing the cosine similarity matrix...\n",
      "Done computing similarity matrix.\n",
      "Computing the cosine similarity matrix...\n",
      "Done computing similarity matrix.\n",
      "Computing the cosine similarity matrix...\n",
      "Done computing similarity matrix.\n",
      "Computing the cosine similarity matrix...\n",
      "Done computing similarity matrix.\n",
      "Computing the pearson similarity matrix...\n",
      "Done computing similarity matrix.\n",
      "Computing the pearson similarity matrix...\n",
      "Done computing similarity matrix.\n",
      "Computing the pearson similarity matrix...\n",
      "Done computing similarity matrix.\n",
      "Computing the pearson similarity matrix...\n",
      "Done computing similarity matrix.\n",
      "Computing the pearson similarity matrix...\n",
      "Done computing similarity matrix.\n",
      "Computing the msd similarity matrix...\n",
      "Done computing similarity matrix.\n",
      "Computing the msd similarity matrix...\n",
      "Done computing similarity matrix.\n",
      "Computing the msd similarity matrix...\n",
      "Done computing similarity matrix.\n",
      "Computing the msd similarity matrix...\n",
      "Done computing similarity matrix.\n",
      "Computing the msd similarity matrix...\n",
      "Done computing similarity matrix.\n",
      "Computing the msd similarity matrix...\n",
      "Done computing similarity matrix.\n",
      "Computing the msd similarity matrix...\n",
      "Done computing similarity matrix.\n",
      "Computing the msd similarity matrix...\n",
      "Done computing similarity matrix.\n",
      "Computing the msd similarity matrix...\n",
      "Done computing similarity matrix.\n",
      "Computing the msd similarity matrix...\n",
      "Done computing similarity matrix.\n",
      "Computing the pearson similarity matrix...\n",
      "Done computing similarity matrix.\n",
      "Computing the pearson similarity matrix...\n",
      "Done computing similarity matrix.\n",
      "Computing the pearson similarity matrix...\n",
      "Done computing similarity matrix.\n",
      "Computing the pearson similarity matrix...\n",
      "Done computing similarity matrix.\n",
      "Computing the pearson similarity matrix...\n",
      "Done computing similarity matrix.\n",
      "Computing the msd similarity matrix...\n",
      "Done computing similarity matrix.\n",
      "Computing the msd similarity matrix...\n",
      "Done computing similarity matrix.\n",
      "Computing the msd similarity matrix...\n",
      "Done computing similarity matrix.\n",
      "Computing the msd similarity matrix...\n",
      "Done computing similarity matrix.\n",
      "Computing the msd similarity matrix...\n",
      "Done computing similarity matrix.\n",
      "Computing the cosine similarity matrix...\n",
      "Done computing similarity matrix.\n",
      "Computing the cosine similarity matrix...\n",
      "Done computing similarity matrix.\n",
      "Computing the cosine similarity matrix...\n",
      "Done computing similarity matrix.\n",
      "Computing the cosine similarity matrix...\n"
     ]
    },
    {
     "name": "stdout",
     "output_type": "stream",
     "text": [
      "Done computing similarity matrix.\n",
      "Computing the cosine similarity matrix...\n",
      "Done computing similarity matrix.\n",
      "Computing the cosine similarity matrix...\n",
      "Done computing similarity matrix.\n",
      "Computing the cosine similarity matrix...\n",
      "Done computing similarity matrix.\n",
      "Computing the cosine similarity matrix...\n",
      "Done computing similarity matrix.\n",
      "Computing the cosine similarity matrix...\n",
      "Done computing similarity matrix.\n",
      "Computing the cosine similarity matrix...\n",
      "Done computing similarity matrix.\n",
      "Computing the pearson similarity matrix...\n",
      "Done computing similarity matrix.\n",
      "Computing the pearson similarity matrix...\n",
      "Done computing similarity matrix.\n",
      "Computing the pearson similarity matrix...\n",
      "Done computing similarity matrix.\n",
      "Computing the pearson similarity matrix...\n",
      "Done computing similarity matrix.\n",
      "Computing the pearson similarity matrix...\n",
      "Done computing similarity matrix.\n",
      "Computing the msd similarity matrix...\n",
      "Done computing similarity matrix.\n",
      "Computing the msd similarity matrix...\n",
      "Done computing similarity matrix.\n",
      "Computing the msd similarity matrix...\n",
      "Done computing similarity matrix.\n",
      "Computing the msd similarity matrix...\n",
      "Done computing similarity matrix.\n",
      "Computing the msd similarity matrix...\n",
      "Done computing similarity matrix.\n",
      "Computing the pearson similarity matrix...\n",
      "Done computing similarity matrix.\n",
      "Computing the pearson similarity matrix...\n",
      "Done computing similarity matrix.\n",
      "Computing the pearson similarity matrix...\n",
      "Done computing similarity matrix.\n",
      "Computing the pearson similarity matrix...\n",
      "Done computing similarity matrix.\n",
      "Computing the pearson similarity matrix...\n",
      "Done computing similarity matrix.\n",
      "Computing the pearson similarity matrix...\n",
      "Done computing similarity matrix.\n",
      "Computing the pearson similarity matrix...\n",
      "Done computing similarity matrix.\n",
      "Computing the pearson similarity matrix...\n",
      "Done computing similarity matrix.\n",
      "Computing the pearson similarity matrix...\n",
      "Done computing similarity matrix.\n",
      "Computing the pearson similarity matrix...\n",
      "Done computing similarity matrix.\n",
      "Computing the msd similarity matrix...\n",
      "Done computing similarity matrix.\n",
      "Computing the msd similarity matrix...\n",
      "Done computing similarity matrix.\n",
      "Computing the msd similarity matrix...\n",
      "Done computing similarity matrix.\n",
      "Computing the msd similarity matrix...\n",
      "Done computing similarity matrix.\n",
      "Computing the msd similarity matrix...\n",
      "Done computing similarity matrix.\n",
      "Computing the msd similarity matrix...\n",
      "Done computing similarity matrix.\n",
      "Computing the msd similarity matrix...\n",
      "Done computing similarity matrix.\n",
      "Computing the msd similarity matrix...\n",
      "Done computing similarity matrix.\n",
      "Computing the msd similarity matrix...\n",
      "Done computing similarity matrix.\n",
      "Computing the msd similarity matrix...\n",
      "Done computing similarity matrix.\n",
      "Computing the msd similarity matrix...\n",
      "Done computing similarity matrix.\n",
      "Computing the msd similarity matrix...\n",
      "Done computing similarity matrix.\n",
      "Computing the msd similarity matrix...\n",
      "Done computing similarity matrix.\n",
      "Computing the msd similarity matrix...\n",
      "Done computing similarity matrix.\n",
      "Computing the msd similarity matrix...\n",
      "Done computing similarity matrix.\n",
      "Computing the msd similarity matrix...\n",
      "Done computing similarity matrix.\n",
      "Computing the msd similarity matrix...\n",
      "Done computing similarity matrix.\n",
      "Computing the msd similarity matrix...\n",
      "Done computing similarity matrix.\n",
      "Computing the msd similarity matrix...\n",
      "Done computing similarity matrix.\n",
      "Computing the msd similarity matrix...\n",
      "Done computing similarity matrix.\n",
      "Computing the msd similarity matrix...\n",
      "Done computing similarity matrix.\n",
      "Computing the msd similarity matrix...\n",
      "Done computing similarity matrix.\n",
      "Computing the msd similarity matrix...\n",
      "Done computing similarity matrix.\n",
      "Computing the msd similarity matrix...\n",
      "Done computing similarity matrix.\n",
      "Computing the msd similarity matrix...\n",
      "Done computing similarity matrix.\n",
      "Computing the cosine similarity matrix...\n",
      "Done computing similarity matrix.\n",
      "Computing the cosine similarity matrix...\n",
      "Done computing similarity matrix.\n",
      "Computing the cosine similarity matrix...\n",
      "Done computing similarity matrix.\n",
      "Computing the cosine similarity matrix...\n",
      "Done computing similarity matrix.\n",
      "Computing the cosine similarity matrix...\n",
      "Done computing similarity matrix.\n",
      "Computing the pearson similarity matrix...\n",
      "Done computing similarity matrix.\n",
      "Computing the pearson similarity matrix...\n",
      "Done computing similarity matrix.\n",
      "Computing the pearson similarity matrix...\n",
      "Done computing similarity matrix.\n",
      "Computing the pearson similarity matrix...\n",
      "Done computing similarity matrix.\n",
      "Computing the pearson similarity matrix...\n",
      "Done computing similarity matrix.\n",
      "Computing the pearson similarity matrix...\n",
      "Done computing similarity matrix.\n",
      "Computing the pearson similarity matrix...\n",
      "Done computing similarity matrix.\n",
      "Computing the pearson similarity matrix...\n",
      "Done computing similarity matrix.\n",
      "Computing the pearson similarity matrix...\n",
      "Done computing similarity matrix.\n",
      "Computing the pearson similarity matrix...\n",
      "Done computing similarity matrix.\n"
     ]
    }
   ],
   "source": [
    "#Optimizamos hiperparámetros del modelo KNNWithMeans\n",
    "parametros = {'k':np.arange(10,100),'min_k':np.arange(5),'sim_options':{'name':['cosine','msd','pearson']}}\n",
    "\n",
    "rs2 = RandomizedSearchCV(KNNWithMeans,param_distributions=parametros,n_iter=100,random_state =42)\n",
    "rs2.fit(data)"
   ]
  },
  {
   "cell_type": "code",
   "execution_count": 32,
   "metadata": {
    "scrolled": false
   },
   "outputs": [
    {
     "data": {
      "text/html": [
       "<div>\n",
       "<style scoped>\n",
       "    .dataframe tbody tr th:only-of-type {\n",
       "        vertical-align: middle;\n",
       "    }\n",
       "\n",
       "    .dataframe tbody tr th {\n",
       "        vertical-align: top;\n",
       "    }\n",
       "\n",
       "    .dataframe thead th {\n",
       "        text-align: right;\n",
       "    }\n",
       "</style>\n",
       "<table border=\"1\" class=\"dataframe\">\n",
       "  <thead>\n",
       "    <tr style=\"text-align: right;\">\n",
       "      <th></th>\n",
       "      <th>split0_test_rmse</th>\n",
       "      <th>split1_test_rmse</th>\n",
       "      <th>split2_test_rmse</th>\n",
       "      <th>split3_test_rmse</th>\n",
       "      <th>split4_test_rmse</th>\n",
       "      <th>mean_test_rmse</th>\n",
       "      <th>std_test_rmse</th>\n",
       "      <th>rank_test_rmse</th>\n",
       "      <th>split0_test_mae</th>\n",
       "      <th>split1_test_mae</th>\n",
       "      <th>...</th>\n",
       "      <th>std_test_mae</th>\n",
       "      <th>rank_test_mae</th>\n",
       "      <th>mean_fit_time</th>\n",
       "      <th>std_fit_time</th>\n",
       "      <th>mean_test_time</th>\n",
       "      <th>std_test_time</th>\n",
       "      <th>params</th>\n",
       "      <th>param_k</th>\n",
       "      <th>param_min_k</th>\n",
       "      <th>param_sim_options</th>\n",
       "    </tr>\n",
       "  </thead>\n",
       "  <tbody>\n",
       "    <tr>\n",
       "      <th>99</th>\n",
       "      <td>0.938214</td>\n",
       "      <td>0.949711</td>\n",
       "      <td>0.925394</td>\n",
       "      <td>0.918536</td>\n",
       "      <td>0.930166</td>\n",
       "      <td>0.932404</td>\n",
       "      <td>0.010768</td>\n",
       "      <td>1</td>\n",
       "      <td>0.676659</td>\n",
       "      <td>0.684681</td>\n",
       "      <td>...</td>\n",
       "      <td>0.00792</td>\n",
       "      <td>1</td>\n",
       "      <td>1.195151</td>\n",
       "      <td>0.148748</td>\n",
       "      <td>0.263525</td>\n",
       "      <td>0.079651</td>\n",
       "      <td>{'k': 14, 'min_k': 4, 'sim_options': {'name': ...</td>\n",
       "      <td>14</td>\n",
       "      <td>4</td>\n",
       "      <td>{'name': 'pearson', 'user_based': True}</td>\n",
       "    </tr>\n",
       "    <tr>\n",
       "      <th>90</th>\n",
       "      <td>0.938214</td>\n",
       "      <td>0.949711</td>\n",
       "      <td>0.925394</td>\n",
       "      <td>0.918536</td>\n",
       "      <td>0.930166</td>\n",
       "      <td>0.932404</td>\n",
       "      <td>0.010768</td>\n",
       "      <td>2</td>\n",
       "      <td>0.676659</td>\n",
       "      <td>0.684681</td>\n",
       "      <td>...</td>\n",
       "      <td>0.00792</td>\n",
       "      <td>2</td>\n",
       "      <td>0.989917</td>\n",
       "      <td>0.012328</td>\n",
       "      <td>0.219108</td>\n",
       "      <td>0.053979</td>\n",
       "      <td>{'k': 87, 'min_k': 4, 'sim_options': {'name': ...</td>\n",
       "      <td>87</td>\n",
       "      <td>4</td>\n",
       "      <td>{'name': 'pearson', 'user_based': True}</td>\n",
       "    </tr>\n",
       "    <tr>\n",
       "      <th>84</th>\n",
       "      <td>0.938214</td>\n",
       "      <td>0.949711</td>\n",
       "      <td>0.925394</td>\n",
       "      <td>0.918536</td>\n",
       "      <td>0.930166</td>\n",
       "      <td>0.932404</td>\n",
       "      <td>0.010768</td>\n",
       "      <td>3</td>\n",
       "      <td>0.676659</td>\n",
       "      <td>0.684681</td>\n",
       "      <td>...</td>\n",
       "      <td>0.00792</td>\n",
       "      <td>3</td>\n",
       "      <td>0.983391</td>\n",
       "      <td>0.006254</td>\n",
       "      <td>0.190706</td>\n",
       "      <td>0.006799</td>\n",
       "      <td>{'k': 93, 'min_k': 4, 'sim_options': {'name': ...</td>\n",
       "      <td>93</td>\n",
       "      <td>4</td>\n",
       "      <td>{'name': 'pearson', 'user_based': True}</td>\n",
       "    </tr>\n",
       "    <tr>\n",
       "      <th>61</th>\n",
       "      <td>0.938214</td>\n",
       "      <td>0.949711</td>\n",
       "      <td>0.925394</td>\n",
       "      <td>0.918536</td>\n",
       "      <td>0.930166</td>\n",
       "      <td>0.932404</td>\n",
       "      <td>0.010768</td>\n",
       "      <td>4</td>\n",
       "      <td>0.676659</td>\n",
       "      <td>0.684681</td>\n",
       "      <td>...</td>\n",
       "      <td>0.00792</td>\n",
       "      <td>5</td>\n",
       "      <td>1.049452</td>\n",
       "      <td>0.089192</td>\n",
       "      <td>0.243237</td>\n",
       "      <td>0.060533</td>\n",
       "      <td>{'k': 58, 'min_k': 4, 'sim_options': {'name': ...</td>\n",
       "      <td>58</td>\n",
       "      <td>4</td>\n",
       "      <td>{'name': 'pearson', 'user_based': True}</td>\n",
       "    </tr>\n",
       "    <tr>\n",
       "      <th>65</th>\n",
       "      <td>0.938214</td>\n",
       "      <td>0.949711</td>\n",
       "      <td>0.925394</td>\n",
       "      <td>0.918536</td>\n",
       "      <td>0.930166</td>\n",
       "      <td>0.932404</td>\n",
       "      <td>0.010768</td>\n",
       "      <td>5</td>\n",
       "      <td>0.676659</td>\n",
       "      <td>0.684681</td>\n",
       "      <td>...</td>\n",
       "      <td>0.00792</td>\n",
       "      <td>4</td>\n",
       "      <td>1.001976</td>\n",
       "      <td>0.045242</td>\n",
       "      <td>0.220974</td>\n",
       "      <td>0.054644</td>\n",
       "      <td>{'k': 37, 'min_k': 4, 'sim_options': {'name': ...</td>\n",
       "      <td>37</td>\n",
       "      <td>4</td>\n",
       "      <td>{'name': 'pearson', 'user_based': True}</td>\n",
       "    </tr>\n",
       "  </tbody>\n",
       "</table>\n",
       "<p>5 rows × 24 columns</p>\n",
       "</div>"
      ],
      "text/plain": [
       "    split0_test_rmse  split1_test_rmse  split2_test_rmse  split3_test_rmse  \\\n",
       "99          0.938214          0.949711          0.925394          0.918536   \n",
       "90          0.938214          0.949711          0.925394          0.918536   \n",
       "84          0.938214          0.949711          0.925394          0.918536   \n",
       "61          0.938214          0.949711          0.925394          0.918536   \n",
       "65          0.938214          0.949711          0.925394          0.918536   \n",
       "\n",
       "    split4_test_rmse  mean_test_rmse  std_test_rmse  rank_test_rmse  \\\n",
       "99          0.930166        0.932404       0.010768               1   \n",
       "90          0.930166        0.932404       0.010768               2   \n",
       "84          0.930166        0.932404       0.010768               3   \n",
       "61          0.930166        0.932404       0.010768               4   \n",
       "65          0.930166        0.932404       0.010768               5   \n",
       "\n",
       "    split0_test_mae  split1_test_mae  ...  std_test_mae  rank_test_mae  \\\n",
       "99         0.676659         0.684681  ...       0.00792              1   \n",
       "90         0.676659         0.684681  ...       0.00792              2   \n",
       "84         0.676659         0.684681  ...       0.00792              3   \n",
       "61         0.676659         0.684681  ...       0.00792              5   \n",
       "65         0.676659         0.684681  ...       0.00792              4   \n",
       "\n",
       "    mean_fit_time  std_fit_time  mean_test_time  std_test_time  \\\n",
       "99       1.195151      0.148748        0.263525       0.079651   \n",
       "90       0.989917      0.012328        0.219108       0.053979   \n",
       "84       0.983391      0.006254        0.190706       0.006799   \n",
       "61       1.049452      0.089192        0.243237       0.060533   \n",
       "65       1.001976      0.045242        0.220974       0.054644   \n",
       "\n",
       "                                               params  param_k  param_min_k  \\\n",
       "99  {'k': 14, 'min_k': 4, 'sim_options': {'name': ...       14            4   \n",
       "90  {'k': 87, 'min_k': 4, 'sim_options': {'name': ...       87            4   \n",
       "84  {'k': 93, 'min_k': 4, 'sim_options': {'name': ...       93            4   \n",
       "61  {'k': 58, 'min_k': 4, 'sim_options': {'name': ...       58            4   \n",
       "65  {'k': 37, 'min_k': 4, 'sim_options': {'name': ...       37            4   \n",
       "\n",
       "                          param_sim_options  \n",
       "99  {'name': 'pearson', 'user_based': True}  \n",
       "90  {'name': 'pearson', 'user_based': True}  \n",
       "84  {'name': 'pearson', 'user_based': True}  \n",
       "61  {'name': 'pearson', 'user_based': True}  \n",
       "65  {'name': 'pearson', 'user_based': True}  \n",
       "\n",
       "[5 rows x 24 columns]"
      ]
     },
     "execution_count": 32,
     "metadata": {},
     "output_type": "execute_result"
    }
   ],
   "source": [
    "results_df2 = pd.DataFrame(rs2.cv_results)\n",
    "results_df2.sort_values(by='mean_test_rmse').head()"
   ]
  },
  {
   "cell_type": "code",
   "execution_count": 35,
   "metadata": {},
   "outputs": [
    {
     "data": {
      "text/plain": [
       "Index(['split0_test_rmse', 'split1_test_rmse', 'split2_test_rmse',\n",
       "       'split3_test_rmse', 'split4_test_rmse', 'mean_test_rmse',\n",
       "       'std_test_rmse', 'rank_test_rmse', 'split0_test_mae', 'split1_test_mae',\n",
       "       'split2_test_mae', 'split3_test_mae', 'split4_test_mae',\n",
       "       'mean_test_mae', 'std_test_mae', 'rank_test_mae', 'mean_fit_time',\n",
       "       'std_fit_time', 'mean_test_time', 'std_test_time', 'params', 'param_k',\n",
       "       'param_min_k', 'param_sim_options'],\n",
       "      dtype='object')"
      ]
     },
     "execution_count": 35,
     "metadata": {},
     "output_type": "execute_result"
    }
   ],
   "source": [
    "results_df2.columns"
   ]
  },
  {
   "cell_type": "code",
   "execution_count": 36,
   "metadata": {},
   "outputs": [
    {
     "data": {
      "text/html": [
       "<div>\n",
       "<style scoped>\n",
       "    .dataframe tbody tr th:only-of-type {\n",
       "        vertical-align: middle;\n",
       "    }\n",
       "\n",
       "    .dataframe tbody tr th {\n",
       "        vertical-align: top;\n",
       "    }\n",
       "\n",
       "    .dataframe thead th {\n",
       "        text-align: right;\n",
       "    }\n",
       "</style>\n",
       "<table border=\"1\" class=\"dataframe\">\n",
       "  <thead>\n",
       "    <tr style=\"text-align: right;\">\n",
       "      <th></th>\n",
       "      <th>param_k</th>\n",
       "      <th>param_min_k</th>\n",
       "      <th>param_sim_options</th>\n",
       "      <th>mean_test_rmse</th>\n",
       "    </tr>\n",
       "  </thead>\n",
       "  <tbody>\n",
       "    <tr>\n",
       "      <th>99</th>\n",
       "      <td>14</td>\n",
       "      <td>4</td>\n",
       "      <td>{'name': 'pearson', 'user_based': True}</td>\n",
       "      <td>0.932404</td>\n",
       "    </tr>\n",
       "    <tr>\n",
       "      <th>90</th>\n",
       "      <td>87</td>\n",
       "      <td>4</td>\n",
       "      <td>{'name': 'pearson', 'user_based': True}</td>\n",
       "      <td>0.932404</td>\n",
       "    </tr>\n",
       "    <tr>\n",
       "      <th>84</th>\n",
       "      <td>93</td>\n",
       "      <td>4</td>\n",
       "      <td>{'name': 'pearson', 'user_based': True}</td>\n",
       "      <td>0.932404</td>\n",
       "    </tr>\n",
       "    <tr>\n",
       "      <th>61</th>\n",
       "      <td>58</td>\n",
       "      <td>4</td>\n",
       "      <td>{'name': 'pearson', 'user_based': True}</td>\n",
       "      <td>0.932404</td>\n",
       "    </tr>\n",
       "    <tr>\n",
       "      <th>65</th>\n",
       "      <td>37</td>\n",
       "      <td>4</td>\n",
       "      <td>{'name': 'pearson', 'user_based': True}</td>\n",
       "      <td>0.932404</td>\n",
       "    </tr>\n",
       "    <tr>\n",
       "      <th>...</th>\n",
       "      <td>...</td>\n",
       "      <td>...</td>\n",
       "      <td>...</td>\n",
       "      <td>...</td>\n",
       "    </tr>\n",
       "    <tr>\n",
       "      <th>71</th>\n",
       "      <td>61</td>\n",
       "      <td>1</td>\n",
       "      <td>{'name': 'msd', 'user_based': True}</td>\n",
       "      <td>1.008061</td>\n",
       "    </tr>\n",
       "    <tr>\n",
       "      <th>41</th>\n",
       "      <td>34</td>\n",
       "      <td>0</td>\n",
       "      <td>{'name': 'msd', 'user_based': True}</td>\n",
       "      <td>1.008072</td>\n",
       "    </tr>\n",
       "    <tr>\n",
       "      <th>39</th>\n",
       "      <td>33</td>\n",
       "      <td>0</td>\n",
       "      <td>{'name': 'msd', 'user_based': True}</td>\n",
       "      <td>1.008076</td>\n",
       "    </tr>\n",
       "    <tr>\n",
       "      <th>92</th>\n",
       "      <td>30</td>\n",
       "      <td>0</td>\n",
       "      <td>{'name': 'msd', 'user_based': True}</td>\n",
       "      <td>1.008084</td>\n",
       "    </tr>\n",
       "    <tr>\n",
       "      <th>95</th>\n",
       "      <td>14</td>\n",
       "      <td>1</td>\n",
       "      <td>{'name': 'msd', 'user_based': True}</td>\n",
       "      <td>1.008360</td>\n",
       "    </tr>\n",
       "  </tbody>\n",
       "</table>\n",
       "<p>100 rows × 4 columns</p>\n",
       "</div>"
      ],
      "text/plain": [
       "    param_k  param_min_k                        param_sim_options  \\\n",
       "99       14            4  {'name': 'pearson', 'user_based': True}   \n",
       "90       87            4  {'name': 'pearson', 'user_based': True}   \n",
       "84       93            4  {'name': 'pearson', 'user_based': True}   \n",
       "61       58            4  {'name': 'pearson', 'user_based': True}   \n",
       "65       37            4  {'name': 'pearson', 'user_based': True}   \n",
       "..      ...          ...                                      ...   \n",
       "71       61            1      {'name': 'msd', 'user_based': True}   \n",
       "41       34            0      {'name': 'msd', 'user_based': True}   \n",
       "39       33            0      {'name': 'msd', 'user_based': True}   \n",
       "92       30            0      {'name': 'msd', 'user_based': True}   \n",
       "95       14            1      {'name': 'msd', 'user_based': True}   \n",
       "\n",
       "    mean_test_rmse  \n",
       "99        0.932404  \n",
       "90        0.932404  \n",
       "84        0.932404  \n",
       "61        0.932404  \n",
       "65        0.932404  \n",
       "..             ...  \n",
       "71        1.008061  \n",
       "41        1.008072  \n",
       "39        1.008076  \n",
       "92        1.008084  \n",
       "95        1.008360  \n",
       "\n",
       "[100 rows x 4 columns]"
      ]
     },
     "execution_count": 36,
     "metadata": {},
     "output_type": "execute_result"
    }
   ],
   "source": [
    "#Tomamos solo las columnas que nos interesan.\n",
    "resultados2 = results_df2[['param_k','param_min_k','param_sim_options',\n",
    "                         'mean_test_rmse']].sort_values(by='mean_test_rmse')\n",
    "resultados2"
   ]
  },
  {
   "cell_type": "code",
   "execution_count": 37,
   "metadata": {},
   "outputs": [
    {
     "data": {
      "text/html": [
       "<div>\n",
       "<style scoped>\n",
       "    .dataframe tbody tr th:only-of-type {\n",
       "        vertical-align: middle;\n",
       "    }\n",
       "\n",
       "    .dataframe tbody tr th {\n",
       "        vertical-align: top;\n",
       "    }\n",
       "\n",
       "    .dataframe thead th {\n",
       "        text-align: right;\n",
       "    }\n",
       "</style>\n",
       "<table border=\"1\" class=\"dataframe\">\n",
       "  <thead>\n",
       "    <tr style=\"text-align: right;\">\n",
       "      <th></th>\n",
       "      <th>k</th>\n",
       "      <th>min_k</th>\n",
       "      <th>sim_options</th>\n",
       "      <th>mean_test_rmse</th>\n",
       "    </tr>\n",
       "  </thead>\n",
       "  <tbody>\n",
       "    <tr>\n",
       "      <th>0</th>\n",
       "      <td>14</td>\n",
       "      <td>4</td>\n",
       "      <td>{'name': 'pearson', 'user_based': True}</td>\n",
       "      <td>0.932404</td>\n",
       "    </tr>\n",
       "    <tr>\n",
       "      <th>1</th>\n",
       "      <td>87</td>\n",
       "      <td>4</td>\n",
       "      <td>{'name': 'pearson', 'user_based': True}</td>\n",
       "      <td>0.932404</td>\n",
       "    </tr>\n",
       "    <tr>\n",
       "      <th>2</th>\n",
       "      <td>93</td>\n",
       "      <td>4</td>\n",
       "      <td>{'name': 'pearson', 'user_based': True}</td>\n",
       "      <td>0.932404</td>\n",
       "    </tr>\n",
       "    <tr>\n",
       "      <th>3</th>\n",
       "      <td>58</td>\n",
       "      <td>4</td>\n",
       "      <td>{'name': 'pearson', 'user_based': True}</td>\n",
       "      <td>0.932404</td>\n",
       "    </tr>\n",
       "    <tr>\n",
       "      <th>4</th>\n",
       "      <td>37</td>\n",
       "      <td>4</td>\n",
       "      <td>{'name': 'pearson', 'user_based': True}</td>\n",
       "      <td>0.932404</td>\n",
       "    </tr>\n",
       "    <tr>\n",
       "      <th>...</th>\n",
       "      <td>...</td>\n",
       "      <td>...</td>\n",
       "      <td>...</td>\n",
       "      <td>...</td>\n",
       "    </tr>\n",
       "    <tr>\n",
       "      <th>95</th>\n",
       "      <td>61</td>\n",
       "      <td>1</td>\n",
       "      <td>{'name': 'msd', 'user_based': True}</td>\n",
       "      <td>1.008061</td>\n",
       "    </tr>\n",
       "    <tr>\n",
       "      <th>96</th>\n",
       "      <td>34</td>\n",
       "      <td>0</td>\n",
       "      <td>{'name': 'msd', 'user_based': True}</td>\n",
       "      <td>1.008072</td>\n",
       "    </tr>\n",
       "    <tr>\n",
       "      <th>97</th>\n",
       "      <td>33</td>\n",
       "      <td>0</td>\n",
       "      <td>{'name': 'msd', 'user_based': True}</td>\n",
       "      <td>1.008076</td>\n",
       "    </tr>\n",
       "    <tr>\n",
       "      <th>98</th>\n",
       "      <td>30</td>\n",
       "      <td>0</td>\n",
       "      <td>{'name': 'msd', 'user_based': True}</td>\n",
       "      <td>1.008084</td>\n",
       "    </tr>\n",
       "    <tr>\n",
       "      <th>99</th>\n",
       "      <td>14</td>\n",
       "      <td>1</td>\n",
       "      <td>{'name': 'msd', 'user_based': True}</td>\n",
       "      <td>1.008360</td>\n",
       "    </tr>\n",
       "  </tbody>\n",
       "</table>\n",
       "<p>100 rows × 4 columns</p>\n",
       "</div>"
      ],
      "text/plain": [
       "     k  min_k                              sim_options  mean_test_rmse\n",
       "0   14      4  {'name': 'pearson', 'user_based': True}        0.932404\n",
       "1   87      4  {'name': 'pearson', 'user_based': True}        0.932404\n",
       "2   93      4  {'name': 'pearson', 'user_based': True}        0.932404\n",
       "3   58      4  {'name': 'pearson', 'user_based': True}        0.932404\n",
       "4   37      4  {'name': 'pearson', 'user_based': True}        0.932404\n",
       "..  ..    ...                                      ...             ...\n",
       "95  61      1      {'name': 'msd', 'user_based': True}        1.008061\n",
       "96  34      0      {'name': 'msd', 'user_based': True}        1.008072\n",
       "97  33      0      {'name': 'msd', 'user_based': True}        1.008076\n",
       "98  30      0      {'name': 'msd', 'user_based': True}        1.008084\n",
       "99  14      1      {'name': 'msd', 'user_based': True}        1.008360\n",
       "\n",
       "[100 rows x 4 columns]"
      ]
     },
     "execution_count": 37,
     "metadata": {},
     "output_type": "execute_result"
    }
   ],
   "source": [
    "#Limpiamos los nombres de los campos\n",
    "resultados2 = resultados2.rename(shorten_param, axis=1)\n",
    "resultados2.reset_index(inplace=True,drop=True)\n",
    "resultados2"
   ]
  },
  {
   "cell_type": "code",
   "execution_count": 38,
   "metadata": {},
   "outputs": [
    {
     "data": {
      "application/vnd.plotly.v1+json": {
       "config": {
        "plotlyServerURL": "https://plot.ly"
       },
       "data": [
        {
         "dimensions": [
          {
           "label": "k",
           "values": [
            14,
            87,
            93,
            58,
            37,
            53,
            21,
            43,
            64,
            72,
            71,
            18,
            75,
            93,
            96,
            50,
            66,
            42,
            39,
            12,
            74,
            57,
            77,
            68,
            76,
            18,
            46,
            16,
            17,
            27,
            43,
            15,
            93,
            48,
            29,
            89,
            92,
            47,
            71,
            43,
            25,
            23,
            10,
            85,
            48,
            66,
            59,
            44,
            39,
            15,
            79,
            91,
            92,
            61,
            64,
            46,
            37,
            63,
            57,
            56,
            47,
            41,
            22,
            32,
            98,
            28,
            80,
            99,
            70,
            43,
            93,
            89,
            67,
            60,
            57,
            28,
            23,
            86,
            91,
            98,
            80,
            92,
            68,
            52,
            64,
            26,
            25,
            33,
            22,
            18,
            17,
            80,
            76,
            70,
            62,
            61,
            34,
            33,
            30,
            14
           ]
          },
          {
           "label": "min_k",
           "values": [
            4,
            4,
            4,
            4,
            4,
            3,
            3,
            3,
            3,
            3,
            3,
            3,
            3,
            3,
            4,
            4,
            4,
            4,
            4,
            4,
            2,
            2,
            2,
            2,
            2,
            2,
            2,
            2,
            2,
            2,
            2,
            2,
            4,
            4,
            4,
            3,
            3,
            3,
            3,
            3,
            3,
            3,
            3,
            3,
            3,
            3,
            3,
            3,
            3,
            3,
            2,
            2,
            2,
            2,
            2,
            2,
            2,
            1,
            0,
            0,
            0,
            1,
            1,
            0,
            0,
            0,
            0,
            0,
            1,
            1,
            2,
            2,
            2,
            2,
            2,
            2,
            2,
            1,
            0,
            0,
            0,
            1,
            1,
            1,
            1,
            0,
            0,
            1,
            1,
            0,
            1,
            1,
            0,
            0,
            0,
            1,
            0,
            0,
            0,
            1
           ]
          },
          {
           "label": "mean_test_rmse",
           "values": [
            0.9324040837352305,
            0.9324040837352305,
            0.9324040837352305,
            0.9324040837352305,
            0.9324040837352305,
            0.9330667111176021,
            0.9330667111176021,
            0.9330667111176021,
            0.9330667111176021,
            0.9330667111176021,
            0.9330667111176021,
            0.9330667111176021,
            0.9330667111176021,
            0.9330667111176021,
            0.9344258049446494,
            0.9344275088456289,
            0.9344299417456078,
            0.9344385914291552,
            0.9344416520629366,
            0.9351397680839455,
            0.935440262206701,
            0.935440262206701,
            0.935440262206701,
            0.935440262206701,
            0.935440262206701,
            0.935440262206701,
            0.935440262206701,
            0.935440262206701,
            0.935440262206701,
            0.935440262206701,
            0.935440262206701,
            0.935440262206701,
            0.9366535509483223,
            0.9366581937339333,
            0.9366842386098728,
            0.9403025516228805,
            0.9403065827164678,
            0.9403085197837113,
            0.9403104789572542,
            0.9403164140941922,
            0.9403344354383926,
            0.940341572189386,
            0.94133415854268,
            0.9443649061074565,
            0.9443691129734221,
            0.9443701691869313,
            0.9443703222988843,
            0.9443720253684422,
            0.9443765962867184,
            0.9446404897313878,
            0.9539397259454386,
            0.9539400387950636,
            0.9539411996960044,
            0.9539448666185282,
            0.9539453279360964,
            0.9539458704552558,
            0.9539610199054241,
            0.9548754529820801,
            0.9548754529820801,
            0.9548754529820801,
            0.9548754529820801,
            0.9548754529820801,
            0.9548754529820801,
            0.9548754529820801,
            0.9548754529820801,
            0.9548754529820801,
            0.9548754529820801,
            0.9548754529820801,
            0.9548754529820801,
            0.9548754529820801,
            0.9594813184340321,
            0.9594819566194938,
            0.959486397490241,
            0.9594867026133052,
            0.9594871353321824,
            0.9595169912565285,
            0.959534427902007,
            1.002782153809712,
            1.0027837784423312,
            1.0027838796166324,
            1.002783891777999,
            1.0027848866927012,
            1.0027877862572319,
            1.002788762303716,
            1.0027888306002395,
            1.002803152416345,
            1.0028108326926763,
            1.0028128757480304,
            1.002832784478348,
            1.0028858748328366,
            1.0029236683057934,
            1.0080578342472983,
            1.0080587940194865,
            1.008060376181135,
            1.0080606881751328,
            1.0080610362186775,
            1.0080716167410104,
            1.0080757792167672,
            1.0080840076739026,
            1.008359648031008
           ]
          }
         ],
         "domain": {
          "x": [
           0,
           1
          ],
          "y": [
           0,
           1
          ]
         },
         "line": {
          "color": [
           0.9324040837352305,
           0.9324040837352305,
           0.9324040837352305,
           0.9324040837352305,
           0.9324040837352305,
           0.9330667111176021,
           0.9330667111176021,
           0.9330667111176021,
           0.9330667111176021,
           0.9330667111176021,
           0.9330667111176021,
           0.9330667111176021,
           0.9330667111176021,
           0.9330667111176021,
           0.9344258049446494,
           0.9344275088456289,
           0.9344299417456078,
           0.9344385914291552,
           0.9344416520629366,
           0.9351397680839455,
           0.935440262206701,
           0.935440262206701,
           0.935440262206701,
           0.935440262206701,
           0.935440262206701,
           0.935440262206701,
           0.935440262206701,
           0.935440262206701,
           0.935440262206701,
           0.935440262206701,
           0.935440262206701,
           0.935440262206701,
           0.9366535509483223,
           0.9366581937339333,
           0.9366842386098728,
           0.9403025516228805,
           0.9403065827164678,
           0.9403085197837113,
           0.9403104789572542,
           0.9403164140941922,
           0.9403344354383926,
           0.940341572189386,
           0.94133415854268,
           0.9443649061074565,
           0.9443691129734221,
           0.9443701691869313,
           0.9443703222988843,
           0.9443720253684422,
           0.9443765962867184,
           0.9446404897313878,
           0.9539397259454386,
           0.9539400387950636,
           0.9539411996960044,
           0.9539448666185282,
           0.9539453279360964,
           0.9539458704552558,
           0.9539610199054241,
           0.9548754529820801,
           0.9548754529820801,
           0.9548754529820801,
           0.9548754529820801,
           0.9548754529820801,
           0.9548754529820801,
           0.9548754529820801,
           0.9548754529820801,
           0.9548754529820801,
           0.9548754529820801,
           0.9548754529820801,
           0.9548754529820801,
           0.9548754529820801,
           0.9594813184340321,
           0.9594819566194938,
           0.959486397490241,
           0.9594867026133052,
           0.9594871353321824,
           0.9595169912565285,
           0.959534427902007,
           1.002782153809712,
           1.0027837784423312,
           1.0027838796166324,
           1.002783891777999,
           1.0027848866927012,
           1.0027877862572319,
           1.002788762303716,
           1.0027888306002395,
           1.002803152416345,
           1.0028108326926763,
           1.0028128757480304,
           1.002832784478348,
           1.0028858748328366,
           1.0029236683057934,
           1.0080578342472983,
           1.0080587940194865,
           1.008060376181135,
           1.0080606881751328,
           1.0080610362186775,
           1.0080716167410104,
           1.0080757792167672,
           1.0080840076739026,
           1.008359648031008
          ],
          "coloraxis": "coloraxis"
         },
         "name": "",
         "type": "parcoords"
        }
       ],
       "layout": {
        "coloraxis": {
         "colorbar": {
          "title": {
           "text": "mean_test_rmse"
          }
         },
         "colorscale": [
          [
           0,
           "#440154"
          ],
          [
           0.1111111111111111,
           "#482878"
          ],
          [
           0.2222222222222222,
           "#3e4989"
          ],
          [
           0.3333333333333333,
           "#31688e"
          ],
          [
           0.4444444444444444,
           "#26828e"
          ],
          [
           0.5555555555555556,
           "#1f9e89"
          ],
          [
           0.6666666666666666,
           "#35b779"
          ],
          [
           0.7777777777777778,
           "#6ece58"
          ],
          [
           0.8888888888888888,
           "#b5de2b"
          ],
          [
           1,
           "#fde725"
          ]
         ]
        },
        "legend": {
         "tracegroupgap": 0
        },
        "margin": {
         "t": 60
        },
        "template": {
         "data": {
          "bar": [
           {
            "error_x": {
             "color": "#2a3f5f"
            },
            "error_y": {
             "color": "#2a3f5f"
            },
            "marker": {
             "line": {
              "color": "#E5ECF6",
              "width": 0.5
             },
             "pattern": {
              "fillmode": "overlay",
              "size": 10,
              "solidity": 0.2
             }
            },
            "type": "bar"
           }
          ],
          "barpolar": [
           {
            "marker": {
             "line": {
              "color": "#E5ECF6",
              "width": 0.5
             },
             "pattern": {
              "fillmode": "overlay",
              "size": 10,
              "solidity": 0.2
             }
            },
            "type": "barpolar"
           }
          ],
          "carpet": [
           {
            "aaxis": {
             "endlinecolor": "#2a3f5f",
             "gridcolor": "white",
             "linecolor": "white",
             "minorgridcolor": "white",
             "startlinecolor": "#2a3f5f"
            },
            "baxis": {
             "endlinecolor": "#2a3f5f",
             "gridcolor": "white",
             "linecolor": "white",
             "minorgridcolor": "white",
             "startlinecolor": "#2a3f5f"
            },
            "type": "carpet"
           }
          ],
          "choropleth": [
           {
            "colorbar": {
             "outlinewidth": 0,
             "ticks": ""
            },
            "type": "choropleth"
           }
          ],
          "contour": [
           {
            "colorbar": {
             "outlinewidth": 0,
             "ticks": ""
            },
            "colorscale": [
             [
              0,
              "#0d0887"
             ],
             [
              0.1111111111111111,
              "#46039f"
             ],
             [
              0.2222222222222222,
              "#7201a8"
             ],
             [
              0.3333333333333333,
              "#9c179e"
             ],
             [
              0.4444444444444444,
              "#bd3786"
             ],
             [
              0.5555555555555556,
              "#d8576b"
             ],
             [
              0.6666666666666666,
              "#ed7953"
             ],
             [
              0.7777777777777778,
              "#fb9f3a"
             ],
             [
              0.8888888888888888,
              "#fdca26"
             ],
             [
              1,
              "#f0f921"
             ]
            ],
            "type": "contour"
           }
          ],
          "contourcarpet": [
           {
            "colorbar": {
             "outlinewidth": 0,
             "ticks": ""
            },
            "type": "contourcarpet"
           }
          ],
          "heatmap": [
           {
            "colorbar": {
             "outlinewidth": 0,
             "ticks": ""
            },
            "colorscale": [
             [
              0,
              "#0d0887"
             ],
             [
              0.1111111111111111,
              "#46039f"
             ],
             [
              0.2222222222222222,
              "#7201a8"
             ],
             [
              0.3333333333333333,
              "#9c179e"
             ],
             [
              0.4444444444444444,
              "#bd3786"
             ],
             [
              0.5555555555555556,
              "#d8576b"
             ],
             [
              0.6666666666666666,
              "#ed7953"
             ],
             [
              0.7777777777777778,
              "#fb9f3a"
             ],
             [
              0.8888888888888888,
              "#fdca26"
             ],
             [
              1,
              "#f0f921"
             ]
            ],
            "type": "heatmap"
           }
          ],
          "heatmapgl": [
           {
            "colorbar": {
             "outlinewidth": 0,
             "ticks": ""
            },
            "colorscale": [
             [
              0,
              "#0d0887"
             ],
             [
              0.1111111111111111,
              "#46039f"
             ],
             [
              0.2222222222222222,
              "#7201a8"
             ],
             [
              0.3333333333333333,
              "#9c179e"
             ],
             [
              0.4444444444444444,
              "#bd3786"
             ],
             [
              0.5555555555555556,
              "#d8576b"
             ],
             [
              0.6666666666666666,
              "#ed7953"
             ],
             [
              0.7777777777777778,
              "#fb9f3a"
             ],
             [
              0.8888888888888888,
              "#fdca26"
             ],
             [
              1,
              "#f0f921"
             ]
            ],
            "type": "heatmapgl"
           }
          ],
          "histogram": [
           {
            "marker": {
             "pattern": {
              "fillmode": "overlay",
              "size": 10,
              "solidity": 0.2
             }
            },
            "type": "histogram"
           }
          ],
          "histogram2d": [
           {
            "colorbar": {
             "outlinewidth": 0,
             "ticks": ""
            },
            "colorscale": [
             [
              0,
              "#0d0887"
             ],
             [
              0.1111111111111111,
              "#46039f"
             ],
             [
              0.2222222222222222,
              "#7201a8"
             ],
             [
              0.3333333333333333,
              "#9c179e"
             ],
             [
              0.4444444444444444,
              "#bd3786"
             ],
             [
              0.5555555555555556,
              "#d8576b"
             ],
             [
              0.6666666666666666,
              "#ed7953"
             ],
             [
              0.7777777777777778,
              "#fb9f3a"
             ],
             [
              0.8888888888888888,
              "#fdca26"
             ],
             [
              1,
              "#f0f921"
             ]
            ],
            "type": "histogram2d"
           }
          ],
          "histogram2dcontour": [
           {
            "colorbar": {
             "outlinewidth": 0,
             "ticks": ""
            },
            "colorscale": [
             [
              0,
              "#0d0887"
             ],
             [
              0.1111111111111111,
              "#46039f"
             ],
             [
              0.2222222222222222,
              "#7201a8"
             ],
             [
              0.3333333333333333,
              "#9c179e"
             ],
             [
              0.4444444444444444,
              "#bd3786"
             ],
             [
              0.5555555555555556,
              "#d8576b"
             ],
             [
              0.6666666666666666,
              "#ed7953"
             ],
             [
              0.7777777777777778,
              "#fb9f3a"
             ],
             [
              0.8888888888888888,
              "#fdca26"
             ],
             [
              1,
              "#f0f921"
             ]
            ],
            "type": "histogram2dcontour"
           }
          ],
          "mesh3d": [
           {
            "colorbar": {
             "outlinewidth": 0,
             "ticks": ""
            },
            "type": "mesh3d"
           }
          ],
          "parcoords": [
           {
            "line": {
             "colorbar": {
              "outlinewidth": 0,
              "ticks": ""
             }
            },
            "type": "parcoords"
           }
          ],
          "pie": [
           {
            "automargin": true,
            "type": "pie"
           }
          ],
          "scatter": [
           {
            "fillpattern": {
             "fillmode": "overlay",
             "size": 10,
             "solidity": 0.2
            },
            "type": "scatter"
           }
          ],
          "scatter3d": [
           {
            "line": {
             "colorbar": {
              "outlinewidth": 0,
              "ticks": ""
             }
            },
            "marker": {
             "colorbar": {
              "outlinewidth": 0,
              "ticks": ""
             }
            },
            "type": "scatter3d"
           }
          ],
          "scattercarpet": [
           {
            "marker": {
             "colorbar": {
              "outlinewidth": 0,
              "ticks": ""
             }
            },
            "type": "scattercarpet"
           }
          ],
          "scattergeo": [
           {
            "marker": {
             "colorbar": {
              "outlinewidth": 0,
              "ticks": ""
             }
            },
            "type": "scattergeo"
           }
          ],
          "scattergl": [
           {
            "marker": {
             "colorbar": {
              "outlinewidth": 0,
              "ticks": ""
             }
            },
            "type": "scattergl"
           }
          ],
          "scattermapbox": [
           {
            "marker": {
             "colorbar": {
              "outlinewidth": 0,
              "ticks": ""
             }
            },
            "type": "scattermapbox"
           }
          ],
          "scatterpolar": [
           {
            "marker": {
             "colorbar": {
              "outlinewidth": 0,
              "ticks": ""
             }
            },
            "type": "scatterpolar"
           }
          ],
          "scatterpolargl": [
           {
            "marker": {
             "colorbar": {
              "outlinewidth": 0,
              "ticks": ""
             }
            },
            "type": "scatterpolargl"
           }
          ],
          "scatterternary": [
           {
            "marker": {
             "colorbar": {
              "outlinewidth": 0,
              "ticks": ""
             }
            },
            "type": "scatterternary"
           }
          ],
          "surface": [
           {
            "colorbar": {
             "outlinewidth": 0,
             "ticks": ""
            },
            "colorscale": [
             [
              0,
              "#0d0887"
             ],
             [
              0.1111111111111111,
              "#46039f"
             ],
             [
              0.2222222222222222,
              "#7201a8"
             ],
             [
              0.3333333333333333,
              "#9c179e"
             ],
             [
              0.4444444444444444,
              "#bd3786"
             ],
             [
              0.5555555555555556,
              "#d8576b"
             ],
             [
              0.6666666666666666,
              "#ed7953"
             ],
             [
              0.7777777777777778,
              "#fb9f3a"
             ],
             [
              0.8888888888888888,
              "#fdca26"
             ],
             [
              1,
              "#f0f921"
             ]
            ],
            "type": "surface"
           }
          ],
          "table": [
           {
            "cells": {
             "fill": {
              "color": "#EBF0F8"
             },
             "line": {
              "color": "white"
             }
            },
            "header": {
             "fill": {
              "color": "#C8D4E3"
             },
             "line": {
              "color": "white"
             }
            },
            "type": "table"
           }
          ]
         },
         "layout": {
          "annotationdefaults": {
           "arrowcolor": "#2a3f5f",
           "arrowhead": 0,
           "arrowwidth": 1
          },
          "autotypenumbers": "strict",
          "coloraxis": {
           "colorbar": {
            "outlinewidth": 0,
            "ticks": ""
           }
          },
          "colorscale": {
           "diverging": [
            [
             0,
             "#8e0152"
            ],
            [
             0.1,
             "#c51b7d"
            ],
            [
             0.2,
             "#de77ae"
            ],
            [
             0.3,
             "#f1b6da"
            ],
            [
             0.4,
             "#fde0ef"
            ],
            [
             0.5,
             "#f7f7f7"
            ],
            [
             0.6,
             "#e6f5d0"
            ],
            [
             0.7,
             "#b8e186"
            ],
            [
             0.8,
             "#7fbc41"
            ],
            [
             0.9,
             "#4d9221"
            ],
            [
             1,
             "#276419"
            ]
           ],
           "sequential": [
            [
             0,
             "#0d0887"
            ],
            [
             0.1111111111111111,
             "#46039f"
            ],
            [
             0.2222222222222222,
             "#7201a8"
            ],
            [
             0.3333333333333333,
             "#9c179e"
            ],
            [
             0.4444444444444444,
             "#bd3786"
            ],
            [
             0.5555555555555556,
             "#d8576b"
            ],
            [
             0.6666666666666666,
             "#ed7953"
            ],
            [
             0.7777777777777778,
             "#fb9f3a"
            ],
            [
             0.8888888888888888,
             "#fdca26"
            ],
            [
             1,
             "#f0f921"
            ]
           ],
           "sequentialminus": [
            [
             0,
             "#0d0887"
            ],
            [
             0.1111111111111111,
             "#46039f"
            ],
            [
             0.2222222222222222,
             "#7201a8"
            ],
            [
             0.3333333333333333,
             "#9c179e"
            ],
            [
             0.4444444444444444,
             "#bd3786"
            ],
            [
             0.5555555555555556,
             "#d8576b"
            ],
            [
             0.6666666666666666,
             "#ed7953"
            ],
            [
             0.7777777777777778,
             "#fb9f3a"
            ],
            [
             0.8888888888888888,
             "#fdca26"
            ],
            [
             1,
             "#f0f921"
            ]
           ]
          },
          "colorway": [
           "#636efa",
           "#EF553B",
           "#00cc96",
           "#ab63fa",
           "#FFA15A",
           "#19d3f3",
           "#FF6692",
           "#B6E880",
           "#FF97FF",
           "#FECB52"
          ],
          "font": {
           "color": "#2a3f5f"
          },
          "geo": {
           "bgcolor": "white",
           "lakecolor": "white",
           "landcolor": "#E5ECF6",
           "showlakes": true,
           "showland": true,
           "subunitcolor": "white"
          },
          "hoverlabel": {
           "align": "left"
          },
          "hovermode": "closest",
          "mapbox": {
           "style": "light"
          },
          "paper_bgcolor": "white",
          "plot_bgcolor": "#E5ECF6",
          "polar": {
           "angularaxis": {
            "gridcolor": "white",
            "linecolor": "white",
            "ticks": ""
           },
           "bgcolor": "#E5ECF6",
           "radialaxis": {
            "gridcolor": "white",
            "linecolor": "white",
            "ticks": ""
           }
          },
          "scene": {
           "xaxis": {
            "backgroundcolor": "#E5ECF6",
            "gridcolor": "white",
            "gridwidth": 2,
            "linecolor": "white",
            "showbackground": true,
            "ticks": "",
            "zerolinecolor": "white"
           },
           "yaxis": {
            "backgroundcolor": "#E5ECF6",
            "gridcolor": "white",
            "gridwidth": 2,
            "linecolor": "white",
            "showbackground": true,
            "ticks": "",
            "zerolinecolor": "white"
           },
           "zaxis": {
            "backgroundcolor": "#E5ECF6",
            "gridcolor": "white",
            "gridwidth": 2,
            "linecolor": "white",
            "showbackground": true,
            "ticks": "",
            "zerolinecolor": "white"
           }
          },
          "shapedefaults": {
           "line": {
            "color": "#2a3f5f"
           }
          },
          "ternary": {
           "aaxis": {
            "gridcolor": "white",
            "linecolor": "white",
            "ticks": ""
           },
           "baxis": {
            "gridcolor": "white",
            "linecolor": "white",
            "ticks": ""
           },
           "bgcolor": "#E5ECF6",
           "caxis": {
            "gridcolor": "white",
            "linecolor": "white",
            "ticks": ""
           }
          },
          "title": {
           "x": 0.05
          },
          "xaxis": {
           "automargin": true,
           "gridcolor": "white",
           "linecolor": "white",
           "ticks": "",
           "title": {
            "standoff": 15
           },
           "zerolinecolor": "white",
           "zerolinewidth": 2
          },
          "yaxis": {
           "automargin": true,
           "gridcolor": "white",
           "linecolor": "white",
           "ticks": "",
           "title": {
            "standoff": 15
           },
           "zerolinecolor": "white",
           "zerolinewidth": 2
          }
         }
        }
       }
      },
      "text/html": [
       "<div>                            <div id=\"9ef911b0-3951-4b77-a47d-5a9c14f446b2\" class=\"plotly-graph-div\" style=\"height:525px; width:100%;\"></div>            <script type=\"text/javascript\">                require([\"plotly\"], function(Plotly) {                    window.PLOTLYENV=window.PLOTLYENV || {};                                    if (document.getElementById(\"9ef911b0-3951-4b77-a47d-5a9c14f446b2\")) {                    Plotly.newPlot(                        \"9ef911b0-3951-4b77-a47d-5a9c14f446b2\",                        [{\"dimensions\":[{\"label\":\"k\",\"values\":[14,87,93,58,37,53,21,43,64,72,71,18,75,93,96,50,66,42,39,12,74,57,77,68,76,18,46,16,17,27,43,15,93,48,29,89,92,47,71,43,25,23,10,85,48,66,59,44,39,15,79,91,92,61,64,46,37,63,57,56,47,41,22,32,98,28,80,99,70,43,93,89,67,60,57,28,23,86,91,98,80,92,68,52,64,26,25,33,22,18,17,80,76,70,62,61,34,33,30,14]},{\"label\":\"min_k\",\"values\":[4,4,4,4,4,3,3,3,3,3,3,3,3,3,4,4,4,4,4,4,2,2,2,2,2,2,2,2,2,2,2,2,4,4,4,3,3,3,3,3,3,3,3,3,3,3,3,3,3,3,2,2,2,2,2,2,2,1,0,0,0,1,1,0,0,0,0,0,1,1,2,2,2,2,2,2,2,1,0,0,0,1,1,1,1,0,0,1,1,0,1,1,0,0,0,1,0,0,0,1]},{\"label\":\"mean_test_rmse\",\"values\":[0.9324040837352305,0.9324040837352305,0.9324040837352305,0.9324040837352305,0.9324040837352305,0.9330667111176021,0.9330667111176021,0.9330667111176021,0.9330667111176021,0.9330667111176021,0.9330667111176021,0.9330667111176021,0.9330667111176021,0.9330667111176021,0.9344258049446494,0.9344275088456289,0.9344299417456078,0.9344385914291552,0.9344416520629366,0.9351397680839455,0.935440262206701,0.935440262206701,0.935440262206701,0.935440262206701,0.935440262206701,0.935440262206701,0.935440262206701,0.935440262206701,0.935440262206701,0.935440262206701,0.935440262206701,0.935440262206701,0.9366535509483223,0.9366581937339333,0.9366842386098728,0.9403025516228805,0.9403065827164678,0.9403085197837113,0.9403104789572542,0.9403164140941922,0.9403344354383926,0.940341572189386,0.94133415854268,0.9443649061074565,0.9443691129734221,0.9443701691869313,0.9443703222988843,0.9443720253684422,0.9443765962867184,0.9446404897313878,0.9539397259454386,0.9539400387950636,0.9539411996960044,0.9539448666185282,0.9539453279360964,0.9539458704552558,0.9539610199054241,0.9548754529820801,0.9548754529820801,0.9548754529820801,0.9548754529820801,0.9548754529820801,0.9548754529820801,0.9548754529820801,0.9548754529820801,0.9548754529820801,0.9548754529820801,0.9548754529820801,0.9548754529820801,0.9548754529820801,0.9594813184340321,0.9594819566194938,0.959486397490241,0.9594867026133052,0.9594871353321824,0.9595169912565285,0.959534427902007,1.002782153809712,1.0027837784423312,1.0027838796166324,1.002783891777999,1.0027848866927012,1.0027877862572319,1.002788762303716,1.0027888306002395,1.002803152416345,1.0028108326926763,1.0028128757480304,1.002832784478348,1.0028858748328366,1.0029236683057934,1.0080578342472983,1.0080587940194865,1.008060376181135,1.0080606881751328,1.0080610362186775,1.0080716167410104,1.0080757792167672,1.0080840076739026,1.008359648031008]}],\"domain\":{\"x\":[0.0,1.0],\"y\":[0.0,1.0]},\"line\":{\"color\":[0.9324040837352305,0.9324040837352305,0.9324040837352305,0.9324040837352305,0.9324040837352305,0.9330667111176021,0.9330667111176021,0.9330667111176021,0.9330667111176021,0.9330667111176021,0.9330667111176021,0.9330667111176021,0.9330667111176021,0.9330667111176021,0.9344258049446494,0.9344275088456289,0.9344299417456078,0.9344385914291552,0.9344416520629366,0.9351397680839455,0.935440262206701,0.935440262206701,0.935440262206701,0.935440262206701,0.935440262206701,0.935440262206701,0.935440262206701,0.935440262206701,0.935440262206701,0.935440262206701,0.935440262206701,0.935440262206701,0.9366535509483223,0.9366581937339333,0.9366842386098728,0.9403025516228805,0.9403065827164678,0.9403085197837113,0.9403104789572542,0.9403164140941922,0.9403344354383926,0.940341572189386,0.94133415854268,0.9443649061074565,0.9443691129734221,0.9443701691869313,0.9443703222988843,0.9443720253684422,0.9443765962867184,0.9446404897313878,0.9539397259454386,0.9539400387950636,0.9539411996960044,0.9539448666185282,0.9539453279360964,0.9539458704552558,0.9539610199054241,0.9548754529820801,0.9548754529820801,0.9548754529820801,0.9548754529820801,0.9548754529820801,0.9548754529820801,0.9548754529820801,0.9548754529820801,0.9548754529820801,0.9548754529820801,0.9548754529820801,0.9548754529820801,0.9548754529820801,0.9594813184340321,0.9594819566194938,0.959486397490241,0.9594867026133052,0.9594871353321824,0.9595169912565285,0.959534427902007,1.002782153809712,1.0027837784423312,1.0027838796166324,1.002783891777999,1.0027848866927012,1.0027877862572319,1.002788762303716,1.0027888306002395,1.002803152416345,1.0028108326926763,1.0028128757480304,1.002832784478348,1.0028858748328366,1.0029236683057934,1.0080578342472983,1.0080587940194865,1.008060376181135,1.0080606881751328,1.0080610362186775,1.0080716167410104,1.0080757792167672,1.0080840076739026,1.008359648031008],\"coloraxis\":\"coloraxis\"},\"name\":\"\",\"type\":\"parcoords\"}],                        {\"template\":{\"data\":{\"histogram2dcontour\":[{\"type\":\"histogram2dcontour\",\"colorbar\":{\"outlinewidth\":0,\"ticks\":\"\"},\"colorscale\":[[0.0,\"#0d0887\"],[0.1111111111111111,\"#46039f\"],[0.2222222222222222,\"#7201a8\"],[0.3333333333333333,\"#9c179e\"],[0.4444444444444444,\"#bd3786\"],[0.5555555555555556,\"#d8576b\"],[0.6666666666666666,\"#ed7953\"],[0.7777777777777778,\"#fb9f3a\"],[0.8888888888888888,\"#fdca26\"],[1.0,\"#f0f921\"]]}],\"choropleth\":[{\"type\":\"choropleth\",\"colorbar\":{\"outlinewidth\":0,\"ticks\":\"\"}}],\"histogram2d\":[{\"type\":\"histogram2d\",\"colorbar\":{\"outlinewidth\":0,\"ticks\":\"\"},\"colorscale\":[[0.0,\"#0d0887\"],[0.1111111111111111,\"#46039f\"],[0.2222222222222222,\"#7201a8\"],[0.3333333333333333,\"#9c179e\"],[0.4444444444444444,\"#bd3786\"],[0.5555555555555556,\"#d8576b\"],[0.6666666666666666,\"#ed7953\"],[0.7777777777777778,\"#fb9f3a\"],[0.8888888888888888,\"#fdca26\"],[1.0,\"#f0f921\"]]}],\"heatmap\":[{\"type\":\"heatmap\",\"colorbar\":{\"outlinewidth\":0,\"ticks\":\"\"},\"colorscale\":[[0.0,\"#0d0887\"],[0.1111111111111111,\"#46039f\"],[0.2222222222222222,\"#7201a8\"],[0.3333333333333333,\"#9c179e\"],[0.4444444444444444,\"#bd3786\"],[0.5555555555555556,\"#d8576b\"],[0.6666666666666666,\"#ed7953\"],[0.7777777777777778,\"#fb9f3a\"],[0.8888888888888888,\"#fdca26\"],[1.0,\"#f0f921\"]]}],\"heatmapgl\":[{\"type\":\"heatmapgl\",\"colorbar\":{\"outlinewidth\":0,\"ticks\":\"\"},\"colorscale\":[[0.0,\"#0d0887\"],[0.1111111111111111,\"#46039f\"],[0.2222222222222222,\"#7201a8\"],[0.3333333333333333,\"#9c179e\"],[0.4444444444444444,\"#bd3786\"],[0.5555555555555556,\"#d8576b\"],[0.6666666666666666,\"#ed7953\"],[0.7777777777777778,\"#fb9f3a\"],[0.8888888888888888,\"#fdca26\"],[1.0,\"#f0f921\"]]}],\"contourcarpet\":[{\"type\":\"contourcarpet\",\"colorbar\":{\"outlinewidth\":0,\"ticks\":\"\"}}],\"contour\":[{\"type\":\"contour\",\"colorbar\":{\"outlinewidth\":0,\"ticks\":\"\"},\"colorscale\":[[0.0,\"#0d0887\"],[0.1111111111111111,\"#46039f\"],[0.2222222222222222,\"#7201a8\"],[0.3333333333333333,\"#9c179e\"],[0.4444444444444444,\"#bd3786\"],[0.5555555555555556,\"#d8576b\"],[0.6666666666666666,\"#ed7953\"],[0.7777777777777778,\"#fb9f3a\"],[0.8888888888888888,\"#fdca26\"],[1.0,\"#f0f921\"]]}],\"surface\":[{\"type\":\"surface\",\"colorbar\":{\"outlinewidth\":0,\"ticks\":\"\"},\"colorscale\":[[0.0,\"#0d0887\"],[0.1111111111111111,\"#46039f\"],[0.2222222222222222,\"#7201a8\"],[0.3333333333333333,\"#9c179e\"],[0.4444444444444444,\"#bd3786\"],[0.5555555555555556,\"#d8576b\"],[0.6666666666666666,\"#ed7953\"],[0.7777777777777778,\"#fb9f3a\"],[0.8888888888888888,\"#fdca26\"],[1.0,\"#f0f921\"]]}],\"mesh3d\":[{\"type\":\"mesh3d\",\"colorbar\":{\"outlinewidth\":0,\"ticks\":\"\"}}],\"scatter\":[{\"fillpattern\":{\"fillmode\":\"overlay\",\"size\":10,\"solidity\":0.2},\"type\":\"scatter\"}],\"parcoords\":[{\"type\":\"parcoords\",\"line\":{\"colorbar\":{\"outlinewidth\":0,\"ticks\":\"\"}}}],\"scatterpolargl\":[{\"type\":\"scatterpolargl\",\"marker\":{\"colorbar\":{\"outlinewidth\":0,\"ticks\":\"\"}}}],\"bar\":[{\"error_x\":{\"color\":\"#2a3f5f\"},\"error_y\":{\"color\":\"#2a3f5f\"},\"marker\":{\"line\":{\"color\":\"#E5ECF6\",\"width\":0.5},\"pattern\":{\"fillmode\":\"overlay\",\"size\":10,\"solidity\":0.2}},\"type\":\"bar\"}],\"scattergeo\":[{\"type\":\"scattergeo\",\"marker\":{\"colorbar\":{\"outlinewidth\":0,\"ticks\":\"\"}}}],\"scatterpolar\":[{\"type\":\"scatterpolar\",\"marker\":{\"colorbar\":{\"outlinewidth\":0,\"ticks\":\"\"}}}],\"histogram\":[{\"marker\":{\"pattern\":{\"fillmode\":\"overlay\",\"size\":10,\"solidity\":0.2}},\"type\":\"histogram\"}],\"scattergl\":[{\"type\":\"scattergl\",\"marker\":{\"colorbar\":{\"outlinewidth\":0,\"ticks\":\"\"}}}],\"scatter3d\":[{\"type\":\"scatter3d\",\"line\":{\"colorbar\":{\"outlinewidth\":0,\"ticks\":\"\"}},\"marker\":{\"colorbar\":{\"outlinewidth\":0,\"ticks\":\"\"}}}],\"scattermapbox\":[{\"type\":\"scattermapbox\",\"marker\":{\"colorbar\":{\"outlinewidth\":0,\"ticks\":\"\"}}}],\"scatterternary\":[{\"type\":\"scatterternary\",\"marker\":{\"colorbar\":{\"outlinewidth\":0,\"ticks\":\"\"}}}],\"scattercarpet\":[{\"type\":\"scattercarpet\",\"marker\":{\"colorbar\":{\"outlinewidth\":0,\"ticks\":\"\"}}}],\"carpet\":[{\"aaxis\":{\"endlinecolor\":\"#2a3f5f\",\"gridcolor\":\"white\",\"linecolor\":\"white\",\"minorgridcolor\":\"white\",\"startlinecolor\":\"#2a3f5f\"},\"baxis\":{\"endlinecolor\":\"#2a3f5f\",\"gridcolor\":\"white\",\"linecolor\":\"white\",\"minorgridcolor\":\"white\",\"startlinecolor\":\"#2a3f5f\"},\"type\":\"carpet\"}],\"table\":[{\"cells\":{\"fill\":{\"color\":\"#EBF0F8\"},\"line\":{\"color\":\"white\"}},\"header\":{\"fill\":{\"color\":\"#C8D4E3\"},\"line\":{\"color\":\"white\"}},\"type\":\"table\"}],\"barpolar\":[{\"marker\":{\"line\":{\"color\":\"#E5ECF6\",\"width\":0.5},\"pattern\":{\"fillmode\":\"overlay\",\"size\":10,\"solidity\":0.2}},\"type\":\"barpolar\"}],\"pie\":[{\"automargin\":true,\"type\":\"pie\"}]},\"layout\":{\"autotypenumbers\":\"strict\",\"colorway\":[\"#636efa\",\"#EF553B\",\"#00cc96\",\"#ab63fa\",\"#FFA15A\",\"#19d3f3\",\"#FF6692\",\"#B6E880\",\"#FF97FF\",\"#FECB52\"],\"font\":{\"color\":\"#2a3f5f\"},\"hovermode\":\"closest\",\"hoverlabel\":{\"align\":\"left\"},\"paper_bgcolor\":\"white\",\"plot_bgcolor\":\"#E5ECF6\",\"polar\":{\"bgcolor\":\"#E5ECF6\",\"angularaxis\":{\"gridcolor\":\"white\",\"linecolor\":\"white\",\"ticks\":\"\"},\"radialaxis\":{\"gridcolor\":\"white\",\"linecolor\":\"white\",\"ticks\":\"\"}},\"ternary\":{\"bgcolor\":\"#E5ECF6\",\"aaxis\":{\"gridcolor\":\"white\",\"linecolor\":\"white\",\"ticks\":\"\"},\"baxis\":{\"gridcolor\":\"white\",\"linecolor\":\"white\",\"ticks\":\"\"},\"caxis\":{\"gridcolor\":\"white\",\"linecolor\":\"white\",\"ticks\":\"\"}},\"coloraxis\":{\"colorbar\":{\"outlinewidth\":0,\"ticks\":\"\"}},\"colorscale\":{\"sequential\":[[0.0,\"#0d0887\"],[0.1111111111111111,\"#46039f\"],[0.2222222222222222,\"#7201a8\"],[0.3333333333333333,\"#9c179e\"],[0.4444444444444444,\"#bd3786\"],[0.5555555555555556,\"#d8576b\"],[0.6666666666666666,\"#ed7953\"],[0.7777777777777778,\"#fb9f3a\"],[0.8888888888888888,\"#fdca26\"],[1.0,\"#f0f921\"]],\"sequentialminus\":[[0.0,\"#0d0887\"],[0.1111111111111111,\"#46039f\"],[0.2222222222222222,\"#7201a8\"],[0.3333333333333333,\"#9c179e\"],[0.4444444444444444,\"#bd3786\"],[0.5555555555555556,\"#d8576b\"],[0.6666666666666666,\"#ed7953\"],[0.7777777777777778,\"#fb9f3a\"],[0.8888888888888888,\"#fdca26\"],[1.0,\"#f0f921\"]],\"diverging\":[[0,\"#8e0152\"],[0.1,\"#c51b7d\"],[0.2,\"#de77ae\"],[0.3,\"#f1b6da\"],[0.4,\"#fde0ef\"],[0.5,\"#f7f7f7\"],[0.6,\"#e6f5d0\"],[0.7,\"#b8e186\"],[0.8,\"#7fbc41\"],[0.9,\"#4d9221\"],[1,\"#276419\"]]},\"xaxis\":{\"gridcolor\":\"white\",\"linecolor\":\"white\",\"ticks\":\"\",\"title\":{\"standoff\":15},\"zerolinecolor\":\"white\",\"automargin\":true,\"zerolinewidth\":2},\"yaxis\":{\"gridcolor\":\"white\",\"linecolor\":\"white\",\"ticks\":\"\",\"title\":{\"standoff\":15},\"zerolinecolor\":\"white\",\"automargin\":true,\"zerolinewidth\":2},\"scene\":{\"xaxis\":{\"backgroundcolor\":\"#E5ECF6\",\"gridcolor\":\"white\",\"linecolor\":\"white\",\"showbackground\":true,\"ticks\":\"\",\"zerolinecolor\":\"white\",\"gridwidth\":2},\"yaxis\":{\"backgroundcolor\":\"#E5ECF6\",\"gridcolor\":\"white\",\"linecolor\":\"white\",\"showbackground\":true,\"ticks\":\"\",\"zerolinecolor\":\"white\",\"gridwidth\":2},\"zaxis\":{\"backgroundcolor\":\"#E5ECF6\",\"gridcolor\":\"white\",\"linecolor\":\"white\",\"showbackground\":true,\"ticks\":\"\",\"zerolinecolor\":\"white\",\"gridwidth\":2}},\"shapedefaults\":{\"line\":{\"color\":\"#2a3f5f\"}},\"annotationdefaults\":{\"arrowcolor\":\"#2a3f5f\",\"arrowhead\":0,\"arrowwidth\":1},\"geo\":{\"bgcolor\":\"white\",\"landcolor\":\"#E5ECF6\",\"subunitcolor\":\"white\",\"showland\":true,\"showlakes\":true,\"lakecolor\":\"white\"},\"title\":{\"x\":0.05},\"mapbox\":{\"style\":\"light\"}}},\"coloraxis\":{\"colorbar\":{\"title\":{\"text\":\"mean_test_rmse\"}},\"colorscale\":[[0.0,\"#440154\"],[0.1111111111111111,\"#482878\"],[0.2222222222222222,\"#3e4989\"],[0.3333333333333333,\"#31688e\"],[0.4444444444444444,\"#26828e\"],[0.5555555555555556,\"#1f9e89\"],[0.6666666666666666,\"#35b779\"],[0.7777777777777778,\"#6ece58\"],[0.8888888888888888,\"#b5de2b\"],[1.0,\"#fde725\"]]},\"legend\":{\"tracegroupgap\":0},\"margin\":{\"t\":60}},                        {\"responsive\": true}                    ).then(function(){\n",
       "                            \n",
       "var gd = document.getElementById('9ef911b0-3951-4b77-a47d-5a9c14f446b2');\n",
       "var x = new MutationObserver(function (mutations, observer) {{\n",
       "        var display = window.getComputedStyle(gd).display;\n",
       "        if (!display || display === 'none') {{\n",
       "            console.log([gd, 'removed!']);\n",
       "            Plotly.purge(gd);\n",
       "            observer.disconnect();\n",
       "        }}\n",
       "}});\n",
       "\n",
       "// Listen for the removal of the full notebook cells\n",
       "var notebookContainer = gd.closest('#notebook-container');\n",
       "if (notebookContainer) {{\n",
       "    x.observe(notebookContainer, {childList: true});\n",
       "}}\n",
       "\n",
       "// Listen for the clearing of the current output cell\n",
       "var outputEl = gd.closest('.output');\n",
       "if (outputEl) {{\n",
       "    x.observe(outputEl, {childList: true});\n",
       "}}\n",
       "\n",
       "                        })                };                });            </script>        </div>"
      ]
     },
     "metadata": {},
     "output_type": "display_data"
    }
   ],
   "source": [
    "#Ploteamos las dependencias de cada hiperparámetro\n",
    "import plotly.express as px\n",
    "\n",
    "fig = px.parallel_coordinates(\n",
    "    resultados2,\n",
    "    color=\"mean_test_rmse\",\n",
    "    color_continuous_scale=px.colors.sequential.Viridis,\n",
    ")\n",
    "fig.show()"
   ]
  },
  {
   "cell_type": "markdown",
   "metadata": {},
   "source": [
    "Aca se pueden ver patrones mas claros donde convendría apuntar (min_k mayores a 2 y sim_options = pearson) y quizás volver a optimizar. Pero directamente vamos a comparar ambos modelos con los mejores hiperparámetros haciendo cross validation y nos quedaremos con el que mejor resultado tenga."
   ]
  },
  {
   "cell_type": "code",
   "execution_count": 46,
   "metadata": {},
   "outputs": [
    {
     "data": {
      "text/plain": [
       "{'n_factors': 217, 'n_epochs': 35, 'lr_all': 0.025, 'reg_all': 0.07}"
      ]
     },
     "execution_count": 46,
     "metadata": {},
     "output_type": "execute_result"
    }
   ],
   "source": [
    "#Chequeamos los mejores hiperparámetros de SVD\n",
    "rs.best_params['rmse']"
   ]
  },
  {
   "cell_type": "code",
   "execution_count": 49,
   "metadata": {},
   "outputs": [
    {
     "name": "stdout",
     "output_type": "stream",
     "text": [
      "RMSE: 0.9202\n",
      "RMSE: 0.9238\n",
      "RMSE: 0.9197\n",
      "RMSE: 0.9242\n",
      "RMSE: 0.9276\n"
     ]
    }
   ],
   "source": [
    "#Hacemos cross validation de SVD\n",
    "cv = KFold(random_state=25)\n",
    "model = SVD(n_factors=217, n_epochs=35, lr_all=0.025, reg_all=0.07)\n",
    "\n",
    "for trainset, testset in cv.split(data):\n",
    "    model.fit(trainset)\n",
    "    predictions = model.test(testset)\n",
    "    accuracy.rmse(predictions)"
   ]
  },
  {
   "cell_type": "code",
   "execution_count": 50,
   "metadata": {},
   "outputs": [
    {
     "data": {
      "text/plain": [
       "{'k': 58, 'min_k': 4, 'sim_options': {'name': 'pearson', 'user_based': True}}"
      ]
     },
     "execution_count": 50,
     "metadata": {},
     "output_type": "execute_result"
    }
   ],
   "source": [
    "#Chequeamos los mejores hiperparámetros de KNNWithMeans\n",
    "rs2.best_params['rmse']"
   ]
  },
  {
   "cell_type": "code",
   "execution_count": 52,
   "metadata": {},
   "outputs": [
    {
     "name": "stdout",
     "output_type": "stream",
     "text": [
      "Computing the pearson similarity matrix...\n",
      "Done computing similarity matrix.\n",
      "RMSE: 0.9344\n",
      "Computing the pearson similarity matrix...\n",
      "Done computing similarity matrix.\n",
      "RMSE: 0.9340\n",
      "Computing the pearson similarity matrix...\n",
      "Done computing similarity matrix.\n",
      "RMSE: 0.9299\n",
      "Computing the pearson similarity matrix...\n",
      "Done computing similarity matrix.\n",
      "RMSE: 0.9341\n",
      "Computing the pearson similarity matrix...\n",
      "Done computing similarity matrix.\n",
      "RMSE: 0.9300\n"
     ]
    }
   ],
   "source": [
    "#Hacemos cross validation de KNNWithMeans\n",
    "model2 = KNNWithMeans(k=58, min_k=4, sim_options={'name': 'pearson', 'user_based': True})\n",
    "\n",
    "for trainset, testset in cv.split(data):\n",
    "    model2.fit(trainset)\n",
    "    predictions2 = model2.test(testset)\n",
    "    accuracy.rmse(predictions2)"
   ]
  },
  {
   "cell_type": "markdown",
   "metadata": {},
   "source": [
    "Los valores de SVD son ligeramente mejores. Por lo tanto, vamos a usar este algoritmo para predecir. Lo ultimo que vamos a realizar es compararlo con el modelo con los hiperparámetros que vienen por default."
   ]
  },
  {
   "cell_type": "code",
   "execution_count": 53,
   "metadata": {},
   "outputs": [],
   "source": [
    "#Dividimos los datos en conjuntos de entrenamiento y prueba\n",
    "trainset, testset = train_test_split(data, test_size=0.25, random_state=24)"
   ]
  },
  {
   "cell_type": "code",
   "execution_count": 54,
   "metadata": {},
   "outputs": [],
   "source": [
    "#Instanciamos modelo por default\n",
    "model_def = SVD()"
   ]
  },
  {
   "cell_type": "code",
   "execution_count": 55,
   "metadata": {},
   "outputs": [
    {
     "data": {
      "text/plain": [
       "<surprise.prediction_algorithms.matrix_factorization.SVD at 0x293398249a0>"
      ]
     },
     "execution_count": 55,
     "metadata": {},
     "output_type": "execute_result"
    }
   ],
   "source": [
    "#Entrenamos ambos modelos\n",
    "model_def.fit(trainset)\n",
    "model.fit(trainset)"
   ]
  },
  {
   "cell_type": "code",
   "execution_count": 56,
   "metadata": {},
   "outputs": [],
   "source": [
    "#Sacamos las predicciones\n",
    "predicciones_def = model_def.test(testset)\n",
    "predicciones = model.test(testset)"
   ]
  },
  {
   "cell_type": "code",
   "execution_count": 57,
   "metadata": {},
   "outputs": [
    {
     "name": "stdout",
     "output_type": "stream",
     "text": [
      "Default:\n",
      "RMSE: 0.9296\n",
      "Optimizado:\n",
      "RMSE: 0.9319\n"
     ]
    },
    {
     "data": {
      "text/plain": [
       "0.9318954687089492"
      ]
     },
     "execution_count": 57,
     "metadata": {},
     "output_type": "execute_result"
    }
   ],
   "source": [
    "#Obtenemos los rsme\n",
    "print('Default:')\n",
    "accuracy.rmse(predicciones_def)\n",
    "print('Optimizado:')\n",
    "accuracy.rmse(predicciones)"
   ]
  },
  {
   "cell_type": "markdown",
   "metadata": {
    "id": "WyvoR1OlCHzd"
   },
   "source": [
    "No se observan grandes cambios entre el modelo optimizado y el que viene por defecto. Vamos a exportar entonces el optimizado ya que gracias a su mayor valor de learning rate tiende a converger más rápido."
   ]
  },
  {
   "cell_type": "code",
   "execution_count": 60,
   "metadata": {
    "id": "jzqQcYriCzbv"
   },
   "outputs": [
    {
     "data": {
      "text/plain": [
       "['sistema_recomendacion_rest.joblib']"
      ]
     },
     "execution_count": 60,
     "metadata": {},
     "output_type": "execute_result"
    }
   ],
   "source": [
    "#Importamos la librería joblib para llevar el modelo entrenado a la API\n",
    "import joblib\n",
    "\n",
    "joblib.dump(model, 'sistema_recomendacion_rest.joblib')"
   ]
  },
  {
   "cell_type": "code",
   "execution_count": null,
   "metadata": {},
   "outputs": [],
   "source": []
  }
 ],
 "metadata": {
  "colab": {
   "provenance": []
  },
  "kernelspec": {
   "display_name": "Python 3 (ipykernel)",
   "language": "python",
   "name": "python3"
  },
  "language_info": {
   "codemirror_mode": {
    "name": "ipython",
    "version": 3
   },
   "file_extension": ".py",
   "mimetype": "text/x-python",
   "name": "python",
   "nbconvert_exporter": "python",
   "pygments_lexer": "ipython3",
   "version": "3.9.13"
  }
 },
 "nbformat": 4,
 "nbformat_minor": 1
}
