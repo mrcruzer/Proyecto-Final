{
 "cells": [
  {
   "cell_type": "code",
   "execution_count": 2,
   "metadata": {},
   "outputs": [],
   "source": [
    "#Importamos librerias\n",
    "import pandas as pd\n",
    "import numpy as np\n",
    "import matplotlib.pyplot as plt\n",
    "import seaborn as sns\n",
    "sns.set()"
   ]
  },
  {
   "cell_type": "code",
   "execution_count": 3,
   "metadata": {},
   "outputs": [
    {
     "name": "stderr",
     "output_type": "stream",
     "text": [
      "C:\\Users\\larra\\AppData\\Local\\Temp\\ipykernel_3836\\1376262560.py:6: DtypeWarning: Columns (0) have mixed types. Specify dtype option on import or set low_memory=False.\n",
      "  reviews = pd.concat([reviews,pd.read_csv('D:/Marcos/HENRY/Proyecto-Final/reviews_finales/reviews_'+str(i)+'.csv',\n"
     ]
    },
    {
     "data": {
      "text/html": [
       "<div>\n",
       "<style scoped>\n",
       "    .dataframe tbody tr th:only-of-type {\n",
       "        vertical-align: middle;\n",
       "    }\n",
       "\n",
       "    .dataframe tbody tr th {\n",
       "        vertical-align: top;\n",
       "    }\n",
       "\n",
       "    .dataframe thead th {\n",
       "        text-align: right;\n",
       "    }\n",
       "</style>\n",
       "<table border=\"1\" class=\"dataframe\">\n",
       "  <thead>\n",
       "    <tr style=\"text-align: right;\">\n",
       "      <th></th>\n",
       "      <th>Id_Usuario</th>\n",
       "      <th>Id_Restaurant</th>\n",
       "      <th>Rating</th>\n",
       "      <th>Reseña</th>\n",
       "      <th>Timestamp</th>\n",
       "    </tr>\n",
       "  </thead>\n",
       "  <tbody>\n",
       "    <tr>\n",
       "      <th>0</th>\n",
       "      <td>117975922625527873536.0</td>\n",
       "      <td>0x8889221157fb3455:0x5c125c40c3eccc2a</td>\n",
       "      <td>4</td>\n",
       "      <td>On the higher end of price for pizza, but they...</td>\n",
       "      <td>1463443013514</td>\n",
       "    </tr>\n",
       "    <tr>\n",
       "      <th>1</th>\n",
       "      <td>114316524790614294528.0</td>\n",
       "      <td>0x8889221157fb3455:0x5c125c40c3eccc2a</td>\n",
       "      <td>3</td>\n",
       "      <td>Food was ok, felt like the atmosphere as well ...</td>\n",
       "      <td>1447623939865</td>\n",
       "    </tr>\n",
       "    <tr>\n",
       "      <th>2</th>\n",
       "      <td>113632573920508362752.0</td>\n",
       "      <td>0x8889221157fb3455:0x5c125c40c3eccc2a</td>\n",
       "      <td>4</td>\n",
       "      <td>Good food, service so so</td>\n",
       "      <td>1469293549247</td>\n",
       "    </tr>\n",
       "    <tr>\n",
       "      <th>3</th>\n",
       "      <td>107684037632376815616.0</td>\n",
       "      <td>0x8889221157fb3455:0x5c125c40c3eccc2a</td>\n",
       "      <td>5</td>\n",
       "      <td>Love it</td>\n",
       "      <td>1442279219480</td>\n",
       "    </tr>\n",
       "    <tr>\n",
       "      <th>4</th>\n",
       "      <td>112603593315264724992.0</td>\n",
       "      <td>0x8889221157fb3455:0x5c125c40c3eccc2a</td>\n",
       "      <td>5</td>\n",
       "      <td>Yum</td>\n",
       "      <td>1382634896130</td>\n",
       "    </tr>\n",
       "  </tbody>\n",
       "</table>\n",
       "</div>"
      ],
      "text/plain": [
       "                Id_Usuario                          Id_Restaurant  Rating  \\\n",
       "0  117975922625527873536.0  0x8889221157fb3455:0x5c125c40c3eccc2a       4   \n",
       "1  114316524790614294528.0  0x8889221157fb3455:0x5c125c40c3eccc2a       3   \n",
       "2  113632573920508362752.0  0x8889221157fb3455:0x5c125c40c3eccc2a       4   \n",
       "3  107684037632376815616.0  0x8889221157fb3455:0x5c125c40c3eccc2a       5   \n",
       "4  112603593315264724992.0  0x8889221157fb3455:0x5c125c40c3eccc2a       5   \n",
       "\n",
       "                                              Reseña      Timestamp  \n",
       "0  On the higher end of price for pizza, but they...  1463443013514  \n",
       "1  Food was ok, felt like the atmosphere as well ...  1447623939865  \n",
       "2                           Good food, service so so  1469293549247  \n",
       "3                                            Love it  1442279219480  \n",
       "4                                                Yum  1382634896130  "
      ]
     },
     "execution_count": 3,
     "metadata": {},
     "output_type": "execute_result"
    }
   ],
   "source": [
    "#Importamos todo el dataset de reviews completo\n",
    "for i in range(1,10):\n",
    "    if i == 1:\n",
    "        reviews = pd.read_csv('D:/Marcos/HENRY/Proyecto-Final/reviews_finales/reviews_1.csv',sep=';',escapechar='\\\\')\n",
    "    else:\n",
    "        reviews = pd.concat([reviews,pd.read_csv('D:/Marcos/HENRY/Proyecto-Final/reviews_finales/reviews_'+str(i)+'.csv',\n",
    "                                                 sep=';',escapechar='\\\\')],ignore_index=True)\n",
    "reviews.head()"
   ]
  },
  {
   "cell_type": "code",
   "execution_count": 4,
   "metadata": {},
   "outputs": [
    {
     "name": "stdout",
     "output_type": "stream",
     "text": [
      "<class 'pandas.core.frame.DataFrame'>\n",
      "RangeIndex: 16007867 entries, 0 to 16007866\n",
      "Data columns (total 5 columns):\n",
      " #   Column         Dtype \n",
      "---  ------         ----- \n",
      " 0   Id_Usuario     object\n",
      " 1   Id_Restaurant  object\n",
      " 2   Rating         int64 \n",
      " 3   Reseña         object\n",
      " 4   Timestamp      int64 \n",
      "dtypes: int64(2), object(3)\n",
      "memory usage: 610.7+ MB\n"
     ]
    }
   ],
   "source": [
    "reviews.info()"
   ]
  },
  {
   "attachments": {},
   "cell_type": "markdown",
   "metadata": {},
   "source": [
    "Para realizar el modelo de Machine Learning no nos interesan ni las reseñas (el texto), ni el momento en el que se hizo la misma (Timestamp). Vamos a descartar estas columnas para trabajar con un dataframe mas liviano."
   ]
  },
  {
   "cell_type": "code",
   "execution_count": 5,
   "metadata": {},
   "outputs": [
    {
     "data": {
      "text/html": [
       "<div>\n",
       "<style scoped>\n",
       "    .dataframe tbody tr th:only-of-type {\n",
       "        vertical-align: middle;\n",
       "    }\n",
       "\n",
       "    .dataframe tbody tr th {\n",
       "        vertical-align: top;\n",
       "    }\n",
       "\n",
       "    .dataframe thead th {\n",
       "        text-align: right;\n",
       "    }\n",
       "</style>\n",
       "<table border=\"1\" class=\"dataframe\">\n",
       "  <thead>\n",
       "    <tr style=\"text-align: right;\">\n",
       "      <th></th>\n",
       "      <th>Id_Usuario</th>\n",
       "      <th>Id_Restaurant</th>\n",
       "      <th>Rating</th>\n",
       "    </tr>\n",
       "  </thead>\n",
       "  <tbody>\n",
       "    <tr>\n",
       "      <th>0</th>\n",
       "      <td>117975922625527873536.0</td>\n",
       "      <td>0x8889221157fb3455:0x5c125c40c3eccc2a</td>\n",
       "      <td>4</td>\n",
       "    </tr>\n",
       "    <tr>\n",
       "      <th>1</th>\n",
       "      <td>114316524790614294528.0</td>\n",
       "      <td>0x8889221157fb3455:0x5c125c40c3eccc2a</td>\n",
       "      <td>3</td>\n",
       "    </tr>\n",
       "    <tr>\n",
       "      <th>2</th>\n",
       "      <td>113632573920508362752.0</td>\n",
       "      <td>0x8889221157fb3455:0x5c125c40c3eccc2a</td>\n",
       "      <td>4</td>\n",
       "    </tr>\n",
       "    <tr>\n",
       "      <th>3</th>\n",
       "      <td>107684037632376815616.0</td>\n",
       "      <td>0x8889221157fb3455:0x5c125c40c3eccc2a</td>\n",
       "      <td>5</td>\n",
       "    </tr>\n",
       "    <tr>\n",
       "      <th>4</th>\n",
       "      <td>112603593315264724992.0</td>\n",
       "      <td>0x8889221157fb3455:0x5c125c40c3eccc2a</td>\n",
       "      <td>5</td>\n",
       "    </tr>\n",
       "  </tbody>\n",
       "</table>\n",
       "</div>"
      ],
      "text/plain": [
       "                Id_Usuario                          Id_Restaurant  Rating\n",
       "0  117975922625527873536.0  0x8889221157fb3455:0x5c125c40c3eccc2a       4\n",
       "1  114316524790614294528.0  0x8889221157fb3455:0x5c125c40c3eccc2a       3\n",
       "2  113632573920508362752.0  0x8889221157fb3455:0x5c125c40c3eccc2a       4\n",
       "3  107684037632376815616.0  0x8889221157fb3455:0x5c125c40c3eccc2a       5\n",
       "4  112603593315264724992.0  0x8889221157fb3455:0x5c125c40c3eccc2a       5"
      ]
     },
     "execution_count": 5,
     "metadata": {},
     "output_type": "execute_result"
    }
   ],
   "source": [
    "reviews_ml = reviews.drop(columns=['Reseña','Timestamp'])\n",
    "reviews_ml.head()"
   ]
  },
  {
   "attachments": {},
   "cell_type": "markdown",
   "metadata": {},
   "source": [
    "Vamos a observar las características de los distintos campos"
   ]
  },
  {
   "cell_type": "code",
   "execution_count": 6,
   "metadata": {},
   "outputs": [
    {
     "data": {
      "text/plain": [
       "<AxesSubplot: xlabel='Rating', ylabel='count'>"
      ]
     },
     "execution_count": 6,
     "metadata": {},
     "output_type": "execute_result"
    },
    {
     "data": {
      "image/png": "[encoded data removed]",
      "text/plain": [
       "<Figure size 640x480 with 1 Axes>"
      ]
     },
     "metadata": {},
     "output_type": "display_data"
    }
   ],
   "source": [
    "#Vamos a observar como están distribuidas las calificaciones\n",
    "sns.countplot(data=reviews_ml,x='Rating')"
   ]
  },
  {
   "attachments": {},
   "cell_type": "markdown",
   "metadata": {},
   "source": [
    "Puede verse que el dataset esta claramente desbalanceado. La suma de las cantidades de todas las otras calificiones (de 1 a 4) no llega a la cantidad de calificación 5. Mientras que la suma de las calificaciones 4 y 5 es mas del triple que de las calificaciones mas bajas (1 a 3). Antes de realizar alguna acción correctiva vamos a seguir explorando."
   ]
  },
  {
   "cell_type": "code",
   "execution_count": 7,
   "metadata": {},
   "outputs": [
    {
     "data": {
      "text/html": [
       "<div>\n",
       "<style scoped>\n",
       "    .dataframe tbody tr th:only-of-type {\n",
       "        vertical-align: middle;\n",
       "    }\n",
       "\n",
       "    .dataframe tbody tr th {\n",
       "        vertical-align: top;\n",
       "    }\n",
       "\n",
       "    .dataframe thead th {\n",
       "        text-align: right;\n",
       "    }\n",
       "</style>\n",
       "<table border=\"1\" class=\"dataframe\">\n",
       "  <thead>\n",
       "    <tr style=\"text-align: right;\">\n",
       "      <th></th>\n",
       "      <th>Id_Usuario</th>\n",
       "      <th>Cantidad</th>\n",
       "    </tr>\n",
       "  </thead>\n",
       "  <tbody>\n",
       "    <tr>\n",
       "      <th>0</th>\n",
       "      <td>_BcWyKQL16ndpBdggh2kNA</td>\n",
       "      <td>1704</td>\n",
       "    </tr>\n",
       "    <tr>\n",
       "      <th>1</th>\n",
       "      <td>-G7Zkl1wIWBBmD0KRy_sCw</td>\n",
       "      <td>1296</td>\n",
       "    </tr>\n",
       "    <tr>\n",
       "      <th>2</th>\n",
       "      <td>ET8n-r7glWYqZhuR6GcdNw</td>\n",
       "      <td>1144</td>\n",
       "    </tr>\n",
       "    <tr>\n",
       "      <th>3</th>\n",
       "      <td>fr1Hz2acAb3OaL3l6DyKNg</td>\n",
       "      <td>1104</td>\n",
       "    </tr>\n",
       "    <tr>\n",
       "      <th>4</th>\n",
       "      <td>1HM81n6n4iPIFU5d2Lokhw</td>\n",
       "      <td>1095</td>\n",
       "    </tr>\n",
       "    <tr>\n",
       "      <th>...</th>\n",
       "      <td>...</td>\n",
       "      <td>...</td>\n",
       "    </tr>\n",
       "    <tr>\n",
       "      <th>7074742</th>\n",
       "      <td>110142259096190877696.0</td>\n",
       "      <td>1</td>\n",
       "    </tr>\n",
       "    <tr>\n",
       "      <th>7074743</th>\n",
       "      <td>110142249937851678720.0</td>\n",
       "      <td>1</td>\n",
       "    </tr>\n",
       "    <tr>\n",
       "      <th>7074744</th>\n",
       "      <td>110142248783080914944.0</td>\n",
       "      <td>1</td>\n",
       "    </tr>\n",
       "    <tr>\n",
       "      <th>7074745</th>\n",
       "      <td>110142241137163059200.0</td>\n",
       "      <td>1</td>\n",
       "    </tr>\n",
       "    <tr>\n",
       "      <th>7074746</th>\n",
       "      <td>zzzUFM4HFe0SFG0bPjntQA</td>\n",
       "      <td>1</td>\n",
       "    </tr>\n",
       "  </tbody>\n",
       "</table>\n",
       "<p>7074747 rows × 2 columns</p>\n",
       "</div>"
      ],
      "text/plain": [
       "                      Id_Usuario  Cantidad\n",
       "0         _BcWyKQL16ndpBdggh2kNA      1704\n",
       "1         -G7Zkl1wIWBBmD0KRy_sCw      1296\n",
       "2         ET8n-r7glWYqZhuR6GcdNw      1144\n",
       "3         fr1Hz2acAb3OaL3l6DyKNg      1104\n",
       "4         1HM81n6n4iPIFU5d2Lokhw      1095\n",
       "...                          ...       ...\n",
       "7074742  110142259096190877696.0         1\n",
       "7074743  110142249937851678720.0         1\n",
       "7074744  110142248783080914944.0         1\n",
       "7074745  110142241137163059200.0         1\n",
       "7074746   zzzUFM4HFe0SFG0bPjntQA         1\n",
       "\n",
       "[7074747 rows x 2 columns]"
      ]
     },
     "execution_count": 7,
     "metadata": {},
     "output_type": "execute_result"
    }
   ],
   "source": [
    "#Agrupamos las reviews por usuario y contamos cuantas veces voto cada uno\n",
    "usuarios_agrupados = reviews_ml.groupby(by='Id_Usuario').count().drop(\n",
    "                                                columns='Id_Restaurant').rename(\n",
    "                                                    columns={'Rating':'Cantidad'}).sort_values(\n",
    "                                                                    by='Cantidad',ascending=False).reset_index()\n",
    "usuarios_agrupados"
   ]
  },
  {
   "cell_type": "code",
   "execution_count": 8,
   "metadata": {},
   "outputs": [
    {
     "data": {
      "text/plain": [
       "<AxesSubplot: >"
      ]
     },
     "execution_count": 8,
     "metadata": {},
     "output_type": "execute_result"
    },
    {
     "data": {
      "image/png": "[encoded data removed]",
      "text/plain": [
       "<Figure size 640x480 with 1 Axes>"
      ]
     },
     "metadata": {},
     "output_type": "display_data"
    }
   ],
   "source": [
    "#Visualizamos estas cantidades\n",
    "sns.boxplot(data=usuarios_agrupados)"
   ]
  },
  {
   "cell_type": "code",
   "execution_count": 9,
   "metadata": {},
   "outputs": [
    {
     "data": {
      "text/plain": [
       "(0.0, 5.0)"
      ]
     },
     "execution_count": 9,
     "metadata": {},
     "output_type": "execute_result"
    },
    {
     "data": {
      "image/png": "[encoded data removed]",
      "text/plain": [
       "<Figure size 640x480 with 1 Axes>"
      ]
     },
     "metadata": {},
     "output_type": "display_data"
    }
   ],
   "source": [
    "#Nos acercamos a la media\n",
    "sns.boxplot(data=usuarios_agrupados)\n",
    "plt.ylim(0,5)"
   ]
  },
  {
   "cell_type": "code",
   "execution_count": 10,
   "metadata": {},
   "outputs": [
    {
     "data": {
      "text/plain": [
       "(3912759, 2)"
      ]
     },
     "execution_count": 10,
     "metadata": {},
     "output_type": "execute_result"
    }
   ],
   "source": [
    "usuarios_agrupados[usuarios_agrupados['Cantidad']==1].shape"
   ]
  },
  {
   "attachments": {},
   "cell_type": "markdown",
   "metadata": {},
   "source": [
    "Vemos que son demasiados los usuarios (casi 4 millones) que nos dan demasiada poca información ya que votaron una única vez. Igual que con el desbalanceo vamos a esperar a terminar de analizar el resto del dataset antes de hacer alguna acción correctiva."
   ]
  },
  {
   "cell_type": "code",
   "execution_count": 11,
   "metadata": {},
   "outputs": [
    {
     "data": {
      "text/html": [
       "<div>\n",
       "<style scoped>\n",
       "    .dataframe tbody tr th:only-of-type {\n",
       "        vertical-align: middle;\n",
       "    }\n",
       "\n",
       "    .dataframe tbody tr th {\n",
       "        vertical-align: top;\n",
       "    }\n",
       "\n",
       "    .dataframe thead th {\n",
       "        text-align: right;\n",
       "    }\n",
       "</style>\n",
       "<table border=\"1\" class=\"dataframe\">\n",
       "  <thead>\n",
       "    <tr style=\"text-align: right;\">\n",
       "      <th></th>\n",
       "      <th>Id_Restaurant</th>\n",
       "      <th>Cantidad</th>\n",
       "    </tr>\n",
       "  </thead>\n",
       "  <tbody>\n",
       "    <tr>\n",
       "      <th>0</th>\n",
       "      <td>0x8620a60c5d5e55d3:0x73c7b3c06a67a923</td>\n",
       "      <td>9057</td>\n",
       "    </tr>\n",
       "    <tr>\n",
       "      <th>1</th>\n",
       "      <td>ac1AeYqs8Z4_e2X5M3if2A</td>\n",
       "      <td>7508</td>\n",
       "    </tr>\n",
       "    <tr>\n",
       "      <th>2</th>\n",
       "      <td>0x40771e59f0513085:0x513683476a2005d8</td>\n",
       "      <td>7148</td>\n",
       "    </tr>\n",
       "    <tr>\n",
       "      <th>3</th>\n",
       "      <td>GXFMD0Z4jEVZBCsbPf4CTQ</td>\n",
       "      <td>6149</td>\n",
       "    </tr>\n",
       "    <tr>\n",
       "      <th>4</th>\n",
       "      <td>ytynqOUb3hjKeJfRj5Tshw</td>\n",
       "      <td>5770</td>\n",
       "    </tr>\n",
       "    <tr>\n",
       "      <th>...</th>\n",
       "      <td>...</td>\n",
       "      <td>...</td>\n",
       "    </tr>\n",
       "    <tr>\n",
       "      <th>171414</th>\n",
       "      <td>4QdZHOqo7OI63SG6JnLdpg</td>\n",
       "      <td>5</td>\n",
       "    </tr>\n",
       "    <tr>\n",
       "      <th>171415</th>\n",
       "      <td>4Qt-KtFm3AJOJnrk61_7JQ</td>\n",
       "      <td>5</td>\n",
       "    </tr>\n",
       "    <tr>\n",
       "      <th>171416</th>\n",
       "      <td>i0b_xiKIbExKtF3vqo1Bzw</td>\n",
       "      <td>5</td>\n",
       "    </tr>\n",
       "    <tr>\n",
       "      <th>171417</th>\n",
       "      <td>bfVvm2RsdDW8AReCM9ii8A</td>\n",
       "      <td>5</td>\n",
       "    </tr>\n",
       "    <tr>\n",
       "      <th>171418</th>\n",
       "      <td>0x8624bd0f99b03b4f:0xa87224fe4f15f6a7</td>\n",
       "      <td>4</td>\n",
       "    </tr>\n",
       "  </tbody>\n",
       "</table>\n",
       "<p>171419 rows × 2 columns</p>\n",
       "</div>"
      ],
      "text/plain": [
       "                                Id_Restaurant  Cantidad\n",
       "0       0x8620a60c5d5e55d3:0x73c7b3c06a67a923      9057\n",
       "1                      ac1AeYqs8Z4_e2X5M3if2A      7508\n",
       "2       0x40771e59f0513085:0x513683476a2005d8      7148\n",
       "3                      GXFMD0Z4jEVZBCsbPf4CTQ      6149\n",
       "4                      ytynqOUb3hjKeJfRj5Tshw      5770\n",
       "...                                       ...       ...\n",
       "171414                 4QdZHOqo7OI63SG6JnLdpg         5\n",
       "171415                 4Qt-KtFm3AJOJnrk61_7JQ         5\n",
       "171416                 i0b_xiKIbExKtF3vqo1Bzw         5\n",
       "171417                 bfVvm2RsdDW8AReCM9ii8A         5\n",
       "171418  0x8624bd0f99b03b4f:0xa87224fe4f15f6a7         4\n",
       "\n",
       "[171419 rows x 2 columns]"
      ]
     },
     "execution_count": 11,
     "metadata": {},
     "output_type": "execute_result"
    }
   ],
   "source": [
    "#Agrupamos las reviews por restaurant y contamos cuantos votos tiene cada uno\n",
    "restaurants_agrupados = reviews_ml.groupby(by='Id_Restaurant').count().drop(\n",
    "                                                columns='Id_Usuario').rename(\n",
    "                                                    columns={'Rating':'Cantidad'}).sort_values(\n",
    "                                                                    by='Cantidad',ascending=False).reset_index()\n",
    "restaurants_agrupados"
   ]
  },
  {
   "cell_type": "code",
   "execution_count": 12,
   "metadata": {},
   "outputs": [
    {
     "data": {
      "text/plain": [
       "<AxesSubplot: >"
      ]
     },
     "execution_count": 12,
     "metadata": {},
     "output_type": "execute_result"
    },
    {
     "data": {
      "image/png": "[encoded data removed]",
      "text/plain": [
       "<Figure size 640x480 with 1 Axes>"
      ]
     },
     "metadata": {},
     "output_type": "display_data"
    }
   ],
   "source": [
    "#Visualizamos estas cantidades\n",
    "sns.boxplot(data=restaurants_agrupados)"
   ]
  },
  {
   "cell_type": "code",
   "execution_count": 13,
   "metadata": {},
   "outputs": [
    {
     "data": {
      "text/plain": [
       "(0.0, 200.0)"
      ]
     },
     "execution_count": 13,
     "metadata": {},
     "output_type": "execute_result"
    },
    {
     "data": {
      "image/png": "[encoded data removed]",
      "text/plain": [
       "<Figure size 640x480 with 1 Axes>"
      ]
     },
     "metadata": {},
     "output_type": "display_data"
    }
   ],
   "source": [
    "#Nos acercamos\n",
    "sns.boxplot(data=restaurants_agrupados)\n",
    "plt.ylim(0,200)"
   ]
  },
  {
   "attachments": {},
   "cell_type": "markdown",
   "metadata": {},
   "source": [
    "Se ven grandes outliers con restaurants que recibieron una gran cantidad de reseñas y una gran cantidad que recibieron 4 o 5 reseñas. Al no estar comparando items si no que vamos a comparar usuarios y vamos a hacer perfiles de estos, el hecho de que algún restaurant tenga muchas reseñas o pocas no interfiere con el aprendizaje.\n",
    "\n",
    "Naturalmente, los restaurants con muchas reseñas van a ser más veces recomendados que los otros pero esto no es un problema si no una salida natural a este problema.\n",
    "\n",
    "Por lo tanto, los restaurants vamos a dejarlos así. Sin embargo, para los usuarios que nos dieron tan poca información es dificil armarle un perfil y esto traerá grandes errores en el modelo de ML. Debemos eliminarlos para evitarlos."
   ]
  },
  {
   "cell_type": "code",
   "execution_count": 14,
   "metadata": {},
   "outputs": [
    {
     "name": "stdout",
     "output_type": "stream",
     "text": [
      "Usuarios con menos de 5 votos:  6489767\n",
      "Porcentaje del total:  91.73 %\n"
     ]
    }
   ],
   "source": [
    "#Vemos cuantos usuarios votaron menos de 5 veces\n",
    "print('Usuarios con menos de 5 votos: ',usuarios_agrupados[usuarios_agrupados['Cantidad']<5].shape[0])\n",
    "print('Porcentaje del total: ',\n",
    "      round(100*usuarios_agrupados[usuarios_agrupados['Cantidad']<5].shape[0]/usuarios_agrupados.shape[0],2),'%')"
   ]
  },
  {
   "attachments": {},
   "cell_type": "markdown",
   "metadata": {},
   "source": [
    "Si establecemos un minimo de 5 votos para poder armar un perfil de usuario como para recomendar debemos descartar más del 90% de los usuarios. Esto no quiere decir que se descartará más del 90% del dataset pero si se va a descartar al menos la mitad del mismo. Todo esto se realiza en pos de un buen funcionamiento del modelo."
   ]
  },
  {
   "cell_type": "code",
   "execution_count": 15,
   "metadata": {},
   "outputs": [
    {
     "data": {
      "text/html": [
       "<div>\n",
       "<style scoped>\n",
       "    .dataframe tbody tr th:only-of-type {\n",
       "        vertical-align: middle;\n",
       "    }\n",
       "\n",
       "    .dataframe tbody tr th {\n",
       "        vertical-align: top;\n",
       "    }\n",
       "\n",
       "    .dataframe thead th {\n",
       "        text-align: right;\n",
       "    }\n",
       "</style>\n",
       "<table border=\"1\" class=\"dataframe\">\n",
       "  <thead>\n",
       "    <tr style=\"text-align: right;\">\n",
       "      <th></th>\n",
       "      <th>Id_Usuario</th>\n",
       "      <th>Id_Restaurant</th>\n",
       "      <th>Rating</th>\n",
       "    </tr>\n",
       "  </thead>\n",
       "  <tbody>\n",
       "    <tr>\n",
       "      <th>0</th>\n",
       "      <td>117975922625527873536.0</td>\n",
       "      <td>0x8889221157fb3455:0x5c125c40c3eccc2a</td>\n",
       "      <td>4</td>\n",
       "    </tr>\n",
       "    <tr>\n",
       "      <th>1</th>\n",
       "      <td>114316524790614294528.0</td>\n",
       "      <td>0x8889221157fb3455:0x5c125c40c3eccc2a</td>\n",
       "      <td>3</td>\n",
       "    </tr>\n",
       "    <tr>\n",
       "      <th>2</th>\n",
       "      <td>113632573920508362752.0</td>\n",
       "      <td>0x8889221157fb3455:0x5c125c40c3eccc2a</td>\n",
       "      <td>4</td>\n",
       "    </tr>\n",
       "    <tr>\n",
       "      <th>3</th>\n",
       "      <td>112306828115616432128.0</td>\n",
       "      <td>0x8889221157fb3455:0x5c125c40c3eccc2a</td>\n",
       "      <td>4</td>\n",
       "    </tr>\n",
       "    <tr>\n",
       "      <th>4</th>\n",
       "      <td>103339320723516751872.0</td>\n",
       "      <td>0x8889221157fb3455:0x5c125c40c3eccc2a</td>\n",
       "      <td>4</td>\n",
       "    </tr>\n",
       "    <tr>\n",
       "      <th>...</th>\n",
       "      <td>...</td>\n",
       "      <td>...</td>\n",
       "      <td>...</td>\n",
       "    </tr>\n",
       "    <tr>\n",
       "      <th>5563206</th>\n",
       "      <td>x1QLCwZGFAjxRRw4EHc3-g</td>\n",
       "      <td>0x87d8b57145b738eb:0x88933c8099aada0</td>\n",
       "      <td>5</td>\n",
       "    </tr>\n",
       "    <tr>\n",
       "      <th>5563207</th>\n",
       "      <td>7L7GL5Pi2cf8mbm2Dpw4zw</td>\n",
       "      <td>e_E-jq9mwm7wk75k7Yi-Xw</td>\n",
       "      <td>5</td>\n",
       "    </tr>\n",
       "    <tr>\n",
       "      <th>5563208</th>\n",
       "      <td>RKPkxOYQlM0BjhM-H6_vAw</td>\n",
       "      <td>X4mouE_cMiwbfyCPZ_K-FA</td>\n",
       "      <td>4</td>\n",
       "    </tr>\n",
       "    <tr>\n",
       "      <th>5563209</th>\n",
       "      <td>YwAMC-jvZ1fvEUum6QkEkw</td>\n",
       "      <td>Rr9kKArrMhSLVE9a53q-aA</td>\n",
       "      <td>5</td>\n",
       "    </tr>\n",
       "    <tr>\n",
       "      <th>5563210</th>\n",
       "      <td>6JehEvdoCvZPJ_XIxnzIIw</td>\n",
       "      <td>VAeEXLbEcI9Emt9KGYq9aA</td>\n",
       "      <td>3</td>\n",
       "    </tr>\n",
       "  </tbody>\n",
       "</table>\n",
       "<p>5563211 rows × 3 columns</p>\n",
       "</div>"
      ],
      "text/plain": [
       "                      Id_Usuario                          Id_Restaurant  \\\n",
       "0        117975922625527873536.0  0x8889221157fb3455:0x5c125c40c3eccc2a   \n",
       "1        114316524790614294528.0  0x8889221157fb3455:0x5c125c40c3eccc2a   \n",
       "2        113632573920508362752.0  0x8889221157fb3455:0x5c125c40c3eccc2a   \n",
       "3        112306828115616432128.0  0x8889221157fb3455:0x5c125c40c3eccc2a   \n",
       "4        103339320723516751872.0  0x8889221157fb3455:0x5c125c40c3eccc2a   \n",
       "...                          ...                                    ...   \n",
       "5563206   x1QLCwZGFAjxRRw4EHc3-g   0x87d8b57145b738eb:0x88933c8099aada0   \n",
       "5563207   7L7GL5Pi2cf8mbm2Dpw4zw                 e_E-jq9mwm7wk75k7Yi-Xw   \n",
       "5563208   RKPkxOYQlM0BjhM-H6_vAw                 X4mouE_cMiwbfyCPZ_K-FA   \n",
       "5563209   YwAMC-jvZ1fvEUum6QkEkw                 Rr9kKArrMhSLVE9a53q-aA   \n",
       "5563210   6JehEvdoCvZPJ_XIxnzIIw                 VAeEXLbEcI9Emt9KGYq9aA   \n",
       "\n",
       "         Rating  \n",
       "0             4  \n",
       "1             3  \n",
       "2             4  \n",
       "3             4  \n",
       "4             4  \n",
       "...         ...  \n",
       "5563206       5  \n",
       "5563207       5  \n",
       "5563208       4  \n",
       "5563209       5  \n",
       "5563210       3  \n",
       "\n",
       "[5563211 rows x 3 columns]"
      ]
     },
     "execution_count": 15,
     "metadata": {},
     "output_type": "execute_result"
    }
   ],
   "source": [
    "reviews_ml_filt = reviews_ml[~reviews_ml['Id_Usuario'].isin(usuarios_agrupados[\n",
    "                                                usuarios_agrupados['Cantidad']<5]['Id_Usuario'].values)].reset_index(drop=True)\n",
    "reviews_ml_filt"
   ]
  },
  {
   "cell_type": "code",
   "execution_count": 16,
   "metadata": {},
   "outputs": [
    {
     "data": {
      "text/plain": [
       "<AxesSubplot: xlabel='Rating', ylabel='count'>"
      ]
     },
     "execution_count": 16,
     "metadata": {},
     "output_type": "execute_result"
    },
    {
     "data": {
      "image/png": "[encoded data removed]",
      "text/plain": [
       "<Figure size 640x480 with 1 Axes>"
      ]
     },
     "metadata": {},
     "output_type": "display_data"
    }
   ],
   "source": [
    "#Se descartó mas de 2/3 del dataset. Vamos a ver si la distribución de las calificaciones cambió\n",
    "sns.countplot(data=reviews_ml_filt,x='Rating')"
   ]
  },
  {
   "attachments": {},
   "cell_type": "markdown",
   "metadata": {},
   "source": [
    "Se ve que cambió bastante. La diferencia entre las calificaciones de 5 y las demás ya no es tan grande. Igualmente sigue considerablemente desbalanceado pero así se va a trabajar."
   ]
  },
  {
   "cell_type": "code",
   "execution_count": 17,
   "metadata": {},
   "outputs": [],
   "source": [
    "#Exportamos\n",
    "reviews_ml_filt.to_csv('reviews_finales/reviews_ml.csv')"
   ]
  },
  {
   "attachments": {},
   "cell_type": "markdown",
   "metadata": {},
   "source": [
    "Presentamos un breve resumen a continuación."
   ]
  },
  {
   "cell_type": "code",
   "execution_count": 23,
   "metadata": {},
   "outputs": [
    {
     "name": "stdout",
     "output_type": "stream",
     "text": [
      "Cantidad de restaurants antes de quitar los usuarios que votaron poco:  171419\n",
      "Cantidad de restaurants luego de quitar los usuarios que votaron poco:  169261\n"
     ]
    }
   ],
   "source": [
    "print('Cantidad de restaurants antes de quitar los usuarios que votaron poco: ',reviews_ml['Id_Restaurant'].unique().size)\n",
    "print('Cantidad de restaurants luego de quitar los usuarios que votaron poco: ',reviews_ml_filt['Id_Restaurant'].unique().size)"
   ]
  },
  {
   "cell_type": "code",
   "execution_count": 24,
   "metadata": {},
   "outputs": [
    {
     "name": "stdout",
     "output_type": "stream",
     "text": [
      "Cantidad de usuarios antes de quitar los que votaron poco:  7074747\n",
      "Cantidad de usuarios luego de quitar los que votaron poco:  584980\n"
     ]
    }
   ],
   "source": [
    "print('Cantidad de usuarios antes de quitar los que votaron poco: ',reviews_ml['Id_Usuario'].unique().size)\n",
    "print('Cantidad de usuarios luego de quitar los que votaron poco: ',reviews_ml_filt['Id_Usuario'].unique().size)"
   ]
  },
  {
   "cell_type": "code",
   "execution_count": 27,
   "metadata": {},
   "outputs": [
    {
     "name": "stdout",
     "output_type": "stream",
     "text": [
      "Cantidad de reviews antes de quitar los usuarios que votaron poco:\n",
      "16007867\n",
      "Distribucion:\n",
      "5:  8536468\n",
      "4:  3704381\n",
      "3:  1722892\n",
      "2:  856264\n",
      "1:  1187862\n",
      "Cantidad de reviews luego de quitar los usuarios que votaron poco:\n",
      "5563211\n",
      "Distribucion:\n",
      "5:  2566626\n",
      "4:  1556478\n",
      "3:  739648\n",
      "2:  353147\n",
      "1:  347312\n"
     ]
    }
   ],
   "source": [
    "print('Cantidad de reviews antes de quitar los usuarios que votaron poco:')\n",
    "print(reviews_ml.shape[0])\n",
    "print('Distribucion:')\n",
    "print('5: ',reviews_ml[reviews_ml['Rating']==5].shape[0])\n",
    "print('4: ',reviews_ml[reviews_ml['Rating']==4].shape[0])\n",
    "print('3: ',reviews_ml[reviews_ml['Rating']==3].shape[0])\n",
    "print('2: ',reviews_ml[reviews_ml['Rating']==2].shape[0])\n",
    "print('1: ',reviews_ml[reviews_ml['Rating']==1].shape[0])\n",
    "print('Cantidad de reviews luego de quitar los usuarios que votaron poco:')\n",
    "print(reviews_ml_filt.shape[0])\n",
    "print('Distribucion:')\n",
    "print('5: ',reviews_ml_filt[reviews_ml_filt['Rating']==5].shape[0])\n",
    "print('4: ',reviews_ml_filt[reviews_ml_filt['Rating']==4].shape[0])\n",
    "print('3: ',reviews_ml_filt[reviews_ml_filt['Rating']==3].shape[0])\n",
    "print('2: ',reviews_ml_filt[reviews_ml_filt['Rating']==2].shape[0])\n",
    "print('1: ',reviews_ml_filt[reviews_ml_filt['Rating']==1].shape[0])"
   ]
  },
  {
   "cell_type": "code",
   "execution_count": null,
   "metadata": {},
   "outputs": [],
   "source": []
  }
 ],
 "metadata": {
  "kernelspec": {
   "display_name": "Python 3",
   "language": "python",
   "name": "python3"
  },
  "language_info": {
   "codemirror_mode": {
    "name": "ipython",
    "version": 3
   },
   "file_extension": ".py",
   "mimetype": "text/x-python",
   "name": "python",
   "nbconvert_exporter": "python",
   "pygments_lexer": "ipython3",
   "version": "3.10.7"
  },
  "orig_nbformat": 4
 },
 "nbformat": 4,
 "nbformat_minor": 2
}
