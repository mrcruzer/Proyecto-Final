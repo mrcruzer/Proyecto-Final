{
  "nbformat": 4,
  "nbformat_minor": 0,
  "metadata": {
    "colab": {
      "provenance": []
    },
    "kernelspec": {
      "name": "python3",
      "display_name": "Python 3"
    },
    "language_info": {
      "name": "python"
    }
  },
  "cells": [
    {
      "cell_type": "code",
      "execution_count": 107,
      "metadata": {
        "id": "Hwnj2gcuy47Q"
      },
      "outputs": [],
      "source": [
        "#!pip install surprise\n"
      ]
    },
    {
      "cell_type": "code",
      "source": [
        "from surprise import Dataset, Reader, SVD\n",
        "from surprise import accuracy\n",
        "from surprise.model_selection import train_test_split\n",
        "from surprise.accuracy import rmse\n",
        "import pandas as pd"
      ],
      "metadata": {
        "id": "lTAoTIi4zUt-"
      },
      "execution_count": 122,
      "outputs": []
    },
    {
      "cell_type": "code",
      "source": [
        "#Leemos los datos de las reseñas / Ejemplo con Reviews_9.csv\n",
        "df = pd.read_csv('reviews_9.csv', sep=';', escapechar='\\\\')"
      ],
      "metadata": {
        "id": "cyJouT1V0sEX"
      },
      "execution_count": 109,
      "outputs": []
    },
    {
      "cell_type": "code",
      "source": [
        "#df.head()"
      ],
      "metadata": {
        "id": "1hD8VQMWBgNk"
      },
      "execution_count": 110,
      "outputs": []
    },
    {
      "cell_type": "code",
      "source": [
        "#Crea un objeto Reader y Dataset de Surprise\n",
        "reader = Reader(rating_scale=(1, 5))\n",
        "data = Dataset.load_from_df(df[[\"Id_Usuario\", \"Id_Restaurant\", \"Rating\"]], reader)"
      ],
      "metadata": {
        "id": "gDq1Coih0vMA"
      },
      "execution_count": 111,
      "outputs": []
    },
    {
      "cell_type": "code",
      "source": [
        "#Divide los datos en conjuntos de entrenamiento y prueba\n",
        "trainset, testset = train_test_split(data, test_size=0.25, random_state=42)"
      ],
      "metadata": {
        "id": "jAaOt5_3BpqB"
      },
      "execution_count": 112,
      "outputs": []
    },
    {
      "cell_type": "code",
      "source": [
        "#Instanciamos y entrenamos el modelo SVD\n",
        "algo = SVD()\n",
        "algo.fit(trainset)"
      ],
      "metadata": {
        "colab": {
          "base_uri": "https://localhost:8080/"
        },
        "id": "9_2A0VBCB-tf",
        "outputId": "685b555a-acdd-4f0f-d4c2-9236a2ecf239"
      },
      "execution_count": 113,
      "outputs": [
        {
          "output_type": "execute_result",
          "data": {
            "text/plain": [
              "<surprise.prediction_algorithms.matrix_factorization.SVD at 0x7f6ec712fc10>"
            ]
          },
          "metadata": {},
          "execution_count": 113
        }
      ]
    },
    {
      "cell_type": "code",
      "source": [
        "#Hacemos una predicción\n",
        "predictions = algo.test(testset)"
      ],
      "metadata": {
        "id": "ZK9IGogQCEO3"
      },
      "execution_count": 114,
      "outputs": []
    },
    {
      "cell_type": "code",
      "source": [
        "#Obtenemos las reseñas del usuario\n",
        "user_reviews = {}\n",
        "for user_id, restaurant_id, rating in df[[\"Id_Usuario\", \"Id_Restaurant\", \"Rating\"]].values:\n",
        "  if user_id not in user_reviews:\n",
        "    user_reviews[user_id] = []\n",
        "  user_reviews[user_id].append((restaurant_id, rating))"
      ],
      "metadata": {
        "id": "WyvoR1OlCHzd"
      },
      "execution_count": 115,
      "outputs": []
    },
    {
      "cell_type": "code",
      "source": [
        "#Pide al usuario que ingrese su ID de usuario\n",
        "user_id = input(\"Ingrese el Id de su usuario: \")"
      ],
      "metadata": {
        "colab": {
          "base_uri": "https://localhost:8080/"
        },
        "id": "VLuu1beDCszY",
        "outputId": "025506da-dc1c-47c7-ed6f-ec022ca21109"
      },
      "execution_count": 116,
      "outputs": [
        {
          "name": "stdout",
          "output_type": "stream",
          "text": [
            "Ingrese el Id de su usuario: z0Yh6ntpynyTP6x0YLCnLA\n"
          ]
        }
      ]
    },
    {
      "cell_type": "code",
      "source": [
        "#Hacemos la recomendacion de los restaurantes que el usuario aún no ha visitado\n",
        "restaurant_recs = []\n",
        "for restaurant_id in df[\"Id_Restaurant\"].unique():\n",
        "  if restaurant_id not in [r_iid for r_iid, _ in user_reviews.get(user_id, [])]:\n",
        "    predicted_rating = algo.predict(user_id, restaurant_id).est\n",
        "    restaurant_recs.append((restaurant_id, predicted_rating))"
      ],
      "metadata": {
        "id": "jzqQcYriCzbv"
      },
      "execution_count": 117,
      "outputs": []
    },
    {
      "cell_type": "code",
      "source": [
        "#Ordena las recomendaciones por calificación\n",
        "restaurant_recs = sorted(restaurant_recs, key=lambda x: x[1], reverse=True)"
      ],
      "metadata": {
        "id": "qwEhqa-IDiCO"
      },
      "execution_count": 118,
      "outputs": []
    },
    {
      "cell_type": "code",
      "source": [
        "#Muestra las 5 mejores recomendaciones al usuario\n",
        "print(\"Recomendaciones para el usuario: {}\".format(user_id))\n",
        "for restaurant_id, predicted_rating in restaurant_recs[:5]:\n",
        "  print(\"- Restaurante {}: Prediccion de puntaje {:.2f}\".format(restaurant_id, predicted_rating))"
      ],
      "metadata": {
        "colab": {
          "base_uri": "https://localhost:8080/"
        },
        "id": "SJRE6hZ3DsDA",
        "outputId": "85a4c826-4ad4-44d9-e664-9f3108966e33"
      },
      "execution_count": 119,
      "outputs": [
        {
          "output_type": "stream",
          "name": "stdout",
          "text": [
            "Recomendaciones para el usuario: z0Yh6ntpynyTP6x0YLCnLA\n",
            "- Restaurante QoezRbYQncpRqyrLH6Iqjg: Prediccion de puntaje 4.57\n",
            "- Restaurante 9xdXS7jtWjCVzL4_oPGv9A: Prediccion de puntaje 4.56\n",
            "- Restaurante lqF0Q5vVLxY-_Cth6LtEdg: Prediccion de puntaje 4.49\n",
            "- Restaurante ytynqOUb3hjKeJfRj5Tshw: Prediccion de puntaje 4.47\n",
            "- Restaurante K7KHmHzxNwzqiijSJeKe_A: Prediccion de puntaje 4.46\n"
          ]
        }
      ]
    },
    {
      "cell_type": "markdown",
      "source": [
        "#Evaluación del modelo"
      ],
      "metadata": {
        "id": "7kzMADOZJO3z"
      }
    },
    {
      "cell_type": "code",
      "source": [
        "trainset, testset = train_test_split(data, test_size=0.25, random_state=42)"
      ],
      "metadata": {
        "id": "Ib2opXljJQZw"
      },
      "execution_count": 120,
      "outputs": []
    },
    {
      "cell_type": "code",
      "source": [
        "#Evaluamos con RMSE (error cuadrático medio)\n",
        "predictions = algo.test(testset)\n",
        "accuracy.rmse(predictions)"
      ],
      "metadata": {
        "colab": {
          "base_uri": "https://localhost:8080/"
        },
        "id": "9gKqp0K8Jj6Q",
        "outputId": "527f011f-703a-40c2-e387-aa78ad3b2afa"
      },
      "execution_count": 123,
      "outputs": [
        {
          "output_type": "stream",
          "name": "stdout",
          "text": [
            "RMSE: 1.3644\n"
          ]
        },
        {
          "output_type": "execute_result",
          "data": {
            "text/plain": [
              "1.3644194321204535"
            ]
          },
          "metadata": {},
          "execution_count": 123
        }
      ]
    }
  ]
}