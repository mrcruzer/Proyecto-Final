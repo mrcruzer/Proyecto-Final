{
 "cells": [
  {
   "cell_type": "code",
   "execution_count": 10,
   "metadata": {
    "id": "lTAoTIi4zUt-"
   },
   "outputs": [],
   "source": [
    "from surprise import Dataset, Reader, SVD, KNNWithMeans\n",
    "from surprise import accuracy\n",
    "from surprise.model_selection import train_test_split\n",
    "from surprise.accuracy import rmse\n",
    "from surprise.model_selection.search import RandomizedSearchCV\n",
    "import pandas as pd\n",
    "import numpy as np"
   ]
  },
  {
   "cell_type": "code",
   "execution_count": 28,
   "metadata": {
    "id": "cyJouT1V0sEX"
   },
   "outputs": [],
   "source": [
    "#Leemos los datos de las reseñas / Ejemplo con Reviews_9.csv\n",
    "df = pd.read_csv('D:/Marcos/HENRY/Proyecto-Final/reviews_finales/reviews_1.csv', sep=';', escapechar='\\\\')"
   ]
  },
  {
   "cell_type": "code",
   "execution_count": 29,
   "metadata": {
    "id": "1hD8VQMWBgNk"
   },
   "outputs": [
    {
     "data": {
      "text/html": [
       "<div>\n",
       "<style scoped>\n",
       "    .dataframe tbody tr th:only-of-type {\n",
       "        vertical-align: middle;\n",
       "    }\n",
       "\n",
       "    .dataframe tbody tr th {\n",
       "        vertical-align: top;\n",
       "    }\n",
       "\n",
       "    .dataframe thead th {\n",
       "        text-align: right;\n",
       "    }\n",
       "</style>\n",
       "<table border=\"1\" class=\"dataframe\">\n",
       "  <thead>\n",
       "    <tr style=\"text-align: right;\">\n",
       "      <th></th>\n",
       "      <th>Id_Usuario</th>\n",
       "      <th>Id_Restaurant</th>\n",
       "      <th>Rating</th>\n",
       "      <th>Reseña</th>\n",
       "      <th>Timestamp</th>\n",
       "    </tr>\n",
       "  </thead>\n",
       "  <tbody>\n",
       "    <tr>\n",
       "      <th>0</th>\n",
       "      <td>1.179759e+20</td>\n",
       "      <td>0x8889221157fb3455:0x5c125c40c3eccc2a</td>\n",
       "      <td>4</td>\n",
       "      <td>On the higher end of price for pizza, but they...</td>\n",
       "      <td>1463443013514</td>\n",
       "    </tr>\n",
       "    <tr>\n",
       "      <th>1</th>\n",
       "      <td>1.143165e+20</td>\n",
       "      <td>0x8889221157fb3455:0x5c125c40c3eccc2a</td>\n",
       "      <td>3</td>\n",
       "      <td>Food was ok, felt like the atmosphere as well ...</td>\n",
       "      <td>1447623939865</td>\n",
       "    </tr>\n",
       "    <tr>\n",
       "      <th>2</th>\n",
       "      <td>1.136326e+20</td>\n",
       "      <td>0x8889221157fb3455:0x5c125c40c3eccc2a</td>\n",
       "      <td>4</td>\n",
       "      <td>Good food, service so so</td>\n",
       "      <td>1469293549247</td>\n",
       "    </tr>\n",
       "    <tr>\n",
       "      <th>3</th>\n",
       "      <td>1.076840e+20</td>\n",
       "      <td>0x8889221157fb3455:0x5c125c40c3eccc2a</td>\n",
       "      <td>5</td>\n",
       "      <td>Love it</td>\n",
       "      <td>1442279219480</td>\n",
       "    </tr>\n",
       "    <tr>\n",
       "      <th>4</th>\n",
       "      <td>1.126036e+20</td>\n",
       "      <td>0x8889221157fb3455:0x5c125c40c3eccc2a</td>\n",
       "      <td>5</td>\n",
       "      <td>Yum</td>\n",
       "      <td>1382634896130</td>\n",
       "    </tr>\n",
       "  </tbody>\n",
       "</table>\n",
       "</div>"
      ],
      "text/plain": [
       "     Id_Usuario                          Id_Restaurant  Rating  \\\n",
       "0  1.179759e+20  0x8889221157fb3455:0x5c125c40c3eccc2a       4   \n",
       "1  1.143165e+20  0x8889221157fb3455:0x5c125c40c3eccc2a       3   \n",
       "2  1.136326e+20  0x8889221157fb3455:0x5c125c40c3eccc2a       4   \n",
       "3  1.076840e+20  0x8889221157fb3455:0x5c125c40c3eccc2a       5   \n",
       "4  1.126036e+20  0x8889221157fb3455:0x5c125c40c3eccc2a       5   \n",
       "\n",
       "                                              Reseña      Timestamp  \n",
       "0  On the higher end of price for pizza, but they...  1463443013514  \n",
       "1  Food was ok, felt like the atmosphere as well ...  1447623939865  \n",
       "2                           Good food, service so so  1469293549247  \n",
       "3                                            Love it  1442279219480  \n",
       "4                                                Yum  1382634896130  "
      ]
     },
     "execution_count": 29,
     "metadata": {},
     "output_type": "execute_result"
    }
   ],
   "source": [
    "df.head()"
   ]
  },
  {
   "cell_type": "code",
   "execution_count": 30,
   "metadata": {},
   "outputs": [
    {
     "name": "stdout",
     "output_type": "stream",
     "text": [
      "<class 'pandas.core.frame.DataFrame'>\n",
      "RangeIndex: 2000000 entries, 0 to 1999999\n",
      "Data columns (total 5 columns):\n",
      " #   Column         Dtype  \n",
      "---  ------         -----  \n",
      " 0   Id_Usuario     float64\n",
      " 1   Id_Restaurant  object \n",
      " 2   Rating         int64  \n",
      " 3   Reseña         object \n",
      " 4   Timestamp      int64  \n",
      "dtypes: float64(1), int64(2), object(2)\n",
      "memory usage: 76.3+ MB\n"
     ]
    }
   ],
   "source": [
    "df.info()"
   ]
  },
  {
   "cell_type": "code",
   "execution_count": 31,
   "metadata": {
    "id": "gDq1Coih0vMA"
   },
   "outputs": [],
   "source": [
    "#Crea un objeto Reader y Dataset de Surprise\n",
    "reader = Reader(rating_scale=(1, 5))\n",
    "data = Dataset.load_from_df(df[[\"Id_Usuario\", \"Id_Restaurant\", \"Rating\"]], reader)"
   ]
  },
  {
   "cell_type": "code",
   "execution_count": 32,
   "metadata": {
    "id": "jAaOt5_3BpqB"
   },
   "outputs": [],
   "source": [
    "#Divide los datos en conjuntos de entrenamiento y prueba\n",
    "trainset, testset = train_test_split(data, test_size=0.25, random_state=42)"
   ]
  },
  {
   "cell_type": "code",
   "execution_count": null,
   "metadata": {
    "colab": {
     "base_uri": "https://localhost:8080/"
    },
    "id": "9_2A0VBCB-tf",
    "outputId": "685b555a-acdd-4f0f-d4c2-9236a2ecf239"
   },
   "outputs": [],
   "source": [
    "#Optimizamos hiperparámetros. Primero vamos a hacerlo con el SVD.\n",
    "parametros = {'n_factors':np.arange(10,1000),\n",
    "             'n_epochs':np.arange(5,50),\n",
    "             'lr_all':np.arange(0.001,0.05,0.001),\n",
    "             'reg_all':np.arange(0.005,0.1,0.005)}\n",
    "\n",
    "rs = RandomizedSearchCV(SVD,param_distributions=parametros,cv=3,n_iter=30,n_jobs=-1,random_state =42)\n",
    "rs.fit(data)"
   ]
  },
  {
   "cell_type": "code",
   "execution_count": 22,
   "metadata": {
    "id": "ZK9IGogQCEO3"
   },
   "outputs": [
    {
     "data": {
      "text/html": [
       "<div>\n",
       "<style scoped>\n",
       "    .dataframe tbody tr th:only-of-type {\n",
       "        vertical-align: middle;\n",
       "    }\n",
       "\n",
       "    .dataframe tbody tr th {\n",
       "        vertical-align: top;\n",
       "    }\n",
       "\n",
       "    .dataframe thead th {\n",
       "        text-align: right;\n",
       "    }\n",
       "</style>\n",
       "<table border=\"1\" class=\"dataframe\">\n",
       "  <thead>\n",
       "    <tr style=\"text-align: right;\">\n",
       "      <th></th>\n",
       "      <th>split0_test_rmse</th>\n",
       "      <th>split1_test_rmse</th>\n",
       "      <th>split2_test_rmse</th>\n",
       "      <th>mean_test_rmse</th>\n",
       "      <th>std_test_rmse</th>\n",
       "      <th>rank_test_rmse</th>\n",
       "      <th>split0_test_mae</th>\n",
       "      <th>split1_test_mae</th>\n",
       "      <th>split2_test_mae</th>\n",
       "      <th>mean_test_mae</th>\n",
       "      <th>...</th>\n",
       "      <th>rank_test_mae</th>\n",
       "      <th>mean_fit_time</th>\n",
       "      <th>std_fit_time</th>\n",
       "      <th>mean_test_time</th>\n",
       "      <th>std_test_time</th>\n",
       "      <th>params</th>\n",
       "      <th>param_n_factors</th>\n",
       "      <th>param_n_epochs</th>\n",
       "      <th>param_lr_all</th>\n",
       "      <th>param_reg_all</th>\n",
       "    </tr>\n",
       "  </thead>\n",
       "  <tbody>\n",
       "    <tr>\n",
       "      <th>1</th>\n",
       "      <td>1.339292</td>\n",
       "      <td>1.333803</td>\n",
       "      <td>1.377050</td>\n",
       "      <td>1.350048</td>\n",
       "      <td>0.019224</td>\n",
       "      <td>1</td>\n",
       "      <td>1.081632</td>\n",
       "      <td>1.092803</td>\n",
       "      <td>1.108660</td>\n",
       "      <td>1.094365</td>\n",
       "      <td>...</td>\n",
       "      <td>1</td>\n",
       "      <td>0.411235</td>\n",
       "      <td>0.052966</td>\n",
       "      <td>0.037565</td>\n",
       "      <td>0.008034</td>\n",
       "      <td>{'n_factors': 69, 'n_epochs': 15, 'lr_all': 0....</td>\n",
       "      <td>69</td>\n",
       "      <td>15</td>\n",
       "      <td>0.027</td>\n",
       "      <td>0.060</td>\n",
       "    </tr>\n",
       "    <tr>\n",
       "      <th>28</th>\n",
       "      <td>1.341265</td>\n",
       "      <td>1.336985</td>\n",
       "      <td>1.376386</td>\n",
       "      <td>1.351545</td>\n",
       "      <td>0.017651</td>\n",
       "      <td>2</td>\n",
       "      <td>1.083849</td>\n",
       "      <td>1.097378</td>\n",
       "      <td>1.110418</td>\n",
       "      <td>1.097215</td>\n",
       "      <td>...</td>\n",
       "      <td>4</td>\n",
       "      <td>0.429183</td>\n",
       "      <td>0.006110</td>\n",
       "      <td>0.035571</td>\n",
       "      <td>0.009153</td>\n",
       "      <td>{'n_factors': 147, 'n_epochs': 9, 'lr_all': 0....</td>\n",
       "      <td>147</td>\n",
       "      <td>9</td>\n",
       "      <td>0.040</td>\n",
       "      <td>0.020</td>\n",
       "    </tr>\n",
       "    <tr>\n",
       "      <th>2</th>\n",
       "      <td>1.341528</td>\n",
       "      <td>1.337397</td>\n",
       "      <td>1.377913</td>\n",
       "      <td>1.352280</td>\n",
       "      <td>0.018204</td>\n",
       "      <td>3</td>\n",
       "      <td>1.085866</td>\n",
       "      <td>1.097236</td>\n",
       "      <td>1.113241</td>\n",
       "      <td>1.098781</td>\n",
       "      <td>...</td>\n",
       "      <td>5</td>\n",
       "      <td>1.312825</td>\n",
       "      <td>0.026667</td>\n",
       "      <td>0.044549</td>\n",
       "      <td>0.025706</td>\n",
       "      <td>{'n_factors': 132, 'n_epochs': 29, 'lr_all': 0...</td>\n",
       "      <td>132</td>\n",
       "      <td>29</td>\n",
       "      <td>0.039</td>\n",
       "      <td>0.080</td>\n",
       "    </tr>\n",
       "    <tr>\n",
       "      <th>20</th>\n",
       "      <td>1.341936</td>\n",
       "      <td>1.336382</td>\n",
       "      <td>1.380507</td>\n",
       "      <td>1.352941</td>\n",
       "      <td>0.019623</td>\n",
       "      <td>4</td>\n",
       "      <td>1.081458</td>\n",
       "      <td>1.093533</td>\n",
       "      <td>1.112039</td>\n",
       "      <td>1.095677</td>\n",
       "      <td>...</td>\n",
       "      <td>2</td>\n",
       "      <td>0.600392</td>\n",
       "      <td>0.012325</td>\n",
       "      <td>0.031585</td>\n",
       "      <td>0.002486</td>\n",
       "      <td>{'n_factors': 77, 'n_epochs': 21, 'lr_all': 0....</td>\n",
       "      <td>77</td>\n",
       "      <td>21</td>\n",
       "      <td>0.041</td>\n",
       "      <td>0.055</td>\n",
       "    </tr>\n",
       "    <tr>\n",
       "      <th>26</th>\n",
       "      <td>1.341536</td>\n",
       "      <td>1.338122</td>\n",
       "      <td>1.381796</td>\n",
       "      <td>1.353818</td>\n",
       "      <td>0.019832</td>\n",
       "      <td>5</td>\n",
       "      <td>1.082213</td>\n",
       "      <td>1.095776</td>\n",
       "      <td>1.113501</td>\n",
       "      <td>1.097163</td>\n",
       "      <td>...</td>\n",
       "      <td>3</td>\n",
       "      <td>1.159233</td>\n",
       "      <td>0.028354</td>\n",
       "      <td>0.032912</td>\n",
       "      <td>0.010586</td>\n",
       "      <td>{'n_factors': 76, 'n_epochs': 42, 'lr_all': 0....</td>\n",
       "      <td>76</td>\n",
       "      <td>42</td>\n",
       "      <td>0.037</td>\n",
       "      <td>0.080</td>\n",
       "    </tr>\n",
       "  </tbody>\n",
       "</table>\n",
       "<p>5 rows × 21 columns</p>\n",
       "</div>"
      ],
      "text/plain": [
       "    split0_test_rmse  split1_test_rmse  split2_test_rmse  mean_test_rmse  \\\n",
       "1           1.339292          1.333803          1.377050        1.350048   \n",
       "28          1.341265          1.336985          1.376386        1.351545   \n",
       "2           1.341528          1.337397          1.377913        1.352280   \n",
       "20          1.341936          1.336382          1.380507        1.352941   \n",
       "26          1.341536          1.338122          1.381796        1.353818   \n",
       "\n",
       "    std_test_rmse  rank_test_rmse  split0_test_mae  split1_test_mae  \\\n",
       "1        0.019224               1         1.081632         1.092803   \n",
       "28       0.017651               2         1.083849         1.097378   \n",
       "2        0.018204               3         1.085866         1.097236   \n",
       "20       0.019623               4         1.081458         1.093533   \n",
       "26       0.019832               5         1.082213         1.095776   \n",
       "\n",
       "    split2_test_mae  mean_test_mae  ...  rank_test_mae  mean_fit_time  \\\n",
       "1          1.108660       1.094365  ...              1       0.411235   \n",
       "28         1.110418       1.097215  ...              4       0.429183   \n",
       "2          1.113241       1.098781  ...              5       1.312825   \n",
       "20         1.112039       1.095677  ...              2       0.600392   \n",
       "26         1.113501       1.097163  ...              3       1.159233   \n",
       "\n",
       "    std_fit_time  mean_test_time  std_test_time  \\\n",
       "1       0.052966        0.037565       0.008034   \n",
       "28      0.006110        0.035571       0.009153   \n",
       "2       0.026667        0.044549       0.025706   \n",
       "20      0.012325        0.031585       0.002486   \n",
       "26      0.028354        0.032912       0.010586   \n",
       "\n",
       "                                               params param_n_factors  \\\n",
       "1   {'n_factors': 69, 'n_epochs': 15, 'lr_all': 0....              69   \n",
       "28  {'n_factors': 147, 'n_epochs': 9, 'lr_all': 0....             147   \n",
       "2   {'n_factors': 132, 'n_epochs': 29, 'lr_all': 0...             132   \n",
       "20  {'n_factors': 77, 'n_epochs': 21, 'lr_all': 0....              77   \n",
       "26  {'n_factors': 76, 'n_epochs': 42, 'lr_all': 0....              76   \n",
       "\n",
       "    param_n_epochs  param_lr_all  param_reg_all  \n",
       "1               15         0.027          0.060  \n",
       "28               9         0.040          0.020  \n",
       "2               29         0.039          0.080  \n",
       "20              21         0.041          0.055  \n",
       "26              42         0.037          0.080  \n",
       "\n",
       "[5 rows x 21 columns]"
      ]
     },
     "execution_count": 22,
     "metadata": {},
     "output_type": "execute_result"
    }
   ],
   "source": [
    "results_df = pd.DataFrame(rs.cv_results)\n",
    "results_df.sort_values(by='mean_test_rmse').head()"
   ]
  },
  {
   "cell_type": "code",
   "execution_count": 23,
   "metadata": {},
   "outputs": [
    {
     "data": {
      "text/html": [
       "<div>\n",
       "<style scoped>\n",
       "    .dataframe tbody tr th:only-of-type {\n",
       "        vertical-align: middle;\n",
       "    }\n",
       "\n",
       "    .dataframe tbody tr th {\n",
       "        vertical-align: top;\n",
       "    }\n",
       "\n",
       "    .dataframe thead th {\n",
       "        text-align: right;\n",
       "    }\n",
       "</style>\n",
       "<table border=\"1\" class=\"dataframe\">\n",
       "  <thead>\n",
       "    <tr style=\"text-align: right;\">\n",
       "      <th></th>\n",
       "      <th>param_n_factors</th>\n",
       "      <th>param_n_epochs</th>\n",
       "      <th>param_lr_all</th>\n",
       "      <th>param_reg_all</th>\n",
       "      <th>mean_test_rmse</th>\n",
       "    </tr>\n",
       "  </thead>\n",
       "  <tbody>\n",
       "    <tr>\n",
       "      <th>1</th>\n",
       "      <td>69</td>\n",
       "      <td>15</td>\n",
       "      <td>0.027</td>\n",
       "      <td>0.060</td>\n",
       "      <td>1.350048</td>\n",
       "    </tr>\n",
       "    <tr>\n",
       "      <th>28</th>\n",
       "      <td>147</td>\n",
       "      <td>9</td>\n",
       "      <td>0.040</td>\n",
       "      <td>0.020</td>\n",
       "      <td>1.351545</td>\n",
       "    </tr>\n",
       "    <tr>\n",
       "      <th>2</th>\n",
       "      <td>132</td>\n",
       "      <td>29</td>\n",
       "      <td>0.039</td>\n",
       "      <td>0.080</td>\n",
       "      <td>1.352280</td>\n",
       "    </tr>\n",
       "    <tr>\n",
       "      <th>20</th>\n",
       "      <td>77</td>\n",
       "      <td>21</td>\n",
       "      <td>0.041</td>\n",
       "      <td>0.055</td>\n",
       "      <td>1.352941</td>\n",
       "    </tr>\n",
       "    <tr>\n",
       "      <th>26</th>\n",
       "      <td>76</td>\n",
       "      <td>42</td>\n",
       "      <td>0.037</td>\n",
       "      <td>0.080</td>\n",
       "      <td>1.353818</td>\n",
       "    </tr>\n",
       "    <tr>\n",
       "      <th>29</th>\n",
       "      <td>222</td>\n",
       "      <td>36</td>\n",
       "      <td>0.036</td>\n",
       "      <td>0.025</td>\n",
       "      <td>1.354762</td>\n",
       "    </tr>\n",
       "    <tr>\n",
       "      <th>22</th>\n",
       "      <td>230</td>\n",
       "      <td>17</td>\n",
       "      <td>0.012</td>\n",
       "      <td>0.055</td>\n",
       "      <td>1.356235</td>\n",
       "    </tr>\n",
       "    <tr>\n",
       "      <th>21</th>\n",
       "      <td>246</td>\n",
       "      <td>48</td>\n",
       "      <td>0.008</td>\n",
       "      <td>0.035</td>\n",
       "      <td>1.356430</td>\n",
       "    </tr>\n",
       "    <tr>\n",
       "      <th>25</th>\n",
       "      <td>264</td>\n",
       "      <td>25</td>\n",
       "      <td>0.046</td>\n",
       "      <td>0.045</td>\n",
       "      <td>1.357068</td>\n",
       "    </tr>\n",
       "    <tr>\n",
       "      <th>3</th>\n",
       "      <td>97</td>\n",
       "      <td>41</td>\n",
       "      <td>0.003</td>\n",
       "      <td>0.030</td>\n",
       "      <td>1.358354</td>\n",
       "    </tr>\n",
       "    <tr>\n",
       "      <th>6</th>\n",
       "      <td>341</td>\n",
       "      <td>47</td>\n",
       "      <td>0.038</td>\n",
       "      <td>0.085</td>\n",
       "      <td>1.358594</td>\n",
       "    </tr>\n",
       "    <tr>\n",
       "      <th>23</th>\n",
       "      <td>430</td>\n",
       "      <td>35</td>\n",
       "      <td>0.045</td>\n",
       "      <td>0.085</td>\n",
       "      <td>1.360327</td>\n",
       "    </tr>\n",
       "    <tr>\n",
       "      <th>24</th>\n",
       "      <td>373</td>\n",
       "      <td>34</td>\n",
       "      <td>0.019</td>\n",
       "      <td>0.055</td>\n",
       "      <td>1.361322</td>\n",
       "    </tr>\n",
       "    <tr>\n",
       "      <th>10</th>\n",
       "      <td>388</td>\n",
       "      <td>45</td>\n",
       "      <td>0.019</td>\n",
       "      <td>0.075</td>\n",
       "      <td>1.361699</td>\n",
       "    </tr>\n",
       "    <tr>\n",
       "      <th>4</th>\n",
       "      <td>425</td>\n",
       "      <td>14</td>\n",
       "      <td>0.023</td>\n",
       "      <td>0.030</td>\n",
       "      <td>1.362495</td>\n",
       "    </tr>\n",
       "    <tr>\n",
       "      <th>8</th>\n",
       "      <td>431</td>\n",
       "      <td>18</td>\n",
       "      <td>0.018</td>\n",
       "      <td>0.050</td>\n",
       "      <td>1.364222</td>\n",
       "    </tr>\n",
       "    <tr>\n",
       "      <th>5</th>\n",
       "      <td>483</td>\n",
       "      <td>48</td>\n",
       "      <td>0.007</td>\n",
       "      <td>0.055</td>\n",
       "      <td>1.365842</td>\n",
       "    </tr>\n",
       "    <tr>\n",
       "      <th>13</th>\n",
       "      <td>652</td>\n",
       "      <td>40</td>\n",
       "      <td>0.043</td>\n",
       "      <td>0.040</td>\n",
       "      <td>1.369332</td>\n",
       "    </tr>\n",
       "    <tr>\n",
       "      <th>7</th>\n",
       "      <td>599</td>\n",
       "      <td>24</td>\n",
       "      <td>0.034</td>\n",
       "      <td>0.020</td>\n",
       "      <td>1.370150</td>\n",
       "    </tr>\n",
       "    <tr>\n",
       "      <th>17</th>\n",
       "      <td>618</td>\n",
       "      <td>34</td>\n",
       "      <td>0.029</td>\n",
       "      <td>0.015</td>\n",
       "      <td>1.370570</td>\n",
       "    </tr>\n",
       "    <tr>\n",
       "      <th>14</th>\n",
       "      <td>544</td>\n",
       "      <td>14</td>\n",
       "      <td>0.007</td>\n",
       "      <td>0.030</td>\n",
       "      <td>1.371095</td>\n",
       "    </tr>\n",
       "    <tr>\n",
       "      <th>15</th>\n",
       "      <td>803</td>\n",
       "      <td>34</td>\n",
       "      <td>0.046</td>\n",
       "      <td>0.040</td>\n",
       "      <td>1.372854</td>\n",
       "    </tr>\n",
       "    <tr>\n",
       "      <th>12</th>\n",
       "      <td>762</td>\n",
       "      <td>46</td>\n",
       "      <td>0.023</td>\n",
       "      <td>0.050</td>\n",
       "      <td>1.373277</td>\n",
       "    </tr>\n",
       "    <tr>\n",
       "      <th>11</th>\n",
       "      <td>789</td>\n",
       "      <td>30</td>\n",
       "      <td>0.045</td>\n",
       "      <td>0.015</td>\n",
       "      <td>1.373451</td>\n",
       "    </tr>\n",
       "    <tr>\n",
       "      <th>19</th>\n",
       "      <td>778</td>\n",
       "      <td>21</td>\n",
       "      <td>0.019</td>\n",
       "      <td>0.055</td>\n",
       "      <td>1.374286</td>\n",
       "    </tr>\n",
       "    <tr>\n",
       "      <th>27</th>\n",
       "      <td>742</td>\n",
       "      <td>14</td>\n",
       "      <td>0.016</td>\n",
       "      <td>0.080</td>\n",
       "      <td>1.374389</td>\n",
       "    </tr>\n",
       "    <tr>\n",
       "      <th>18</th>\n",
       "      <td>835</td>\n",
       "      <td>27</td>\n",
       "      <td>0.048</td>\n",
       "      <td>0.010</td>\n",
       "      <td>1.374923</td>\n",
       "    </tr>\n",
       "    <tr>\n",
       "      <th>9</th>\n",
       "      <td>874</td>\n",
       "      <td>11</td>\n",
       "      <td>0.044</td>\n",
       "      <td>0.030</td>\n",
       "      <td>1.376647</td>\n",
       "    </tr>\n",
       "    <tr>\n",
       "      <th>16</th>\n",
       "      <td>910</td>\n",
       "      <td>5</td>\n",
       "      <td>0.024</td>\n",
       "      <td>0.085</td>\n",
       "      <td>1.378292</td>\n",
       "    </tr>\n",
       "    <tr>\n",
       "      <th>0</th>\n",
       "      <td>998</td>\n",
       "      <td>29</td>\n",
       "      <td>0.049</td>\n",
       "      <td>0.010</td>\n",
       "      <td>1.379771</td>\n",
       "    </tr>\n",
       "  </tbody>\n",
       "</table>\n",
       "</div>"
      ],
      "text/plain": [
       "    param_n_factors  param_n_epochs  param_lr_all  param_reg_all  \\\n",
       "1                69              15         0.027          0.060   \n",
       "28              147               9         0.040          0.020   \n",
       "2               132              29         0.039          0.080   \n",
       "20               77              21         0.041          0.055   \n",
       "26               76              42         0.037          0.080   \n",
       "29              222              36         0.036          0.025   \n",
       "22              230              17         0.012          0.055   \n",
       "21              246              48         0.008          0.035   \n",
       "25              264              25         0.046          0.045   \n",
       "3                97              41         0.003          0.030   \n",
       "6               341              47         0.038          0.085   \n",
       "23              430              35         0.045          0.085   \n",
       "24              373              34         0.019          0.055   \n",
       "10              388              45         0.019          0.075   \n",
       "4               425              14         0.023          0.030   \n",
       "8               431              18         0.018          0.050   \n",
       "5               483              48         0.007          0.055   \n",
       "13              652              40         0.043          0.040   \n",
       "7               599              24         0.034          0.020   \n",
       "17              618              34         0.029          0.015   \n",
       "14              544              14         0.007          0.030   \n",
       "15              803              34         0.046          0.040   \n",
       "12              762              46         0.023          0.050   \n",
       "11              789              30         0.045          0.015   \n",
       "19              778              21         0.019          0.055   \n",
       "27              742              14         0.016          0.080   \n",
       "18              835              27         0.048          0.010   \n",
       "9               874              11         0.044          0.030   \n",
       "16              910               5         0.024          0.085   \n",
       "0               998              29         0.049          0.010   \n",
       "\n",
       "    mean_test_rmse  \n",
       "1         1.350048  \n",
       "28        1.351545  \n",
       "2         1.352280  \n",
       "20        1.352941  \n",
       "26        1.353818  \n",
       "29        1.354762  \n",
       "22        1.356235  \n",
       "21        1.356430  \n",
       "25        1.357068  \n",
       "3         1.358354  \n",
       "6         1.358594  \n",
       "23        1.360327  \n",
       "24        1.361322  \n",
       "10        1.361699  \n",
       "4         1.362495  \n",
       "8         1.364222  \n",
       "5         1.365842  \n",
       "13        1.369332  \n",
       "7         1.370150  \n",
       "17        1.370570  \n",
       "14        1.371095  \n",
       "15        1.372854  \n",
       "12        1.373277  \n",
       "11        1.373451  \n",
       "19        1.374286  \n",
       "27        1.374389  \n",
       "18        1.374923  \n",
       "9         1.376647  \n",
       "16        1.378292  \n",
       "0         1.379771  "
      ]
     },
     "execution_count": 23,
     "metadata": {},
     "output_type": "execute_result"
    }
   ],
   "source": [
    "#Tomamos solo las columnas que nos interesan.\n",
    "resultados = results_df[['param_n_factors','param_n_epochs','param_lr_all',\n",
    "                         'param_reg_all','mean_test_rmse']].sort_values(by='mean_test_rmse')\n",
    "resultados"
   ]
  },
  {
   "cell_type": "code",
   "execution_count": 24,
   "metadata": {},
   "outputs": [],
   "source": [
    "#Definimos función para limpiar los nombres de los campos.\n",
    "def shorten_param(param_name):\n",
    "    if \"param_\" in param_name:\n",
    "        return param_name.rsplit(\"param_\", 1)[1]\n",
    "    return param_name"
   ]
  },
  {
   "cell_type": "code",
   "execution_count": 25,
   "metadata": {},
   "outputs": [
    {
     "data": {
      "text/html": [
       "<div>\n",
       "<style scoped>\n",
       "    .dataframe tbody tr th:only-of-type {\n",
       "        vertical-align: middle;\n",
       "    }\n",
       "\n",
       "    .dataframe tbody tr th {\n",
       "        vertical-align: top;\n",
       "    }\n",
       "\n",
       "    .dataframe thead th {\n",
       "        text-align: right;\n",
       "    }\n",
       "</style>\n",
       "<table border=\"1\" class=\"dataframe\">\n",
       "  <thead>\n",
       "    <tr style=\"text-align: right;\">\n",
       "      <th></th>\n",
       "      <th>n_factors</th>\n",
       "      <th>n_epochs</th>\n",
       "      <th>lr_all</th>\n",
       "      <th>reg_all</th>\n",
       "      <th>mean_test_rmse</th>\n",
       "    </tr>\n",
       "  </thead>\n",
       "  <tbody>\n",
       "    <tr>\n",
       "      <th>1</th>\n",
       "      <td>69</td>\n",
       "      <td>15</td>\n",
       "      <td>0.027</td>\n",
       "      <td>0.060</td>\n",
       "      <td>1.350048</td>\n",
       "    </tr>\n",
       "    <tr>\n",
       "      <th>28</th>\n",
       "      <td>147</td>\n",
       "      <td>9</td>\n",
       "      <td>0.040</td>\n",
       "      <td>0.020</td>\n",
       "      <td>1.351545</td>\n",
       "    </tr>\n",
       "    <tr>\n",
       "      <th>2</th>\n",
       "      <td>132</td>\n",
       "      <td>29</td>\n",
       "      <td>0.039</td>\n",
       "      <td>0.080</td>\n",
       "      <td>1.352280</td>\n",
       "    </tr>\n",
       "    <tr>\n",
       "      <th>20</th>\n",
       "      <td>77</td>\n",
       "      <td>21</td>\n",
       "      <td>0.041</td>\n",
       "      <td>0.055</td>\n",
       "      <td>1.352941</td>\n",
       "    </tr>\n",
       "    <tr>\n",
       "      <th>26</th>\n",
       "      <td>76</td>\n",
       "      <td>42</td>\n",
       "      <td>0.037</td>\n",
       "      <td>0.080</td>\n",
       "      <td>1.353818</td>\n",
       "    </tr>\n",
       "    <tr>\n",
       "      <th>29</th>\n",
       "      <td>222</td>\n",
       "      <td>36</td>\n",
       "      <td>0.036</td>\n",
       "      <td>0.025</td>\n",
       "      <td>1.354762</td>\n",
       "    </tr>\n",
       "    <tr>\n",
       "      <th>22</th>\n",
       "      <td>230</td>\n",
       "      <td>17</td>\n",
       "      <td>0.012</td>\n",
       "      <td>0.055</td>\n",
       "      <td>1.356235</td>\n",
       "    </tr>\n",
       "    <tr>\n",
       "      <th>21</th>\n",
       "      <td>246</td>\n",
       "      <td>48</td>\n",
       "      <td>0.008</td>\n",
       "      <td>0.035</td>\n",
       "      <td>1.356430</td>\n",
       "    </tr>\n",
       "    <tr>\n",
       "      <th>25</th>\n",
       "      <td>264</td>\n",
       "      <td>25</td>\n",
       "      <td>0.046</td>\n",
       "      <td>0.045</td>\n",
       "      <td>1.357068</td>\n",
       "    </tr>\n",
       "    <tr>\n",
       "      <th>3</th>\n",
       "      <td>97</td>\n",
       "      <td>41</td>\n",
       "      <td>0.003</td>\n",
       "      <td>0.030</td>\n",
       "      <td>1.358354</td>\n",
       "    </tr>\n",
       "    <tr>\n",
       "      <th>6</th>\n",
       "      <td>341</td>\n",
       "      <td>47</td>\n",
       "      <td>0.038</td>\n",
       "      <td>0.085</td>\n",
       "      <td>1.358594</td>\n",
       "    </tr>\n",
       "    <tr>\n",
       "      <th>23</th>\n",
       "      <td>430</td>\n",
       "      <td>35</td>\n",
       "      <td>0.045</td>\n",
       "      <td>0.085</td>\n",
       "      <td>1.360327</td>\n",
       "    </tr>\n",
       "    <tr>\n",
       "      <th>24</th>\n",
       "      <td>373</td>\n",
       "      <td>34</td>\n",
       "      <td>0.019</td>\n",
       "      <td>0.055</td>\n",
       "      <td>1.361322</td>\n",
       "    </tr>\n",
       "    <tr>\n",
       "      <th>10</th>\n",
       "      <td>388</td>\n",
       "      <td>45</td>\n",
       "      <td>0.019</td>\n",
       "      <td>0.075</td>\n",
       "      <td>1.361699</td>\n",
       "    </tr>\n",
       "    <tr>\n",
       "      <th>4</th>\n",
       "      <td>425</td>\n",
       "      <td>14</td>\n",
       "      <td>0.023</td>\n",
       "      <td>0.030</td>\n",
       "      <td>1.362495</td>\n",
       "    </tr>\n",
       "    <tr>\n",
       "      <th>8</th>\n",
       "      <td>431</td>\n",
       "      <td>18</td>\n",
       "      <td>0.018</td>\n",
       "      <td>0.050</td>\n",
       "      <td>1.364222</td>\n",
       "    </tr>\n",
       "    <tr>\n",
       "      <th>5</th>\n",
       "      <td>483</td>\n",
       "      <td>48</td>\n",
       "      <td>0.007</td>\n",
       "      <td>0.055</td>\n",
       "      <td>1.365842</td>\n",
       "    </tr>\n",
       "    <tr>\n",
       "      <th>13</th>\n",
       "      <td>652</td>\n",
       "      <td>40</td>\n",
       "      <td>0.043</td>\n",
       "      <td>0.040</td>\n",
       "      <td>1.369332</td>\n",
       "    </tr>\n",
       "    <tr>\n",
       "      <th>7</th>\n",
       "      <td>599</td>\n",
       "      <td>24</td>\n",
       "      <td>0.034</td>\n",
       "      <td>0.020</td>\n",
       "      <td>1.370150</td>\n",
       "    </tr>\n",
       "    <tr>\n",
       "      <th>17</th>\n",
       "      <td>618</td>\n",
       "      <td>34</td>\n",
       "      <td>0.029</td>\n",
       "      <td>0.015</td>\n",
       "      <td>1.370570</td>\n",
       "    </tr>\n",
       "    <tr>\n",
       "      <th>14</th>\n",
       "      <td>544</td>\n",
       "      <td>14</td>\n",
       "      <td>0.007</td>\n",
       "      <td>0.030</td>\n",
       "      <td>1.371095</td>\n",
       "    </tr>\n",
       "    <tr>\n",
       "      <th>15</th>\n",
       "      <td>803</td>\n",
       "      <td>34</td>\n",
       "      <td>0.046</td>\n",
       "      <td>0.040</td>\n",
       "      <td>1.372854</td>\n",
       "    </tr>\n",
       "    <tr>\n",
       "      <th>12</th>\n",
       "      <td>762</td>\n",
       "      <td>46</td>\n",
       "      <td>0.023</td>\n",
       "      <td>0.050</td>\n",
       "      <td>1.373277</td>\n",
       "    </tr>\n",
       "    <tr>\n",
       "      <th>11</th>\n",
       "      <td>789</td>\n",
       "      <td>30</td>\n",
       "      <td>0.045</td>\n",
       "      <td>0.015</td>\n",
       "      <td>1.373451</td>\n",
       "    </tr>\n",
       "    <tr>\n",
       "      <th>19</th>\n",
       "      <td>778</td>\n",
       "      <td>21</td>\n",
       "      <td>0.019</td>\n",
       "      <td>0.055</td>\n",
       "      <td>1.374286</td>\n",
       "    </tr>\n",
       "    <tr>\n",
       "      <th>27</th>\n",
       "      <td>742</td>\n",
       "      <td>14</td>\n",
       "      <td>0.016</td>\n",
       "      <td>0.080</td>\n",
       "      <td>1.374389</td>\n",
       "    </tr>\n",
       "    <tr>\n",
       "      <th>18</th>\n",
       "      <td>835</td>\n",
       "      <td>27</td>\n",
       "      <td>0.048</td>\n",
       "      <td>0.010</td>\n",
       "      <td>1.374923</td>\n",
       "    </tr>\n",
       "    <tr>\n",
       "      <th>9</th>\n",
       "      <td>874</td>\n",
       "      <td>11</td>\n",
       "      <td>0.044</td>\n",
       "      <td>0.030</td>\n",
       "      <td>1.376647</td>\n",
       "    </tr>\n",
       "    <tr>\n",
       "      <th>16</th>\n",
       "      <td>910</td>\n",
       "      <td>5</td>\n",
       "      <td>0.024</td>\n",
       "      <td>0.085</td>\n",
       "      <td>1.378292</td>\n",
       "    </tr>\n",
       "    <tr>\n",
       "      <th>0</th>\n",
       "      <td>998</td>\n",
       "      <td>29</td>\n",
       "      <td>0.049</td>\n",
       "      <td>0.010</td>\n",
       "      <td>1.379771</td>\n",
       "    </tr>\n",
       "  </tbody>\n",
       "</table>\n",
       "</div>"
      ],
      "text/plain": [
       "    n_factors  n_epochs  lr_all  reg_all  mean_test_rmse\n",
       "1          69        15   0.027    0.060        1.350048\n",
       "28        147         9   0.040    0.020        1.351545\n",
       "2         132        29   0.039    0.080        1.352280\n",
       "20         77        21   0.041    0.055        1.352941\n",
       "26         76        42   0.037    0.080        1.353818\n",
       "29        222        36   0.036    0.025        1.354762\n",
       "22        230        17   0.012    0.055        1.356235\n",
       "21        246        48   0.008    0.035        1.356430\n",
       "25        264        25   0.046    0.045        1.357068\n",
       "3          97        41   0.003    0.030        1.358354\n",
       "6         341        47   0.038    0.085        1.358594\n",
       "23        430        35   0.045    0.085        1.360327\n",
       "24        373        34   0.019    0.055        1.361322\n",
       "10        388        45   0.019    0.075        1.361699\n",
       "4         425        14   0.023    0.030        1.362495\n",
       "8         431        18   0.018    0.050        1.364222\n",
       "5         483        48   0.007    0.055        1.365842\n",
       "13        652        40   0.043    0.040        1.369332\n",
       "7         599        24   0.034    0.020        1.370150\n",
       "17        618        34   0.029    0.015        1.370570\n",
       "14        544        14   0.007    0.030        1.371095\n",
       "15        803        34   0.046    0.040        1.372854\n",
       "12        762        46   0.023    0.050        1.373277\n",
       "11        789        30   0.045    0.015        1.373451\n",
       "19        778        21   0.019    0.055        1.374286\n",
       "27        742        14   0.016    0.080        1.374389\n",
       "18        835        27   0.048    0.010        1.374923\n",
       "9         874        11   0.044    0.030        1.376647\n",
       "16        910         5   0.024    0.085        1.378292\n",
       "0         998        29   0.049    0.010        1.379771"
      ]
     },
     "execution_count": 25,
     "metadata": {},
     "output_type": "execute_result"
    }
   ],
   "source": [
    "#Limpiamos los nombres de los campos\n",
    "resultados = resultados.rename(shorten_param, axis=1)\n",
    "resultados"
   ]
  },
  {
   "cell_type": "code",
   "execution_count": 26,
   "metadata": {},
   "outputs": [
    {
     "data": {
      "application/vnd.plotly.v1+json": {
       "config": {
        "plotlyServerURL": "https://plot.ly"
       },
       "data": [
        {
         "dimensions": [
          {
           "label": "n_factors",
           "values": [
            69,
            147,
            132,
            77,
            76,
            222,
            230,
            246,
            264,
            97,
            341,
            430,
            373,
            388,
            425,
            431,
            483,
            652,
            599,
            618,
            544,
            803,
            762,
            789,
            778,
            742,
            835,
            874,
            910,
            998
           ]
          },
          {
           "label": "n_epochs",
           "values": [
            15,
            9,
            29,
            21,
            42,
            36,
            17,
            48,
            25,
            41,
            47,
            35,
            34,
            45,
            14,
            18,
            48,
            40,
            24,
            34,
            14,
            34,
            46,
            30,
            21,
            14,
            27,
            11,
            5,
            29
           ]
          },
          {
           "label": "lr_all",
           "values": [
            0.027000000000000003,
            0.04,
            0.039,
            0.041,
            0.037000000000000005,
            0.036000000000000004,
            0.012,
            0.008,
            0.046,
            0.003,
            0.038,
            0.045,
            0.019000000000000003,
            0.019000000000000003,
            0.023,
            0.018000000000000002,
            0.007,
            0.043000000000000003,
            0.034,
            0.029,
            0.007,
            0.046,
            0.023,
            0.045,
            0.019000000000000003,
            0.016,
            0.048,
            0.044000000000000004,
            0.024,
            0.049
           ]
          },
          {
           "label": "reg_all",
           "values": [
            0.06,
            0.02,
            0.08,
            0.055,
            0.08,
            0.025,
            0.055,
            0.034999999999999996,
            0.045,
            0.030000000000000002,
            0.085,
            0.085,
            0.055,
            0.07500000000000001,
            0.030000000000000002,
            0.049999999999999996,
            0.055,
            0.04,
            0.02,
            0.015,
            0.030000000000000002,
            0.04,
            0.049999999999999996,
            0.015,
            0.055,
            0.08,
            0.01,
            0.030000000000000002,
            0.085,
            0.01
           ]
          },
          {
           "label": "mean_test_rmse",
           "values": [
            1.351545343910469,
            1.378292187230311,
            1.3522795969522778,
            1.3710952283256832,
            1.3749231469378307,
            1.3797712547342005,
            1.373277245470911,
            1.3728537562776235,
            1.3743886849634155,
            1.3529414669087945,
            1.3562351722335417,
            1.3734506347841229,
            1.3742858857313458,
            1.358594230635074,
            1.3538175454856853,
            1.357067834145172,
            1.3547615321827322,
            1.3616990227630354,
            1.3564300654679176,
            1.3693322993390804,
            1.362494650425206,
            1.3642216571704777,
            1.3613220039609673,
            1.3603271884645196,
            1.370569686631874,
            1.3766468790199606,
            1.3701502748975358,
            1.3583539570977188,
            1.36584242303963,
            1.3500484885620738
           ]
          }
         ],
         "domain": {
          "x": [
           0,
           1
          ],
          "y": [
           0,
           1
          ]
         },
         "line": {
          "color": [
           1.351545343910469,
           1.378292187230311,
           1.3522795969522778,
           1.3710952283256832,
           1.3749231469378307,
           1.3797712547342005,
           1.373277245470911,
           1.3728537562776235,
           1.3743886849634155,
           1.3529414669087945,
           1.3562351722335417,
           1.3734506347841229,
           1.3742858857313458,
           1.358594230635074,
           1.3538175454856853,
           1.357067834145172,
           1.3547615321827322,
           1.3616990227630354,
           1.3564300654679176,
           1.3693322993390804,
           1.362494650425206,
           1.3642216571704777,
           1.3613220039609673,
           1.3603271884645196,
           1.370569686631874,
           1.3766468790199606,
           1.3701502748975358,
           1.3583539570977188,
           1.36584242303963,
           1.3500484885620738
          ],
          "coloraxis": "coloraxis"
         },
         "name": "",
         "type": "parcoords"
        }
       ],
       "layout": {
        "coloraxis": {
         "colorbar": {
          "title": {
           "text": "mean_test_rmse"
          }
         },
         "colorscale": [
          [
           0,
           "#440154"
          ],
          [
           0.1111111111111111,
           "#482878"
          ],
          [
           0.2222222222222222,
           "#3e4989"
          ],
          [
           0.3333333333333333,
           "#31688e"
          ],
          [
           0.4444444444444444,
           "#26828e"
          ],
          [
           0.5555555555555556,
           "#1f9e89"
          ],
          [
           0.6666666666666666,
           "#35b779"
          ],
          [
           0.7777777777777778,
           "#6ece58"
          ],
          [
           0.8888888888888888,
           "#b5de2b"
          ],
          [
           1,
           "#fde725"
          ]
         ]
        },
        "legend": {
         "tracegroupgap": 0
        },
        "margin": {
         "t": 60
        },
        "template": {
         "data": {
          "bar": [
           {
            "error_x": {
             "color": "#2a3f5f"
            },
            "error_y": {
             "color": "#2a3f5f"
            },
            "marker": {
             "line": {
              "color": "#E5ECF6",
              "width": 0.5
             },
             "pattern": {
              "fillmode": "overlay",
              "size": 10,
              "solidity": 0.2
             }
            },
            "type": "bar"
           }
          ],
          "barpolar": [
           {
            "marker": {
             "line": {
              "color": "#E5ECF6",
              "width": 0.5
             },
             "pattern": {
              "fillmode": "overlay",
              "size": 10,
              "solidity": 0.2
             }
            },
            "type": "barpolar"
           }
          ],
          "carpet": [
           {
            "aaxis": {
             "endlinecolor": "#2a3f5f",
             "gridcolor": "white",
             "linecolor": "white",
             "minorgridcolor": "white",
             "startlinecolor": "#2a3f5f"
            },
            "baxis": {
             "endlinecolor": "#2a3f5f",
             "gridcolor": "white",
             "linecolor": "white",
             "minorgridcolor": "white",
             "startlinecolor": "#2a3f5f"
            },
            "type": "carpet"
           }
          ],
          "choropleth": [
           {
            "colorbar": {
             "outlinewidth": 0,
             "ticks": ""
            },
            "type": "choropleth"
           }
          ],
          "contour": [
           {
            "colorbar": {
             "outlinewidth": 0,
             "ticks": ""
            },
            "colorscale": [
             [
              0,
              "#0d0887"
             ],
             [
              0.1111111111111111,
              "#46039f"
             ],
             [
              0.2222222222222222,
              "#7201a8"
             ],
             [
              0.3333333333333333,
              "#9c179e"
             ],
             [
              0.4444444444444444,
              "#bd3786"
             ],
             [
              0.5555555555555556,
              "#d8576b"
             ],
             [
              0.6666666666666666,
              "#ed7953"
             ],
             [
              0.7777777777777778,
              "#fb9f3a"
             ],
             [
              0.8888888888888888,
              "#fdca26"
             ],
             [
              1,
              "#f0f921"
             ]
            ],
            "type": "contour"
           }
          ],
          "contourcarpet": [
           {
            "colorbar": {
             "outlinewidth": 0,
             "ticks": ""
            },
            "type": "contourcarpet"
           }
          ],
          "heatmap": [
           {
            "colorbar": {
             "outlinewidth": 0,
             "ticks": ""
            },
            "colorscale": [
             [
              0,
              "#0d0887"
             ],
             [
              0.1111111111111111,
              "#46039f"
             ],
             [
              0.2222222222222222,
              "#7201a8"
             ],
             [
              0.3333333333333333,
              "#9c179e"
             ],
             [
              0.4444444444444444,
              "#bd3786"
             ],
             [
              0.5555555555555556,
              "#d8576b"
             ],
             [
              0.6666666666666666,
              "#ed7953"
             ],
             [
              0.7777777777777778,
              "#fb9f3a"
             ],
             [
              0.8888888888888888,
              "#fdca26"
             ],
             [
              1,
              "#f0f921"
             ]
            ],
            "type": "heatmap"
           }
          ],
          "heatmapgl": [
           {
            "colorbar": {
             "outlinewidth": 0,
             "ticks": ""
            },
            "colorscale": [
             [
              0,
              "#0d0887"
             ],
             [
              0.1111111111111111,
              "#46039f"
             ],
             [
              0.2222222222222222,
              "#7201a8"
             ],
             [
              0.3333333333333333,
              "#9c179e"
             ],
             [
              0.4444444444444444,
              "#bd3786"
             ],
             [
              0.5555555555555556,
              "#d8576b"
             ],
             [
              0.6666666666666666,
              "#ed7953"
             ],
             [
              0.7777777777777778,
              "#fb9f3a"
             ],
             [
              0.8888888888888888,
              "#fdca26"
             ],
             [
              1,
              "#f0f921"
             ]
            ],
            "type": "heatmapgl"
           }
          ],
          "histogram": [
           {
            "marker": {
             "pattern": {
              "fillmode": "overlay",
              "size": 10,
              "solidity": 0.2
             }
            },
            "type": "histogram"
           }
          ],
          "histogram2d": [
           {
            "colorbar": {
             "outlinewidth": 0,
             "ticks": ""
            },
            "colorscale": [
             [
              0,
              "#0d0887"
             ],
             [
              0.1111111111111111,
              "#46039f"
             ],
             [
              0.2222222222222222,
              "#7201a8"
             ],
             [
              0.3333333333333333,
              "#9c179e"
             ],
             [
              0.4444444444444444,
              "#bd3786"
             ],
             [
              0.5555555555555556,
              "#d8576b"
             ],
             [
              0.6666666666666666,
              "#ed7953"
             ],
             [
              0.7777777777777778,
              "#fb9f3a"
             ],
             [
              0.8888888888888888,
              "#fdca26"
             ],
             [
              1,
              "#f0f921"
             ]
            ],
            "type": "histogram2d"
           }
          ],
          "histogram2dcontour": [
           {
            "colorbar": {
             "outlinewidth": 0,
             "ticks": ""
            },
            "colorscale": [
             [
              0,
              "#0d0887"
             ],
             [
              0.1111111111111111,
              "#46039f"
             ],
             [
              0.2222222222222222,
              "#7201a8"
             ],
             [
              0.3333333333333333,
              "#9c179e"
             ],
             [
              0.4444444444444444,
              "#bd3786"
             ],
             [
              0.5555555555555556,
              "#d8576b"
             ],
             [
              0.6666666666666666,
              "#ed7953"
             ],
             [
              0.7777777777777778,
              "#fb9f3a"
             ],
             [
              0.8888888888888888,
              "#fdca26"
             ],
             [
              1,
              "#f0f921"
             ]
            ],
            "type": "histogram2dcontour"
           }
          ],
          "mesh3d": [
           {
            "colorbar": {
             "outlinewidth": 0,
             "ticks": ""
            },
            "type": "mesh3d"
           }
          ],
          "parcoords": [
           {
            "line": {
             "colorbar": {
              "outlinewidth": 0,
              "ticks": ""
             }
            },
            "type": "parcoords"
           }
          ],
          "pie": [
           {
            "automargin": true,
            "type": "pie"
           }
          ],
          "scatter": [
           {
            "fillpattern": {
             "fillmode": "overlay",
             "size": 10,
             "solidity": 0.2
            },
            "type": "scatter"
           }
          ],
          "scatter3d": [
           {
            "line": {
             "colorbar": {
              "outlinewidth": 0,
              "ticks": ""
             }
            },
            "marker": {
             "colorbar": {
              "outlinewidth": 0,
              "ticks": ""
             }
            },
            "type": "scatter3d"
           }
          ],
          "scattercarpet": [
           {
            "marker": {
             "colorbar": {
              "outlinewidth": 0,
              "ticks": ""
             }
            },
            "type": "scattercarpet"
           }
          ],
          "scattergeo": [
           {
            "marker": {
             "colorbar": {
              "outlinewidth": 0,
              "ticks": ""
             }
            },
            "type": "scattergeo"
           }
          ],
          "scattergl": [
           {
            "marker": {
             "colorbar": {
              "outlinewidth": 0,
              "ticks": ""
             }
            },
            "type": "scattergl"
           }
          ],
          "scattermapbox": [
           {
            "marker": {
             "colorbar": {
              "outlinewidth": 0,
              "ticks": ""
             }
            },
            "type": "scattermapbox"
           }
          ],
          "scatterpolar": [
           {
            "marker": {
             "colorbar": {
              "outlinewidth": 0,
              "ticks": ""
             }
            },
            "type": "scatterpolar"
           }
          ],
          "scatterpolargl": [
           {
            "marker": {
             "colorbar": {
              "outlinewidth": 0,
              "ticks": ""
             }
            },
            "type": "scatterpolargl"
           }
          ],
          "scatterternary": [
           {
            "marker": {
             "colorbar": {
              "outlinewidth": 0,
              "ticks": ""
             }
            },
            "type": "scatterternary"
           }
          ],
          "surface": [
           {
            "colorbar": {
             "outlinewidth": 0,
             "ticks": ""
            },
            "colorscale": [
             [
              0,
              "#0d0887"
             ],
             [
              0.1111111111111111,
              "#46039f"
             ],
             [
              0.2222222222222222,
              "#7201a8"
             ],
             [
              0.3333333333333333,
              "#9c179e"
             ],
             [
              0.4444444444444444,
              "#bd3786"
             ],
             [
              0.5555555555555556,
              "#d8576b"
             ],
             [
              0.6666666666666666,
              "#ed7953"
             ],
             [
              0.7777777777777778,
              "#fb9f3a"
             ],
             [
              0.8888888888888888,
              "#fdca26"
             ],
             [
              1,
              "#f0f921"
             ]
            ],
            "type": "surface"
           }
          ],
          "table": [
           {
            "cells": {
             "fill": {
              "color": "#EBF0F8"
             },
             "line": {
              "color": "white"
             }
            },
            "header": {
             "fill": {
              "color": "#C8D4E3"
             },
             "line": {
              "color": "white"
             }
            },
            "type": "table"
           }
          ]
         },
         "layout": {
          "annotationdefaults": {
           "arrowcolor": "#2a3f5f",
           "arrowhead": 0,
           "arrowwidth": 1
          },
          "autotypenumbers": "strict",
          "coloraxis": {
           "colorbar": {
            "outlinewidth": 0,
            "ticks": ""
           }
          },
          "colorscale": {
           "diverging": [
            [
             0,
             "#8e0152"
            ],
            [
             0.1,
             "#c51b7d"
            ],
            [
             0.2,
             "#de77ae"
            ],
            [
             0.3,
             "#f1b6da"
            ],
            [
             0.4,
             "#fde0ef"
            ],
            [
             0.5,
             "#f7f7f7"
            ],
            [
             0.6,
             "#e6f5d0"
            ],
            [
             0.7,
             "#b8e186"
            ],
            [
             0.8,
             "#7fbc41"
            ],
            [
             0.9,
             "#4d9221"
            ],
            [
             1,
             "#276419"
            ]
           ],
           "sequential": [
            [
             0,
             "#0d0887"
            ],
            [
             0.1111111111111111,
             "#46039f"
            ],
            [
             0.2222222222222222,
             "#7201a8"
            ],
            [
             0.3333333333333333,
             "#9c179e"
            ],
            [
             0.4444444444444444,
             "#bd3786"
            ],
            [
             0.5555555555555556,
             "#d8576b"
            ],
            [
             0.6666666666666666,
             "#ed7953"
            ],
            [
             0.7777777777777778,
             "#fb9f3a"
            ],
            [
             0.8888888888888888,
             "#fdca26"
            ],
            [
             1,
             "#f0f921"
            ]
           ],
           "sequentialminus": [
            [
             0,
             "#0d0887"
            ],
            [
             0.1111111111111111,
             "#46039f"
            ],
            [
             0.2222222222222222,
             "#7201a8"
            ],
            [
             0.3333333333333333,
             "#9c179e"
            ],
            [
             0.4444444444444444,
             "#bd3786"
            ],
            [
             0.5555555555555556,
             "#d8576b"
            ],
            [
             0.6666666666666666,
             "#ed7953"
            ],
            [
             0.7777777777777778,
             "#fb9f3a"
            ],
            [
             0.8888888888888888,
             "#fdca26"
            ],
            [
             1,
             "#f0f921"
            ]
           ]
          },
          "colorway": [
           "#636efa",
           "#EF553B",
           "#00cc96",
           "#ab63fa",
           "#FFA15A",
           "#19d3f3",
           "#FF6692",
           "#B6E880",
           "#FF97FF",
           "#FECB52"
          ],
          "font": {
           "color": "#2a3f5f"
          },
          "geo": {
           "bgcolor": "white",
           "lakecolor": "white",
           "landcolor": "#E5ECF6",
           "showlakes": true,
           "showland": true,
           "subunitcolor": "white"
          },
          "hoverlabel": {
           "align": "left"
          },
          "hovermode": "closest",
          "mapbox": {
           "style": "light"
          },
          "paper_bgcolor": "white",
          "plot_bgcolor": "#E5ECF6",
          "polar": {
           "angularaxis": {
            "gridcolor": "white",
            "linecolor": "white",
            "ticks": ""
           },
           "bgcolor": "#E5ECF6",
           "radialaxis": {
            "gridcolor": "white",
            "linecolor": "white",
            "ticks": ""
           }
          },
          "scene": {
           "xaxis": {
            "backgroundcolor": "#E5ECF6",
            "gridcolor": "white",
            "gridwidth": 2,
            "linecolor": "white",
            "showbackground": true,
            "ticks": "",
            "zerolinecolor": "white"
           },
           "yaxis": {
            "backgroundcolor": "#E5ECF6",
            "gridcolor": "white",
            "gridwidth": 2,
            "linecolor": "white",
            "showbackground": true,
            "ticks": "",
            "zerolinecolor": "white"
           },
           "zaxis": {
            "backgroundcolor": "#E5ECF6",
            "gridcolor": "white",
            "gridwidth": 2,
            "linecolor": "white",
            "showbackground": true,
            "ticks": "",
            "zerolinecolor": "white"
           }
          },
          "shapedefaults": {
           "line": {
            "color": "#2a3f5f"
           }
          },
          "ternary": {
           "aaxis": {
            "gridcolor": "white",
            "linecolor": "white",
            "ticks": ""
           },
           "baxis": {
            "gridcolor": "white",
            "linecolor": "white",
            "ticks": ""
           },
           "bgcolor": "#E5ECF6",
           "caxis": {
            "gridcolor": "white",
            "linecolor": "white",
            "ticks": ""
           }
          },
          "title": {
           "x": 0.05
          },
          "xaxis": {
           "automargin": true,
           "gridcolor": "white",
           "linecolor": "white",
           "ticks": "",
           "title": {
            "standoff": 15
           },
           "zerolinecolor": "white",
           "zerolinewidth": 2
          },
          "yaxis": {
           "automargin": true,
           "gridcolor": "white",
           "linecolor": "white",
           "ticks": "",
           "title": {
            "standoff": 15
           },
           "zerolinecolor": "white",
           "zerolinewidth": 2
          }
         }
        }
       }
      },
      "text/html": [
       "<div>                            <div id=\"489201d2-446c-49c2-913f-2455dc498f47\" class=\"plotly-graph-div\" style=\"height:525px; width:100%;\"></div>            <script type=\"text/javascript\">                require([\"plotly\"], function(Plotly) {                    window.PLOTLYENV=window.PLOTLYENV || {};                                    if (document.getElementById(\"489201d2-446c-49c2-913f-2455dc498f47\")) {                    Plotly.newPlot(                        \"489201d2-446c-49c2-913f-2455dc498f47\",                        [{\"dimensions\":[{\"label\":\"n_factors\",\"values\":[69,147,132,77,76,222,230,246,264,97,341,430,373,388,425,431,483,652,599,618,544,803,762,789,778,742,835,874,910,998]},{\"label\":\"n_epochs\",\"values\":[15,9,29,21,42,36,17,48,25,41,47,35,34,45,14,18,48,40,24,34,14,34,46,30,21,14,27,11,5,29]},{\"label\":\"lr_all\",\"values\":[0.027000000000000003,0.04,0.039,0.041,0.037000000000000005,0.036000000000000004,0.012,0.008,0.046,0.003,0.038,0.045,0.019000000000000003,0.019000000000000003,0.023,0.018000000000000002,0.007,0.043000000000000003,0.034,0.029,0.007,0.046,0.023,0.045,0.019000000000000003,0.016,0.048,0.044000000000000004,0.024,0.049]},{\"label\":\"reg_all\",\"values\":[0.06,0.02,0.08,0.055,0.08,0.025,0.055,0.034999999999999996,0.045,0.030000000000000002,0.085,0.085,0.055,0.07500000000000001,0.030000000000000002,0.049999999999999996,0.055,0.04,0.02,0.015,0.030000000000000002,0.04,0.049999999999999996,0.015,0.055,0.08,0.01,0.030000000000000002,0.085,0.01]},{\"label\":\"mean_test_rmse\",\"values\":[1.351545343910469,1.378292187230311,1.3522795969522778,1.3710952283256832,1.3749231469378307,1.3797712547342005,1.373277245470911,1.3728537562776235,1.3743886849634155,1.3529414669087945,1.3562351722335417,1.3734506347841229,1.3742858857313458,1.358594230635074,1.3538175454856853,1.357067834145172,1.3547615321827322,1.3616990227630354,1.3564300654679176,1.3693322993390804,1.362494650425206,1.3642216571704777,1.3613220039609673,1.3603271884645196,1.370569686631874,1.3766468790199606,1.3701502748975358,1.3583539570977188,1.36584242303963,1.3500484885620738]}],\"domain\":{\"x\":[0.0,1.0],\"y\":[0.0,1.0]},\"line\":{\"color\":[1.351545343910469,1.378292187230311,1.3522795969522778,1.3710952283256832,1.3749231469378307,1.3797712547342005,1.373277245470911,1.3728537562776235,1.3743886849634155,1.3529414669087945,1.3562351722335417,1.3734506347841229,1.3742858857313458,1.358594230635074,1.3538175454856853,1.357067834145172,1.3547615321827322,1.3616990227630354,1.3564300654679176,1.3693322993390804,1.362494650425206,1.3642216571704777,1.3613220039609673,1.3603271884645196,1.370569686631874,1.3766468790199606,1.3701502748975358,1.3583539570977188,1.36584242303963,1.3500484885620738],\"coloraxis\":\"coloraxis\"},\"name\":\"\",\"type\":\"parcoords\"}],                        {\"template\":{\"data\":{\"histogram2dcontour\":[{\"type\":\"histogram2dcontour\",\"colorbar\":{\"outlinewidth\":0,\"ticks\":\"\"},\"colorscale\":[[0.0,\"#0d0887\"],[0.1111111111111111,\"#46039f\"],[0.2222222222222222,\"#7201a8\"],[0.3333333333333333,\"#9c179e\"],[0.4444444444444444,\"#bd3786\"],[0.5555555555555556,\"#d8576b\"],[0.6666666666666666,\"#ed7953\"],[0.7777777777777778,\"#fb9f3a\"],[0.8888888888888888,\"#fdca26\"],[1.0,\"#f0f921\"]]}],\"choropleth\":[{\"type\":\"choropleth\",\"colorbar\":{\"outlinewidth\":0,\"ticks\":\"\"}}],\"histogram2d\":[{\"type\":\"histogram2d\",\"colorbar\":{\"outlinewidth\":0,\"ticks\":\"\"},\"colorscale\":[[0.0,\"#0d0887\"],[0.1111111111111111,\"#46039f\"],[0.2222222222222222,\"#7201a8\"],[0.3333333333333333,\"#9c179e\"],[0.4444444444444444,\"#bd3786\"],[0.5555555555555556,\"#d8576b\"],[0.6666666666666666,\"#ed7953\"],[0.7777777777777778,\"#fb9f3a\"],[0.8888888888888888,\"#fdca26\"],[1.0,\"#f0f921\"]]}],\"heatmap\":[{\"type\":\"heatmap\",\"colorbar\":{\"outlinewidth\":0,\"ticks\":\"\"},\"colorscale\":[[0.0,\"#0d0887\"],[0.1111111111111111,\"#46039f\"],[0.2222222222222222,\"#7201a8\"],[0.3333333333333333,\"#9c179e\"],[0.4444444444444444,\"#bd3786\"],[0.5555555555555556,\"#d8576b\"],[0.6666666666666666,\"#ed7953\"],[0.7777777777777778,\"#fb9f3a\"],[0.8888888888888888,\"#fdca26\"],[1.0,\"#f0f921\"]]}],\"heatmapgl\":[{\"type\":\"heatmapgl\",\"colorbar\":{\"outlinewidth\":0,\"ticks\":\"\"},\"colorscale\":[[0.0,\"#0d0887\"],[0.1111111111111111,\"#46039f\"],[0.2222222222222222,\"#7201a8\"],[0.3333333333333333,\"#9c179e\"],[0.4444444444444444,\"#bd3786\"],[0.5555555555555556,\"#d8576b\"],[0.6666666666666666,\"#ed7953\"],[0.7777777777777778,\"#fb9f3a\"],[0.8888888888888888,\"#fdca26\"],[1.0,\"#f0f921\"]]}],\"contourcarpet\":[{\"type\":\"contourcarpet\",\"colorbar\":{\"outlinewidth\":0,\"ticks\":\"\"}}],\"contour\":[{\"type\":\"contour\",\"colorbar\":{\"outlinewidth\":0,\"ticks\":\"\"},\"colorscale\":[[0.0,\"#0d0887\"],[0.1111111111111111,\"#46039f\"],[0.2222222222222222,\"#7201a8\"],[0.3333333333333333,\"#9c179e\"],[0.4444444444444444,\"#bd3786\"],[0.5555555555555556,\"#d8576b\"],[0.6666666666666666,\"#ed7953\"],[0.7777777777777778,\"#fb9f3a\"],[0.8888888888888888,\"#fdca26\"],[1.0,\"#f0f921\"]]}],\"surface\":[{\"type\":\"surface\",\"colorbar\":{\"outlinewidth\":0,\"ticks\":\"\"},\"colorscale\":[[0.0,\"#0d0887\"],[0.1111111111111111,\"#46039f\"],[0.2222222222222222,\"#7201a8\"],[0.3333333333333333,\"#9c179e\"],[0.4444444444444444,\"#bd3786\"],[0.5555555555555556,\"#d8576b\"],[0.6666666666666666,\"#ed7953\"],[0.7777777777777778,\"#fb9f3a\"],[0.8888888888888888,\"#fdca26\"],[1.0,\"#f0f921\"]]}],\"mesh3d\":[{\"type\":\"mesh3d\",\"colorbar\":{\"outlinewidth\":0,\"ticks\":\"\"}}],\"scatter\":[{\"fillpattern\":{\"fillmode\":\"overlay\",\"size\":10,\"solidity\":0.2},\"type\":\"scatter\"}],\"parcoords\":[{\"type\":\"parcoords\",\"line\":{\"colorbar\":{\"outlinewidth\":0,\"ticks\":\"\"}}}],\"scatterpolargl\":[{\"type\":\"scatterpolargl\",\"marker\":{\"colorbar\":{\"outlinewidth\":0,\"ticks\":\"\"}}}],\"bar\":[{\"error_x\":{\"color\":\"#2a3f5f\"},\"error_y\":{\"color\":\"#2a3f5f\"},\"marker\":{\"line\":{\"color\":\"#E5ECF6\",\"width\":0.5},\"pattern\":{\"fillmode\":\"overlay\",\"size\":10,\"solidity\":0.2}},\"type\":\"bar\"}],\"scattergeo\":[{\"type\":\"scattergeo\",\"marker\":{\"colorbar\":{\"outlinewidth\":0,\"ticks\":\"\"}}}],\"scatterpolar\":[{\"type\":\"scatterpolar\",\"marker\":{\"colorbar\":{\"outlinewidth\":0,\"ticks\":\"\"}}}],\"histogram\":[{\"marker\":{\"pattern\":{\"fillmode\":\"overlay\",\"size\":10,\"solidity\":0.2}},\"type\":\"histogram\"}],\"scattergl\":[{\"type\":\"scattergl\",\"marker\":{\"colorbar\":{\"outlinewidth\":0,\"ticks\":\"\"}}}],\"scatter3d\":[{\"type\":\"scatter3d\",\"line\":{\"colorbar\":{\"outlinewidth\":0,\"ticks\":\"\"}},\"marker\":{\"colorbar\":{\"outlinewidth\":0,\"ticks\":\"\"}}}],\"scattermapbox\":[{\"type\":\"scattermapbox\",\"marker\":{\"colorbar\":{\"outlinewidth\":0,\"ticks\":\"\"}}}],\"scatterternary\":[{\"type\":\"scatterternary\",\"marker\":{\"colorbar\":{\"outlinewidth\":0,\"ticks\":\"\"}}}],\"scattercarpet\":[{\"type\":\"scattercarpet\",\"marker\":{\"colorbar\":{\"outlinewidth\":0,\"ticks\":\"\"}}}],\"carpet\":[{\"aaxis\":{\"endlinecolor\":\"#2a3f5f\",\"gridcolor\":\"white\",\"linecolor\":\"white\",\"minorgridcolor\":\"white\",\"startlinecolor\":\"#2a3f5f\"},\"baxis\":{\"endlinecolor\":\"#2a3f5f\",\"gridcolor\":\"white\",\"linecolor\":\"white\",\"minorgridcolor\":\"white\",\"startlinecolor\":\"#2a3f5f\"},\"type\":\"carpet\"}],\"table\":[{\"cells\":{\"fill\":{\"color\":\"#EBF0F8\"},\"line\":{\"color\":\"white\"}},\"header\":{\"fill\":{\"color\":\"#C8D4E3\"},\"line\":{\"color\":\"white\"}},\"type\":\"table\"}],\"barpolar\":[{\"marker\":{\"line\":{\"color\":\"#E5ECF6\",\"width\":0.5},\"pattern\":{\"fillmode\":\"overlay\",\"size\":10,\"solidity\":0.2}},\"type\":\"barpolar\"}],\"pie\":[{\"automargin\":true,\"type\":\"pie\"}]},\"layout\":{\"autotypenumbers\":\"strict\",\"colorway\":[\"#636efa\",\"#EF553B\",\"#00cc96\",\"#ab63fa\",\"#FFA15A\",\"#19d3f3\",\"#FF6692\",\"#B6E880\",\"#FF97FF\",\"#FECB52\"],\"font\":{\"color\":\"#2a3f5f\"},\"hovermode\":\"closest\",\"hoverlabel\":{\"align\":\"left\"},\"paper_bgcolor\":\"white\",\"plot_bgcolor\":\"#E5ECF6\",\"polar\":{\"bgcolor\":\"#E5ECF6\",\"angularaxis\":{\"gridcolor\":\"white\",\"linecolor\":\"white\",\"ticks\":\"\"},\"radialaxis\":{\"gridcolor\":\"white\",\"linecolor\":\"white\",\"ticks\":\"\"}},\"ternary\":{\"bgcolor\":\"#E5ECF6\",\"aaxis\":{\"gridcolor\":\"white\",\"linecolor\":\"white\",\"ticks\":\"\"},\"baxis\":{\"gridcolor\":\"white\",\"linecolor\":\"white\",\"ticks\":\"\"},\"caxis\":{\"gridcolor\":\"white\",\"linecolor\":\"white\",\"ticks\":\"\"}},\"coloraxis\":{\"colorbar\":{\"outlinewidth\":0,\"ticks\":\"\"}},\"colorscale\":{\"sequential\":[[0.0,\"#0d0887\"],[0.1111111111111111,\"#46039f\"],[0.2222222222222222,\"#7201a8\"],[0.3333333333333333,\"#9c179e\"],[0.4444444444444444,\"#bd3786\"],[0.5555555555555556,\"#d8576b\"],[0.6666666666666666,\"#ed7953\"],[0.7777777777777778,\"#fb9f3a\"],[0.8888888888888888,\"#fdca26\"],[1.0,\"#f0f921\"]],\"sequentialminus\":[[0.0,\"#0d0887\"],[0.1111111111111111,\"#46039f\"],[0.2222222222222222,\"#7201a8\"],[0.3333333333333333,\"#9c179e\"],[0.4444444444444444,\"#bd3786\"],[0.5555555555555556,\"#d8576b\"],[0.6666666666666666,\"#ed7953\"],[0.7777777777777778,\"#fb9f3a\"],[0.8888888888888888,\"#fdca26\"],[1.0,\"#f0f921\"]],\"diverging\":[[0,\"#8e0152\"],[0.1,\"#c51b7d\"],[0.2,\"#de77ae\"],[0.3,\"#f1b6da\"],[0.4,\"#fde0ef\"],[0.5,\"#f7f7f7\"],[0.6,\"#e6f5d0\"],[0.7,\"#b8e186\"],[0.8,\"#7fbc41\"],[0.9,\"#4d9221\"],[1,\"#276419\"]]},\"xaxis\":{\"gridcolor\":\"white\",\"linecolor\":\"white\",\"ticks\":\"\",\"title\":{\"standoff\":15},\"zerolinecolor\":\"white\",\"automargin\":true,\"zerolinewidth\":2},\"yaxis\":{\"gridcolor\":\"white\",\"linecolor\":\"white\",\"ticks\":\"\",\"title\":{\"standoff\":15},\"zerolinecolor\":\"white\",\"automargin\":true,\"zerolinewidth\":2},\"scene\":{\"xaxis\":{\"backgroundcolor\":\"#E5ECF6\",\"gridcolor\":\"white\",\"linecolor\":\"white\",\"showbackground\":true,\"ticks\":\"\",\"zerolinecolor\":\"white\",\"gridwidth\":2},\"yaxis\":{\"backgroundcolor\":\"#E5ECF6\",\"gridcolor\":\"white\",\"linecolor\":\"white\",\"showbackground\":true,\"ticks\":\"\",\"zerolinecolor\":\"white\",\"gridwidth\":2},\"zaxis\":{\"backgroundcolor\":\"#E5ECF6\",\"gridcolor\":\"white\",\"linecolor\":\"white\",\"showbackground\":true,\"ticks\":\"\",\"zerolinecolor\":\"white\",\"gridwidth\":2}},\"shapedefaults\":{\"line\":{\"color\":\"#2a3f5f\"}},\"annotationdefaults\":{\"arrowcolor\":\"#2a3f5f\",\"arrowhead\":0,\"arrowwidth\":1},\"geo\":{\"bgcolor\":\"white\",\"landcolor\":\"#E5ECF6\",\"subunitcolor\":\"white\",\"showland\":true,\"showlakes\":true,\"lakecolor\":\"white\"},\"title\":{\"x\":0.05},\"mapbox\":{\"style\":\"light\"}}},\"coloraxis\":{\"colorbar\":{\"title\":{\"text\":\"mean_test_rmse\"}},\"colorscale\":[[0.0,\"#440154\"],[0.1111111111111111,\"#482878\"],[0.2222222222222222,\"#3e4989\"],[0.3333333333333333,\"#31688e\"],[0.4444444444444444,\"#26828e\"],[0.5555555555555556,\"#1f9e89\"],[0.6666666666666666,\"#35b779\"],[0.7777777777777778,\"#6ece58\"],[0.8888888888888888,\"#b5de2b\"],[1.0,\"#fde725\"]]},\"legend\":{\"tracegroupgap\":0},\"margin\":{\"t\":60}},                        {\"responsive\": true}                    ).then(function(){\n",
       "                            \n",
       "var gd = document.getElementById('489201d2-446c-49c2-913f-2455dc498f47');\n",
       "var x = new MutationObserver(function (mutations, observer) {{\n",
       "        var display = window.getComputedStyle(gd).display;\n",
       "        if (!display || display === 'none') {{\n",
       "            console.log([gd, 'removed!']);\n",
       "            Plotly.purge(gd);\n",
       "            observer.disconnect();\n",
       "        }}\n",
       "}});\n",
       "\n",
       "// Listen for the removal of the full notebook cells\n",
       "var notebookContainer = gd.closest('#notebook-container');\n",
       "if (notebookContainer) {{\n",
       "    x.observe(notebookContainer, {childList: true});\n",
       "}}\n",
       "\n",
       "// Listen for the clearing of the current output cell\n",
       "var outputEl = gd.closest('.output');\n",
       "if (outputEl) {{\n",
       "    x.observe(outputEl, {childList: true});\n",
       "}}\n",
       "\n",
       "                        })                };                });            </script>        </div>"
      ]
     },
     "metadata": {},
     "output_type": "display_data"
    }
   ],
   "source": [
    "#Ploteamos las dependencias de cada hiperparámetro\n",
    "import plotly.express as px\n",
    "\n",
    "fig = px.parallel_coordinates(\n",
    "    resultados,\n",
    "    color=\"mean_test_rmse\",\n",
    "    color_continuous_scale=px.colors.sequential.Viridis,\n",
    ")\n",
    "fig.show()"
   ]
  },
  {
   "cell_type": "code",
   "execution_count": 115,
   "metadata": {
    "id": "WyvoR1OlCHzd"
   },
   "outputs": [],
   "source": [
    "#Obtenemos las reseñas del usuario\n",
    "user_reviews = {}\n",
    "for user_id, restaurant_id, rating in df[[\"Id_Usuario\", \"Id_Restaurant\", \"Rating\"]].values:\n",
    "  if user_id not in user_reviews:\n",
    "    user_reviews[user_id] = []\n",
    "  user_reviews[user_id].append((restaurant_id, rating))"
   ]
  },
  {
   "cell_type": "code",
   "execution_count": 116,
   "metadata": {
    "colab": {
     "base_uri": "https://localhost:8080/"
    },
    "id": "VLuu1beDCszY",
    "outputId": "025506da-dc1c-47c7-ed6f-ec022ca21109"
   },
   "outputs": [
    {
     "name": "stdout",
     "output_type": "stream",
     "text": [
      "Ingrese el Id de su usuario: z0Yh6ntpynyTP6x0YLCnLA\n"
     ]
    }
   ],
   "source": [
    "#Pide al usuario que ingrese su ID de usuario\n",
    "user_id = input(\"Ingrese el Id de su usuario: \")"
   ]
  },
  {
   "cell_type": "code",
   "execution_count": 117,
   "metadata": {
    "id": "jzqQcYriCzbv"
   },
   "outputs": [],
   "source": [
    "#Hacemos la recomendacion de los restaurantes que el usuario aún no ha visitado\n",
    "restaurant_recs = []\n",
    "for restaurant_id in df[\"Id_Restaurant\"].unique():\n",
    "  if restaurant_id not in [r_iid for r_iid, _ in user_reviews.get(user_id, [])]:\n",
    "    predicted_rating = algo.predict(user_id, restaurant_id).est\n",
    "    restaurant_recs.append((restaurant_id, predicted_rating))"
   ]
  },
  {
   "cell_type": "code",
   "execution_count": 118,
   "metadata": {
    "id": "qwEhqa-IDiCO"
   },
   "outputs": [],
   "source": [
    "#Ordena las recomendaciones por calificación\n",
    "restaurant_recs = sorted(restaurant_recs, key=lambda x: x[1], reverse=True)"
   ]
  },
  {
   "cell_type": "code",
   "execution_count": 119,
   "metadata": {
    "colab": {
     "base_uri": "https://localhost:8080/"
    },
    "id": "SJRE6hZ3DsDA",
    "outputId": "85a4c826-4ad4-44d9-e664-9f3108966e33"
   },
   "outputs": [
    {
     "name": "stdout",
     "output_type": "stream",
     "text": [
      "Recomendaciones para el usuario: z0Yh6ntpynyTP6x0YLCnLA\n",
      "- Restaurante QoezRbYQncpRqyrLH6Iqjg: Prediccion de puntaje 4.57\n",
      "- Restaurante 9xdXS7jtWjCVzL4_oPGv9A: Prediccion de puntaje 4.56\n",
      "- Restaurante lqF0Q5vVLxY-_Cth6LtEdg: Prediccion de puntaje 4.49\n",
      "- Restaurante ytynqOUb3hjKeJfRj5Tshw: Prediccion de puntaje 4.47\n",
      "- Restaurante K7KHmHzxNwzqiijSJeKe_A: Prediccion de puntaje 4.46\n"
     ]
    }
   ],
   "source": [
    "#Muestra las 5 mejores recomendaciones al usuario\n",
    "print(\"Recomendaciones para el usuario: {}\".format(user_id))\n",
    "for restaurant_id, predicted_rating in restaurant_recs[:5]:\n",
    "  print(\"- Restaurante {}: Prediccion de puntaje {:.2f}\".format(restaurant_id, predicted_rating))"
   ]
  },
  {
   "cell_type": "markdown",
   "metadata": {
    "id": "7kzMADOZJO3z"
   },
   "source": [
    "#Evaluación del modelo"
   ]
  },
  {
   "cell_type": "code",
   "execution_count": 120,
   "metadata": {
    "id": "Ib2opXljJQZw"
   },
   "outputs": [],
   "source": [
    "trainset, testset = train_test_split(data, test_size=0.25, random_state=42)"
   ]
  },
  {
   "cell_type": "code",
   "execution_count": 123,
   "metadata": {
    "colab": {
     "base_uri": "https://localhost:8080/"
    },
    "id": "9gKqp0K8Jj6Q",
    "outputId": "527f011f-703a-40c2-e387-aa78ad3b2afa"
   },
   "outputs": [
    {
     "name": "stdout",
     "output_type": "stream",
     "text": [
      "RMSE: 1.3644\n"
     ]
    },
    {
     "data": {
      "text/plain": [
       "1.3644194321204535"
      ]
     },
     "execution_count": 123,
     "metadata": {},
     "output_type": "execute_result"
    }
   ],
   "source": [
    "#Evaluamos con RMSE (error cuadrático medio)\n",
    "predictions = algo.test(testset)\n",
    "accuracy.rmse(predictions)"
   ]
  }
 ],
 "metadata": {
  "colab": {
   "provenance": []
  },
  "kernelspec": {
   "display_name": "Python 3 (ipykernel)",
   "language": "python",
   "name": "python3"
  },
  "language_info": {
   "codemirror_mode": {
    "name": "ipython",
    "version": 3
   },
   "file_extension": ".py",
   "mimetype": "text/x-python",
   "name": "python",
   "nbconvert_exporter": "python",
   "pygments_lexer": "ipython3",
   "version": "3.9.13"
  }
 },
 "nbformat": 4,
 "nbformat_minor": 1
}
