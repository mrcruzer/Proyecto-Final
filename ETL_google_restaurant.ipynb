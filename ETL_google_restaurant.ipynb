{
 "cells": [
  {
   "cell_type": "code",
   "execution_count": 16,
   "metadata": {},
   "outputs": [],
   "source": [
    "#Importamos librerias\n",
    "import pandas as pd\n",
    "import re"
   ]
  },
  {
   "cell_type": "code",
   "execution_count": null,
   "metadata": {},
   "outputs": [],
   "source": [
    "#Importamos los datos de los restaurantes de google\n",
    "google = pd.read_json('metadata-sitios/google_sitios.json')\n",
    "google.head()"
   ]
  },
  {
   "cell_type": "code",
   "execution_count": null,
   "metadata": {},
   "outputs": [],
   "source": [
    "#Examinamos un poco más\n",
    "google.info()"
   ]
  },
  {
   "attachments": {},
   "cell_type": "markdown",
   "metadata": {},
   "source": [
    "Como primera medida vamos a normalizar los campos. Lo que buscamos es tener una tabla que contenga las siguientes columnas:\n",
    "\n",
    "* Id_Restaurant\n",
    "* Nombre\n",
    "* Ciudad\n",
    "* Estado\n",
    "* Código postal\n",
    "* Latitud\n",
    "* Longitud\n",
    "* Tipo (category)\n",
    "* Atributos (MISC)\n",
    "\n",
    "La información sobre la ciudad, estado y código postal se encuentra bajo el campo address del dataframe de google. Vamos a separarlo."
   ]
  },
  {
   "cell_type": "code",
   "execution_count": null,
   "metadata": {},
   "outputs": [],
   "source": [
    "#Quitamos los valores que no tengan el valor de address\n",
    "restaurants_google = google.dropna(subset='address')\n",
    "restaurants_google.reset_index(inplace=True)\n",
    "restaurants_google.info()"
   ]
  },
  {
   "cell_type": "code",
   "execution_count": null,
   "metadata": {},
   "outputs": [],
   "source": [
    "#Separamos y juntamos los datos\n",
    "listado_fallas = []\n",
    "localizaciones = []\n",
    "for i in range(restaurants_google['address'].values.size):\n",
    "    try:\n",
    "        int(restaurants_google['address'].values[i][-1])\n",
    "        if len(restaurants_google['address'].values[i].split(',')[-1].strip()) == 8:\n",
    "            localizaciones.append([restaurants_google['gmap_id'].values[i],                                     #Id del restaurant\n",
    "                                restaurants_google['address'].values[i].split(',')[-2].strip(),                 #Ciudad\n",
    "                                restaurants_google['address'].values[i].split(',')[-1].strip().split()[0],      #Estado\n",
    "                                restaurants_google['address'].values[i].split(',')[-1].strip().split()[1]])     #Código postal\n",
    "        else:\n",
    "            listado_fallas.append(i)                                    #Anoto cuantas direcciones no me dan los datos necesarios\n",
    "    except:\n",
    "        listado_fallas.append(i)\n",
    "len(listado_fallas)"
   ]
  },
  {
   "cell_type": "code",
   "execution_count": null,
   "metadata": {},
   "outputs": [],
   "source": [
    "#Armamos dataframe con estos datos\n",
    "localizacion = pd.DataFrame(columns=['gmap_id','Ciudad','Estado','Cod_postal'],data=localizaciones)\n",
    "localizacion.head()"
   ]
  },
  {
   "cell_type": "code",
   "execution_count": null,
   "metadata": {},
   "outputs": [],
   "source": [
    "#Realizamos una comprobación. Vemos si algún valor falló\n",
    "fallados = []\n",
    "for i in range(localizacion.shape[0]):\n",
    "    try:\n",
    "        int(localizacion['Cod_postal'].iloc[i])                 #Si esto funciona quiere decir que no entraron caracteres extraños\n",
    "    except:                                                     #bajo cod_postal\n",
    "        print(i,': ',localizacion['Cod_postal'].iloc[i])\n",
    "        fallados.append(localizacion['Cod_postal'].iloc[i])"
   ]
  },
  {
   "cell_type": "code",
   "execution_count": null,
   "metadata": {},
   "outputs": [],
   "source": [
    "#No fallo. 12590 registros no cuentan con los valores que buscamos. Los observamos a ver si se puede hacer algo.\n",
    "restaurants_google[restaurants_google.index.isin(listado_fallas)]"
   ]
  },
  {
   "cell_type": "code",
   "execution_count": null,
   "metadata": {},
   "outputs": [],
   "source": [
    "#Observamos el campo address más de cerca\n",
    "list(restaurants_google[restaurants_google.index.isin(listado_fallas)]['address'].values)"
   ]
  },
  {
   "attachments": {},
   "cell_type": "markdown",
   "metadata": {},
   "source": [
    "Vemos que hay muchos que tienen \"United States\" al final. Esto trae problemas en el algoritmo planteado. Modificando ligeramente podemos incorporar estos datos."
   ]
  },
  {
   "cell_type": "code",
   "execution_count": null,
   "metadata": {},
   "outputs": [],
   "source": [
    "restaurants_google_fallas = restaurants_google[restaurants_google.index.isin(listado_fallas)]\n",
    "restaurants_google_fallas.reset_index(inplace=True)\n",
    "restaurants_google_fallas.info()"
   ]
  },
  {
   "cell_type": "code",
   "execution_count": null,
   "metadata": {},
   "outputs": [],
   "source": [
    "listado_fallas = []\n",
    "for i in range(restaurants_google_fallas['address'].values.size):\n",
    "    try:\n",
    "        lista_address = restaurants_google_fallas['address'].values[i].split(',')[0:4]      #Cortamos el \"United States\" de los -->\n",
    "        int(lista_address[-1][-1])                                                          #registros que los tienen.\n",
    "        if len(lista_address[-1].strip()) == 8:\n",
    "            localizaciones.append([restaurants_google_fallas['gmap_id'].values[i],          #Id del restaurant\n",
    "                                   lista_address[-2].strip(),                               #Ciudad\n",
    "                                   lista_address[-1].strip().split()[0],                    #Estado\n",
    "                                   lista_address[-1].strip().split()[1]])                   #Codigo postal\n",
    "        else:\n",
    "            listado_fallas.append(i)                                    \n",
    "    except:\n",
    "        listado_fallas.append(i)\n",
    "len(listado_fallas)"
   ]
  },
  {
   "cell_type": "code",
   "execution_count": null,
   "metadata": {},
   "outputs": [],
   "source": [
    "#Armamos dataframe con estos datos\n",
    "localizacion = pd.DataFrame(columns=['gmap_id','Ciudad','Estado','Cod_postal'],data=localizaciones)\n",
    "localizacion.head()"
   ]
  },
  {
   "cell_type": "code",
   "execution_count": null,
   "metadata": {},
   "outputs": [],
   "source": [
    "#Realizamos una comprobación. Vemos si algún valor falló\n",
    "fallados = []\n",
    "for i in range(localizacion.shape[0]):\n",
    "    try:\n",
    "        int(localizacion['Cod_postal'].iloc[i])                 #Si esto funciona quiere decir que no entraron caracteres extraños\n",
    "    except:                                                     #bajo cod_postal\n",
    "        print(i,': ',localizacion['Cod_postal'].iloc[i])\n",
    "        fallados.append(localizacion['Cod_postal'].iloc[i])"
   ]
  },
  {
   "cell_type": "code",
   "execution_count": null,
   "metadata": {},
   "outputs": [],
   "source": [
    "#Se redujeron a 1008 casos nomas. Volvemos a observar.\n",
    "restaurants_google_fallas[restaurants_google_fallas.index.isin(listado_fallas)]"
   ]
  }
 ],
 "metadata": {
  "language_info": {
   "name": "python"
  },
  "orig_nbformat": 4
 },
 "nbformat": 4,
 "nbformat_minor": 2
}
