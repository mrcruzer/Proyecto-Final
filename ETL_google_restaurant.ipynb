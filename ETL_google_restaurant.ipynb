{
 "cells": [
  {
   "cell_type": "code",
   "execution_count": 16,
   "metadata": {},
   "outputs": [],
   "source": [
    "#Importamos librerias\n",
    "import pandas as pd\n",
    "import re"
   ]
  },
  {
   "cell_type": "code",
   "execution_count": null,
   "metadata": {},
   "outputs": [],
   "source": [
    "#Importamos los datos de los restaurantes de google\n",
    "google = pd.read_json('metadata-sitios/google_sitios.json')\n",
    "google.head()"
   ]
  },
  {
   "cell_type": "code",
   "execution_count": null,
   "metadata": {},
   "outputs": [],
   "source": [
    "#Examinamos un poco más\n",
    "google.info()"
   ]
  },
  {
   "attachments": {},
   "cell_type": "markdown",
   "metadata": {},
   "source": [
    "Como primera medida vamos a normalizar los campos. Lo que buscamos es tener una tabla que contenga las siguientes columnas:\n",
    "\n",
    "* Id_Restaurant\n",
    "* Nombre\n",
    "* Ciudad\n",
    "* Estado\n",
    "* Código postal\n",
    "* Latitud\n",
    "* Longitud\n",
    "* Tipo (category)\n",
    "* Atributos (MISC)\n",
    "\n",
    "La información sobre la ciudad, estado y código postal se encuentra bajo el campo address del dataframe de google. Vamos a separarlo."
   ]
  },
  {
   "cell_type": "code",
   "execution_count": null,
   "metadata": {},
   "outputs": [],
   "source": [
    "#Quitamos los valores que no tengan el valor de address\n",
    "restaurants_google = google.dropna(subset='address')\n",
    "restaurants_google.reset_index(inplace=True)\n",
    "restaurants_google.info()"
   ]
  },
  {
   "cell_type": "code",
   "execution_count": null,
   "metadata": {},
   "outputs": [],
   "source": [
    "#Separamos y juntamos los datos\n",
    "listado_fallas = []\n",
    "localizaciones = []\n",
    "for i in range(restaurants_google['address'].values.size):\n",
    "    try:\n",
    "        int(restaurants_google['address'].values[i][-1])\n",
    "        if len(restaurants_google['address'].values[i].split(',')[-1].strip()) == 8:\n",
    "            localizaciones.append([restaurants_google['gmap_id'].values[i],                                     #Id del restaurant\n",
    "                                restaurants_google['address'].values[i].split(',')[-2].strip(),                 #Ciudad\n",
    "                                restaurants_google['address'].values[i].split(',')[-1].strip().split()[0],      #Estado\n",
    "                                restaurants_google['address'].values[i].split(',')[-1].strip().split()[1]])     #Código postal\n",
    "        else:\n",
    "            listado_fallas.append(i)                                    #Anoto cuantas direcciones no me dan los datos necesarios\n",
    "    except:\n",
    "        listado_fallas.append(i)\n",
    "len(listado_fallas)"
   ]
  },
  {
   "cell_type": "code",
   "execution_count": null,
   "metadata": {},
   "outputs": [],
   "source": [
    "#Armamos dataframe con estos datos\n",
    "localizacion = pd.DataFrame(columns=['gmap_id','Ciudad','Estado','Cod_postal'],data=localizaciones)\n",
    "localizacion.head()"
   ]
  },
  {
   "cell_type": "code",
   "execution_count": null,
   "metadata": {},
   "outputs": [],
   "source": [
    "#Realizamos una comprobación. Vemos si algún valor falló\n",
    "fallados = []\n",
    "for i in range(localizacion.shape[0]):\n",
    "    try:\n",
    "        int(localizacion['Cod_postal'].iloc[i])                 #Si esto funciona quiere decir que no entraron caracteres extraños\n",
    "    except:                                                     #bajo cod_postal\n",
    "        print(i,': ',localizacion['Cod_postal'].iloc[i])\n",
    "        fallados.append(localizacion['Cod_postal'].iloc[i])"
   ]
  },
  {
   "cell_type": "code",
   "execution_count": null,
   "metadata": {},
   "outputs": [],
   "source": [
    "#No fallo. 12590 registros no cuentan con los valores que buscamos. Los observamos a ver si se puede hacer algo.\n",
    "restaurants_google[restaurants_google.index.isin(listado_fallas)]"
   ]
  },
  {
   "cell_type": "code",
   "execution_count": null,
   "metadata": {},
   "outputs": [],
   "source": [
    "#Observamos el campo address más de cerca\n",
    "list(restaurants_google[restaurants_google.index.isin(listado_fallas)]['address'].values)"
   ]
  },
  {
   "attachments": {},
   "cell_type": "markdown",
   "metadata": {},
   "source": [
    "Vemos que hay muchos que tienen \"United States\" al final. Esto trae problemas en el algoritmo planteado. Modificando ligeramente podemos incorporar estos datos."
   ]
  },
  {
   "cell_type": "code",
   "execution_count": null,
   "metadata": {},
   "outputs": [],
   "source": [
    "restaurants_google_fallas = restaurants_google[restaurants_google.index.isin(listado_fallas)]\n",
    "restaurants_google_fallas.reset_index(inplace=True)\n",
    "restaurants_google_fallas.info()"
   ]
  },
  {
   "cell_type": "code",
   "execution_count": null,
   "metadata": {},
   "outputs": [],
   "source": [
    "listado_fallas = []\n",
    "for i in range(restaurants_google_fallas['address'].values.size):\n",
    "    try:\n",
    "        lista_address = restaurants_google_fallas['address'].values[i].split(',')[0:4]      #Cortamos el \"United States\" de los -->\n",
    "        int(lista_address[-1][-1])                                                          #registros que los tienen.\n",
    "        if len(lista_address[-1].strip()) == 8:\n",
    "            localizaciones.append([restaurants_google_fallas['gmap_id'].values[i],          #Id del restaurant\n",
    "                                   lista_address[-2].strip(),                               #Ciudad\n",
    "                                   lista_address[-1].strip().split()[0],                    #Estado\n",
    "                                   lista_address[-1].strip().split()[1]])                   #Codigo postal\n",
    "        else:\n",
    "            listado_fallas.append(i)                                    \n",
    "    except:\n",
    "        listado_fallas.append(i)\n",
    "len(listado_fallas)"
   ]
  },
  {
   "cell_type": "code",
   "execution_count": null,
   "metadata": {},
   "outputs": [],
   "source": [
    "#Armamos dataframe con estos datos\n",
    "localizacion = pd.DataFrame(columns=['gmap_id','Ciudad','Estado','Cod_postal'],data=localizaciones)\n",
    "localizacion.head()"
   ]
  },
  {
   "cell_type": "code",
   "execution_count": null,
   "metadata": {},
   "outputs": [],
   "source": [
    "#Realizamos una comprobación. Vemos si algún valor falló\n",
    "fallados = []\n",
    "for i in range(localizacion.shape[0]):\n",
    "    try:\n",
    "        int(localizacion['Cod_postal'].iloc[i])                 #Si esto funciona quiere decir que no entraron caracteres extraños\n",
    "    except:                                                     #bajo cod_postal\n",
    "        print(i,': ',localizacion['Cod_postal'].iloc[i])\n",
    "        fallados.append(localizacion['Cod_postal'].iloc[i])"
   ]
  },
  {
   "cell_type": "code",
   "execution_count": null,
   "metadata": {},
   "outputs": [],
   "source": [
    "#Se redujeron a 1008 casos nomas. Volvemos a observar.\n",
    "restaurants_google_fallas[restaurants_google_fallas.index.isin(listado_fallas)]"
   ]
  },
  {
   "cell_type": "code",
   "execution_count": null,
   "metadata": {},
   "outputs": [],
   "source": [
    "#Observamos el campo address mas de cerca\n",
    "list(restaurants_google_fallas[restaurants_google_fallas.index.isin(listado_fallas)]['address'].values)"
   ]
  },
  {
   "attachments": {},
   "cell_type": "markdown",
   "metadata": {},
   "source": [
    "Otra gran cantidad de registros tiene el código postal adelante de todo, seguido por el estado (nombre completo, no simbolo) y luego por la ciudad. Hacemos un último algoritmo para rescatar estos. Para el resto no se ve ningún patrón."
   ]
  },
  {
   "cell_type": "code",
   "execution_count": null,
   "metadata": {},
   "outputs": [],
   "source": [
    "#Descartamos las columnas de indices que se nos fueron creando\n",
    "restaurants_google_fallas.drop(columns=['level_0','index'],inplace=True)\n",
    "restaurants_google_fallas.info()"
   ]
  },
  {
   "cell_type": "code",
   "execution_count": null,
   "metadata": {},
   "outputs": [],
   "source": [
    "#Creamos un nuevo dataframe\n",
    "restaurants_google_fallas2 = restaurants_google_fallas[restaurants_google_fallas.index.isin(listado_fallas)]\n",
    "restaurants_google_fallas2.reset_index(inplace=True)\n",
    "restaurants_google_fallas2.info()"
   ]
  },
  {
   "cell_type": "code",
   "execution_count": null,
   "metadata": {},
   "outputs": [],
   "source": [
    "#Primero cambiamos los nombres de los estados por sus códigos\n",
    "state_codes = {'Alabama': 'AL','Alaska': 'AK','Arizona': 'AZ','Arkansas': 'AR','California': 'CA','Colorado': 'CO','Connecticut': 'CT',\n",
    "    'Delaware': 'DE','Florida': 'FL','Georgia': 'GA','Hawaii': 'HI','Idaho': 'ID','Illinois': 'IL','Indiana': 'IN','Iowa': 'IA',\n",
    "    'Kansas': 'KS','Kentucky': 'KY','Louisiana': 'LA','Maine': 'ME','Maryland': 'MD','Massachusetts': 'MA','Michigan': 'MI',\n",
    "    'Minnesota': 'MN','Mississippi': 'MS','Missouri': 'MO','Montana': 'MT','Nebraska': 'NE','Nevada': 'NV','New Hampshire': 'NH',\n",
    "    'New Jersey': 'NJ','New Mexico': 'NM','New York': 'NY','North Carolina': 'NC','North Dakota': 'ND','Ohio': 'OH','Oklahoma': 'OK',\n",
    "    'Oregon': 'OR','Pennsylvania': 'PA','Rhode Island': 'RI','South Carolina': 'SC','South Dakota': 'SD','Tennessee': 'TN','Texas': 'TX',\n",
    "    'Utah': 'UT','Vermont': 'VT','Virginia': 'VA','Washington': 'WA','West Virginia': 'WV','Wisconsin': 'WI','Wyoming': 'WY'}\n",
    "\n",
    "for state, code in state_codes.items():\n",
    "    restaurants_google_fallas2['address'] = restaurants_google_fallas2['address'].str.replace(state,code)\n",
    "restaurants_google_fallas2"
   ]
  },
  {
   "cell_type": "code",
   "execution_count": null,
   "metadata": {},
   "outputs": [],
   "source": [
    "#Quitamos los caracteres extraños\n",
    "for i in range(restaurants_google_fallas2.shape[0]):\n",
    "    restaurants_google_fallas2['address'][i] = re.sub(r'[^a-zA-Z0-9,\\s]', '', restaurants_google_fallas2['address'][i])\n",
    "restaurants_google_fallas2.head()"
   ]
  },
  {
   "cell_type": "code",
   "execution_count": null,
   "metadata": {},
   "outputs": [],
   "source": [
    "listado_fallas = []\n",
    "for i in range(restaurants_google_fallas2['address'].values.size):\n",
    "    try:\n",
    "        int(restaurants_google_fallas2.iloc[i]['address'][0])         #Si esto sucede entonces el primer digito es un numero\n",
    "        localizaciones.append([restaurants_google_fallas2['gmap_id'].values[i],                                     #Id del restaurant\n",
    "                            restaurants_google_fallas2['address'].values[i].split(',')[1].strip(),                 #Ciudad\n",
    "                            restaurants_google_fallas2['address'].values[i].split(',')[0].strip().split()[1],      #Estado\n",
    "                            restaurants_google_fallas2['address'].values[i].split(',')[0].strip().split()[0]])     #Código postal\n",
    "    except:\n",
    "        listado_fallas.append(i)                                        #Anoto cuantas direcciones no me dan los datos necesarios\n",
    "len(listado_fallas)"
   ]
  },
  {
   "cell_type": "code",
   "execution_count": null,
   "metadata": {},
   "outputs": [],
   "source": [
    "#Armamos dataframe con estos datos\n",
    "localizacion = pd.DataFrame(columns=['gmap_id','Ciudad','Estado','Cod_postal'],data=localizaciones)\n",
    "localizacion.head()"
   ]
  },
  {
   "cell_type": "code",
   "execution_count": null,
   "metadata": {},
   "outputs": [],
   "source": [
    "#Realizamos una comprobación. Vemos si algún valor falló\n",
    "fallados = []\n",
    "for i in range(localizacion.shape[0]):\n",
    "    try:\n",
    "        int(localizacion['Cod_postal'].iloc[i])                 #Si esto funciona quiere decir que no entraron caracteres extraños\n",
    "    except:                                                     #bajo cod_postal\n",
    "        print(i,': ',localizacion['Cod_postal'].iloc[i])\n",
    "        fallados.append(i)"
   ]
  },
  {
   "cell_type": "code",
   "execution_count": null,
   "metadata": {},
   "outputs": [],
   "source": [
    "#Juntamos con el de google\n",
    "restaurants_google = pd.merge(google,localizacion,how='left',on='gmap_id')\n",
    "restaurants_google.head()"
   ]
  },
  {
   "cell_type": "code",
   "execution_count": null,
   "metadata": {},
   "outputs": [],
   "source": [
    "restaurants_google.info()"
   ]
  },
  {
   "attachments": {},
   "cell_type": "markdown",
   "metadata": {},
   "source": [
    "Terminada esta parte vamos a armar el dataframe que deseamos. Descartamos las columnas que no sirven, cambiamos nombre, reordenamos, etc."
   ]
  },
  {
   "cell_type": "code",
   "execution_count": null,
   "metadata": {},
   "outputs": [],
   "source": [
    "#Descartamos columnas\n",
    "restaurants_google.drop(columns=['description','avg_rating','num_of_reviews','price',\n",
    "                                 'hours','state','relative_results','url','address'], inplace=True)\n",
    "restaurants_google.head()"
   ]
  },
  {
   "cell_type": "code",
   "execution_count": null,
   "metadata": {},
   "outputs": [],
   "source": [
    "#Cambiamos nombre\n",
    "restaurants_google.rename(columns={'name':'Nombre','gmap_id':'Id_Restaurant','latitude':'Latitud','longitude':'Longitud',\n",
    "                                   'category':'Tipo','MISC':'Atributos'},inplace=True)\n",
    "restaurants_google.head()"
   ]
  },
  {
   "cell_type": "code",
   "execution_count": null,
   "metadata": {},
   "outputs": [],
   "source": [
    "#Reordenamos\n",
    "restaurants_google = restaurants_google[['Id_Restaurant','Nombre','Ciudad','Estado','Cod_postal', \n",
    "                                         'Latitud', 'Longitud', 'Tipo', 'Atributos']]\n",
    "restaurants_google.head()"
   ]
  },
  {
   "cell_type": "code",
   "execution_count": null,
   "metadata": {},
   "outputs": [],
   "source": [
    "#Observamos el resultado\n",
    "restaurants_google.info()"
   ]
  },
  {
   "attachments": {},
   "cell_type": "markdown",
   "metadata": {},
   "source": [
    "Hay 1830 valores nulos de los campos Ciudad, Estado y Cod_Postal. Es menos del 1% del dataset y el trabajo para completar esto es demasiado. Vamos a descartar estos registros tanto de aquí como de las reviews."
   ]
  },
  {
   "cell_type": "code",
   "execution_count": null,
   "metadata": {},
   "outputs": [],
   "source": [
    "#Descartamos\n",
    "restaurants_google.dropna(subset='Cod_postal',inplace=True)\n",
    "restaurants_google.reset_index(inplace=True)\n",
    "restaurants_google.drop(columns='index',inplace=True)\n",
    "restaurants_google.info()"
   ]
  },
  {
   "cell_type": "code",
   "execution_count": null,
   "metadata": {},
   "outputs": [],
   "source": [
    "#Vamos a observar si hay negocios que se encuentren duplicados.\n",
    "#Es decir que tengan distinto Id (ya se descartó antes los de igual Id) pero coincidan nombre y ubicación.\n",
    "duplicados_google = restaurants_google[restaurants_google.duplicated(subset=['Nombre','Cod_postal'],keep=False)].sort_values(by='Nombre')\n",
    "duplicados_google.head()"
   ]
  },
  {
   "cell_type": "code",
   "execution_count": null,
   "metadata": {},
   "outputs": [],
   "source": [
    "#Vemos que hay y tienen la misma ubicación. Vemos cuantos son.\n",
    "duplicados_google.reset_index(inplace=True)\n",
    "duplicados_google.info()"
   ]
  },
  {
   "cell_type": "code",
   "execution_count": null,
   "metadata": {},
   "outputs": [],
   "source": [
    "#Vemos cuantos negocios son\n",
    "negocios_duplicados_google = duplicados_google.drop_duplicates(subset=['Nombre','Cod_postal'])\n",
    "negocios_duplicados_google.info()"
   ]
  },
  {
   "attachments": {},
   "cell_type": "markdown",
   "metadata": {},
   "source": [
    "Vamos a quedarnos con uno de los duplicados y descartar los otros. Sin embargo, vamos a cambiar primero el id de las reseñas así no perdemos información."
   ]
  },
  {
   "cell_type": "code",
   "execution_count": null,
   "metadata": {},
   "outputs": [],
   "source": [
    "#Tomamos los ids a conservar y los que se van a cambiar\n",
    "lista_duplicados = []\n",
    "for n in negocios_duplicados_google['Id_Restaurant'].values:\n",
    "    aux = []\n",
    "    nombre = negocios_duplicados_google[negocios_duplicados_google['Id_Restaurant']==n]['Nombre'].values[0]\n",
    "    cod_postal = negocios_duplicados_google[negocios_duplicados_google['Id_Restaurant']==n]['Cod_postal'].values[0]\n",
    "    for d in range(duplicados_google.shape[0]):\n",
    "        if (duplicados_google['Nombre'][d] == nombre) and (duplicados_google['Cod_postal'][d] == cod_postal) and (duplicados_google['Id_Restaurant'][d] != n):\n",
    "            aux.append(duplicados_google['Id_Restaurant'][d])\n",
    "    lista_duplicados.append([n,aux])"
   ]
  },
  {
   "cell_type": "code",
   "execution_count": null,
   "metadata": {},
   "outputs": [],
   "source": [
    "#Armammos dataframe\n",
    "duplicados_google_df = pd.DataFrame(data=lista_duplicados,columns=['Conservar','Cambiar'])\n",
    "duplicados_google_df.head()"
   ]
  },
  {
   "cell_type": "code",
   "execution_count": null,
   "metadata": {},
   "outputs": [],
   "source": [
    "#Descartamos los duplicados\n",
    "restaurants_google.drop_duplicates(subset=['Nombre','Cod_postal'],inplace=True)\n",
    "restaurants_google.reset_index(inplace=True)\n",
    "restaurants_google.drop(columns='index',inplace=True)\n",
    "restaurants_google.info()"
   ]
  },
  {
   "cell_type": "code",
   "execution_count": null,
   "metadata": {},
   "outputs": [],
   "source": [
    "#Exportamos\n",
    "restaurants_google.to_pickle('restaurants_google_final.pkl')"
   ]
  }
 ],
 "metadata": {
  "language_info": {
   "name": "python"
  },
  "orig_nbformat": 4
 },
 "nbformat": 4,
 "nbformat_minor": 2
}
