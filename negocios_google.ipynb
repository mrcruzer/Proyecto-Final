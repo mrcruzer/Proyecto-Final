{
 "cells": [
  {
   "cell_type": "code",
   "execution_count": 1,
   "metadata": {},
   "outputs": [],
   "source": [
    "#Importamos pandas\n",
    "import pandas as pd"
   ]
  },
  {
   "cell_type": "code",
   "execution_count": 2,
   "metadata": {},
   "outputs": [
    {
     "name": "stdout",
     "output_type": "stream",
     "text": [
      "<class 'pandas.core.frame.DataFrame'>\n",
      "Int64Index: 3025011 entries, 0 to 275000\n",
      "Data columns (total 15 columns):\n",
      " #   Column            Dtype  \n",
      "---  ------            -----  \n",
      " 0   name              object \n",
      " 1   address           object \n",
      " 2   gmap_id           object \n",
      " 3   description       object \n",
      " 4   latitude          float64\n",
      " 5   longitude         float64\n",
      " 6   category          object \n",
      " 7   avg_rating        float64\n",
      " 8   num_of_reviews    int64  \n",
      " 9   price             object \n",
      " 10  hours             object \n",
      " 11  MISC              object \n",
      " 12  state             object \n",
      " 13  relative_results  object \n",
      " 14  url               object \n",
      "dtypes: float64(3), int64(1), object(11)\n",
      "memory usage: 369.3+ MB\n"
     ]
    }
   ],
   "source": [
    "#Ponemos todas las filas en un solo dataframe\n",
    "for i in range(1,12):\n",
    "    if i == 1:\n",
    "        google_metadata = pd.read_json('metadata-sitios/'+str(i)+'.json',lines=True)\n",
    "    else:\n",
    "        google_metadata = pd.concat([google_metadata,pd.read_json('metadata-sitios/'+str(i)+'.json',lines=True)])\n",
    "google_metadata.info()"
   ]
  },
  {
   "cell_type": "code",
   "execution_count": 3,
   "metadata": {},
   "outputs": [
    {
     "name": "stdout",
     "output_type": "stream",
     "text": [
      "<class 'pandas.core.frame.DataFrame'>\n",
      "RangeIndex: 3007592 entries, 0 to 3007591\n",
      "Data columns (total 16 columns):\n",
      " #   Column            Dtype  \n",
      "---  ------            -----  \n",
      " 0   index             int64  \n",
      " 1   name              object \n",
      " 2   address           object \n",
      " 3   gmap_id           object \n",
      " 4   description       object \n",
      " 5   latitude          float64\n",
      " 6   longitude         float64\n",
      " 7   category          object \n",
      " 8   avg_rating        float64\n",
      " 9   num_of_reviews    int64  \n",
      " 10  price             object \n",
      " 11  hours             object \n",
      " 12  MISC              object \n",
      " 13  state             object \n",
      " 14  relative_results  object \n",
      " 15  url               object \n",
      "dtypes: float64(3), int64(2), object(11)\n",
      "memory usage: 367.1+ MB\n"
     ]
    }
   ],
   "source": [
    "#Como solo nos vamos a dedicar a los restaurants vamos a descartar todos los registros que tengan nulos bajo el campo category\n",
    "google_metadata.dropna(subset='category',inplace=True)\n",
    "google_metadata.reset_index(inplace=True)\n",
    "google_metadata.info()"
   ]
  },
  {
   "cell_type": "code",
   "execution_count": 4,
   "metadata": {},
   "outputs": [
    {
     "data": {
      "text/plain": [
       "212014"
      ]
     },
     "execution_count": 4,
     "metadata": {},
     "output_type": "execute_result"
    }
   ],
   "source": [
    "#Hallamos todos los que tengan restaurant entre sus categorías y obtenemos sus indices\n",
    "restaurant_indexes = []\n",
    "for i in range(google_metadata.shape[0]):\n",
    "    try:\n",
    "        for j in range(len(google_metadata['category'][i])):\n",
    "            if google_metadata['category'][i][j].find('estaura')!=-1:\n",
    "                restaurant_indexes.append(i)\n",
    "                break\n",
    "    except:\n",
    "        print(i)\n",
    "len(restaurant_indexes)"
   ]
  },
  {
   "cell_type": "code",
   "execution_count": 5,
   "metadata": {},
   "outputs": [
    {
     "name": "stdout",
     "output_type": "stream",
     "text": [
      "<class 'pandas.core.frame.DataFrame'>\n",
      "Int64Index: 212014 entries, 2 to 3007587\n",
      "Data columns (total 16 columns):\n",
      " #   Column            Non-Null Count   Dtype  \n",
      "---  ------            --------------   -----  \n",
      " 0   index             212014 non-null  int64  \n",
      " 1   name              212014 non-null  object \n",
      " 2   address           210956 non-null  object \n",
      " 3   gmap_id           212014 non-null  object \n",
      " 4   description       72392 non-null   object \n",
      " 5   latitude          212014 non-null  float64\n",
      " 6   longitude         212014 non-null  float64\n",
      " 7   category          212014 non-null  object \n",
      " 8   avg_rating        212014 non-null  float64\n",
      " 9   num_of_reviews    212014 non-null  int64  \n",
      " 10  price             100000 non-null  object \n",
      " 11  hours             189913 non-null  object \n",
      " 12  MISC              210599 non-null  object \n",
      " 13  state             190751 non-null  object \n",
      " 14  relative_results  170957 non-null  object \n",
      " 15  url               212014 non-null  object \n",
      "dtypes: float64(3), int64(2), object(11)\n",
      "memory usage: 27.5+ MB\n"
     ]
    }
   ],
   "source": [
    "#Filtramos los restaurants\n",
    "restaurants = google_metadata[google_metadata.index.isin(restaurant_indexes)]\n",
    "restaurants.info()"
   ]
  },
  {
   "cell_type": "code",
   "execution_count": 7,
   "metadata": {},
   "outputs": [
    {
     "name": "stdout",
     "output_type": "stream",
     "text": [
      "<class 'pandas.core.frame.DataFrame'>\n",
      "RangeIndex: 210953 entries, 0 to 210952\n",
      "Data columns (total 17 columns):\n",
      " #   Column            Non-Null Count   Dtype  \n",
      "---  ------            --------------   -----  \n",
      " 0   level_0           210953 non-null  int64  \n",
      " 1   index             210953 non-null  int64  \n",
      " 2   name              210953 non-null  object \n",
      " 3   address           209900 non-null  object \n",
      " 4   gmap_id           210953 non-null  object \n",
      " 5   description       72174 non-null   object \n",
      " 6   latitude          210953 non-null  float64\n",
      " 7   longitude         210953 non-null  float64\n",
      " 8   category          210953 non-null  object \n",
      " 9   avg_rating        210953 non-null  float64\n",
      " 10  num_of_reviews    210953 non-null  int64  \n",
      " 11  price             99738 non-null   object \n",
      " 12  hours             189013 non-null  object \n",
      " 13  MISC              209549 non-null  object \n",
      " 14  state             189848 non-null  object \n",
      " 15  relative_results  170277 non-null  object \n",
      " 16  url               210953 non-null  object \n",
      "dtypes: float64(3), int64(3), object(11)\n",
      "memory usage: 27.4+ MB\n"
     ]
    }
   ],
   "source": [
    "#Quitamos las filas en las que se repita el id del restaurant\n",
    "restaurants_wo_duplicates = restaurants.drop_duplicates(subset='gmap_id')\n",
    "restaurants_wo_duplicates.reset_index(inplace=True)\n",
    "restaurants_wo_duplicates.info()"
   ]
  },
  {
   "cell_type": "code",
   "execution_count": 19,
   "metadata": {},
   "outputs": [
    {
     "name": "stderr",
     "output_type": "stream",
     "text": [
      "C:\\Users\\larra\\AppData\\Local\\Temp\\ipykernel_4140\\3102922536.py:1: SettingWithCopyWarning: \n",
      "A value is trying to be set on a copy of a slice from a DataFrame\n",
      "\n",
      "See the caveats in the documentation: https://pandas.pydata.org/pandas-docs/stable/user_guide/indexing.html#returning-a-view-versus-a-copy\n",
      "  restaurants_wo_duplicates.drop(columns=['level_0','index'],inplace=True)\n"
     ]
    },
    {
     "data": {
      "text/html": [
       "<div>\n",
       "<style scoped>\n",
       "    .dataframe tbody tr th:only-of-type {\n",
       "        vertical-align: middle;\n",
       "    }\n",
       "\n",
       "    .dataframe tbody tr th {\n",
       "        vertical-align: top;\n",
       "    }\n",
       "\n",
       "    .dataframe thead th {\n",
       "        text-align: right;\n",
       "    }\n",
       "</style>\n",
       "<table border=\"1\" class=\"dataframe\">\n",
       "  <thead>\n",
       "    <tr style=\"text-align: right;\">\n",
       "      <th></th>\n",
       "      <th>name</th>\n",
       "      <th>address</th>\n",
       "      <th>gmap_id</th>\n",
       "      <th>description</th>\n",
       "      <th>latitude</th>\n",
       "      <th>longitude</th>\n",
       "      <th>category</th>\n",
       "      <th>avg_rating</th>\n",
       "      <th>num_of_reviews</th>\n",
       "      <th>price</th>\n",
       "      <th>hours</th>\n",
       "      <th>MISC</th>\n",
       "      <th>state</th>\n",
       "      <th>relative_results</th>\n",
       "      <th>url</th>\n",
       "    </tr>\n",
       "  </thead>\n",
       "  <tbody>\n",
       "    <tr>\n",
       "      <th>0</th>\n",
       "      <td>San Soo Dang</td>\n",
       "      <td>San Soo Dang, 761 S Vermont Ave, Los Angeles, ...</td>\n",
       "      <td>0x80c2c778e3b73d33:0xbdc58662a4a97d49</td>\n",
       "      <td>None</td>\n",
       "      <td>34.058092</td>\n",
       "      <td>-118.292130</td>\n",
       "      <td>[Korean restaurant]</td>\n",
       "      <td>4.4</td>\n",
       "      <td>18</td>\n",
       "      <td>None</td>\n",
       "      <td>[[Thursday, 6:30AM–6PM], [Friday, 6:30AM–6PM],...</td>\n",
       "      <td>{'Service options': ['Takeout', 'Dine-in', 'De...</td>\n",
       "      <td>Open ⋅ Closes 6PM</td>\n",
       "      <td>[0x80c2c78249aba68f:0x35bf16ce61be751d, 0x80c2...</td>\n",
       "      <td>https://www.google.com/maps/place//data=!4m2!3...</td>\n",
       "    </tr>\n",
       "    <tr>\n",
       "      <th>1</th>\n",
       "      <td>Vons Chicken</td>\n",
       "      <td>Vons Chicken, 12740 La Mirada Blvd, La Mirada,...</td>\n",
       "      <td>0x80dd2b4c8555edb7:0xfc33d65c4bdbef42</td>\n",
       "      <td>None</td>\n",
       "      <td>33.916402</td>\n",
       "      <td>-118.010855</td>\n",
       "      <td>[Restaurant]</td>\n",
       "      <td>4.5</td>\n",
       "      <td>18</td>\n",
       "      <td>None</td>\n",
       "      <td>[[Thursday, 11AM–9:30PM], [Friday, 11AM–9:30PM...</td>\n",
       "      <td>{'Service options': ['Outdoor seating', 'Curbs...</td>\n",
       "      <td>Open ⋅ Closes 9:30PM</td>\n",
       "      <td>None</td>\n",
       "      <td>https://www.google.com/maps/place//data=!4m2!3...</td>\n",
       "    </tr>\n",
       "    <tr>\n",
       "      <th>2</th>\n",
       "      <td>Sweet Rewards Gluten Free Bakery, LLC</td>\n",
       "      <td>Sweet Rewards Gluten Free Bakery, LLC, 85 NE D...</td>\n",
       "      <td>0x87ec235c54d25b31:0x3b75fb5facc602f</td>\n",
       "      <td>None</td>\n",
       "      <td>41.616079</td>\n",
       "      <td>-93.865487</td>\n",
       "      <td>[Bakery, Health food restaurant]</td>\n",
       "      <td>4.7</td>\n",
       "      <td>21</td>\n",
       "      <td>None</td>\n",
       "      <td>[[Thursday, 10AM–5:30PM], [Friday, 10AM–5:30PM...</td>\n",
       "      <td>{'Service options': ['Delivery']}</td>\n",
       "      <td>Permanently closed</td>\n",
       "      <td>[0x87ee974869295555:0x95f310d065882c9b, 0x87ec...</td>\n",
       "      <td>https://www.google.com/maps/place//data=!4m2!3...</td>\n",
       "    </tr>\n",
       "    <tr>\n",
       "      <th>3</th>\n",
       "      <td>Vivi Bubble Tea</td>\n",
       "      <td>Vivi Bubble Tea, 701 S 5th St, Philadelphia, P...</td>\n",
       "      <td>0x89c6c89efcaed69d:0xded973f6033e7dba</td>\n",
       "      <td>Bubble tea shop offering hot &amp; cold versions, ...</td>\n",
       "      <td>39.940293</td>\n",
       "      <td>-75.150923</td>\n",
       "      <td>[Restaurant]</td>\n",
       "      <td>4.0</td>\n",
       "      <td>8</td>\n",
       "      <td>None</td>\n",
       "      <td>None</td>\n",
       "      <td>{'Service options': ['Delivery'], 'Amenities':...</td>\n",
       "      <td>None</td>\n",
       "      <td>[0x89c6c62a40f4b733:0x73bfeec1898f272b, 0x89c6...</td>\n",
       "      <td>https://www.google.com/maps/place//data=!4m2!3...</td>\n",
       "    </tr>\n",
       "    <tr>\n",
       "      <th>4</th>\n",
       "      <td>Hale Pops</td>\n",
       "      <td>Hale Pops, 55-370 Kamehameha Hwy, Laie, HI 96762</td>\n",
       "      <td>0x7c00456eecad3111:0x8217f9600c51f33</td>\n",
       "      <td>None</td>\n",
       "      <td>21.637796</td>\n",
       "      <td>-157.920714</td>\n",
       "      <td>[Restaurant]</td>\n",
       "      <td>4.4</td>\n",
       "      <td>18</td>\n",
       "      <td>None</td>\n",
       "      <td>[[Thursday, 11AM–8PM], [Friday, 11AM–8PM], [Sa...</td>\n",
       "      <td>{'Service options': ['Outdoor seating', 'Takeo...</td>\n",
       "      <td>Closed ⋅ Opens 11AM</td>\n",
       "      <td>[0x7c00451360f80cf1:0x930291a38bab3132, 0x7c00...</td>\n",
       "      <td>https://www.google.com/maps/place//data=!4m2!3...</td>\n",
       "    </tr>\n",
       "  </tbody>\n",
       "</table>\n",
       "</div>"
      ],
      "text/plain": [
       "                                    name  \\\n",
       "0                           San Soo Dang   \n",
       "1                           Vons Chicken   \n",
       "2  Sweet Rewards Gluten Free Bakery, LLC   \n",
       "3                        Vivi Bubble Tea   \n",
       "4                              Hale Pops   \n",
       "\n",
       "                                             address  \\\n",
       "0  San Soo Dang, 761 S Vermont Ave, Los Angeles, ...   \n",
       "1  Vons Chicken, 12740 La Mirada Blvd, La Mirada,...   \n",
       "2  Sweet Rewards Gluten Free Bakery, LLC, 85 NE D...   \n",
       "3  Vivi Bubble Tea, 701 S 5th St, Philadelphia, P...   \n",
       "4   Hale Pops, 55-370 Kamehameha Hwy, Laie, HI 96762   \n",
       "\n",
       "                                 gmap_id  \\\n",
       "0  0x80c2c778e3b73d33:0xbdc58662a4a97d49   \n",
       "1  0x80dd2b4c8555edb7:0xfc33d65c4bdbef42   \n",
       "2   0x87ec235c54d25b31:0x3b75fb5facc602f   \n",
       "3  0x89c6c89efcaed69d:0xded973f6033e7dba   \n",
       "4   0x7c00456eecad3111:0x8217f9600c51f33   \n",
       "\n",
       "                                         description   latitude   longitude  \\\n",
       "0                                               None  34.058092 -118.292130   \n",
       "1                                               None  33.916402 -118.010855   \n",
       "2                                               None  41.616079  -93.865487   \n",
       "3  Bubble tea shop offering hot & cold versions, ...  39.940293  -75.150923   \n",
       "4                                               None  21.637796 -157.920714   \n",
       "\n",
       "                           category  avg_rating  num_of_reviews price  \\\n",
       "0               [Korean restaurant]         4.4              18  None   \n",
       "1                      [Restaurant]         4.5              18  None   \n",
       "2  [Bakery, Health food restaurant]         4.7              21  None   \n",
       "3                      [Restaurant]         4.0               8  None   \n",
       "4                      [Restaurant]         4.4              18  None   \n",
       "\n",
       "                                               hours  \\\n",
       "0  [[Thursday, 6:30AM–6PM], [Friday, 6:30AM–6PM],...   \n",
       "1  [[Thursday, 11AM–9:30PM], [Friday, 11AM–9:30PM...   \n",
       "2  [[Thursday, 10AM–5:30PM], [Friday, 10AM–5:30PM...   \n",
       "3                                               None   \n",
       "4  [[Thursday, 11AM–8PM], [Friday, 11AM–8PM], [Sa...   \n",
       "\n",
       "                                                MISC                 state  \\\n",
       "0  {'Service options': ['Takeout', 'Dine-in', 'De...     Open ⋅ Closes 6PM   \n",
       "1  {'Service options': ['Outdoor seating', 'Curbs...  Open ⋅ Closes 9:30PM   \n",
       "2                  {'Service options': ['Delivery']}    Permanently closed   \n",
       "3  {'Service options': ['Delivery'], 'Amenities':...                  None   \n",
       "4  {'Service options': ['Outdoor seating', 'Takeo...   Closed ⋅ Opens 11AM   \n",
       "\n",
       "                                    relative_results  \\\n",
       "0  [0x80c2c78249aba68f:0x35bf16ce61be751d, 0x80c2...   \n",
       "1                                               None   \n",
       "2  [0x87ee974869295555:0x95f310d065882c9b, 0x87ec...   \n",
       "3  [0x89c6c62a40f4b733:0x73bfeec1898f272b, 0x89c6...   \n",
       "4  [0x7c00451360f80cf1:0x930291a38bab3132, 0x7c00...   \n",
       "\n",
       "                                                 url  \n",
       "0  https://www.google.com/maps/place//data=!4m2!3...  \n",
       "1  https://www.google.com/maps/place//data=!4m2!3...  \n",
       "2  https://www.google.com/maps/place//data=!4m2!3...  \n",
       "3  https://www.google.com/maps/place//data=!4m2!3...  \n",
       "4  https://www.google.com/maps/place//data=!4m2!3...  "
      ]
     },
     "execution_count": 19,
     "metadata": {},
     "output_type": "execute_result"
    }
   ],
   "source": [
    "#Descartamos las columnas que surgieron (level_0 e index)\n",
    "restaurants_wo_duplicates.drop(columns=['level_0','index'],inplace=True)\n",
    "restaurants_wo_duplicates.head()"
   ]
  },
  {
   "cell_type": "code",
   "execution_count": 21,
   "metadata": {},
   "outputs": [],
   "source": [
    "#Exportamos a json\n",
    "restaurants_wo_duplicates.to_json('metadata-sitios/google_sitios.json')"
   ]
  },
  {
   "cell_type": "code",
   "execution_count": 28,
   "metadata": {},
   "outputs": [
    {
     "name": "stdout",
     "output_type": "stream",
     "text": [
      "13\n",
      "5\n",
      "15\n",
      "17\n",
      "19\n",
      "17\n",
      "19\n",
      "8\n",
      "5\n",
      "20\n",
      "14\n",
      "12\n",
      "15\n",
      "15\n",
      "16\n",
      "19\n",
      "14\n",
      "12\n",
      "11\n",
      "9\n"
     ]
    }
   ],
   "source": [
    "#Filtramos con los gmaps de los restaurants y exportamos todos los datasets de reviews de los estados\n",
    "estados = ['Alabama','Alaska','Arizona','Arkansas','California','Colorado','Connecticut','Delaware','Florida','Columbia','Georgia',\n",
    "           'Hawaii','Idaho','Illinois','Indiana','Iowa','Kansas','Kentucky','Louisiana','Maine','Maryland','Massachusetts','Michigan',\n",
    "           'Minnesota','Mississippi','Missouri','Montana','Nebraska','Nevada','New Hampshire','New Jersey','New Mexico','New York',\n",
    "           'North Carolina','North Dakota','Ohio','Oklahoma','Oregon','Pennsylvania','Rhode Island','South Carolina','South Dakota',\n",
    "           'Tennessee', 'Texas', 'Utah','Vermont', 'Virginia', 'Washington', 'West Virginia', 'Wisconsin', 'Wyoming']\n",
    "for e in estados:\n",
    "    for i in range(1,50):\n",
    "        if i == 1:\n",
    "            estado = pd.read_csv('reviews-estados/review-'+e+'/1.csv',sep=';')\n",
    "        else:\n",
    "            try:\n",
    "                estado = pd.concat([estado,pd.read_csv('reviews-estados/review-'+e+'/'+str(i)+'.csv',sep=';')])\n",
    "            except:\n",
    "                print(i)\n",
    "                break\n",
    "    estado_filtrado = estado[estado['gmap_id'].isin(restaurants_wo_duplicates['gmap_id'].values)]\n",
    "    estado_filtrado.to_csv('reviews-estados/'+e+'.csv',index=False,sep=';')"
   ]
  },
  {
   "cell_type": "code",
   "execution_count": 29,
   "metadata": {},
   "outputs": [
    {
     "name": "stdout",
     "output_type": "stream",
     "text": [
      "173315\n",
      "16697\n",
      "319522\n",
      "102428\n",
      "768228\n",
      "287411\n",
      "134246\n",
      "37346\n",
      "17896\n",
      "1019113\n",
      "533879\n",
      "53679\n",
      "62118\n",
      "504127\n",
      "305541\n",
      "114081\n",
      "108766\n",
      "144801\n",
      "158046\n",
      "47145\n"
     ]
    },
    {
     "data": {
      "text/plain": [
       "4908385"
      ]
     },
     "execution_count": 29,
     "metadata": {},
     "output_type": "execute_result"
    }
   ],
   "source": [
    "#Vemos cuantos registros nos quedaron\n",
    "cant_registros = 0\n",
    "for e in estados:\n",
    "    estado = pd.read_csv('reviews-estados/'+e+'.csv')\n",
    "    cant_registros += estado.shape[0]\n",
    "    print(estado.shape[0])\n",
    "cant_registros"
   ]
  },
  {
   "cell_type": "code",
   "execution_count": null,
   "metadata": {},
   "outputs": [],
   "source": []
  }
 ],
 "metadata": {
  "kernelspec": {
   "display_name": "Python 3",
   "language": "python",
   "name": "python3"
  },
  "language_info": {
   "codemirror_mode": {
    "name": "ipython",
    "version": 3
   },
   "file_extension": ".py",
   "mimetype": "text/x-python",
   "name": "python",
   "nbconvert_exporter": "python",
   "pygments_lexer": "ipython3",
   "version": "3.10.7"
  },
  "orig_nbformat": 4
 },
 "nbformat": 4,
 "nbformat_minor": 2
}
